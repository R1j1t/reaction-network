{
 "cells": [
  {
   "cell_type": "markdown",
   "id": "61b45e58",
   "metadata": {},
   "source": [
    "# reaction-network (Demo Notebook): Networks\n",
    "\n",
    "### Author: Matthew McDermott\n",
    "Last Updated: 08/23/22\n",
    "\n",
    "The code provided in this notebook is an updated walkthrough of the first example (YMnO3) in the accompanying manuscript (see citation below). The refactored `reaction-network` package contains similar code to what was released with the manuscript; however, many processes/functions are now separated into their own defined classes/methods. For a look at the previous demo notebook (which also contained some of the raw results that went into the manuscript), please check out the _archived_ folder.\n",
    "\n",
    "**If you use this code or Python package in your work, please consider citing the following paper:**\n",
    "\n",
    "McDermott, M. J., Dwaraknath, S. S., and Persson, K. A. (2021). A graph-based network for predicting chemical reaction pathways in solid-state materials synthesis. \n",
    "Nature Communications, 12(1). https://doi.org/10.1038/s41467-021-23339-x"
   ]
  },
  {
   "cell_type": "markdown",
   "id": "47f5bc5b",
   "metadata": {},
   "source": [
    "### Imports"
   ]
  },
  {
   "cell_type": "code",
   "execution_count": 1,
   "id": "77eb7928",
   "metadata": {},
   "outputs": [
    {
     "name": "stderr",
     "output_type": "stream",
     "text": [
      "/Users/mcdermott/opt/miniconda3/envs/rn_dev2/lib/python3.10/site-packages/pymatgen/analysis/phase_diagram.py:26: TqdmExperimentalWarning: Using `tqdm.autonotebook.tqdm` in notebook mode. Use `tqdm.tqdm` instead to force console mode (e.g. in jupyter console)\n",
      "  from tqdm.autonotebook import tqdm\n"
     ]
    }
   ],
   "source": [
    "import logging \n",
    "\n",
    "from mp_api.client import MPRester\n",
    "from pymatgen.core.composition import Element\n",
    "from pymatgen.analysis.phase_diagram import PhaseDiagram, PDPlotter\n",
    "from monty.serialization import loadfn\n",
    "\n",
    "from rxn_network.costs.softplus import Softplus\n",
    "from rxn_network.thermo.chempot_diagram import ChemicalPotentialDiagram\n",
    "from rxn_network.core.composition import Composition\n",
    "from pymatgen.core.composition import Composition, Element\n",
    "from rxn_network.entries.entry_set import GibbsEntrySet\n",
    "from rxn_network.network.network import ReactionNetwork\n",
    "from rxn_network.entries.nist import NISTReferenceEntry\n",
    "from rxn_network.reactions.computed import ComputedReaction\n",
    "from rxn_network.reactions.reaction_set import ReactionSet\n",
    "from rxn_network.reactions.open import OpenComputedReaction\n",
    "from rxn_network.network.entry import NetworkEntry, NetworkEntryType\n",
    "from rxn_network.network.visualize import plot_network_on_graphistry, plot_network\n",
    "from rxn_network.pathways.solver import PathwaySolver\n",
    "from rxn_network.enumerators.basic import BasicEnumerator, BasicOpenEnumerator\n",
    "from rxn_network.enumerators.minimize import MinimizeGibbsEnumerator, MinimizeGrandPotentialEnumerator\n",
    "\n",
    "#import graphistry\n",
    "\n",
    "%load_ext autoreload\n",
    "%autoreload 2\n",
    "\n",
    "logging.info(\"Logging initialized\")"
   ]
  },
  {
   "cell_type": "markdown",
   "id": "fd15278f",
   "metadata": {},
   "source": [
    "### Case Study: YMnO3 assisted metathesis"
   ]
  },
  {
   "cell_type": "markdown",
   "id": "6b798814",
   "metadata": {},
   "source": [
    "We will be using the assisted metathesis synthesis of YMnO3 as a case study for the reaction network code. This is the first example discussed in the original manuscript. The assisted metathesis reaction reported by Todd & Neilson (JACS, 2019) corresponds to a net reaction equation:\n",
    "\n",
    "$$ Mn_2O_3 + 2 YCl_3 + 3Li_2CO_3 \\to 2YMnO_3 + 6LiCl + 3CO_2 $$\n",
    "\n",
    "In the paper, they report a reaction pathway involving the formation of intermediates LiMnO2 and YOCl. These react to form YMnO3 product and LiCl byproduct. (The CO2 is released when Li2CO3 reacts initially to form LiMnO2)."
   ]
  },
  {
   "cell_type": "markdown",
   "id": "7c2282bf",
   "metadata": {},
   "source": [
    "### Downloading and modifying entries\n",
    "\n",
    "First, we acquire entries for phases in the Y-Mn-O-Li-Cl-C chemical system from the Materials Project (MP), a computed materials database containing calculations for over 130,000 materials."
   ]
  },
  {
   "cell_type": "code",
   "execution_count": 2,
   "id": "44d6c072",
   "metadata": {},
   "outputs": [],
   "source": [
    "# with MPRester() as mpr:  # insert your Materials Project API key here\n",
    "#     entries = mpr.get_entries_in_chemsys(\"Y-Mn-O-C-Cl-Li\")"
   ]
  },
  {
   "cell_type": "code",
   "execution_count": 3,
   "id": "ed212730",
   "metadata": {},
   "outputs": [],
   "source": [
    "# from monty.serialization import dumpfn\n",
    "# dumpfn(entries, \"entries.json.gz\")"
   ]
  },
  {
   "cell_type": "code",
   "execution_count": 14,
   "id": "3aff12aa",
   "metadata": {},
   "outputs": [],
   "source": [
    "entries = loadfn(\"entries.json.gz\")"
   ]
  },
  {
   "cell_type": "markdown",
   "id": "f16c4523",
   "metadata": {},
   "source": [
    "The `GibbsEntrySet` class allows us to automatically converet `ComputedStructureEntry` objects downloaded from the MP database into `GibbsComputedEntry` objects, where DFT-calculated energies have been converted to machine learning (ML)-estimated equivalent values of the Gibbs free energies of formation, $\\Delta G_f$ for all entries at the specified temperature. \n",
    "\n",
    "For more information, check out the citation in the documentation for `GibbsComputedEntry`."
   ]
  },
  {
   "cell_type": "code",
   "execution_count": 15,
   "id": "81dc252c",
   "metadata": {},
   "outputs": [],
   "source": [
    "temp = 900  # units: Kelvin\n",
    "entry_set = GibbsEntrySet.from_entries(entries, temp)"
   ]
  },
  {
   "cell_type": "markdown",
   "id": "560515ce",
   "metadata": {},
   "source": [
    "The `GibbsEntrySet` class has many helpful functions, such as the following `filter_by_stability()` function, which automatically removes entries which are a specified energy per atom above the convex hull of stability:"
   ]
  },
  {
   "cell_type": "code",
   "execution_count": 16,
   "id": "8529fd0a",
   "metadata": {},
   "outputs": [
    {
     "data": {
      "text/plain": [
       "[GibbsComputedEntry | mp-569304 | C4 (C)\n",
       " Gibbs Energy (900 K) = 0.0000,\n",
       " GibbsComputedEntry | mp-1214283 | C40 Cl32 (C5Cl4)\n",
       " Gibbs Energy (900 K) = -2.6421,\n",
       " GibbsComputedEntry | mp-1214294 | C28 Cl32 (C7Cl8)\n",
       " Gibbs Energy (900 K) = -1.8837,\n",
       " NISTReferenceEntry | CO2\n",
       " Gibbs Energy (900 K) = -4.1016,\n",
       " GibbsComputedEntry | mp-1008394 | Cl4 (Cl2)\n",
       " Gibbs Energy (900 K) = 0.0000,\n",
       " GibbsComputedEntry | mp-1018134 | Li3 (Li)\n",
       " Gibbs Energy (900 K) = 0.0000,\n",
       " NISTReferenceEntry | Li2CO3\n",
       " Gibbs Energy (900 K) = -9.9542,\n",
       " GibbsComputedEntry | mp-760097 | Li8 Mn8 C8 O28 (Li2Mn2C2O7)\n",
       " Gibbs Energy (900 K) = -82.6655,\n",
       " GibbsComputedEntry | mp-758215 | Li8 Mn4 C4 O16 (Li2MnCO4)\n",
       " Gibbs Energy (900 K) = -53.0994,\n",
       " GibbsComputedEntry | mp-18988 | Li8 Mn4 O12 (Li2MnO3)\n",
       " Gibbs Energy (900 K) = -40.0030,\n",
       " NISTReferenceEntry | Li2O\n",
       " Gibbs Energy (900 K) = -4.9774,\n",
       " GibbsComputedEntry | mp-1180721 | Li4 C1 O4 (Li4CO4)\n",
       " Gibbs Energy (900 K) = -15.1456,\n",
       " GibbsComputedEntry | mp-530177 | Li10 Mn14 O32 (Li5Mn7O16)\n",
       " Gibbs Energy (900 K) = -86.3207,\n",
       " NISTReferenceEntry | LiC\n",
       " Gibbs Energy (900 K) = -0.2401,\n",
       " GibbsComputedEntry | mp-1021323 | Li1 C12 (LiC12)\n",
       " Gibbs Energy (900 K) = -0.8730,\n",
       " GibbsComputedEntry | mp-1190287 | Li4 C4 O8 (LiCO2)\n",
       " Gibbs Energy (900 K) = -24.6502,\n",
       " NISTReferenceEntry | LiCl\n",
       " Gibbs Energy (900 K) = -3.4730,\n",
       " GibbsComputedEntry | mp-1097867 | Li6 Mn12 O24 (LiMn2O4)\n",
       " Gibbs Energy (900 K) = -65.0890,\n",
       " GibbsComputedEntry | mp-758472 | Li4 Mn4 C4 O16 (LiMnCO4)\n",
       " Gibbs Energy (900 K) = -44.0252,\n",
       " GibbsComputedEntry | mp-754656 | Li2 Mn2 O4 (LiMnO2)\n",
       " Gibbs Energy (900 K) = -13.3236,\n",
       " GibbsComputedEntry | mp-35 | Mn29 (Mn)\n",
       " Gibbs Energy (900 K) = 0.0000,\n",
       " GibbsComputedEntry | mp-1172875 | Mn32 O48 (Mn2O3)\n",
       " Gibbs Energy (900 K) = -121.0591,\n",
       " GibbsComputedEntry | mp-18759 | Mn6 O8 (Mn3O4)\n",
       " Gibbs Energy (900 K) = -22.0535,\n",
       " GibbsComputedEntry | mp-25773 | Mn16 Cl6 O20 (Mn8Cl3O10)\n",
       " Gibbs Energy (900 K) = -61.0694,\n",
       " GibbsComputedEntry | mp-28233 | Mn1 Cl2 (MnCl2)\n",
       " Gibbs Energy (900 K) = -3.1770,\n",
       " GibbsComputedEntry | mp-999539 | Mn4 O4 (MnO)\n",
       " Gibbs Energy (900 K) = -12.5274,\n",
       " GibbsComputedEntry | mp-1272141 | Mn1 O2 (MnO2)\n",
       " Gibbs Energy (900 K) = -3.9507,\n",
       " GibbsComputedEntry | mp-12957 | O8 (O2)\n",
       " Gibbs Energy (900 K) = 0.0000,\n",
       " GibbsComputedEntry | mp-1187739 | Y3 (Y)\n",
       " Gibbs Energy (900 K) = 0.0000,\n",
       " GibbsComputedEntry | mp-1197605 | Y10 Mn13 C18 (Y10Mn13C18)\n",
       " Gibbs Energy (900 K) = -13.1919,\n",
       " GibbsComputedEntry | mp-1207824 | Y12 Mn5 C15 (Y12(MnC3)5)\n",
       " Gibbs Energy (900 K) = -12.2255,\n",
       " GibbsComputedEntry | mp-1334 | Y2 C1 (Y2C)\n",
       " Gibbs Energy (900 K) = -0.8791,\n",
       " GibbsComputedEntry | mp-18831 | Y4 Mn4 O14 (Y2Mn2O7)\n",
       " Gibbs Energy (900 K) = -52.1371,\n",
       " GibbsComputedEntry | mp-1207480 | Y4 Mn2 C8 (Y2MnC4)\n",
       " Gibbs Energy (900 K) = -4.2755,\n",
       " GibbsComputedEntry | mp-2652 | Y16 O24 (Y2O3)\n",
       " Gibbs Energy (900 K) = -139.2071,\n",
       " GibbsComputedEntry | mp-9459 | Y8 C10 (Y4C5)\n",
       " Gibbs Energy (900 K) = -6.4245,\n",
       " GibbsComputedEntry | mp-1200885 | Y16 C28 (Y4C7)\n",
       " Gibbs Energy (900 K) = -14.4728,\n",
       " GibbsComputedEntry | mp-1206889 | Y2 C2 Cl2 (YCCl)\n",
       " Gibbs Energy (900 K) = -7.4832,\n",
       " GibbsComputedEntry | mp-27455 | Y2 Cl6 (YCl3)\n",
       " Gibbs Energy (900 K) = -18.2558,\n",
       " GibbsComputedEntry | mp-552120 | Y2 Cl2 O2 (YClO)\n",
       " Gibbs Energy (900 K) = -18.1465,\n",
       " GibbsComputedEntry | mp-22508 | Y1 Mn12 (YMn12)\n",
       " Gibbs Energy (900 K) = -0.0997,\n",
       " GibbsComputedEntry | mp-510598 | Y4 Mn8 O20 (YMn2O5)\n",
       " Gibbs Energy (900 K) = -68.6480,\n",
       " GibbsComputedEntry | mp-19385 | Y6 Mn6 O18 (YMnO3)\n",
       " Gibbs Energy (900 K) = -76.9563]"
      ]
     },
     "execution_count": 16,
     "metadata": {},
     "output_type": "execute_result"
    }
   ],
   "source": [
    "entry_set = entry_set.filter_by_stability(0.00)\n",
    "entry_set.entries_list"
   ]
  },
  {
   "cell_type": "markdown",
   "id": "b8463b6c",
   "metadata": {},
   "source": [
    "In this case, we remove all entries which are unstable (above an energy cutoff of 10 meV/atom), which greatly reduces the combinatorial complexity of the system."
   ]
  },
  {
   "cell_type": "markdown",
   "id": "c633c24d",
   "metadata": {},
   "source": [
    "## Building the reaction network\n",
    "\n",
    "The reaction network can be initialized by providing 3 arguments to the `ReactionNetwork` class:\n",
    "\n",
    "1. **entries:** iterable of entry-like objects (e.g., `GibbsComputedEntry`)\n",
    "2. **enumerators:** iterable of enumerators which will be called during the build of the network\n",
    "3. **cost_function:** the function used to calculate the cost of each reaction edge \n",
    "\n",
    "We will use a BasicEnumerator (see the **Enumerators Demo Notebook** for more information on the type of enumerators available):"
   ]
  },
  {
   "cell_type": "code",
   "execution_count": 17,
   "id": "0bc4d165",
   "metadata": {},
   "outputs": [],
   "source": [
    "be = BasicEnumerator()"
   ]
  },
  {
   "cell_type": "code",
   "execution_count": 18,
   "id": "fc09e59c",
   "metadata": {
    "scrolled": false
   },
   "outputs": [
    {
     "name": "stderr",
     "output_type": "stream",
     "text": [
      "100%|████████████████████████████████████████████████████████████████████████████████████████████████████████████████████████████████████████████████| 54/54 [00:09<00:00,  5.93it/s]\n"
     ]
    }
   ],
   "source": [
    "rxns = be.enumerate(entry_set)"
   ]
  },
  {
   "cell_type": "code",
   "execution_count": 101,
   "id": "f91f1c0e",
   "metadata": {},
   "outputs": [],
   "source": [
    "rxns = ReactionSet.from_rxns(rxns, open_elem=\"O\", chempot=0)"
   ]
  },
  {
   "cell_type": "markdown",
   "id": "8194edc6",
   "metadata": {},
   "source": [
    "The cost function is a monotonic function used to assign weights to edges in the network. In this case, we will use the softplus function, assigned a temperature scaling of $T=900$ K, and use the default arguments which automatically determine the softplus weighting based on the energy per atom of the reaction:"
   ]
  },
  {
   "cell_type": "code",
   "execution_count": 102,
   "id": "94c693ae",
   "metadata": {},
   "outputs": [],
   "source": [
    "cf = Softplus(900)"
   ]
  },
  {
   "cell_type": "markdown",
   "id": "1c799d22",
   "metadata": {},
   "source": [
    "Finally, we provide these as arguments to the `ReactionNetwork` initialization:"
   ]
  },
  {
   "cell_type": "code",
   "execution_count": 103,
   "id": "8dc1f67a",
   "metadata": {},
   "outputs": [],
   "source": [
    "rn = ReactionNetwork(rxns, cf)"
   ]
  },
  {
   "cell_type": "markdown",
   "id": "a487a616",
   "metadata": {},
   "source": [
    "This simply initializes a `ReactionNetwork` object but does not build the network graph. To do so, we call the `.build()` function:"
   ]
  },
  {
   "cell_type": "code",
   "execution_count": 104,
   "id": "adc019cd",
   "metadata": {},
   "outputs": [
    {
     "name": "stderr",
     "output_type": "stream",
     "text": [
      "INFO:ReactionNetwork:Building graph from reactions...\n",
      "100%|███████████████████████████████████████████████████████████████████████████████████████████████████████████████████████████████████████████| 2182/2182 [00:02<00:00, 953.17it/s]\n"
     ]
    }
   ],
   "source": [
    "rn.build()"
   ]
  },
  {
   "cell_type": "markdown",
   "id": "74d6ddfc",
   "metadata": {},
   "source": [
    "This should have completed within a few seconds. You'll notice that two things happened:\n",
    "\n",
    "1. The enumerator(s) were run and a list of reactions was generated\n",
    "2. The weighted graph object was built with these reactions and stored under the `graph` attribute of the reaction network object\n",
    "\n",
    "We can access this graph object, which is a graph-tool object, by using the `graph` attribute:"
   ]
  },
  {
   "cell_type": "code",
   "execution_count": 109,
   "id": "62749d9c",
   "metadata": {},
   "outputs": [
    {
     "data": {
      "text/plain": [
       "<Graph object, directed, with 984 vertices and 2674 edges, 2 internal vertex properties, 3 internal edge properties, at 0x1f3f7bfa0>"
      ]
     },
     "execution_count": 109,
     "metadata": {},
     "output_type": "execute_result"
    }
   ],
   "source": [
    "rn.graph"
   ]
  },
  {
   "cell_type": "markdown",
   "id": "d62da971",
   "metadata": {},
   "source": [
    "There are a couple provided ways to plot reaction networks. The first is to use the built in drawing features in graph-tool, which have been provided in a wrapper function."
   ]
  },
  {
   "cell_type": "code",
   "execution_count": 13,
   "id": "739a5bb9",
   "metadata": {},
   "outputs": [],
   "source": [
    "#plot_network(rn.graph);"
   ]
  },
  {
   "cell_type": "markdown",
   "id": "8bb8a5dc",
   "metadata": {},
   "source": [
    "You'll notice that at this stage, the reaction network graph is a collection of \"sub\"-networks, i.e. a collection of smaller reaction networks for smaller chemical subsystems. This configuration will change once we set up for pathfinding in the next section."
   ]
  },
  {
   "cell_type": "markdown",
   "id": "a45a67d6",
   "metadata": {},
   "source": [
    "The second way to plot graphs is to use graphistry, which requires setting up an account on Graphistry Hub: https://hub.graphistry.com/"
   ]
  },
  {
   "cell_type": "code",
   "execution_count": 14,
   "id": "dc1d2b7c",
   "metadata": {},
   "outputs": [],
   "source": [
    "#plot_network_on_graphistry(rn.graph)"
   ]
  },
  {
   "cell_type": "markdown",
   "id": "6c9c9d1c",
   "metadata": {},
   "source": [
    "### Solving for reaction pathways\n",
    "\n",
    "To solve for reaction pathways, we must set precursor phases, as well as a target phase. This will automatically build all the required \"zero-cost\" edges which connect the different chemical subsystems. Please see the original manuscript for more detail with regards to how this works. In short, zero-cost edges are drawn between and product node to any reactant node that contains a subset of the set consisting of the {precursors + products} phases. "
   ]
  },
  {
   "cell_type": "code",
   "execution_count": 110,
   "id": "f8d706e6",
   "metadata": {},
   "outputs": [],
   "source": [
    "rn.set_precursors([\"Li2CO3\", \"Mn2O3\", \"YCl3\"])"
   ]
  },
  {
   "cell_type": "code",
   "execution_count": 111,
   "id": "b6fa1322",
   "metadata": {},
   "outputs": [],
   "source": [
    "rn.set_target(\"YMnO3\")"
   ]
  },
  {
   "cell_type": "markdown",
   "id": "edc91d88",
   "metadata": {},
   "source": [
    "We can see how this changes the network by re-drawing it:"
   ]
  },
  {
   "cell_type": "code",
   "execution_count": 112,
   "id": "8156aaf7",
   "metadata": {},
   "outputs": [],
   "source": [
    "# plot_network(rn.graph);"
   ]
  },
  {
   "cell_type": "markdown",
   "id": "a588282d",
   "metadata": {},
   "source": [
    "You should now see that the chemical subsystems have come together -- this is due to the zero-cost edges that were just described. We can now perform pathfinding to extract reaction pathways.\n",
    "\n",
    "To get reaction pathways, we simply call the `find_pathways()` method. This automatically handles finding pathways to multiple targets, by calling the internal shortest paths method. The _k_ parameter specifies the number of shortest paths to find to each target."
   ]
  },
  {
   "cell_type": "code",
   "execution_count": 113,
   "id": "ec70a87e",
   "metadata": {},
   "outputs": [
    {
     "name": "stdout",
     "output_type": "stream",
     "text": [
      "PATHS to YMnO3 \n",
      "\n",
      "--------------------------------------- \n",
      "\n",
      "Mn2O3 + 0.2222 YCl3 -> 0.2222 Mn8Cl3O10 + 0.1111 Y2Mn2O7 (dG = -0.03 eV/atom) \n",
      "Mn2O3 + Y2Mn2O7 -> 2 YMnO3 + 2 MnO2 (dG = 0.014 eV/atom) \n",
      "Total Cost: 0.526 \n",
      "\n",
      "Mn2O3 + 0.2222 YCl3 -> 0.2222 Mn8Cl3O10 + 0.1111 Y2Mn2O7 (dG = -0.03 eV/atom) \n",
      "2 Y2Mn2O7 -> O2 + 4 YMnO3 (dG = 0.104 eV/atom) \n",
      "Total Cost: 0.548 \n",
      "\n",
      "Mn2O3 + 0.2 YCl3 -> 0.2 Mn8Cl3O10 + 0.2 YMn2O5 (dG = -0.053 eV/atom) \n",
      "YMn2O5 -> YMnO3 + MnO2 (dG = 0.128 eV/atom) \n",
      "Total Cost: 0.549 \n",
      "\n",
      "2 Li2CO3 + Mn2O3 -> Li2O + 2 LiMnCO4 (dG = 0.061 eV/atom) \n",
      "YCl3 + 1.5 Li2O -> 0.5 Y2O3 + 3 LiCl (dG = -0.361 eV/atom) \n",
      "Mn2O3 + Y2O3 -> 2 YMnO3 (dG = -0.171 eV/atom) \n",
      "Total Cost: 0.699 \n",
      "\n",
      "2 Li2CO3 + Mn2O3 -> Li2O + 2 LiMnCO4 (dG = 0.061 eV/atom) \n",
      "YCl3 + Li2O -> YClO + 2 LiCl (dG = -0.319 eV/atom) \n",
      "Mn2O3 + 3 YClO -> 2 YMnO3 + YCl3 (dG = 0.001 eV/atom) \n",
      "Total Cost: 0.744 \n",
      "\n",
      "PATHS to LiCl \n",
      "\n",
      "--------------------------------------- \n",
      "\n",
      "2 Li2CO3 + Mn2O3 -> Li2O + 2 LiMnCO4 (dG = 0.061 eV/atom) \n",
      "YCl3 + 1.5 Li2O -> 0.5 Y2O3 + 3 LiCl (dG = -0.361 eV/atom) \n",
      "Total Cost: 0.471 \n",
      "\n",
      "2 Li2CO3 + Mn2O3 -> Li2O + 2 LiMnCO4 (dG = 0.061 eV/atom) \n",
      "YCl3 + Li2O -> YClO + 2 LiCl (dG = -0.319 eV/atom) \n",
      "Total Cost: 0.479 \n",
      "\n",
      "Li2CO3 -> Li2O + CO2 (dG = 0.292 eV/atom) \n",
      "YCl3 + 1.5 Li2O -> 0.5 Y2O3 + 3 LiCl (dG = -0.361 eV/atom) \n",
      "Total Cost: 0.533 \n",
      "\n",
      "Li2CO3 -> Li2O + CO2 (dG = 0.292 eV/atom) \n",
      "YCl3 + Li2O -> YClO + 2 LiCl (dG = -0.319 eV/atom) \n",
      "Total Cost: 0.54 \n",
      "\n",
      "Li2CO3 + 0.5 Mn2O3 -> 0.25 O2 + Li2MnCO4 (dG = 0.116 eV/atom) \n",
      "0.5 O2 + 2 Li2MnCO4 -> Li2O + 2 LiMnCO4 (dG = -0.055 eV/atom) \n",
      "YCl3 + 1.5 Li2O -> 0.5 Y2O3 + 3 LiCl (dG = -0.361 eV/atom) \n",
      "Total Cost: 0.737 \n",
      "\n",
      "PATHS to CO2 \n",
      "\n",
      "--------------------------------------- \n",
      "\n",
      "Li2CO3 + Mn2O3 -> CO2 + 2 LiMnO2 (dG = 0.019 eV/atom) \n",
      "Total Cost: 0.269 \n",
      "\n",
      "2 Li2CO3 -> Li4CO4 + CO2 (dG = 0.11 eV/atom) \n",
      "Total Cost: 0.292 \n",
      "\n",
      "Li2CO3 -> Li2O + CO2 (dG = 0.292 eV/atom) \n",
      "Total Cost: 0.341 \n",
      "\n",
      "Li2CO3 + 0.5 Mn2O3 -> 0.25 O2 + Li2MnCO4 (dG = 0.116 eV/atom) \n",
      "0.5 O2 + Li2MnCO4 -> Li2MnO3 + CO2 (dG = -0.207 eV/atom) \n",
      "Total Cost: 0.514 \n",
      "\n",
      "Li2CO3 + Mn2O3 -> LiMn2O4 + LiCO2 (dG = 0.102 eV/atom) \n",
      "LiMn2O4 + 3 LiCO2 -> 2 Li2MnCO4 + CO2 (dG = -0.146 eV/atom) \n",
      "Total Cost: 0.522 \n",
      "\n"
     ]
    }
   ],
   "source": [
    "paths = rn.find_pathways([\"YMnO3\", \"LiCl\", \"CO2\"], k=5)"
   ]
  },
  {
   "cell_type": "code",
   "execution_count": 114,
   "id": "9b09f323",
   "metadata": {},
   "outputs": [
    {
     "data": {
      "text/plain": [
       "[Mn2O3 + 0.2222 YCl3 -> 0.2222 Mn8Cl3O10 + 0.1111 Y2Mn2O7 (dG = -0.03 eV/atom) \n",
       " Mn2O3 + Y2Mn2O7 -> 2 YMnO3 + 2 MnO2 (dG = 0.014 eV/atom) \n",
       " Total Cost: 0.526,\n",
       " Mn2O3 + 0.2222 YCl3 -> 0.2222 Mn8Cl3O10 + 0.1111 Y2Mn2O7 (dG = -0.03 eV/atom) \n",
       " 2 Y2Mn2O7 -> O2 + 4 YMnO3 (dG = 0.104 eV/atom) \n",
       " Total Cost: 0.548,\n",
       " Mn2O3 + 0.2 YCl3 -> 0.2 Mn8Cl3O10 + 0.2 YMn2O5 (dG = -0.053 eV/atom) \n",
       " YMn2O5 -> YMnO3 + MnO2 (dG = 0.128 eV/atom) \n",
       " Total Cost: 0.549,\n",
       " 2 Li2CO3 + Mn2O3 -> Li2O + 2 LiMnCO4 (dG = 0.061 eV/atom) \n",
       " YCl3 + 1.5 Li2O -> 0.5 Y2O3 + 3 LiCl (dG = -0.361 eV/atom) \n",
       " Mn2O3 + Y2O3 -> 2 YMnO3 (dG = -0.171 eV/atom) \n",
       " Total Cost: 0.699,\n",
       " 2 Li2CO3 + Mn2O3 -> Li2O + 2 LiMnCO4 (dG = 0.061 eV/atom) \n",
       " YCl3 + Li2O -> YClO + 2 LiCl (dG = -0.319 eV/atom) \n",
       " Mn2O3 + 3 YClO -> 2 YMnO3 + YCl3 (dG = 0.001 eV/atom) \n",
       " Total Cost: 0.744,\n",
       " 2 Li2CO3 + Mn2O3 -> Li2O + 2 LiMnCO4 (dG = 0.061 eV/atom) \n",
       " YCl3 + 1.5 Li2O -> 0.5 Y2O3 + 3 LiCl (dG = -0.361 eV/atom) \n",
       " Total Cost: 0.471,\n",
       " 2 Li2CO3 + Mn2O3 -> Li2O + 2 LiMnCO4 (dG = 0.061 eV/atom) \n",
       " YCl3 + Li2O -> YClO + 2 LiCl (dG = -0.319 eV/atom) \n",
       " Total Cost: 0.479,\n",
       " Li2CO3 -> Li2O + CO2 (dG = 0.292 eV/atom) \n",
       " YCl3 + 1.5 Li2O -> 0.5 Y2O3 + 3 LiCl (dG = -0.361 eV/atom) \n",
       " Total Cost: 0.533,\n",
       " Li2CO3 -> Li2O + CO2 (dG = 0.292 eV/atom) \n",
       " YCl3 + Li2O -> YClO + 2 LiCl (dG = -0.319 eV/atom) \n",
       " Total Cost: 0.54,\n",
       " Li2CO3 + 0.5 Mn2O3 -> 0.25 O2 + Li2MnCO4 (dG = 0.116 eV/atom) \n",
       " 0.5 O2 + 2 Li2MnCO4 -> Li2O + 2 LiMnCO4 (dG = -0.055 eV/atom) \n",
       " YCl3 + 1.5 Li2O -> 0.5 Y2O3 + 3 LiCl (dG = -0.361 eV/atom) \n",
       " Total Cost: 0.737,\n",
       " Li2CO3 + Mn2O3 -> CO2 + 2 LiMnO2 (dG = 0.019 eV/atom) \n",
       " Total Cost: 0.269,\n",
       " 2 Li2CO3 -> Li4CO4 + CO2 (dG = 0.11 eV/atom) \n",
       " Total Cost: 0.292,\n",
       " Li2CO3 -> Li2O + CO2 (dG = 0.292 eV/atom) \n",
       " Total Cost: 0.341,\n",
       " Li2CO3 + 0.5 Mn2O3 -> 0.25 O2 + Li2MnCO4 (dG = 0.116 eV/atom) \n",
       " 0.5 O2 + Li2MnCO4 -> Li2MnO3 + CO2 (dG = -0.207 eV/atom) \n",
       " Total Cost: 0.514,\n",
       " Li2CO3 + Mn2O3 -> LiMn2O4 + LiCO2 (dG = 0.102 eV/atom) \n",
       " LiMn2O4 + 3 LiCO2 -> 2 Li2MnCO4 + CO2 (dG = -0.146 eV/atom) \n",
       " Total Cost: 0.522]"
      ]
     },
     "execution_count": 114,
     "metadata": {},
     "output_type": "execute_result"
    }
   ],
   "source": [
    "paths.get_paths()"
   ]
  },
  {
   "cell_type": "markdown",
   "id": "dd784030",
   "metadata": {},
   "source": [
    "The output of this method is a list of `BasicPathway` objects. Note that these objects contain a list of reactions and associated costs, but the actual pathway is typically not balanced:"
   ]
  },
  {
   "cell_type": "code",
   "execution_count": 115,
   "id": "8fde70a1",
   "metadata": {},
   "outputs": [
    {
     "name": "stdout",
     "output_type": "stream",
     "text": [
      "Mn2O3 + 0.2222 YCl3 -> 0.2222 Mn8Cl3O10 + 0.1111 Y2Mn2O7 (dG = -0.03 eV/atom) \n",
      "Mn2O3 + Y2Mn2O7 -> 2 YMnO3 + 2 MnO2 (dG = 0.014 eV/atom) \n",
      "Total Cost: 0.526\n"
     ]
    }
   ],
   "source": [
    "example_path = paths.get_paths()[0]\n",
    "print(example_path)"
   ]
  },
  {
   "cell_type": "markdown",
   "id": "17a1a55c",
   "metadata": {},
   "source": [
    "This means that the reactions you see above do not necessarily include all reactants, nor do they include form all desired products. They are simply a series of reactions extracted from the reaction network that maybe encountered as the system attempts to get from starter phases to target phases.\n",
    "\n",
    "To actually get balanced reactions, we can use the `PathwaySolver` class. This class takes a set of entries, a list of `BasicPathway` objects, as well as a cost function, and can be used to solve for balanced pathways given a net reaction. First we initialize the class:"
   ]
  },
  {
   "cell_type": "code",
   "execution_count": 157,
   "id": "6767200b",
   "metadata": {},
   "outputs": [],
   "source": [
    "ps = PathwaySolver(paths, rn.entries, cf, open_elem=\"O\", chempot=0)"
   ]
  },
  {
   "cell_type": "markdown",
   "id": "dc8e2b26",
   "metadata": {},
   "source": [
    "To balance the pathways, we must provide a net reaction representing the total conversion of precursors to final products. This corresponds to the assisted metathesis reaction we defined in the beginning. We can automatically make this reaction by initializing a `ComputedReaction` object from the corresponding entries:"
   ]
  },
  {
   "cell_type": "code",
   "execution_count": 158,
   "id": "a3256224",
   "metadata": {},
   "outputs": [
    {
     "data": {
      "text/plain": [
       "1.5 Li2CO3 + YCl3 + 0.5 Mn2O3 -> YMnO3 + 3 LiCl + 1.5 CO2 (mu_O=0)"
      ]
     },
     "execution_count": 158,
     "metadata": {},
     "output_type": "execute_result"
    }
   ],
   "source": [
    "product_entries = []\n",
    "for i in [\"YMnO3\",\"LiCl\",\"CO2\"]:\n",
    "    product_entries.append(rn.entries.get_min_entry_by_formula(i))\n",
    "    \n",
    "net_rxn = OpenComputedReaction.balance(rn.precursors,product_entries, {Element(\"O\"):0})\n",
    "net_rxn"
   ]
  },
  {
   "cell_type": "markdown",
   "id": "406e3e3b",
   "metadata": {},
   "source": [
    "Finally, we provide the net reaction to the `PathwaySolver` object. Note that the _intermediate_rxn_energy_cutoff_ helps to limit which intermediate reactions are considered (this can substantially decrease the combinatorial complexity), and the _filter_interdependent_ flag verifies that suggested pathways do not contain interdependent reactions (i.e. where both the reactants of reaction A depend on the products of the reaction B, and the reactants of reaction B depend on the products of reaction A).\n",
    "\n",
    "**Note: Even though this step is compiled/parallelized using Numba, this is often the most time-intensive step in the reaction network analysis. Consider limiting the value of the maximum number of combos, as well as the value of the intermediate reaction energy cutoff.**"
   ]
  },
  {
   "cell_type": "code",
   "execution_count": 159,
   "id": "83e33177",
   "metadata": {
    "scrolled": true
   },
   "outputs": [
    {
     "name": "stderr",
     "output_type": "stream",
     "text": [
      "INFO:PathwaySolver:Net reaction: 1.5 Li2CO3 + YCl3 + 0.5 Mn2O3 -> YMnO3 + 3 LiCl + 1.5 CO2 \n",
      "\n",
      "INFO:PathwaySolver:Identifying reactions between intermediates...\n",
      "100%|████████████████████████████████████████████████████████████████████████████████████████████████████████████████████████████████████████████████| 31/31 [00:00<00:00, 47.17it/s]\n",
      "100%|████████████████████████████████████████████████████████████████████████████████████████████████████████████████████████████████████████████████| 31/31 [00:01<00:00, 22.94it/s]\n",
      "INFO:PathwaySolver:Found 162 intermediate reactions! \n",
      "\n",
      "PathwaySolver (Batch 1): 100%|█████████████████████████████████████████████████████████████████████████████████████████████████████████████████████| 250/250 [02:02<00:00,  2.03it/s]\n",
      "PathwaySolver (Batch 2): 100%|███████████████████████████████████████████████████████████████████████████████████████████████████████████████████████| 88/88 [00:37<00:00,  2.37it/s]\n"
     ]
    }
   ],
   "source": [
    "balanced_paths = ps.solve(net_rxn, max_num_combos=4, \n",
    "                          intermediate_rxn_energy_cutoff=0.0, \n",
    "                          use_minimize_enumerator=False,\n",
    "                          filter_interdependent=True)"
   ]
  },
  {
   "cell_type": "code",
   "execution_count": null,
   "id": "f2a10cb5",
   "metadata": {},
   "outputs": [],
   "source": []
  },
  {
   "cell_type": "markdown",
   "id": "7499b24b",
   "metadata": {},
   "source": [
    "We can now print the suggested, balanced reaction pathways:"
   ]
  },
  {
   "cell_type": "code",
   "execution_count": 124,
   "id": "66aa3200",
   "metadata": {},
   "outputs": [
    {
     "name": "stdout",
     "output_type": "stream",
     "text": [
      "Path 1 \n",
      "\n",
      "Li2O + YCl3 -> 2 LiCl + YClO (dG = -0.273 eV/atom) \n",
      "Li2CO3 -> CO2 + Li2O (dG = 0.146 eV/atom) \n",
      "Li2CO3 + Mn2O3 -> CO2 + 2 LiMnO2 (dG = 0.009 eV/atom) \n",
      "LiMnO2 + YClO -> LiCl + YMnO3 (dG = -0.081 eV/atom) \n",
      "Average Cost: 0.263\n",
      "\n",
      "\n",
      "Path 2 \n",
      "\n",
      "Li2CO3 -> CO2 + Li2O (dG = 0.146 eV/atom) \n",
      "Li2CO3 + Mn2O3 -> CO2 + 2 LiMnO2 (dG = 0.009 eV/atom) \n",
      "Li2O + YCl3 -> 2 LiCl + YClO (dG = -0.273 eV/atom) \n",
      "LiMnO2 + YClO -> LiCl + YMnO3 (dG = -0.081 eV/atom) \n",
      "Average Cost: 0.263\n",
      "\n",
      "\n",
      "Path 3 \n",
      "\n",
      "Li2O + YCl3 -> 2 LiCl + YClO (dG = -0.273 eV/atom) \n",
      "Li2CO3 -> CO2 + Li2O (dG = 0.146 eV/atom) \n",
      "Li2O + 2 YClO -> 2 LiCl + Y2O3 (dG = -0.136 eV/atom) \n",
      "Mn2O3 + Y2O3 -> 2 YMnO3 (dG = -0.069 eV/atom) \n",
      "Average Cost: 0.269\n",
      "\n",
      "\n",
      "Path 4 \n",
      "\n",
      "Mn2O3 + Y2O3 -> 2 YMnO3 (dG = -0.069 eV/atom) \n",
      "Li2CO3 -> CO2 + Li2O (dG = 0.146 eV/atom) \n",
      "Li2O + YCl3 -> 2 LiCl + YClO (dG = -0.273 eV/atom) \n",
      "Li2O + 2 YClO -> 2 LiCl + Y2O3 (dG = -0.136 eV/atom) \n",
      "Average Cost: 0.269\n",
      "\n",
      "\n",
      "Path 5 \n",
      "\n",
      "Li2CO3 -> CO2 + Li2O (dG = 0.146 eV/atom) \n",
      "Li2O + YCl3 -> 2 LiCl + YClO (dG = -0.273 eV/atom) \n",
      "Li2O + 2 YClO -> 2 LiCl + Y2O3 (dG = -0.136 eV/atom) \n",
      "Mn2O3 + Y2O3 -> 2 YMnO3 (dG = -0.069 eV/atom) \n",
      "Average Cost: 0.269\n",
      "\n",
      "\n",
      "Path 6 \n",
      "\n",
      "Mn2O3 + Y2O3 -> 2 YMnO3 (dG = -0.069 eV/atom) \n",
      "Li2O + YCl3 -> 2 LiCl + YClO (dG = -0.273 eV/atom) \n",
      "Li2CO3 -> CO2 + Li2O (dG = 0.146 eV/atom) \n",
      "Li2O + 2 YClO -> 2 LiCl + Y2O3 (dG = -0.136 eV/atom) \n",
      "Average Cost: 0.269\n",
      "\n",
      "\n",
      "Path 7 \n",
      "\n",
      "1.5 Li2O + YCl3 -> 3 LiCl + 0.5 Y2O3 (dG = -0.297 eV/atom) \n",
      "Li2CO3 -> CO2 + Li2O (dG = 0.146 eV/atom) \n",
      "1.5 Li2O + YCl3 -> 3 LiCl + 0.5 Y2O3 (dG = -0.297 eV/atom) \n",
      "Mn2O3 + Y2O3 -> 2 YMnO3 (dG = -0.069 eV/atom) \n",
      "Average Cost: 0.272\n",
      "\n",
      "\n",
      "Path 8 \n",
      "\n",
      "1.5 Li2O + YCl3 -> 3 LiCl + 0.5 Y2O3 (dG = -0.297 eV/atom) \n",
      "Mn2O3 + Y2O3 -> 2 YMnO3 (dG = -0.069 eV/atom) \n",
      "Li2CO3 -> CO2 + Li2O (dG = 0.146 eV/atom) \n",
      "1.5 Li2O + YCl3 -> 3 LiCl + 0.5 Y2O3 (dG = -0.297 eV/atom) \n",
      "Average Cost: 0.272\n",
      "\n",
      "\n",
      "Path 9 \n",
      "\n",
      "1.5 Li2O + YCl3 -> 3 LiCl + 0.5 Y2O3 (dG = -0.297 eV/atom) \n",
      "Li2CO3 -> CO2 + Li2O (dG = 0.146 eV/atom) \n",
      "Mn2O3 + Y2O3 -> 2 YMnO3 (dG = -0.069 eV/atom) \n",
      "Average Cost: 0.272\n",
      "\n",
      "\n",
      "Path 10 \n",
      "\n",
      "Mn2O3 + Y2O3 -> 2 YMnO3 (dG = -0.069 eV/atom) \n",
      "Li2CO3 -> CO2 + Li2O (dG = 0.146 eV/atom) \n",
      "1.5 Li2O + YCl3 -> 3 LiCl + 0.5 Y2O3 (dG = -0.297 eV/atom) \n",
      "Mn2O3 + Y2O3 -> 2 YMnO3 (dG = -0.069 eV/atom) \n",
      "Average Cost: 0.272\n",
      "\n",
      "\n",
      "Path 11 \n",
      "\n",
      "1.5 Li2O + YCl3 -> 3 LiCl + 0.5 Y2O3 (dG = -0.297 eV/atom) \n",
      "Mn2O3 + Y2O3 -> 2 YMnO3 (dG = -0.069 eV/atom) \n",
      "Li2CO3 -> CO2 + Li2O (dG = 0.146 eV/atom) \n",
      "Average Cost: 0.272\n",
      "\n",
      "\n",
      "Path 12 \n",
      "\n",
      "Mn2O3 + Y2O3 -> 2 YMnO3 (dG = -0.069 eV/atom) \n",
      "Li2CO3 -> CO2 + Li2O (dG = 0.146 eV/atom) \n",
      "1.5 Li2O + YCl3 -> 3 LiCl + 0.5 Y2O3 (dG = -0.297 eV/atom) \n",
      "Average Cost: 0.272\n",
      "\n",
      "\n",
      "Path 13 \n",
      "\n",
      "1.5 Li2O + YCl3 -> 3 LiCl + 0.5 Y2O3 (dG = -0.297 eV/atom) \n",
      "Mn2O3 + Y2O3 -> 2 YMnO3 (dG = -0.069 eV/atom) \n",
      "Li2CO3 -> CO2 + Li2O (dG = 0.146 eV/atom) \n",
      "Mn2O3 + Y2O3 -> 2 YMnO3 (dG = -0.069 eV/atom) \n",
      "Average Cost: 0.272\n",
      "\n",
      "\n",
      "Path 14 \n",
      "\n",
      "Li2CO3 -> CO2 + Li2O (dG = 0.146 eV/atom) \n",
      "1.5 Li2O + YCl3 -> 3 LiCl + 0.5 Y2O3 (dG = -0.297 eV/atom) \n",
      "Mn2O3 + Y2O3 -> 2 YMnO3 (dG = -0.069 eV/atom) \n",
      "Average Cost: 0.272\n",
      "\n",
      "\n"
     ]
    }
   ],
   "source": [
    "for idx, path in enumerate(balanced_paths):\n",
    "    print(f\"Path {idx+1}\", \"\\n\")\n",
    "    print(path)\n",
    "    print(\"\\n\")"
   ]
  },
  {
   "cell_type": "code",
   "execution_count": 23,
   "id": "e469ee12",
   "metadata": {},
   "outputs": [
    {
     "data": {
      "text/plain": [
       "[Li2O + 0.6667 YCl3 -> 2 LiCl + 0.3333 Y2O3 (dG = -0.297 eV/atom) \n",
       " Mn2O3 + Y2O3 -> 2 YMnO3 (dG = -0.069 eV/atom) \n",
       " Li2CO3 -> CO2 + Li2O (dG = 0.146 eV/atom) \n",
       " Average Cost: 0.252,\n",
       " Li2O + YCl3 -> 2 LiCl + YClO (dG = -0.273 eV/atom) \n",
       " Li2CO3 -> CO2 + Li2O (dG = 0.146 eV/atom) \n",
       " Li2CO3 + Mn2O3 -> CO2 + 2 LiMnO2 (dG = 0.009 eV/atom) \n",
       " LiMnO2 + YClO -> LiCl + YMnO3 (dG = -0.081 eV/atom) \n",
       " Average Cost: 0.254,\n",
       " Li2O + YCl3 -> 2 LiCl + YClO (dG = -0.273 eV/atom) \n",
       " Li2CO3 -> CO2 + Li2O (dG = 0.146 eV/atom) \n",
       " 2 Li2CO3 -> CO2 + Li4CO4 (dG = 0.055 eV/atom) \n",
       " LiMnO2 + YClO -> LiCl + YMnO3 (dG = -0.081 eV/atom) \n",
       " Li4CO4 + 2 Mn2O3 -> CO2 + 4 LiMnO2 (dG = -0.025 eV/atom) \n",
       " Average Cost: 0.254,\n",
       " Li2O + YCl3 -> 2 LiCl + YClO (dG = -0.273 eV/atom) \n",
       " Li2CO3 -> CO2 + Li2O (dG = 0.146 eV/atom) \n",
       " Li2CO3 + Mn2O3 -> LiCO2 + LiMn2O4 (dG = 0.046 eV/atom) \n",
       " LiMnO2 + YClO -> LiCl + YMnO3 (dG = -0.081 eV/atom) \n",
       " LiCO2 + LiMn2O4 -> CO2 + 2 LiMnO2 (dG = -0.038 eV/atom) \n",
       " Average Cost: 0.255,\n",
       " Li2O + 0.6667 YCl3 -> 2 LiCl + 0.3333 Y2O3 (dG = -0.297 eV/atom) \n",
       " Mn2O3 + Y2O3 -> 2 YMnO3 (dG = -0.069 eV/atom) \n",
       " Li2O + YCl3 -> 2 LiCl + YClO (dG = -0.273 eV/atom) \n",
       " Li2CO3 -> CO2 + Li2O (dG = 0.146 eV/atom) \n",
       " Li2O + 2 YClO -> 2 LiCl + Y2O3 (dG = -0.136 eV/atom) \n",
       " Average Cost: 0.255,\n",
       " Mn2O3 + Y2O3 -> 2 YMnO3 (dG = -0.069 eV/atom) \n",
       " Li2O + YCl3 -> 2 LiCl + YClO (dG = -0.273 eV/atom) \n",
       " Li2CO3 -> CO2 + Li2O (dG = 0.146 eV/atom) \n",
       " Li2O + 2 YClO -> 2 LiCl + Y2O3 (dG = -0.136 eV/atom) \n",
       " Average Cost: 0.257]"
      ]
     },
     "execution_count": 23,
     "metadata": {},
     "output_type": "execute_result"
    }
   ],
   "source": [
    "balanced_paths"
   ]
  },
  {
   "cell_type": "code",
   "execution_count": null,
   "id": "24ab1652",
   "metadata": {},
   "outputs": [],
   "source": []
  },
  {
   "cell_type": "code",
   "execution_count": 24,
   "id": "f8853da5",
   "metadata": {},
   "outputs": [],
   "source": [
    "from rxn_network.pathways.pathway_set import PathwaySet"
   ]
  },
  {
   "cell_type": "markdown",
   "id": "1bf41273",
   "metadata": {},
   "source": [
    "We note that **Pathway 12 most closely matches the experimentally observed reaction pathway** (ordering subject to change in the future).\n",
    "\n",
    "However, many of the pathways include hypothetical (never-before-synthesized) materials (e.g., Li3MnO3), so the top-ranked pathway does not necessarily match what is experimentally observed."
   ]
  },
  {
   "cell_type": "markdown",
   "id": "34e6b633",
   "metadata": {},
   "source": [
    "### Running networks with jobflow\n",
    "\n",
    "The `NetworkFW` class allows you to easily run the reaction network construction and pathfinding analysis via fireworks. Simply create a network firework, add it to the LaunchPad, and launch it on your computing resource. See the documentation for more information about each of the parameters."
   ]
  },
  {
   "cell_type": "code",
   "execution_count": 94,
   "id": "30461bf5",
   "metadata": {},
   "outputs": [],
   "source": [
    "from rxn_network.flows.core import NetworkFlowMaker\n",
    "from rxn_network.jobs.core import GetEntrySetMaker, NetworkMaker, PathwaySolverMaker\n",
    "from jobflow.managers.local import run_locally"
   ]
  },
  {
   "cell_type": "code",
   "execution_count": 187,
   "id": "bbe221fc",
   "metadata": {},
   "outputs": [
    {
     "name": "stderr",
     "output_type": "stream",
     "text": [
      "[autoreload of rxn_network.jobs.core failed: Traceback (most recent call last):\n",
      "  File \"/Users/mcdermott/opt/miniconda3/envs/rn_dev2/lib/python3.10/site-packages/IPython/extensions/autoreload.py\", line 257, in check\n",
      "    superreload(m, reload, self.old_objects)\n",
      "  File \"/Users/mcdermott/opt/miniconda3/envs/rn_dev2/lib/python3.10/site-packages/IPython/extensions/autoreload.py\", line 455, in superreload\n",
      "    module = reload(module)\n",
      "  File \"/Users/mcdermott/opt/miniconda3/envs/rn_dev2/lib/python3.10/importlib/__init__.py\", line 169, in reload\n",
      "    _bootstrap._exec(spec, module)\n",
      "  File \"<frozen importlib._bootstrap>\", line 619, in _exec\n",
      "  File \"<frozen importlib._bootstrap_external>\", line 883, in exec_module\n",
      "  File \"<frozen importlib._bootstrap>\", line 241, in _call_with_frames_removed\n",
      "  File \"/Users/mcdermott/PycharmProjects/reaction-network/src/rxn_network/jobs/core.py\", line 47, in <module>\n",
      "    class GetEntrySetMaker(Maker):\n",
      "  File \"/Users/mcdermott/opt/miniconda3/envs/rn_dev2/lib/python3.10/dataclasses.py\", line 1185, in dataclass\n",
      "    return wrap(cls)\n",
      "  File \"/Users/mcdermott/opt/miniconda3/envs/rn_dev2/lib/python3.10/dataclasses.py\", line 1176, in wrap\n",
      "    return _process_class(cls, init, repr, eq, order, unsafe_hash,\n",
      "  File \"/Users/mcdermott/opt/miniconda3/envs/rn_dev2/lib/python3.10/dataclasses.py\", line 956, in _process_class\n",
      "    cls_fields.append(_get_field(cls, name, type, kw_only))\n",
      "ValueError: mutable default <class 'list'> for field property_data is not allowed: use default_factory\n",
      "]\n"
     ]
    }
   ],
   "source": [
    "precursors=[\"YCl3\", \"Mn2O3\", \"Li2CO3\"]\n",
    "targets=[\"YMnO3\", \"LiCl\", \"CO2\"]\n",
    "k=2\n",
    "temp = 650+273\n",
    "cf = Softplus(temp, [\"energy_per_atom\"], [1.0])\n",
    "\n",
    "get_entry_set_maker = GetEntrySetMaker(temperature=temp, e_above_hull=0.000)\n",
    "network_maker = NetworkMaker(cost_function=cf, precursors=precursors, targets=targets, calculate_pathways=k)\n",
    "solver_maker = PathwaySolverMaker(cost_function=cf, precursors=precursors, targets=targets)"
   ]
  },
  {
   "cell_type": "code",
   "execution_count": 190,
   "id": "b9c40df4",
   "metadata": {},
   "outputs": [
    {
     "data": {
      "text/plain": [
       "['icsd_ids']"
      ]
     },
     "execution_count": 190,
     "metadata": {},
     "output_type": "execute_result"
    }
   ],
   "source": [
    "list([\"icsd_ids\"])"
   ]
  },
  {
   "cell_type": "code",
   "execution_count": 188,
   "id": "1f1c1815",
   "metadata": {},
   "outputs": [],
   "source": [
    "flow = NetworkFlowMaker(get_entry_set_maker=get_entry_set_maker, \n",
    "                 network_maker=network_maker, solver_maker=solver_maker, open_elem=\"O\", chempots=None).make(precursors=precursors, targets=targets)"
   ]
  },
  {
   "cell_type": "code",
   "execution_count": 97,
   "id": "3a2bb650",
   "metadata": {},
   "outputs": [
    {
     "data": {
      "text/plain": [
       "<module 'matplotlib.pyplot' from '/Users/mcdermott/opt/miniconda3/envs/rn_dev2/lib/python3.10/site-packages/matplotlib/pyplot.py'>"
      ]
     },
     "execution_count": 97,
     "metadata": {},
     "output_type": "execute_result"
    },
    {
     "data": {
      "image/png": "[encoded data removed]",
      "text/plain": [
       "<Figure size 1200x800 with 1 Axes>"
      ]
     },
     "metadata": {},
     "output_type": "display_data"
    }
   ],
   "source": [
    "flow.draw_graph()"
   ]
  },
  {
   "cell_type": "code",
   "execution_count": 98,
   "id": "5db79252",
   "metadata": {},
   "outputs": [
    {
     "name": "stdout",
     "output_type": "stream",
     "text": [
      "2022-09-14 12:30:01,841 INFO Started executing jobs locally\n"
     ]
    },
    {
     "name": "stderr",
     "output_type": "stream",
     "text": [
      "INFO:jobflow.managers.local:Started executing jobs locally\n"
     ]
    },
    {
     "name": "stdout",
     "output_type": "stream",
     "text": [
      "2022-09-14 12:30:01,844 INFO Starting job - get_and_process_entries (Mn-Y-C-Cl-O-Li, T=923 K, +0.0 eV) (5185f423-c531-4775-a574-ecfd3cbc9123)\n"
     ]
    },
    {
     "name": "stderr",
     "output_type": "stream",
     "text": [
      "INFO:jobflow.core.job:Starting job - get_and_process_entries (Mn-Y-C-Cl-O-Li, T=923 K, +0.0 eV) (5185f423-c531-4775-a574-ecfd3cbc9123)\n"
     ]
    },
    {
     "name": "stdout",
     "output_type": "stream",
     "text": [
      "2022-09-14 12:30:09,720 INFO Finished job - get_and_process_entries (Mn-Y-C-Cl-O-Li, T=923 K, +0.0 eV) (5185f423-c531-4775-a574-ecfd3cbc9123)\n"
     ]
    },
    {
     "name": "stderr",
     "output_type": "stream",
     "text": [
      "INFO:jobflow.core.job:Finished job - get_and_process_entries (Mn-Y-C-Cl-O-Li, T=923 K, +0.0 eV) (5185f423-c531-4775-a574-ecfd3cbc9123)\n"
     ]
    },
    {
     "name": "stdout",
     "output_type": "stream",
     "text": [
      "2022-09-14 12:30:09,722 INFO Starting job - enumerate_reactions (c639c075-aba9-41f1-910d-61f3eeaae4ce)\n"
     ]
    },
    {
     "name": "stderr",
     "output_type": "stream",
     "text": [
      "INFO:jobflow.core.job:Starting job - enumerate_reactions (c639c075-aba9-41f1-910d-61f3eeaae4ce)\n",
      "100%|████████████████████████████████████████████████████████████████████████████████████████████████████████████████████████████████████████████████| 54/54 [00:03<00:00, 13.67it/s]\n",
      "100%|████████████████████████████████████████████████████████████████████████████████████████████████████████████████████████████████████████████████| 43/43 [00:12<00:00,  3.57it/s]\n",
      "100%|████████████████████████████████████████████████████████████████████████████████████████████████████████████████████████████████████████████████| 57/57 [00:03<00:00, 16.73it/s]\n"
     ]
    },
    {
     "name": "stdout",
     "output_type": "stream",
     "text": [
      "2022-09-14 12:30:31,891 INFO Finished job - enumerate_reactions (c639c075-aba9-41f1-910d-61f3eeaae4ce)\n"
     ]
    },
    {
     "name": "stderr",
     "output_type": "stream",
     "text": [
      "INFO:jobflow.core.job:Finished job - enumerate_reactions (c639c075-aba9-41f1-910d-61f3eeaae4ce)\n"
     ]
    },
    {
     "name": "stdout",
     "output_type": "stream",
     "text": [
      "2022-09-14 12:30:31,895 INFO Starting job - enumerate_reactions(open O, mu=0.0) (77c7b98d-6d32-479b-a957-3c1f107cd951)\n"
     ]
    },
    {
     "name": "stderr",
     "output_type": "stream",
     "text": [
      "INFO:jobflow.core.job:Starting job - enumerate_reactions(open O, mu=0.0) (77c7b98d-6d32-479b-a957-3c1f107cd951)\n",
      "100%|████████████████████████████████████████████████████████████████████████████████████████████████████████████████████████████████████████████████| 31/31 [00:02<00:00, 15.34it/s]\n"
     ]
    },
    {
     "name": "stdout",
     "output_type": "stream",
     "text": [
      "2022-09-14 12:30:34,545 INFO Finished job - enumerate_reactions(open O, mu=0.0) (77c7b98d-6d32-479b-a957-3c1f107cd951)\n"
     ]
    },
    {
     "name": "stderr",
     "output_type": "stream",
     "text": [
      "INFO:jobflow.core.job:Finished job - enumerate_reactions(open O, mu=0.0) (77c7b98d-6d32-479b-a957-3c1f107cd951)\n"
     ]
    },
    {
     "name": "stdout",
     "output_type": "stream",
     "text": [
      "2022-09-14 12:30:34,548 INFO Starting job - build_and_analyze_network (e579ce2f-0754-4ab6-9372-f6b54f98a5e6)\n"
     ]
    },
    {
     "name": "stderr",
     "output_type": "stream",
     "text": [
      "INFO:jobflow.core.job:Starting job - build_and_analyze_network (e579ce2f-0754-4ab6-9372-f6b54f98a5e6)\n",
      "INFO:ReactionNetwork:Building graph from reactions...\n",
      "100%|███████████████████████████████████████████████████████████████████████████████████████████████████████████████████████████████████████████| 9873/9873 [00:12<00:00, 762.09it/s]\n"
     ]
    },
    {
     "name": "stdout",
     "output_type": "stream",
     "text": [
      "PATHS to YMnO3 \n",
      "\n",
      "--------------------------------------- \n",
      "\n",
      "1.25 Mn2O3 + YCl3 -> YMnO3 + 0.375 O2 + 1.5 MnCl2 (dG = 0.095 eV/atom) \n",
      "Total Cost: 0.282 \n",
      "\n",
      "0.5 Li2CO3 + 0.3333 YCl3 -> LiCl + 0.1667 Y2O3 + 0.5 CO2 (dG = -0.099 eV/atom) \n",
      "Mn2O3 + Y2O3 -> 2 YMnO3 (dG = -0.069 eV/atom) \n",
      "Total Cost: 0.481 \n",
      "\n",
      "PATHS to LiCl \n",
      "\n",
      "--------------------------------------- \n",
      "\n",
      "0.5 Li2CO3 + 0.5 YCl3 -> LiCl + 0.5 YClO + 0.5 CO2 (dG = -0.109 eV/atom) \n",
      "Total Cost: 0.235 \n",
      "\n",
      "0.5 Li2CO3 + 0.3333 YCl3 -> LiCl + 0.1667 Y2O3 + 0.5 CO2 (dG = -0.099 eV/atom) \n",
      "Total Cost: 0.237 \n",
      "\n",
      "PATHS to CO2 \n",
      "\n",
      "--------------------------------------- \n",
      "\n",
      "0.5 Li2CO3 + 0.5 YCl3 -> LiCl + 0.5 YClO + 0.5 CO2 (dG = -0.109 eV/atom) \n",
      "Total Cost: 0.235 \n",
      "\n",
      "0.5 Li2CO3 + 0.3333 YCl3 -> LiCl + 0.1667 Y2O3 + 0.5 CO2 (dG = -0.099 eV/atom) \n",
      "Total Cost: 0.237 \n",
      "\n",
      "2022-09-14 12:31:14,796 INFO Finished job - build_and_analyze_network (e579ce2f-0754-4ab6-9372-f6b54f98a5e6)\n"
     ]
    },
    {
     "name": "stderr",
     "output_type": "stream",
     "text": [
      "INFO:jobflow.core.job:Finished job - build_and_analyze_network (e579ce2f-0754-4ab6-9372-f6b54f98a5e6)\n"
     ]
    },
    {
     "name": "stdout",
     "output_type": "stream",
     "text": [
      "2022-09-14 12:31:14,799 INFO Starting job - build_and_analyze_network(open O, mu=0.0) (94bdb33e-1a6f-48b0-9ba2-45c4df8035e6)\n"
     ]
    },
    {
     "name": "stderr",
     "output_type": "stream",
     "text": [
      "INFO:jobflow.core.job:Starting job - build_and_analyze_network(open O, mu=0.0) (94bdb33e-1a6f-48b0-9ba2-45c4df8035e6)\n",
      "INFO:ReactionNetwork:Building graph from reactions...\n",
      "100%|█████████████████████████████████████████████████████████████████████████████████████████████████████████████████████████████████████████| 10198/10198 [00:16<00:00, 623.05it/s]\n"
     ]
    },
    {
     "name": "stdout",
     "output_type": "stream",
     "text": [
      "PATHS to YMnO3 \n",
      "\n",
      "--------------------------------------- \n",
      "\n",
      "1.25 Mn2O3 + YCl3 -> YMnO3 + 0.375 O2 + 1.5 MnCl2 (dG = 0.151 eV/atom) \n",
      "Total Cost: 0.296 \n",
      "\n",
      "0.5 Li2CO3 + 0.3333 YCl3 -> LiCl + 0.1667 Y2O3 + 0.5 CO2 (dG = -0.151 eV/atom) \n",
      "Mn2O3 + Y2O3 -> 2 YMnO3 (dG = -0.173 eV/atom) \n",
      "Total Cost: 0.449 \n",
      "\n",
      "PATHS to LiCl \n",
      "\n",
      "--------------------------------------- \n",
      "\n",
      "0.5 Li2CO3 + 0.5 YCl3 -> LiCl + 0.5 YClO + 0.5 CO2 (dG = -0.155 eV/atom) \n",
      "Total Cost: 0.226 \n",
      "\n",
      "0.5 Li2CO3 + 0.3333 YCl3 -> LiCl + 0.1667 Y2O3 + 0.5 CO2 (dG = -0.151 eV/atom) \n",
      "Total Cost: 0.227 \n",
      "\n",
      "PATHS to CO2 \n",
      "\n",
      "--------------------------------------- \n",
      "\n",
      "0.5 Li2CO3 + 0.5 YCl3 -> LiCl + 0.5 YClO + 0.5 CO2 (dG = -0.155 eV/atom) \n",
      "Total Cost: 0.226 \n",
      "\n",
      "0.5 Li2CO3 + 0.3333 YCl3 -> LiCl + 0.1667 Y2O3 + 0.5 CO2 (dG = -0.151 eV/atom) \n",
      "Total Cost: 0.227 \n",
      "\n",
      "2022-09-14 12:32:06,170 INFO Finished job - build_and_analyze_network(open O, mu=0.0) (94bdb33e-1a6f-48b0-9ba2-45c4df8035e6)\n"
     ]
    },
    {
     "name": "stderr",
     "output_type": "stream",
     "text": [
      "INFO:jobflow.core.job:Finished job - build_and_analyze_network(open O, mu=0.0) (94bdb33e-1a6f-48b0-9ba2-45c4df8035e6)\n"
     ]
    },
    {
     "name": "stdout",
     "output_type": "stream",
     "text": [
      "2022-09-14 12:32:06,173 INFO Starting job - solve pathways (76c73394-8020-464d-b7e8-21d23bd4e77e)\n"
     ]
    },
    {
     "name": "stderr",
     "output_type": "stream",
     "text": [
      "INFO:jobflow.core.job:Starting job - solve pathways (76c73394-8020-464d-b7e8-21d23bd4e77e)\n",
      "INFO:PathwaySolver:Net reaction: YCl3 + 0.5 Mn2O3 + 1.5 Li2CO3 -> YMnO3 + 3 LiCl + 1.5 CO2 \n",
      "\n",
      "INFO:PathwaySolver:Identifying reactions between intermediates...\n",
      "100%|███████████████████████████████████████████████████████████████████████████████████████████████████████████████████████████████████████████████| 23/23 [00:00<00:00, 248.55it/s]\n",
      "INFO:PathwaySolver:Found 7 intermediate reactions! \n",
      "\n",
      "PathwaySolver (Batch 1):   0%|                                                                                                                                 | 0/4 [00:00<?, ?it/s]\u001b[2m\u001b[36m(_get_balanced_paths_ray pid=2617)\u001b[0m OMP: Info #276: omp_set_nested routine deprecated, please use omp_set_max_active_levels instead.\n",
      "PathwaySolver (Batch 1): 100%|█████████████████████████████████████████████████████████████████████████████████████████████████████████████████████████| 4/4 [00:08<00:00,  2.15s/it]"
     ]
    },
    {
     "name": "stdout",
     "output_type": "stream",
     "text": [
      "2022-09-14 12:32:15,655 INFO Finished job - solve pathways (76c73394-8020-464d-b7e8-21d23bd4e77e)\n"
     ]
    },
    {
     "name": "stderr",
     "output_type": "stream",
     "text": [
      "\n",
      "INFO:jobflow.core.job:Finished job - solve pathways (76c73394-8020-464d-b7e8-21d23bd4e77e)\n"
     ]
    },
    {
     "name": "stdout",
     "output_type": "stream",
     "text": [
      "2022-09-14 12:32:15,657 INFO Starting job - solve pathways(open O, mu=0.0) (0fc08fcb-27ee-43a4-931e-638899631f69)\n"
     ]
    },
    {
     "name": "stderr",
     "output_type": "stream",
     "text": [
      "INFO:jobflow.core.job:Starting job - solve pathways(open O, mu=0.0) (0fc08fcb-27ee-43a4-931e-638899631f69)\n",
      "INFO:PathwaySolver:Net reaction: YCl3 + 0.5 Mn2O3 + 1.5 Li2CO3 -> YMnO3 + 3 LiCl + 1.5 CO2 \n",
      "\n",
      "INFO:PathwaySolver:Identifying reactions between intermediates...\n",
      "100%|███████████████████████████████████████████████████████████████████████████████████████████████████████████████████████████████████████████████| 23/23 [00:00<00:00, 291.06it/s]\n",
      "100%|███████████████████████████████████████████████████████████████████████████████████████████████████████████████████████████████████████████████| 29/29 [00:00<00:00, 203.10it/s]\n",
      "INFO:PathwaySolver:Found 30 intermediate reactions! \n",
      "\n",
      "PathwaySolver (Batch 1):   0%|                                                                                                                                 | 0/4 [00:00<?, ?it/s]"
     ]
    },
    {
     "name": "stdout",
     "output_type": "stream",
     "text": [
      "\u001b[2m\u001b[36m(_get_balanced_paths_ray pid=2613)\u001b[0m 0.5 Li2CO3 + 0.3333 YCl3 -> 0.5 CO2 + LiCl + 0.1667 Y2O3 is not in list\n",
      "\u001b[2m\u001b[36m(_get_balanced_paths_ray pid=2613)\u001b[0m Mn2O3 + Y2O3 -> 2 YMnO3 is not in list\n",
      "\u001b[2m\u001b[36m(_get_balanced_paths_ray pid=2613)\u001b[0m 0.5 Li2CO3 + 0.5 YCl3 -> 0.5 CO2 + LiCl + 0.5 YClO is not in list\n",
      "\u001b[2m\u001b[36m(_get_balanced_paths_ray pid=2613)\u001b[0m Mn2O3 + 3 YClO -> YCl3 + 2 YMnO3 is not in list\n"
     ]
    },
    {
     "name": "stderr",
     "output_type": "stream",
     "text": [
      "\r",
      "PathwaySolver (Batch 1):  75%|██████████████████████████████████████████████████████████████████████████████████████████▊                              | 3/4 [00:00<00:00,  3.13it/s]"
     ]
    },
    {
     "name": "stdout",
     "output_type": "stream",
     "text": [
      "\u001b[2m\u001b[36m(_get_balanced_paths_ray pid=2617)\u001b[0m 1.25 Mn2O3 + YCl3 -> 1.5 MnCl2 + 0.375 O2 + YMnO3 is not in list\n",
      "\u001b[2m\u001b[36m(_get_balanced_paths_ray pid=2617)\u001b[0m 0.5 Li2CO3 + 0.3333 YCl3 -> 0.5 CO2 + LiCl + 0.1667 Y2O3 is not in list\n",
      "\u001b[2m\u001b[36m(_get_balanced_paths_ray pid=2617)\u001b[0m Mn2O3 + Y2O3 -> 2 YMnO3 is not in list\n",
      "\u001b[2m\u001b[36m(_get_balanced_paths_ray pid=2617)\u001b[0m 4 MnCl2 + O2 + 3.333 Y2O3 -> 2.667 YCl3 + 4 YMnO3 is not in list\n",
      "\u001b[2m\u001b[36m(_get_balanced_paths_ray pid=2617)\u001b[0m 1.25 Mn2O3 + YCl3 -> 1.5 MnCl2 + 0.375 O2 + YMnO3 is not in list\n",
      "\u001b[2m\u001b[36m(_get_balanced_paths_ray pid=2617)\u001b[0m 0.5 Li2CO3 + 0.3333 YCl3 -> 0.5 CO2 + LiCl + 0.1667 Y2O3 is not in list\n",
      "\u001b[2m\u001b[36m(_get_balanced_paths_ray pid=2617)\u001b[0m Mn2O3 + 3 YClO -> YCl3 + 2 YMnO3 is not in list\n",
      "\u001b[2m\u001b[36m(_get_balanced_paths_ray pid=2617)\u001b[0m 4 MnCl2 + O2 + 6 Y2O3 -> 8 YClO + 4 YMnO3 is not in list\n",
      "\u001b[2m\u001b[36m(_get_balanced_paths_ray pid=2617)\u001b[0m 1.25 Mn2O3 + YCl3 -> 1.5 MnCl2 + 0.375 O2 + YMnO3 is not in list\n",
      "\u001b[2m\u001b[36m(_get_balanced_paths_ray pid=2617)\u001b[0m 0.5 Li2CO3 + 0.3333 YCl3 -> 0.5 CO2 + LiCl + 0.1667 Y2O3 is not in list\n",
      "\u001b[2m\u001b[36m(_get_balanced_paths_ray pid=2617)\u001b[0m 1.333 MnCl2 + O2 + 0.6667 Y2O3 -> 1.333 Cl2 + 1.333 YMnO3 is not in list\n",
      "\u001b[2m\u001b[36m(_get_balanced_paths_ray pid=2617)\u001b[0m Cl2 + Li2CO3 -> CO2 + 2 LiCl + 0.5 O2 is not in list\n",
      "\u001b[2m\u001b[36m(_get_balanced_paths_ray pid=2617)\u001b[0m 1.25 Mn2O3 + YCl3 -> 1.5 MnCl2 + 0.375 O2 + YMnO3 is not in list\n",
      "\u001b[2m\u001b[36m(_get_balanced_paths_ray pid=2617)\u001b[0m 0.5 Li2CO3 + 0.3333 YCl3 -> 0.5 CO2 + LiCl + 0.1667 Y2O3 is not in list\n",
      "\u001b[2m\u001b[36m(_get_balanced_paths_ray pid=2617)\u001b[0m 4 MnCl2 + O2 + 10 YClO -> 6 YCl3 + 4 YMnO3 is not in list\n",
      "\u001b[2m\u001b[36m(_get_balanced_paths_ray pid=2617)\u001b[0m 4 MnCl2 + O2 + 6 Y2O3 -> 8 YClO + 4 YMnO3 is not in list\n",
      "\u001b[2m\u001b[36m(_get_balanced_paths_ray pid=2617)\u001b[0m 1.25 Mn2O3 + YCl3 -> 1.5 MnCl2 + 0.375 O2 + YMnO3 is not in list\n",
      "\u001b[2m\u001b[36m(_get_balanced_paths_ray pid=2617)\u001b[0m 0.5 Li2CO3 + 0.5 YCl3 -> 0.5 CO2 + LiCl + 0.5 YClO is not in list\n",
      "\u001b[2m\u001b[36m(_get_balanced_paths_ray pid=2617)\u001b[0m Mn2O3 + 3 YClO -> YCl3 + 2 YMnO3 is not in list\n",
      "\u001b[2m\u001b[36m(_get_balanced_paths_ray pid=2617)\u001b[0m 4 MnCl2 + O2 + 10 YClO -> 6 YCl3 + 4 YMnO3 is not in list\n",
      "\u001b[2m\u001b[36m(_get_balanced_paths_ray pid=2617)\u001b[0m 1.25 Mn2O3 + YCl3 -> 1.5 MnCl2 + 0.375 O2 + YMnO3 is not in list\n",
      "\u001b[2m\u001b[36m(_get_balanced_paths_ray pid=2617)\u001b[0m 0.5 Li2CO3 + 0.5 YCl3 -> 0.5 CO2 + LiCl + 0.5 YClO is not in list\n",
      "\u001b[2m\u001b[36m(_get_balanced_paths_ray pid=2617)\u001b[0m MnCl2 + O2 + YClO -> 1.5 Cl2 + YMnO3 is not in list\n",
      "\u001b[2m\u001b[36m(_get_balanced_paths_ray pid=2617)\u001b[0m Cl2 + Li2CO3 -> CO2 + 2 LiCl + 0.5 O2 is not in list\n",
      "\u001b[2m\u001b[36m(_get_balanced_paths_ray pid=2617)\u001b[0m 0.5 Li2CO3 + 0.3333 YCl3 -> 0.5 CO2 + LiCl + 0.1667 Y2O3 is not in list\n",
      "\u001b[2m\u001b[36m(_get_balanced_paths_ray pid=2617)\u001b[0m Mn2O3 + Y2O3 -> 2 YMnO3 is not in list\n",
      "\u001b[2m\u001b[36m(_get_balanced_paths_ray pid=2617)\u001b[0m 0.5 Li2CO3 + 0.5 YCl3 -> 0.5 CO2 + LiCl + 0.5 YClO is not in list\n",
      "\u001b[2m\u001b[36m(_get_balanced_paths_ray pid=2617)\u001b[0m Mn2O3 + 3 YClO -> YCl3 + 2 YMnO3 is not in list\n"
     ]
    },
    {
     "name": "stderr",
     "output_type": "stream",
     "text": [
      "\u001b[2m\u001b[36m(_get_balanced_paths_ray pid=2612)\u001b[0m OMP: Info #276: omp_set_nested routine deprecated, please use omp_set_max_active_levels instead.\n",
      "PathwaySolver (Batch 1): 100%|█████████████████████████████████████████████████████████████████████████████████████████████████████████████████████████| 4/4 [00:07<00:00,  1.89s/it]"
     ]
    },
    {
     "name": "stdout",
     "output_type": "stream",
     "text": [
      "2022-09-14 12:32:24,261 INFO solve pathways(open O, mu=0.0) failed with exception:\n",
      "Traceback (most recent call last):\n",
      "  File \"/Users/mcdermott/PycharmProjects/jobflow/src/jobflow/managers/local.py\", line 98, in _run_job\n",
      "    response = job.run(store=store)\n",
      "  File \"/Users/mcdermott/PycharmProjects/jobflow/src/jobflow/core/job.py\", line 543, in run\n",
      "    response = function(*self.function_args, **self.function_kwargs)\n",
      "  File \"/Users/mcdermott/PycharmProjects/reaction-network/src/rxn_network/jobs/core.py\", line 420, in make\n",
      "    balanced_paths = ps.solve(\n",
      "  File \"/Users/mcdermott/PycharmProjects/reaction-network/src/rxn_network/pathways/solver.py\", line 192, in solve\n",
      "    filtered_paths = sorted(list(set(filtered_paths)), key=lambda p: p.average_cost)\n",
      "  File \"/Users/mcdermott/PycharmProjects/reaction-network/src/rxn_network/pathways/solver.py\", line 192, in <lambda>\n",
      "    filtered_paths = sorted(list(set(filtered_paths)), key=lambda p: p.average_cost)\n",
      "  File \"/Users/mcdermott/PycharmProjects/reaction-network/src/rxn_network/pathways/balanced.py\", line 151, in average_cost\n",
      "    return np.dot(self.coefficients, self.costs) / sum(self.coefficients)\n",
      "  File \"<__array_function__ internals>\", line 180, in dot\n",
      "ValueError: shapes (2,) and (0,) not aligned: 2 (dim 0) != 0 (dim 0)\n",
      "\n"
     ]
    },
    {
     "name": "stderr",
     "output_type": "stream",
     "text": [
      "\n",
      "INFO:jobflow.managers.local:solve pathways(open O, mu=0.0) failed with exception:\n",
      "Traceback (most recent call last):\n",
      "  File \"/Users/mcdermott/PycharmProjects/jobflow/src/jobflow/managers/local.py\", line 98, in _run_job\n",
      "    response = job.run(store=store)\n",
      "  File \"/Users/mcdermott/PycharmProjects/jobflow/src/jobflow/core/job.py\", line 543, in run\n",
      "    response = function(*self.function_args, **self.function_kwargs)\n",
      "  File \"/Users/mcdermott/PycharmProjects/reaction-network/src/rxn_network/jobs/core.py\", line 420, in make\n",
      "    balanced_paths = ps.solve(\n",
      "  File \"/Users/mcdermott/PycharmProjects/reaction-network/src/rxn_network/pathways/solver.py\", line 192, in solve\n",
      "    filtered_paths = sorted(list(set(filtered_paths)), key=lambda p: p.average_cost)\n",
      "  File \"/Users/mcdermott/PycharmProjects/reaction-network/src/rxn_network/pathways/solver.py\", line 192, in <lambda>\n",
      "    filtered_paths = sorted(list(set(filtered_paths)), key=lambda p: p.average_cost)\n",
      "  File \"/Users/mcdermott/PycharmProjects/reaction-network/src/rxn_network/pathways/balanced.py\", line 151, in average_cost\n",
      "    return np.dot(self.coefficients, self.costs) / sum(self.coefficients)\n",
      "  File \"<__array_function__ internals>\", line 180, in dot\n",
      "ValueError: shapes (2,) and (0,) not aligned: 2 (dim 0) != 0 (dim 0)\n",
      "\n"
     ]
    },
    {
     "name": "stdout",
     "output_type": "stream",
     "text": [
      "2022-09-14 12:32:24,265 INFO Finished executing jobs locally\n"
     ]
    },
    {
     "name": "stderr",
     "output_type": "stream",
     "text": [
      "INFO:jobflow.managers.local:Finished executing jobs locally\n"
     ]
    },
    {
     "name": "stdout",
     "output_type": "stream",
     "text": [
      "\u001b[2m\u001b[36m(_get_balanced_paths_ray pid=2612)\u001b[0m 1.25 Mn2O3 + YCl3 -> 1.5 MnCl2 + 0.375 O2 + YMnO3 is not in list\n",
      "\u001b[2m\u001b[36m(_get_balanced_paths_ray pid=2612)\u001b[0m 0.5 Li2CO3 + 0.3333 YCl3 -> 0.5 CO2 + LiCl + 0.1667 Y2O3 is not in list\n",
      "\u001b[2m\u001b[36m(_get_balanced_paths_ray pid=2612)\u001b[0m 4 MnCl2 + O2 + 3.333 Y2O3 -> 2.667 YCl3 + 4 YMnO3 is not in list\n",
      "\u001b[2m\u001b[36m(_get_balanced_paths_ray pid=2612)\u001b[0m 1.25 Mn2O3 + YCl3 -> 1.5 MnCl2 + 0.375 O2 + YMnO3 is not in list\n",
      "\u001b[2m\u001b[36m(_get_balanced_paths_ray pid=2612)\u001b[0m 0.5 Li2CO3 + 0.5 YCl3 -> 0.5 CO2 + LiCl + 0.5 YClO is not in list\n",
      "\u001b[2m\u001b[36m(_get_balanced_paths_ray pid=2612)\u001b[0m 4 MnCl2 + O2 + 10 YClO -> 6 YCl3 + 4 YMnO3 is not in list\n",
      "\u001b[2m\u001b[36m(_get_balanced_paths_ray pid=2612)\u001b[0m 1.25 Mn2O3 + YCl3 -> 1.5 MnCl2 + 0.375 O2 + YMnO3 is not in list\n",
      "\u001b[2m\u001b[36m(_get_balanced_paths_ray pid=2612)\u001b[0m 0.6667 MnCl2 + O2 + 0.6667 YCl3 -> 1.667 Cl2 + 0.6667 YMnO3 is not in list\n",
      "\u001b[2m\u001b[36m(_get_balanced_paths_ray pid=2612)\u001b[0m Cl2 + Li2CO3 -> CO2 + 2 LiCl + 0.5 O2 is not in list\n"
     ]
    }
   ],
   "source": [
    "output = run_locally(flow)"
   ]
  },
  {
   "cell_type": "code",
   "execution_count": 176,
   "id": "e65db85e",
   "metadata": {},
   "outputs": [],
   "source": [
    "a = output['76c73394-8020-464d-b7e8-21d23bd4e77e'][1].output.balanced_paths.get_paths()[0]"
   ]
  },
  {
   "cell_type": "code",
   "execution_count": 186,
   "id": "4d3a0c9a",
   "metadata": {},
   "outputs": [
    {
     "ename": "IndexError",
     "evalue": "list index out of range",
     "output_type": "error",
     "traceback": [
      "\u001b[0;31m---------------------------------------------------------------------------\u001b[0m",
      "\u001b[0;31mIndexError\u001b[0m                                Traceback (most recent call last)",
      "Cell \u001b[0;32mIn [186], line 1\u001b[0m\n\u001b[0;32m----> 1\u001b[0m \u001b[43ma\u001b[49m\u001b[38;5;241;43m.\u001b[39;49m\u001b[43mreactions\u001b[49m\u001b[43m[\u001b[49m\u001b[38;5;241;43m0\u001b[39;49m\u001b[43m]\u001b[49m\u001b[38;5;241;43m.\u001b[39;49m\u001b[43mentries\u001b[49m\u001b[43m[\u001b[49m\u001b[38;5;241;43m5\u001b[39;49m\u001b[43m]\u001b[49m\u001b[38;5;241m.\u001b[39mdata\n",
      "\u001b[0;31mIndexError\u001b[0m: list index out of range"
     ]
    }
   ],
   "source": [
    "a.reactions[0].entries[5].data"
   ]
  },
  {
   "cell_type": "code",
   "execution_count": 90,
   "id": "3f3dcb71",
   "metadata": {},
   "outputs": [
    {
     "data": {
      "text/plain": [
       "rxn_network.reactions.computed.ComputedReaction"
      ]
     },
     "execution_count": 90,
     "metadata": {},
     "output_type": "execute_result"
    }
   ],
   "source": [
    "list(output[flow.all_uuids[-2]][1].output.network.rxns.get_rxns())[0].__class__"
   ]
  },
  {
   "cell_type": "markdown",
   "id": "80feacb7",
   "metadata": {},
   "source": [
    "### Thank you!\n",
    "\n",
    "If any errors with the reaction-network code are encountered, please raise an Issue here: https://github.com/GENESIS-EFRC/reaction-network/issues"
   ]
  },
  {
   "cell_type": "code",
   "execution_count": null,
   "id": "ac328ad2",
   "metadata": {},
   "outputs": [],
   "source": [
    "from maggma.stores import MongoStore\n",
    "from rxn_network.pathways.pathway_set import PathwaySet"
   ]
  },
  {
   "cell_type": "code",
   "execution_count": null,
   "id": "32103621",
   "metadata": {},
   "outputs": [],
   "source": [
    "ms = MongoStore.from_db_file(\"/Users/mcdermott/db_rn.json\")\n",
    "ms.connect()"
   ]
  },
  {
   "cell_type": "code",
   "execution_count": null,
   "id": "77090687",
   "metadata": {},
   "outputs": [],
   "source": [
    "d = ms.query_one({\"task_id\":82}, [\"balanced_pathways\"])"
   ]
  },
  {
   "cell_type": "code",
   "execution_count": null,
   "id": "bdb972e1",
   "metadata": {},
   "outputs": [],
   "source": [
    "pset = PathwaySet.from_dict(d[\"balanced_pathways\"])"
   ]
  }
 ],
 "metadata": {
  "kernelspec": {
   "display_name": "Python 3 (ipykernel)",
   "language": "python",
   "name": "python3"
  },
  "language_info": {
   "codemirror_mode": {
    "name": "ipython",
    "version": 3
   },
   "file_extension": ".py",
   "mimetype": "text/x-python",
   "name": "python",
   "nbconvert_exporter": "python",
   "pygments_lexer": "ipython3",
   "version": "3.10.5"
  }
 },
 "nbformat": 4,
 "nbformat_minor": 5
}
