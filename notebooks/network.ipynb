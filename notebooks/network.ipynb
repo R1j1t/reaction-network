{
 "cells": [
  {
   "cell_type": "markdown",
   "id": "61b45e58",
   "metadata": {},
   "source": [
    "# reaction-network (Demo Notebook): Networks\n",
    "\n",
    "### Author: Matthew McDermott\n",
    "Last Updated: 08/23/22\n",
    "\n",
    "The code provided in this notebook is an updated walkthrough of the first example (YMnO3) in the accompanying manuscript (see citation below). The refactored `reaction-network` package contains similar code to what was released with the manuscript; however, many processes/functions are now separated into their own defined classes/methods. For a look at the previous demo notebook (which also contained some of the raw results that went into the manuscript), please check out the _archived_ folder.\n",
    "\n",
    "**If you use this code or Python package in your work, please consider citing the following paper:**\n",
    "\n",
    "McDermott, M. J., Dwaraknath, S. S., and Persson, K. A. (2021). A graph-based network for predicting chemical reaction pathways in solid-state materials synthesis. \n",
    "Nature Communications, 12(1). https://doi.org/10.1038/s41467-021-23339-x"
   ]
  },
  {
   "cell_type": "markdown",
   "id": "47f5bc5b",
   "metadata": {},
   "source": [
    "### Imports"
   ]
  },
  {
   "cell_type": "code",
   "execution_count": 1,
   "id": "77eb7928",
   "metadata": {},
   "outputs": [
    {
     "name": "stderr",
     "output_type": "stream",
     "text": [
      "/Users/mcdermott/opt/miniconda3/envs/rn_dev2/lib/python3.10/site-packages/pymatgen/analysis/phase_diagram.py:26: TqdmExperimentalWarning: Using `tqdm.autonotebook.tqdm` in notebook mode. Use `tqdm.tqdm` instead to force console mode (e.g. in jupyter console)\n",
      "  from tqdm.autonotebook import tqdm\n"
     ]
    }
   ],
   "source": [
    "import logging \n",
    "\n",
    "from mp_api.client import MPRester\n",
    "from pymatgen.core.composition import Element\n",
    "from pymatgen.analysis.phase_diagram import PhaseDiagram, PDPlotter\n",
    "from monty.serialization import loadfn\n",
    "\n",
    "from rxn_network.costs.softplus import Softplus\n",
    "from rxn_network.thermo.chempot_diagram import ChemicalPotentialDiagram\n",
    "from rxn_network.core.composition import Composition\n",
    "from pymatgen.core.composition import Composition, Element\n",
    "from rxn_network.entries.entry_set import GibbsEntrySet\n",
    "from rxn_network.network.network import ReactionNetwork\n",
    "from rxn_network.entries.nist import NISTReferenceEntry\n",
    "from rxn_network.reactions.computed import ComputedReaction\n",
    "from rxn_network.reactions.reaction_set import ReactionSet\n",
    "from rxn_network.reactions.open import OpenComputedReaction\n",
    "from rxn_network.network.entry import NetworkEntry, NetworkEntryType\n",
    "from rxn_network.network.visualize import plot_network_on_graphistry, plot_network\n",
    "from rxn_network.pathways.solver import PathwaySolver\n",
    "from rxn_network.enumerators.basic import BasicEnumerator, BasicOpenEnumerator\n",
    "from rxn_network.enumerators.minimize import MinimizeGibbsEnumerator, MinimizeGrandPotentialEnumerator\n",
    "\n",
    "#import graphistry\n",
    "\n",
    "%load_ext autoreload\n",
    "%autoreload 2\n",
    "\n",
    "logging.info(\"Logging initialized\")"
   ]
  },
  {
   "cell_type": "markdown",
   "id": "fd15278f",
   "metadata": {},
   "source": [
    "### Case Study: YMnO3 assisted metathesis"
   ]
  },
  {
   "cell_type": "markdown",
   "id": "6b798814",
   "metadata": {},
   "source": [
    "We will be using the assisted metathesis synthesis of YMnO3 as a case study for the reaction network code. This is the first example discussed in the original manuscript. The assisted metathesis reaction reported by Todd & Neilson (JACS, 2019) corresponds to a net reaction equation:\n",
    "\n",
    "$$ Mn_2O_3 + 2 YCl_3 + 3Li_2CO_3 \\to 2YMnO_3 + 6LiCl + 3CO_2 $$\n",
    "\n",
    "In the paper, they report a reaction pathway involving the formation of intermediates LiMnO2 and YOCl. These react to form YMnO3 product and LiCl byproduct. (The CO2 is released when Li2CO3 reacts initially to form LiMnO2)."
   ]
  },
  {
   "cell_type": "markdown",
   "id": "7c2282bf",
   "metadata": {},
   "source": [
    "### Downloading and modifying entries\n",
    "\n",
    "First, we acquire entries for phases in the Y-Mn-O-Li-Cl-C chemical system from the Materials Project (MP), a computed materials database containing calculations for over 130,000 materials."
   ]
  },
  {
   "cell_type": "code",
   "execution_count": 2,
   "id": "44d6c072",
   "metadata": {},
   "outputs": [],
   "source": [
    "# with MPRester() as mpr:  # insert your Materials Project API key here\n",
    "#     entries = mpr.get_entries_in_chemsys(\"Y-Mn-O-C-Cl-Li\")"
   ]
  },
  {
   "cell_type": "code",
   "execution_count": 3,
   "id": "ed212730",
   "metadata": {},
   "outputs": [],
   "source": [
    "# from monty.serialization import dumpfn\n",
    "# dumpfn(entries, \"entries.json.gz\")"
   ]
  },
  {
   "cell_type": "code",
   "execution_count": 14,
   "id": "3aff12aa",
   "metadata": {},
   "outputs": [],
   "source": [
    "entries = loadfn(\"entries.json.gz\")"
   ]
  },
  {
   "cell_type": "markdown",
   "id": "f16c4523",
   "metadata": {},
   "source": [
    "The `GibbsEntrySet` class allows us to automatically converet `ComputedStructureEntry` objects downloaded from the MP database into `GibbsComputedEntry` objects, where DFT-calculated energies have been converted to machine learning (ML)-estimated equivalent values of the Gibbs free energies of formation, $\\Delta G_f$ for all entries at the specified temperature. \n",
    "\n",
    "For more information, check out the citation in the documentation for `GibbsComputedEntry`."
   ]
  },
  {
   "cell_type": "code",
   "execution_count": 15,
   "id": "81dc252c",
   "metadata": {},
   "outputs": [],
   "source": [
    "temp = 900  # units: Kelvin\n",
    "entry_set = GibbsEntrySet.from_entries(entries, temp)"
   ]
  },
  {
   "cell_type": "markdown",
   "id": "560515ce",
   "metadata": {},
   "source": [
    "The `GibbsEntrySet` class has many helpful functions, such as the following `filter_by_stability()` function, which automatically removes entries which are a specified energy per atom above the convex hull of stability:"
   ]
  },
  {
   "cell_type": "code",
   "execution_count": 16,
   "id": "8529fd0a",
   "metadata": {},
   "outputs": [
    {
     "data": {
      "text/plain": [
       "[GibbsComputedEntry | mp-569304 | C4 (C)\n",
       " Gibbs Energy (900 K) = 0.0000,\n",
       " GibbsComputedEntry | mp-1214283 | C40 Cl32 (C5Cl4)\n",
       " Gibbs Energy (900 K) = -2.6421,\n",
       " GibbsComputedEntry | mp-1214294 | C28 Cl32 (C7Cl8)\n",
       " Gibbs Energy (900 K) = -1.8837,\n",
       " NISTReferenceEntry | CO2\n",
       " Gibbs Energy (900 K) = -4.1016,\n",
       " GibbsComputedEntry | mp-1008394 | Cl4 (Cl2)\n",
       " Gibbs Energy (900 K) = 0.0000,\n",
       " GibbsComputedEntry | mp-1018134 | Li3 (Li)\n",
       " Gibbs Energy (900 K) = 0.0000,\n",
       " NISTReferenceEntry | Li2CO3\n",
       " Gibbs Energy (900 K) = -9.9542,\n",
       " GibbsComputedEntry | mp-760097 | Li8 Mn8 C8 O28 (Li2Mn2C2O7)\n",
       " Gibbs Energy (900 K) = -82.6655,\n",
       " GibbsComputedEntry | mp-758215 | Li8 Mn4 C4 O16 (Li2MnCO4)\n",
       " Gibbs Energy (900 K) = -53.0994,\n",
       " GibbsComputedEntry | mp-18988 | Li8 Mn4 O12 (Li2MnO3)\n",
       " Gibbs Energy (900 K) = -40.0030,\n",
       " NISTReferenceEntry | Li2O\n",
       " Gibbs Energy (900 K) = -4.9774,\n",
       " GibbsComputedEntry | mp-1180721 | Li4 C1 O4 (Li4CO4)\n",
       " Gibbs Energy (900 K) = -15.1456,\n",
       " GibbsComputedEntry | mp-530177 | Li10 Mn14 O32 (Li5Mn7O16)\n",
       " Gibbs Energy (900 K) = -86.3207,\n",
       " NISTReferenceEntry | LiC\n",
       " Gibbs Energy (900 K) = -0.2401,\n",
       " GibbsComputedEntry | mp-1021323 | Li1 C12 (LiC12)\n",
       " Gibbs Energy (900 K) = -0.8730,\n",
       " GibbsComputedEntry | mp-1190287 | Li4 C4 O8 (LiCO2)\n",
       " Gibbs Energy (900 K) = -24.6502,\n",
       " NISTReferenceEntry | LiCl\n",
       " Gibbs Energy (900 K) = -3.4730,\n",
       " GibbsComputedEntry | mp-1097867 | Li6 Mn12 O24 (LiMn2O4)\n",
       " Gibbs Energy (900 K) = -65.0890,\n",
       " GibbsComputedEntry | mp-758472 | Li4 Mn4 C4 O16 (LiMnCO4)\n",
       " Gibbs Energy (900 K) = -44.0252,\n",
       " GibbsComputedEntry | mp-754656 | Li2 Mn2 O4 (LiMnO2)\n",
       " Gibbs Energy (900 K) = -13.3236,\n",
       " GibbsComputedEntry | mp-35 | Mn29 (Mn)\n",
       " Gibbs Energy (900 K) = 0.0000,\n",
       " GibbsComputedEntry | mp-1172875 | Mn32 O48 (Mn2O3)\n",
       " Gibbs Energy (900 K) = -121.0591,\n",
       " GibbsComputedEntry | mp-18759 | Mn6 O8 (Mn3O4)\n",
       " Gibbs Energy (900 K) = -22.0535,\n",
       " GibbsComputedEntry | mp-25773 | Mn16 Cl6 O20 (Mn8Cl3O10)\n",
       " Gibbs Energy (900 K) = -61.0694,\n",
       " GibbsComputedEntry | mp-28233 | Mn1 Cl2 (MnCl2)\n",
       " Gibbs Energy (900 K) = -3.1770,\n",
       " GibbsComputedEntry | mp-999539 | Mn4 O4 (MnO)\n",
       " Gibbs Energy (900 K) = -12.5274,\n",
       " GibbsComputedEntry | mp-1272141 | Mn1 O2 (MnO2)\n",
       " Gibbs Energy (900 K) = -3.9507,\n",
       " GibbsComputedEntry | mp-12957 | O8 (O2)\n",
       " Gibbs Energy (900 K) = 0.0000,\n",
       " GibbsComputedEntry | mp-1187739 | Y3 (Y)\n",
       " Gibbs Energy (900 K) = 0.0000,\n",
       " GibbsComputedEntry | mp-1197605 | Y10 Mn13 C18 (Y10Mn13C18)\n",
       " Gibbs Energy (900 K) = -13.1919,\n",
       " GibbsComputedEntry | mp-1207824 | Y12 Mn5 C15 (Y12(MnC3)5)\n",
       " Gibbs Energy (900 K) = -12.2255,\n",
       " GibbsComputedEntry | mp-1334 | Y2 C1 (Y2C)\n",
       " Gibbs Energy (900 K) = -0.8791,\n",
       " GibbsComputedEntry | mp-18831 | Y4 Mn4 O14 (Y2Mn2O7)\n",
       " Gibbs Energy (900 K) = -52.1371,\n",
       " GibbsComputedEntry | mp-1207480 | Y4 Mn2 C8 (Y2MnC4)\n",
       " Gibbs Energy (900 K) = -4.2755,\n",
       " GibbsComputedEntry | mp-2652 | Y16 O24 (Y2O3)\n",
       " Gibbs Energy (900 K) = -139.2071,\n",
       " GibbsComputedEntry | mp-9459 | Y8 C10 (Y4C5)\n",
       " Gibbs Energy (900 K) = -6.4245,\n",
       " GibbsComputedEntry | mp-1200885 | Y16 C28 (Y4C7)\n",
       " Gibbs Energy (900 K) = -14.4728,\n",
       " GibbsComputedEntry | mp-1206889 | Y2 C2 Cl2 (YCCl)\n",
       " Gibbs Energy (900 K) = -7.4832,\n",
       " GibbsComputedEntry | mp-27455 | Y2 Cl6 (YCl3)\n",
       " Gibbs Energy (900 K) = -18.2558,\n",
       " GibbsComputedEntry | mp-552120 | Y2 Cl2 O2 (YClO)\n",
       " Gibbs Energy (900 K) = -18.1465,\n",
       " GibbsComputedEntry | mp-22508 | Y1 Mn12 (YMn12)\n",
       " Gibbs Energy (900 K) = -0.0997,\n",
       " GibbsComputedEntry | mp-510598 | Y4 Mn8 O20 (YMn2O5)\n",
       " Gibbs Energy (900 K) = -68.6480,\n",
       " GibbsComputedEntry | mp-19385 | Y6 Mn6 O18 (YMnO3)\n",
       " Gibbs Energy (900 K) = -76.9563]"
      ]
     },
     "execution_count": 16,
     "metadata": {},
     "output_type": "execute_result"
    }
   ],
   "source": [
    "entry_set = entry_set.filter_by_stability(0.00)\n",
    "entry_set.entries_list"
   ]
  },
  {
   "cell_type": "markdown",
   "id": "b8463b6c",
   "metadata": {},
   "source": [
    "In this case, we remove all entries which are unstable (above an energy cutoff of 10 meV/atom), which greatly reduces the combinatorial complexity of the system."
   ]
  },
  {
   "cell_type": "markdown",
   "id": "c633c24d",
   "metadata": {},
   "source": [
    "## Building the reaction network\n",
    "\n",
    "The reaction network can be initialized by providing 3 arguments to the `ReactionNetwork` class:\n",
    "\n",
    "1. **entries:** iterable of entry-like objects (e.g., `GibbsComputedEntry`)\n",
    "2. **enumerators:** iterable of enumerators which will be called during the build of the network\n",
    "3. **cost_function:** the function used to calculate the cost of each reaction edge \n",
    "\n",
    "We will use a BasicEnumerator (see the **Enumerators Demo Notebook** for more information on the type of enumerators available):"
   ]
  },
  {
   "cell_type": "code",
   "execution_count": 17,
   "id": "0bc4d165",
   "metadata": {},
   "outputs": [],
   "source": [
    "be = BasicEnumerator()"
   ]
  },
  {
   "cell_type": "code",
   "execution_count": 18,
   "id": "fc09e59c",
   "metadata": {
    "scrolled": false
   },
   "outputs": [
    {
     "name": "stderr",
     "output_type": "stream",
     "text": [
      "100%|████████████████████████████████████████████████████████████████████████████████████████████████████████████████████████████████████████████████| 54/54 [00:09<00:00,  5.93it/s]\n"
     ]
    }
   ],
   "source": [
    "rxns = be.enumerate(entry_set)"
   ]
  },
  {
   "cell_type": "code",
   "execution_count": 19,
   "id": "28765505",
   "metadata": {},
   "outputs": [
    {
     "data": {
      "text/plain": [
       "[1.333 Mn2O3 + 0.6667 Mn8Cl3O10 -> Cl2 + 2.667 Mn3O4,\n",
       " Cl2 + 2.667 Mn3O4 -> 1.333 Mn2O3 + 0.6667 Mn8Cl3O10,\n",
       " 0.1429 MnO + 0.2857 Mn8Cl3O10 -> Mn2O3 + 0.4286 MnCl2,\n",
       " Mn2O3 + 0.4286 MnCl2 -> 0.1429 MnO + 0.2857 Mn8Cl3O10,\n",
       " 2.667 MnO + 0.6667 Mn8Cl3O10 -> MnCl2 + 2.333 Mn3O4,\n",
       " MnCl2 + 2.333 Mn3O4 -> 2.667 MnO + 0.6667 Mn8Cl3O10,\n",
       " 0.05 Mn + 0.3 Mn8Cl3O10 -> Mn2O3 + 0.45 MnCl2,\n",
       " Mn2O3 + 0.45 MnCl2 -> 0.05 Mn + 0.3 Mn8Cl3O10,\n",
       " 0.2 Mn + 0.1 Mn8Cl3O10 -> MnO + 0.15 Cl2,\n",
       " MnO + 0.15 Cl2 -> 0.2 Mn + 0.1 Mn8Cl3O10,\n",
       " 0.35 Mn + 0.1 Mn8Cl3O10 -> MnO + 0.15 MnCl2,\n",
       " MnO + 0.15 MnCl2 -> 0.35 Mn + 0.1 Mn8Cl3O10,\n",
       " 0.6667 Mn + 0.6667 Mn8Cl3O10 -> MnCl2 + 1.667 Mn3O4,\n",
       " MnCl2 + 1.667 Mn3O4 -> 0.6667 Mn + 0.6667 Mn8Cl3O10,\n",
       " 0.8125 Cl2 + 0.125 Mn8Cl3O10 -> MnCl2 + 0.625 O2,\n",
       " MnCl2 + 0.625 O2 -> 0.8125 Cl2 + 0.125 Mn8Cl3O10,\n",
       " 0.5 Cl2 + 0.3333 Mn8Cl3O10 -> MnCl2 + 1.667 MnO2,\n",
       " MnCl2 + 1.667 MnO2 -> 0.5 Cl2 + 0.3333 Mn8Cl3O10,\n",
       " 0.25 Mn8Cl3O10 + 0.125 Mn3O4 -> Mn2O3 + 0.375 MnCl2,\n",
       " Mn2O3 + 0.375 MnCl2 -> 0.25 Mn8Cl3O10 + 0.125 Mn3O4,\n",
       " 0.2 MnCl2 + 0.1 Mn8Cl3O10 -> MnO + 0.35 Cl2,\n",
       " MnO + 0.35 Cl2 -> 0.2 MnCl2 + 0.1 Mn8Cl3O10,\n",
       " 0.6667 Mn8Cl3O10 + 0.6667 O2 -> Cl2 + 2.667 Mn2O3,\n",
       " Cl2 + 2.667 Mn2O3 -> 0.6667 Mn8Cl3O10 + 0.6667 O2,\n",
       " 0.6667 Mn8Cl3O10 + 0.2222 O2 -> Cl2 + 1.778 Mn3O4,\n",
       " Cl2 + 1.778 Mn3O4 -> 0.6667 Mn8Cl3O10 + 0.2222 O2,\n",
       " 0.6667 Mn8Cl3O10 + 2 O2 -> Cl2 + 5.333 MnO2,\n",
       " Cl2 + 5.333 MnO2 -> 0.6667 Mn8Cl3O10 + 2 O2,\n",
       " 0.6667 Mn8Cl3O10 + O2 -> MnCl2 + 4.333 MnO2,\n",
       " MnCl2 + 4.333 MnO2 -> 0.6667 Mn8Cl3O10 + O2,\n",
       " 0.6667 Mn8Cl3O10 + 2.667 MnO2 -> Cl2 + 4 Mn2O3,\n",
       " Cl2 + 4 Mn2O3 -> 0.6667 Mn8Cl3O10 + 2.667 MnO2,\n",
       " 0.6667 Mn8Cl3O10 + 0.6667 MnO2 -> Cl2 + 2 Mn3O4,\n",
       " Cl2 + 2 Mn3O4 -> 0.6667 Mn8Cl3O10 + 0.6667 MnO2,\n",
       " Cl2 + 0.5 Mn2O3 -> MnCl2 + 0.75 O2,\n",
       " MnCl2 + 0.75 O2 -> Cl2 + 0.5 Mn2O3,\n",
       " Cl2 + 2 Mn2O3 -> MnCl2 + 3 MnO2,\n",
       " MnCl2 + 3 MnO2 -> Cl2 + 2 Mn2O3,\n",
       " 0.3333 Mn2O3 + 0.3333 MnCl2 -> MnO + 0.3333 Cl2,\n",
       " MnO + 0.3333 Cl2 -> 0.3333 Mn2O3 + 0.3333 MnCl2,\n",
       " 4 Mn2O3 + MnCl2 -> Cl2 + 3 Mn3O4,\n",
       " Cl2 + 3 Mn3O4 -> 4 Mn2O3 + MnCl2,\n",
       " 4 MnO + Cl2 -> MnCl2 + Mn3O4,\n",
       " MnCl2 + Mn3O4 -> 4 MnO + Cl2,\n",
       " MnO + Cl2 -> MnCl2 + 0.5 O2,\n",
       " MnCl2 + 0.5 O2 -> MnO + Cl2,\n",
       " 2 MnO + Cl2 -> MnCl2 + MnO2,\n",
       " MnCl2 + MnO2 -> 2 MnO + Cl2,\n",
       " Cl2 + 0.3333 Mn3O4 -> MnCl2 + 0.6667 O2,\n",
       " MnCl2 + 0.6667 O2 -> Cl2 + 0.3333 Mn3O4,\n",
       " Cl2 + Mn3O4 -> MnCl2 + 2 MnO2,\n",
       " MnCl2 + 2 MnO2 -> Cl2 + Mn3O4,\n",
       " Cl2 + MnO2 -> MnCl2 + O2,\n",
       " MnCl2 + O2 -> Cl2 + MnO2,\n",
       " LiC12 -> LiC + 11 C,\n",
       " LiC + 11 C -> LiC12,\n",
       " LiC12 -> Li + 12 C,\n",
       " Li + 12 C -> LiC12,\n",
       " 12 LiC -> LiC12 + 11 Li,\n",
       " LiC12 + 11 Li -> 12 LiC,\n",
       " LiC -> Li + C,\n",
       " Li + C -> LiC,\n",
       " 0.25 Y4C5 -> Y + 1.25 C,\n",
       " Y + 1.25 C -> 0.25 Y4C5,\n",
       " 0.875 Y4C5 -> Y + 0.625 Y4C7,\n",
       " Y + 0.625 Y4C7 -> 0.875 Y4C5,\n",
       " 0.3333 Y4C5 -> C + 0.6667 Y2C,\n",
       " C + 0.6667 Y2C -> 0.3333 Y4C5,\n",
       " 1.667 Y4C5 -> Y4C7 + 1.333 Y2C,\n",
       " Y4C7 + 1.333 Y2C -> 1.667 Y4C5,\n",
       " 0.8333 Y2C -> Y + 0.1667 Y4C5,\n",
       " Y + 0.1667 Y4C5 -> 0.8333 Y2C,\n",
       " 0.5 Y2C -> Y + 0.5 C,\n",
       " Y + 0.5 C -> 0.5 Y2C,\n",
       " 0.7 Y2C -> Y + 0.1 Y4C7,\n",
       " Y + 0.1 Y4C7 -> 0.7 Y2C,\n",
       " 0.25 Y4C7 -> Y + 1.75 C,\n",
       " Y + 1.75 C -> 0.25 Y4C7,\n",
       " Y4C7 -> Y4C5 + 2 C,\n",
       " Y4C5 + 2 C -> Y4C7,\n",
       " 0.2 Y4C7 -> C + 0.4 Y2C,\n",
       " C + 0.4 Y2C -> 0.2 Y4C7,\n",
       " 0.5 Y2O3 -> Y + 0.75 O2,\n",
       " Y + 0.75 O2 -> 0.5 Y2O3,\n",
       " 0.5 C5Cl4 -> Cl2 + 2.5 C,\n",
       " Cl2 + 2.5 C -> 0.5 C5Cl4,\n",
       " 0.6667 C5Cl4 -> C + 0.3333 C7Cl8,\n",
       " C + 0.3333 C7Cl8 -> 0.6667 C5Cl4,\n",
       " 0.8333 C7Cl8 -> Cl2 + 1.167 C5Cl4,\n",
       " Cl2 + 1.167 C5Cl4 -> 0.8333 C7Cl8,\n",
       " 0.25 C7Cl8 -> Cl2 + 1.75 C,\n",
       " Cl2 + 1.75 C -> 0.25 C7Cl8,\n",
       " MnCl2 -> Cl2 + Mn,\n",
       " Cl2 + Mn -> MnCl2,\n",
       " 2 LiCl -> Cl2 + 2 Li,\n",
       " Cl2 + 2 Li -> 2 LiCl,\n",
       " 0.6667 YCl3 -> Cl2 + 0.6667 Y,\n",
       " Cl2 + 0.6667 Y -> 0.6667 YCl3,\n",
       " 2 Y + 0.5 C5Cl4 -> Cl2 + 0.5 Y4C5,\n",
       " Cl2 + 0.5 Y4C5 -> 2 Y + 0.5 C5Cl4,\n",
       " 5 Y + 0.5 C5Cl4 -> Cl2 + 2.5 Y2C,\n",
       " Cl2 + 2.5 Y2C -> 5 Y + 0.5 C5Cl4,\n",
       " 1.429 Y + 0.5 C5Cl4 -> Cl2 + 0.3571 Y4C7,\n",
       " Cl2 + 0.3571 Y4C7 -> 1.429 Y + 0.5 C5Cl4,\n",
       " 4 Y + 3.333 C5Cl4 -> Y4C5 + 1.667 C7Cl8,\n",
       " Y4C5 + 1.667 C7Cl8 -> 4 Y + 3.333 C5Cl4,\n",
       " 5.333 Y + C5Cl4 -> Y4C5 + 1.333 YCl3,\n",
       " Y4C5 + 1.333 YCl3 -> 5.333 Y + C5Cl4,\n",
       " 24 Y + 5 C5Cl4 -> Y4C5 + 20 YCCl,\n",
       " Y4C5 + 20 YCCl -> 24 Y + 5 C5Cl4,\n",
       " 6 Y + 2 C5Cl4 -> C7Cl8 + 3 Y2C,\n",
       " C7Cl8 + 3 Y2C -> 6 Y + 2 C5Cl4,\n",
       " 4 Y + 4.667 C5Cl4 -> Y4C7 + 2.333 C7Cl8,\n",
       " Y4C7 + 2.333 C7Cl8 -> 4 Y + 4.667 C5Cl4,\n",
       " 8.5 Y + 0.75 C5Cl4 -> YCl3 + 3.75 Y2C,\n",
       " YCl3 + 3.75 Y2C -> 8.5 Y + 0.75 C5Cl4,\n",
       " 1.5 Y + 0.25 C5Cl4 -> YCCl + 0.25 Y2C,\n",
       " YCCl + 0.25 Y2C -> 1.5 Y + 0.25 C5Cl4,\n",
       " 0.2667 Y + 0.2 C5Cl4 -> C + 0.2667 YCl3,\n",
       " C + 0.2667 YCl3 -> 0.2667 Y + 0.2 C5Cl4,\n",
       " 5.867 Y + 1.4 C5Cl4 -> Y4C7 + 1.867 YCl3,\n",
       " Y4C7 + 1.867 YCl3 -> 5.867 Y + 1.4 C5Cl4,\n",
       " Y + 0.25 C5Cl4 -> YCCl + 0.25 C,\n",
       " YCCl + 0.25 C -> Y + 0.25 C5Cl4,\n",
       " 32 Y + 7 C5Cl4 -> Y4C7 + 28 YCCl,\n",
       " Y4C7 + 28 YCCl -> 32 Y + 7 C5Cl4,\n",
       " 1.4 Y + 0.25 C7Cl8 -> Cl2 + 0.35 Y4C5,\n",
       " Cl2 + 0.35 Y4C5 -> 1.4 Y + 0.25 C7Cl8,\n",
       " 3.5 Y + 0.25 C7Cl8 -> Cl2 + 1.75 Y2C,\n",
       " Cl2 + 1.75 Y2C -> 3.5 Y + 0.25 C7Cl8,\n",
       " Y + 0.25 C7Cl8 -> Cl2 + 0.25 Y4C7,\n",
       " Cl2 + 0.25 Y4C7 -> Y + 0.25 C7Cl8,\n",
       " 14 Y + 2 C7Cl8 -> Cl2 + 14 YCCl,\n",
       " Cl2 + 14 YCCl -> 14 Y + 2 C7Cl8,\n",
       " 5.905 Y + 0.7143 C7Cl8 -> Y4C5 + 1.905 YCl3,\n",
       " Y4C5 + 1.905 YCl3 -> 5.905 Y + 0.7143 C7Cl8,\n",
       " 0.5714 Y + 0.7143 C7Cl8 -> C5Cl4 + 0.5714 YCl3,\n",
       " C5Cl4 + 0.5714 YCl3 -> 0.5714 Y + 0.7143 C7Cl8,\n",
       " 6.25 Y + 0.375 C7Cl8 -> YCl3 + 2.625 Y2C,\n",
       " YCl3 + 2.625 Y2C -> 6.25 Y + 0.375 C7Cl8,\n",
       " 0.381 Y + 0.1429 C7Cl8 -> C + 0.381 YCl3,\n",
       " C + 0.381 YCl3 -> 0.381 Y + 0.1429 C7Cl8,\n",
       " 6.667 Y + C7Cl8 -> Y4C7 + 2.667 YCl3,\n",
       " Y4C7 + 2.667 YCl3 -> 6.667 Y + C7Cl8,\n",
       " 1.048 Y + 0.1429 C7Cl8 -> YCCl + 0.04762 YCl3,\n",
       " YCCl + 0.04762 YCl3 -> 1.048 Y + 0.1429 C7Cl8,\n",
       " 2 Y + 2 YCCl -> Cl2 + 2 Y2C,\n",
       " Cl2 + 2 Y2C -> 2 Y + 2 YCCl,\n",
       " 0.6667 Y + 5 YCCl -> Y4C5 + 1.667 YCl3,\n",
       " Y4C5 + 1.667 YCl3 -> 0.6667 Y + 5 YCCl,\n",
       " 4 Y + 3 YCCl -> YCl3 + 3 Y2C,\n",
       " YCl3 + 3 Y2C -> 4 Y + 3 YCCl,\n",
       " 2 Cl2 + 1.667 Y4C5 -> C5Cl4 + 3.333 Y2C,\n",
       " C5Cl4 + 3.333 Y2C -> 2 Cl2 + 1.667 Y4C5,\n",
       " 8 Cl2 + Y4C5 -> C5Cl4 + 4 YCl3,\n",
       " C5Cl4 + 4 YCl3 -> 8 Cl2 + Y4C5,\n",
       " 12 Cl2 + 5 Y4C5 -> C5Cl4 + 20 YCCl,\n",
       " C5Cl4 + 20 YCCl -> 12 Cl2 + 5 Y4C5,\n",
       " 4 Cl2 + 2.333 Y4C5 -> C7Cl8 + 4.667 Y2C,\n",
       " C7Cl8 + 4.667 Y2C -> 4 Cl2 + 2.333 Y4C5,\n",
       " 12.4 Cl2 + 1.4 Y4C5 -> C7Cl8 + 5.6 YCl3,\n",
       " C7Cl8 + 5.6 YCl3 -> 12.4 Cl2 + 1.4 Y4C5,\n",
       " 0.6429 Cl2 + 0.25 Y4C5 -> YCCl + 0.03571 C7Cl8,\n",
       " YCCl + 0.03571 C7Cl8 -> 0.6429 Cl2 + 0.25 Y4C5,\n",
       " 1.2 Cl2 + 0.2 Y4C5 -> C + 0.8 YCl3,\n",
       " C + 0.8 YCl3 -> 1.2 Cl2 + 0.2 Y4C5,\n",
       " 2.4 Cl2 + 1.4 Y4C5 -> Y4C7 + 1.6 YCl3,\n",
       " Y4C7 + 1.6 YCl3 -> 2.4 Cl2 + 1.4 Y4C5,\n",
       " 0.5 Cl2 + 0.25 Y4C5 -> YCCl + 0.25 C,\n",
       " YCCl + 0.25 C -> 0.5 Cl2 + 0.25 Y4C5,\n",
       " 4 Cl2 + 3 Y4C5 -> Y4C7 + 8 YCCl,\n",
       " Y4C7 + 8 YCCl -> 4 Cl2 + 3 Y4C5,\n",
       " 9 Cl2 + 5 Y2C -> Y4C5 + 6 YCl3,\n",
       " Y4C5 + 6 YCl3 -> 9 Cl2 + 5 Y2C,\n",
       " 17 Cl2 + 5 Y2C -> C5Cl4 + 10 YCl3,\n",
       " C5Cl4 + 10 YCl3 -> 17 Cl2 + 5 Y2C,\n",
       " 25 Cl2 + 7 Y2C -> C7Cl8 + 14 YCl3,\n",
       " C7Cl8 + 14 YCl3 -> 25 Cl2 + 7 Y2C,\n",
       " 3 Cl2 + Y2C -> C + 2 YCl3,\n",
       " C + 2 YCl3 -> 3 Cl2 + Y2C,\n",
       " 15 Cl2 + 7 Y2C -> Y4C7 + 10 YCl3,\n",
       " Y4C7 + 10 YCl3 -> 15 Cl2 + 7 Y2C,\n",
       " 2 Cl2 + Y2C -> YCCl + YCl3,\n",
       " YCCl + YCl3 -> 2 Cl2 + Y2C,\n",
       " 2 Cl2 + 2.5 Y4C7 -> C5Cl4 + 2.5 Y4C5,\n",
       " C5Cl4 + 2.5 Y4C5 -> 2 Cl2 + 2.5 Y4C7,\n",
       " 1.143 Cl2 + Y4C7 -> Y4C5 + 0.2857 C7Cl8,\n",
       " Y4C5 + 0.2857 C7Cl8 -> 1.143 Cl2 + Y4C7,\n",
       " 2 Cl2 + Y4C7 -> C5Cl4 + 2 Y2C,\n",
       " C5Cl4 + 2 Y2C -> 2 Cl2 + Y4C7,\n",
       " 6.286 Cl2 + 0.7143 Y4C7 -> C5Cl4 + 2.857 YCl3,\n",
       " C5Cl4 + 2.857 YCl3 -> 6.286 Cl2 + 0.7143 Y4C7,\n",
       " 5.333 Cl2 + 1.667 Y4C7 -> C5Cl4 + 6.667 YCCl,\n",
       " C5Cl4 + 6.667 YCCl -> 5.333 Cl2 + 1.667 Y4C7,\n",
       " 4 Cl2 + 1.4 Y4C7 -> C7Cl8 + 2.8 Y2C,\n",
       " C7Cl8 + 2.8 Y2C -> 4 Cl2 + 1.4 Y4C7,\n",
       " 10 Cl2 + Y4C7 -> C7Cl8 + 4 YCl3,\n",
       " C7Cl8 + 4 YCl3 -> 10 Cl2 + Y4C7,\n",
       " 0.9286 Cl2 + 0.25 Y4C7 -> YCCl + 0.1071 C7Cl8,\n",
       " YCCl + 0.1071 C7Cl8 -> 0.9286 Cl2 + 0.25 Y4C7,\n",
       " 0.8571 Cl2 + 0.1429 Y4C7 -> C + 0.5714 YCl3,\n",
       " C + 0.5714 YCl3 -> 0.8571 Cl2 + 0.1429 Y4C7,\n",
       " 0.5 Cl2 + 0.25 Y4C7 -> YCCl + 0.75 C,\n",
       " YCCl + 0.75 C -> 0.5 Cl2 + 0.25 Y4C7,\n",
       " 7 Cl2 + 5 YCCl -> C5Cl4 + 5 YCl3,\n",
       " C5Cl4 + 5 YCl3 -> 7 Cl2 + 5 YCCl,\n",
       " 11 Cl2 + 7 YCCl -> C7Cl8 + 7 YCl3,\n",
       " C7Cl8 + 7 YCl3 -> 11 Cl2 + 7 YCCl,\n",
       " Cl2 + YCCl -> C + YCl3,\n",
       " C + YCl3 -> Cl2 + YCCl,\n",
       " Cl2 + 7 YCCl -> Y4C7 + 3 YCl3,\n",
       " Y4C7 + 3 YCl3 -> Cl2 + 7 YCCl,\n",
       " 1.333 C5Cl4 + Y4C5 -> Y4C7 + 0.6667 C7Cl8,\n",
       " Y4C7 + 0.6667 C7Cl8 -> 1.333 C5Cl4 + Y4C5,\n",
       " 0.15 C5Cl4 + 0.05 Y4C5 -> C + 0.2 YCl3,\n",
       " C + 0.2 YCl3 -> 0.15 C5Cl4 + 0.05 Y4C5,\n",
       " 0.3 C5Cl4 + 1.1 Y4C5 -> Y4C7 + 0.4 YCl3,\n",
       " Y4C7 + 0.4 YCl3 -> 0.3 C5Cl4 + 1.1 Y4C5,\n",
       " 0.25 C5Cl4 + 0.25 Y4C5 -> YCCl + 1.5 C,\n",
       " YCCl + 1.5 C -> 0.25 C5Cl4 + 0.25 Y4C5,\n",
       " 0.3333 C5Cl4 + 1.333 Y4C5 -> Y4C7 + 1.333 YCCl,\n",
       " Y4C7 + 1.333 YCCl -> 0.3333 C5Cl4 + 1.333 Y4C5,\n",
       " 0.5 Y4C5 + 0.5 C7Cl8 -> C5Cl4 + Y2C,\n",
       " C5Cl4 + Y2C -> 0.5 Y4C5 + 0.5 C7Cl8,\n",
       " 0.09677 Y4C5 + 0.6452 C7Cl8 -> C5Cl4 + 0.3871 YCl3,\n",
       " C5Cl4 + 0.3871 YCl3 -> 0.09677 Y4C5 + 0.6452 C7Cl8,\n",
       " 0.3333 Y4C5 + 0.6667 C7Cl8 -> C5Cl4 + 1.333 YCCl,\n",
       " C5Cl4 + 1.333 YCCl -> 0.3333 Y4C5 + 0.6667 C7Cl8,\n",
       " 0.06452 Y4C5 + 0.09677 C7Cl8 -> C + 0.2581 YCl3,\n",
       " C + 0.2581 YCl3 -> 0.06452 Y4C5 + 0.09677 C7Cl8,\n",
       " 1.129 Y4C5 + 0.1935 C7Cl8 -> Y4C7 + 0.5161 YCl3,\n",
       " Y4C7 + 0.5161 YCl3 -> 1.129 Y4C5 + 0.1935 C7Cl8,\n",
       " 0.25 Y4C5 + 0.125 C7Cl8 -> YCCl + 1.125 C,\n",
       " YCCl + 1.125 C -> 0.25 Y4C5 + 0.125 C7Cl8,\n",
       " 1.444 Y4C5 + 0.2222 C7Cl8 -> Y4C7 + 1.778 YCCl,\n",
       " Y4C7 + 1.778 YCCl -> 1.444 Y4C5 + 0.2222 C7Cl8,\n",
       " 1.889 Y4C5 + 1.333 YCl3 -> C5Cl4 + 4.444 Y2C,\n",
       " C5Cl4 + 4.444 Y2C -> 1.889 Y4C5 + 1.333 YCl3,\n",
       " 2.778 Y4C5 + 2.667 YCl3 -> C7Cl8 + 6.889 Y2C,\n",
       " C7Cl8 + 6.889 Y2C -> 2.778 Y4C5 + 2.667 YCl3,\n",
       " 0.2222 Y4C5 + 0.3333 YCl3 -> YCCl + 0.1111 Y2C,\n",
       " YCCl + 0.1111 Y2C -> 0.2222 Y4C5 + 0.3333 YCl3,\n",
       " Y4C5 + 4 YCCl -> C5Cl4 + 4 Y2C,\n",
       " C5Cl4 + 4 Y2C -> Y4C5 + 4 YCCl,\n",
       " Y4C5 + 8 YCCl -> C7Cl8 + 6 Y2C,\n",
       " C7Cl8 + 6 Y2C -> Y4C5 + 8 YCCl,\n",
       " 3.333 C5Cl4 + 2 Y2C -> Y4C7 + 1.667 C7Cl8,\n",
       " Y4C7 + 1.667 C7Cl8 -> 3.333 C5Cl4 + 2 Y2C,\n",
       " 0.1765 C5Cl4 + 0.1176 Y2C -> C + 0.2353 YCl3,\n",
       " C + 0.2353 YCl3 -> 0.1765 C5Cl4 + 0.1176 Y2C,\n",
       " 0.8824 C5Cl4 + 2.588 Y2C -> Y4C7 + 1.176 YCl3,\n",
       " Y4C7 + 1.176 YCl3 -> 0.8824 C5Cl4 + 2.588 Y2C,\n",
       " 0.25 C5Cl4 + 0.5 Y2C -> YCCl + 0.75 C,\n",
       " YCCl + 0.75 C -> 0.25 C5Cl4 + 0.5 Y2C,\n",
       " 1.667 C5Cl4 + 5.333 Y2C -> Y4C7 + 6.667 YCCl,\n",
       " Y4C7 + 6.667 YCCl -> 1.667 C5Cl4 + 5.333 Y2C,\n",
       " 1.471 C5Cl4 + 0.7059 YCl3 -> C7Cl8 + 0.3529 Y2C,\n",
       " C7Cl8 + 0.3529 Y2C -> 1.471 C5Cl4 + 0.7059 YCl3,\n",
       " 11.67 C5Cl4 + 4 YCl3 -> Y4C7 + 7.333 C7Cl8,\n",
       " Y4C7 + 7.333 C7Cl8 -> 11.67 C5Cl4 + 4 YCl3,\n",
       " 1.833 C5Cl4 + YCl3 -> YCCl + 1.167 C7Cl8,\n",
       " YCCl + 1.167 C7Cl8 -> 1.833 C5Cl4 + YCl3,\n",
       " 0.1364 C5Cl4 + 0.04545 Y4C7 -> C + 0.1818 YCl3,\n",
       " C + 0.1818 YCl3 -> 0.1364 C5Cl4 + 0.04545 Y4C7,\n",
       " 0.25 C5Cl4 + 0.25 Y4C7 -> YCCl + 2 C,\n",
       " YCCl + 2 C -> 0.25 C5Cl4 + 0.25 Y4C7,\n",
       " C5Cl4 + 4 YCCl -> C7Cl8 + 2 Y2C,\n",
       " C7Cl8 + 2 Y2C -> C5Cl4 + 4 YCCl,\n",
       " 4.333 C5Cl4 + 4 YCCl -> Y4C7 + 2.667 C7Cl8,\n",
       " Y4C7 + 2.667 C7Cl8 -> 4.333 C5Cl4 + 4 YCCl,\n",
       " 0.1429 C5Cl4 + 0.2857 YCCl -> C + 0.2857 YCl3,\n",
       " C + 0.2857 YCl3 -> 0.1429 C5Cl4 + 0.2857 YCCl,\n",
       " 0.1429 C5Cl4 + 6.286 YCCl -> Y4C7 + 2.286 YCl3,\n",
       " Y4C7 + 2.286 YCl3 -> 0.1429 C5Cl4 + 6.286 YCCl,\n",
       " 0.12 C7Cl8 + 0.16 Y2C -> C + 0.32 YCl3,\n",
       " C + 0.32 YCl3 -> 0.12 C7Cl8 + 0.16 Y2C,\n",
       " 0.6 C7Cl8 + 2.8 Y2C -> Y4C7 + 1.6 YCl3,\n",
       " Y4C7 + 1.6 YCl3 -> 0.6 C7Cl8 + 2.8 Y2C,\n",
       " 0.125 C7Cl8 + 0.5 Y2C -> YCCl + 0.375 C,\n",
       " YCCl + 0.375 C -> 0.125 C7Cl8 + 0.5 Y2C,\n",
       " 1.667 C7Cl8 + 8.667 Y2C -> Y4C7 + 13.33 YCCl,\n",
       " Y4C7 + 13.33 YCCl -> 1.667 C7Cl8 + 8.667 Y2C,\n",
       " 0.05714 Y4C7 + 0.08571 C7Cl8 -> C + 0.2286 YCl3,\n",
       " C + 0.2286 YCl3 -> 0.05714 Y4C7 + 0.08571 C7Cl8,\n",
       " 0.25 Y4C7 + 0.125 C7Cl8 -> YCCl + 1.625 C,\n",
       " YCCl + 1.625 C -> 0.25 Y4C7 + 0.125 C7Cl8,\n",
       " 0.3636 YCCl + 0.09091 C7Cl8 -> C + 0.3636 YCl3,\n",
       " C + 0.3636 YCl3 -> 0.3636 YCCl + 0.09091 C7Cl8,\n",
       " 6.364 YCCl + 0.09091 C7Cl8 -> Y4C7 + 2.364 YCl3,\n",
       " Y4C7 + 2.364 YCl3 -> 6.364 YCCl + 0.09091 C7Cl8,\n",
       " 0.1667 Y4C7 + 0.3333 YCl3 -> YCCl + 0.1667 C,\n",
       " YCCl + 0.1667 C -> 0.1667 Y4C7 + 0.3333 YCl3,\n",
       " 0.5 Li2O -> Li + 0.25 O2,\n",
       " Li + 0.25 O2 -> 0.5 Li2O,\n",
       " 0.3333 Y12(MnC3)5 -> Y4C5 + 1.667 Mn,\n",
       " Y4C5 + 1.667 Mn -> 0.3333 Y12(MnC3)5,\n",
       " 0.08145 YMn12 + 0.004525 Y12(MnC3)5 -> Mn + 0.06787 Y2C,\n",
       " Mn + 0.06787 Y2C -> 0.08145 YMn12 + 0.004525 Y12(MnC3)5,\n",
       " 0.5833 YMn12 + 1.2 Y12(MnC3)5 -> Y10Mn13C18 + 4.983 Y,\n",
       " Y10Mn13C18 + 4.983 Y -> 0.5833 YMn12 + 1.2 Y12(MnC3)5,\n",
       " 0.4706 YMn12 + 1.471 Y12(MnC3)5 -> Y10Mn13C18 + 4.059 Y2C,\n",
       " Y10Mn13C18 + 4.059 Y2C -> 0.4706 YMn12 + 1.471 Y12(MnC3)5,\n",
       " 9.267 Mn + 0.06667 Y12(MnC3)5 -> C + 0.8 YMn12,\n",
       " C + 0.8 YMn12 -> 9.267 Mn + 0.06667 Y12(MnC3)5,\n",
       " 16.87 Mn + 0.4667 Y12(MnC3)5 -> Y4C7 + 1.6 YMn12,\n",
       " Y4C7 + 1.6 YMn12 -> 16.87 Mn + 0.4667 Y12(MnC3)5,\n",
       " 11.72 Mn + 0.2222 Y12(MnC3)5 -> YMn12 + 0.8333 Y2MnC4,\n",
       " YMn12 + 0.8333 Y2MnC4 -> 11.72 Mn + 0.2222 Y12(MnC3)5,\n",
       " 59.8 Mn + 1.2 Y12(MnC3)5 -> Y10Mn13C18 + 4.4 YMn12,\n",
       " Y10Mn13C18 + 4.4 YMn12 -> 59.8 Mn + 1.2 Y12(MnC3)5,\n",
       " 7 Mn + 1.2 Y12(MnC3)5 -> Y10Mn13C18 + 4.4 Y,\n",
       " Y10Mn13C18 + 4.4 Y -> 7 Mn + 1.2 Y12(MnC3)5,\n",
       " 5.778 Mn + 1.444 Y12(MnC3)5 -> Y10Mn13C18 + 3.667 Y2C,\n",
       " Y10Mn13C18 + 3.667 Y2C -> 5.778 Mn + 1.444 Y12(MnC3)5,\n",
       " 0.1389 Y + 0.3333 Y12(MnC3)5 -> Y4C5 + 0.1389 YMn12,\n",
       " Y4C5 + 0.1389 YMn12 -> 0.1389 Y + 0.3333 Y12(MnC3)5,\n",
       " 44.2 Y + 2.4 Y12(MnC3)5 -> YMn12 + 36 Y2C,\n",
       " YMn12 + 36 Y2C -> 44.2 Y + 2.4 Y12(MnC3)5,\n",
       " 3.6 Y + 0.2 Y12(MnC3)5 -> Mn + 3 Y2C,\n",
       " Mn + 3 Y2C -> 3.6 Y + 0.2 Y12(MnC3)5,\n",
       " 20.8 Y + 2.6 Y12(MnC3)5 -> Y10Mn13C18 + 21 Y2C,\n",
       " Y10Mn13C18 + 21 Y2C -> 20.8 Y + 2.6 Y12(MnC3)5,\n",
       " 0.1667 Y4C5 + 0.1667 Y12(MnC3)5 -> Y + 0.8333 Y2MnC4,\n",
       " Y + 0.8333 Y2MnC4 -> 0.1667 Y4C5 + 0.1667 Y12(MnC3)5,\n",
       " 0.4 Y4C5 + 0.2 Y12(MnC3)5 -> Y2C + Y2MnC4,\n",
       " Y2C + Y2MnC4 -> 0.4 Y4C5 + 0.2 Y12(MnC3)5,\n",
       " 0.1131 Y2C + 0.3258 Y12(MnC3)5 -> Y4C5 + 0.1357 YMn12,\n",
       " Y4C5 + 0.1357 YMn12 -> 0.1131 Y2C + 0.3258 Y12(MnC3)5,\n",
       " 0.4167 Y2C + 0.08333 Y12(MnC3)5 -> Y + 0.4167 Y2MnC4,\n",
       " Y + 0.4167 Y2MnC4 -> 0.4167 Y2C + 0.08333 Y12(MnC3)5,\n",
       " 1.82 C + 0.3453 Y12(MnC3)5 -> Y4C7 + 0.1439 YMn12,\n",
       " Y4C7 + 0.1439 YMn12 -> 1.82 C + 0.3453 Y12(MnC3)5,\n",
       " 1.2 C + 0.2 Y12(MnC3)5 -> Mn + 0.6 Y4C7,\n",
       " Mn + 0.6 Y4C7 -> 1.2 C + 0.2 Y12(MnC3)5,\n",
       " 2.5 C + 0.5 Y12(MnC3)5 -> Y + 2.5 Y2MnC4,\n",
       " Y + 2.5 Y2MnC4 -> 2.5 C + 0.5 Y12(MnC3)5,\n",
       " 15 C + 2 Y12(MnC3)5 -> Y4C5 + 10 Y2MnC4,\n",
       " Y4C5 + 10 Y2MnC4 -> 15 C + 2 Y12(MnC3)5,\n",
       " 1.038 C + 0.4906 Y12(MnC3)5 -> Y4C5 + 0.1887 Y10Mn13C18,\n",
       " Y4C5 + 0.1887 Y10Mn13C18 -> 1.038 C + 0.4906 Y12(MnC3)5,\n",
       " 6 C + Y12(MnC3)5 -> Y2C + 5 Y2MnC4,\n",
       " Y2C + 5 Y2MnC4 -> 6 C + Y12(MnC3)5,\n",
       " 17 C + 2 Y12(MnC3)5 -> Y4C7 + 10 Y2MnC4,\n",
       " Y4C7 + 10 Y2MnC4 -> 17 C + 2 Y12(MnC3)5,\n",
       " 16.1 C + 2.6 Y12(MnC3)5 -> Y10Mn13C18 + 5.3 Y4C7,\n",
       " Y10Mn13C18 + 5.3 Y4C7 -> 16.1 C + 2.6 Y12(MnC3)5,\n",
       " 0.1471 Y4C7 + 0.2059 Y12(MnC3)5 -> Y + 1.029 Y2MnC4,\n",
       " Y + 1.029 Y2MnC4 -> 0.1471 Y4C7 + 0.2059 Y12(MnC3)5,\n",
       " 0.8824 Y4C7 + 0.2353 Y12(MnC3)5 -> Y4C5 + 1.176 Y2MnC4,\n",
       " Y4C5 + 1.176 Y2MnC4 -> 0.8824 Y4C7 + 0.2353 Y12(MnC3)5,\n",
       " 0.3416 Y4C7 + 0.323 Y12(MnC3)5 -> Y4C5 + 0.1242 Y10Mn13C18,\n",
       " Y4C5 + 0.1242 Y10Mn13C18 -> 0.3416 Y4C7 + 0.323 Y12(MnC3)5,\n",
       " 0.3529 Y4C7 + 0.2941 Y12(MnC3)5 -> Y2C + 1.471 Y2MnC4,\n",
       " Y2C + 1.471 Y2MnC4 -> 0.3529 Y4C7 + 0.2941 Y12(MnC3)5,\n",
       " 0.1469 Y12(MnC3)5 + 1.199 Y2MnC4 -> Y4C7 + 0.1611 YMn12,\n",
       " Y4C7 + 0.1611 YMn12 -> 0.1469 Y12(MnC3)5 + 1.199 Y2MnC4,\n",
       " 0.05882 Y12(MnC3)5 + 0.7059 Y2MnC4 -> Mn + 0.5294 Y4C7,\n",
       " Mn + 0.5294 Y4C7 -> 0.05882 Y12(MnC3)5 + 0.7059 Y2MnC4,\n",
       " 0.3784 Y12(MnC3)5 + 0.7432 Y2MnC4 -> Y4C5 + 0.2027 Y10Mn13C18,\n",
       " Y4C5 + 0.2027 Y10Mn13C18 -> 0.3784 Y12(MnC3)5 + 0.7432 Y2MnC4,\n",
       " 0.7059 Y12(MnC3)5 + 9.471 Y2MnC4 -> Y10Mn13C18 + 4.353 Y4C7,\n",
       " Y10Mn13C18 + 4.353 Y4C7 -> 0.7059 Y12(MnC3)5 + 9.471 Y2MnC4,\n",
       " 0.2821 Y10Mn13C18 + 0.1282 Y12(MnC3)5 -> Y4C7 + 0.359 YMn12,\n",
       " Y4C7 + 0.359 YMn12 -> 0.2821 Y10Mn13C18 + 0.1282 Y12(MnC3)5,\n",
       " 0.07453 Y10Mn13C18 + 0.006211 Y12(MnC3)5 -> Mn + 0.205 Y4C7,\n",
       " Mn + 0.205 Y4C7 -> 0.07453 Y10Mn13C18 + 0.006211 Y12(MnC3)5,\n",
       " 0.01389 Y4C5 + 0.08333 YMn12 -> Mn + 0.06944 Y2C,\n",
       " Mn + 0.06944 Y2C -> 0.01389 Y4C5 + 0.08333 YMn12,\n",
       " 0.6234 Y4C5 + 0.06494 YMn12 -> Y + 0.7792 Y2MnC4,\n",
       " Y + 0.7792 Y2MnC4 -> 0.6234 Y4C5 + 0.06494 YMn12,\n",
       " 3.6 Y4C5 + 1.083 YMn12 -> Y10Mn13C18 + 5.483 Y,\n",
       " Y10Mn13C18 + 5.483 Y -> 3.6 Y4C5 + 1.083 YMn12,\n",
       " 0.9481 Y4C5 + 0.07792 YMn12 -> Y2C + 0.9351 Y2MnC4,\n",
       " Y2C + 0.9351 Y2MnC4 -> 0.9481 Y4C5 + 0.07792 YMn12,\n",
       " 4.514 Y4C5 + 1.083 YMn12 -> Y10Mn13C18 + 4.569 Y2C,\n",
       " Y10Mn13C18 + 4.569 Y2C -> 4.514 Y4C5 + 1.083 YMn12,\n",
       " 0.0137 YMn12 + 0.6575 Y2C -> Y + 0.1644 Y2MnC4,\n",
       " Y + 0.1644 Y2MnC4 -> 0.0137 YMn12 + 0.6575 Y2C,\n",
       " 1.083 YMn12 + 18 Y2C -> Y10Mn13C18 + 27.08 Y,\n",
       " Y10Mn13C18 + 27.08 Y -> 1.083 YMn12 + 18 Y2C,\n",
       " 5 C + 4 YMn12 -> Y4C5 + 48 Mn,\n",
       " Y4C5 + 48 Mn -> 5 C + 4 YMn12,\n",
       " 0.04167 C + 0.08333 YMn12 -> Mn + 0.04167 Y2C,\n",
       " Mn + 0.04167 Y2C -> 0.04167 C + 0.08333 YMn12,\n",
       " 0.1458 C + 0.08333 YMn12 -> Mn + 0.02083 Y4C7,\n",
       " Mn + 0.02083 Y4C7 -> 0.1458 C + 0.08333 YMn12,\n",
       " 0.1739 C + 0.08696 YMn12 -> Mn + 0.04348 Y2MnC4,\n",
       " Mn + 0.04348 Y2MnC4 -> 0.1739 C + 0.08696 YMn12,\n",
       " 0.1682 C + 0.09346 YMn12 -> Mn + 0.009346 Y10Mn13C18,\n",
       " Mn + 0.009346 Y10Mn13C18 -> 0.1682 C + 0.09346 YMn12,\n",
       " 0.7143 Y4C7 + 1.143 YMn12 -> Y4C5 + 13.71 Mn,\n",
       " Y4C5 + 13.71 Mn -> 0.7143 Y4C7 + 1.143 YMn12,\n",
       " 0.008333 Y4C7 + 0.08333 YMn12 -> Mn + 0.05833 Y2C,\n",
       " Mn + 0.05833 Y2C -> 0.008333 Y4C7 + 0.08333 YMn12,\n",
       " 1.548 Y4C7 + 0.2258 YMn12 -> Y + 2.71 Y2MnC4,\n",
       " Y + 2.71 Y2MnC4 -> 1.548 Y4C7 + 0.2258 YMn12,\n",
       " 2.571 Y4C7 + 1.083 YMn12 -> Y10Mn13C18 + 1.369 Y,\n",
       " Y10Mn13C18 + 1.369 Y -> 2.571 Y4C7 + 1.083 YMn12,\n",
       " 2.484 Y4C7 + 0.2581 YMn12 -> Y4C5 + 3.097 Y2MnC4,\n",
       " Y4C5 + 3.097 Y2MnC4 -> 2.484 Y4C7 + 0.2581 YMn12,\n",
       " 2.861 Y4C7 + 0.9043 YMn12 -> Y4C5 + 0.8348 Y10Mn13C18,\n",
       " Y4C5 + 0.8348 Y10Mn13C18 -> 2.861 Y4C7 + 0.9043 YMn12,\n",
       " 2.355 Y4C7 + 0.3226 YMn12 -> Y2C + 3.871 Y2MnC4,\n",
       " Y2C + 3.871 Y2MnC4 -> 2.355 Y4C7 + 0.3226 YMn12,\n",
       " 2.708 Y4C7 + 1.083 YMn12 -> Y10Mn13C18 + 0.9583 Y2C,\n",
       " Y10Mn13C18 + 0.9583 Y2C -> 2.708 Y4C7 + 1.083 YMn12,\n",
       " 1.5 YMn12 + 1.25 Y2MnC4 -> Y4C5 + 19.25 Mn,\n",
       " Y4C5 + 19.25 Mn -> 1.5 YMn12 + 1.25 Y2MnC4,\n",
       " 0.08219 YMn12 + 0.0137 Y2MnC4 -> Mn + 0.05479 Y2C,\n",
       " Mn + 0.05479 Y2C -> 0.08219 YMn12 + 0.0137 Y2MnC4,\n",
       " 0.06452 YMn12 + 0.2258 Y2MnC4 -> Mn + 0.129 Y4C7,\n",
       " Mn + 0.129 Y4C7 -> 0.06452 YMn12 + 0.2258 Y2MnC4,\n",
       " 0.2857 YMn12 + 1.286 Y2MnC4 -> Mn + 0.2857 Y10Mn13C18,\n",
       " Mn + 0.2857 Y10Mn13C18 -> 0.2857 YMn12 + 1.286 Y2MnC4,\n",
       " 1.143 YMn12 + 7.643 Y2MnC4 -> C + 1.643 Y10Mn13C18,\n",
       " C + 1.643 Y10Mn13C18 -> 1.143 YMn12 + 7.643 Y2MnC4,\n",
       " 0.2778 Y10Mn13C18 + 1.222 YMn12 -> Y4C5 + 18.28 Mn,\n",
       " Y4C5 + 18.28 Mn -> 0.2778 Y10Mn13C18 + 1.222 YMn12,\n",
       " 0.003077 Y10Mn13C18 + 0.08 YMn12 -> Mn + 0.05538 Y2C,\n",
       " Mn + 0.05538 Y2C -> 0.003077 Y10Mn13C18 + 0.08 YMn12,\n",
       " 0.06087 Y10Mn13C18 + 0.01739 YMn12 -> Mn + 0.1565 Y4C7,\n",
       " Mn + 0.1565 Y4C7 -> 0.06087 Y10Mn13C18 + 0.01739 YMn12,\n",
       " 0.6667 Y4C5 + 0.8333 Mn -> Y + 0.8333 Y2MnC4,\n",
       " Y + 0.8333 Y2MnC4 -> 0.6667 Y4C5 + 0.8333 Mn,\n",
       " 3.6 Y4C5 + 13 Mn -> Y10Mn13C18 + 4.4 Y,\n",
       " Y10Mn13C18 + 4.4 Y -> 3.6 Y4C5 + 13 Mn,\n",
       " Y4C5 + Mn -> Y2C + Y2MnC4,\n",
       " Y2C + Y2MnC4 -> Y4C5 + Mn,\n",
       " 4.333 Y4C5 + 13 Mn -> Y10Mn13C18 + 3.667 Y2C,\n",
       " Y10Mn13C18 + 3.667 Y2C -> 4.333 Y4C5 + 13 Mn,\n",
       " 0.1667 Mn + 0.6667 Y2C -> Y + 0.1667 Y2MnC4,\n",
       " Y + 0.1667 Y2MnC4 -> 0.1667 Mn + 0.6667 Y2C,\n",
       " 13 Mn + 18 Y2C -> Y10Mn13C18 + 26 Y,\n",
       " Y10Mn13C18 + 26 Y -> 13 Mn + 18 Y2C,\n",
       " 3.5 Mn + 2 Y4C7 -> Y + 3.5 Y2MnC4,\n",
       " Y + 3.5 Y2MnC4 -> 3.5 Mn + 2 Y4C7,\n",
       " 13 Mn + 2.571 Y4C7 -> Y10Mn13C18 + 0.2857 Y,\n",
       " Y10Mn13C18 + 0.2857 Y -> 13 Mn + 2.571 Y4C7,\n",
       " 4 Mn + 3 Y4C7 -> Y4C5 + 4 Y2MnC4,\n",
       " Y4C5 + 4 Y2MnC4 -> 4 Mn + 3 Y4C7,\n",
       " 52 Mn + 11 Y4C7 -> Y4C5 + 4 Y10Mn13C18,\n",
       " Y4C5 + 4 Y10Mn13C18 -> 52 Mn + 11 Y4C7,\n",
       " 5 Mn + 3 Y4C7 -> Y2C + 5 Y2MnC4,\n",
       " Y2C + 5 Y2MnC4 -> 5 Mn + 3 Y4C7,\n",
       " 13 Mn + 2.6 Y4C7 -> Y10Mn13C18 + 0.2 Y2C,\n",
       " Y10Mn13C18 + 0.2 Y2C -> 13 Mn + 2.6 Y4C7,\n",
       " 4 Mn + 2.5 Y2MnC4 -> C + 0.5 Y10Mn13C18,\n",
       " C + 0.5 Y10Mn13C18 -> 4 Mn + 2.5 Y2MnC4,\n",
       " 1.647 Y + 1.912 Y2MnC4 -> Y4C5 + 0.1471 Y10Mn13C18,\n",
       " Y4C5 + 0.1471 Y10Mn13C18 -> 1.647 Y + 1.912 Y2MnC4,\n",
       " 52 Y + 13 Y2MnC4 -> Y10Mn13C18 + 34 Y2C,\n",
       " Y10Mn13C18 + 34 Y2C -> 52 Y + 13 Y2MnC4,\n",
       " 3.429 Y + 13 Y2MnC4 -> Y10Mn13C18 + 4.857 Y4C7,\n",
       " Y10Mn13C18 + 4.857 Y4C7 -> 3.429 Y + 13 Y2MnC4,\n",
       " 3 Y4C5 + 13 Y2MnC4 -> Y10Mn13C18 + 7 Y4C7,\n",
       " Y10Mn13C18 + 7 Y4C7 -> 3 Y4C5 + 13 Y2MnC4,\n",
       " 0.9286 Y4C5 + 0.1071 Y10Mn13C18 -> Y2C + 1.393 Y2MnC4,\n",
       " Y2C + 1.393 Y2MnC4 -> 0.9286 Y4C5 + 0.1071 Y10Mn13C18,\n",
       " 2.4 Y2C + 13 Y2MnC4 -> Y10Mn13C18 + 5.2 Y4C7,\n",
       " Y10Mn13C18 + 5.2 Y4C7 -> 2.4 Y2C + 13 Y2MnC4,\n",
       " 2 YMnO3 -> Mn2O3 + Y2O3,\n",
       " Mn2O3 + Y2O3 -> 2 YMnO3,\n",
       " YMn2O5 -> YMnO3 + MnO2,\n",
       " YMnO3 + MnO2 -> YMn2O5,\n",
       " 2 YMn2O5 -> Mn2O3 + Y2Mn2O7,\n",
       " Mn2O3 + Y2Mn2O7 -> 2 YMn2O5,\n",
       " 2 Y2Mn2O7 -> O2 + 4 YMnO3,\n",
       " O2 + 4 YMnO3 -> 2 Y2Mn2O7,\n",
       " 0.5 Y2Mn2O7 -> MnO2 + 0.5 Y2O3,\n",
       " MnO2 + 0.5 Y2O3 -> 0.5 Y2Mn2O7,\n",
       " Mn2O3 + YMnO3 -> MnO + YMn2O5,\n",
       " MnO + YMn2O5 -> Mn2O3 + YMnO3,\n",
       " Mn2O3 + 2 YMnO3 -> Y2Mn2O7 + 2 MnO,\n",
       " Y2Mn2O7 + 2 MnO -> Mn2O3 + 2 YMnO3,\n",
       " 0.641 Mn2O3 + 1.026 YMnO3 -> YMn2O5 + 0.02564 YMn12,\n",
       " YMn2O5 + 0.02564 YMn12 -> 0.641 Mn2O3 + 1.026 YMnO3,\n",
       " 0.2821 Mn2O3 + 2.051 YMnO3 -> Y2Mn2O7 + 0.05128 YMn12,\n",
       " Y2Mn2O7 + 0.05128 YMn12 -> 0.2821 Mn2O3 + 2.051 YMnO3,\n",
       " 0.5641 Mn2O3 + 0.1026 YMnO3 -> O2 + 0.1026 YMn12,\n",
       " O2 + 0.1026 YMn12 -> 0.5641 Mn2O3 + 0.1026 YMnO3,\n",
       " 25 Mn2O3 + YMnO3 -> YMn12 + 39 MnO2,\n",
       " YMn12 + 39 MnO2 -> 25 Mn2O3 + YMnO3,\n",
       " 0.6667 Mn2O3 + YMnO3 -> YMn2O5 + 0.3333 Mn,\n",
       " YMn2O5 + 0.3333 Mn -> 0.6667 Mn2O3 + YMnO3,\n",
       " Mn2O3 + 4 YMnO3 -> Y + 3 YMn2O5,\n",
       " Y + 3 YMn2O5 -> Mn2O3 + 4 YMnO3,\n",
       " 2 Mn2O3 + YMnO3 -> YMn2O5 + Mn3O4,\n",
       " YMn2O5 + Mn3O4 -> 2 Mn2O3 + YMnO3,\n",
       " 0.3333 Mn2O3 + 2 YMnO3 -> Y2Mn2O7 + 0.6667 Mn,\n",
       " Y2Mn2O7 + 0.6667 Mn -> 0.3333 Mn2O3 + 2 YMnO3,\n",
       " 3 Mn2O3 + 2 YMnO3 -> Y2Mn2O7 + 2 Mn3O4,\n",
       " Y2Mn2O7 + 2 Mn3O4 -> 3 Mn2O3 + 2 YMnO3,\n",
       " Mn2O3 + YMnO3 -> Y + 3 MnO2,\n",
       " Y + 3 MnO2 -> Mn2O3 + YMnO3,\n",
       " 2.786 MnO + 0.07143 YMnO3 -> Mn2O3 + 0.07143 YMn12,\n",
       " Mn2O3 + 0.07143 YMn12 -> 2.786 MnO + 0.07143 YMnO3,\n",
       " 1.5 MnO + 0.5 YMnO3 -> Mn2O3 + 0.5 Y,\n",
       " Mn2O3 + 0.5 Y -> 1.5 MnO + 0.5 YMnO3,\n",
       " 1.786 MnO + 1.071 YMnO3 -> YMn2O5 + 0.07143 YMn12,\n",
       " YMn2O5 + 0.07143 YMn12 -> 1.786 MnO + 1.071 YMnO3,\n",
       " 0.7857 MnO + 2.071 YMnO3 -> Y2Mn2O7 + 0.07143 YMn12,\n",
       " Y2Mn2O7 + 0.07143 YMn12 -> 0.7857 MnO + 2.071 YMnO3,\n",
       " 53 MnO + YMnO3 -> YMn12 + 14 Mn3O4,\n",
       " YMn12 + 14 Mn3O4 -> 53 MnO + YMnO3,\n",
       " 1.571 MnO + 0.1429 YMnO3 -> O2 + 0.1429 YMn12,\n",
       " O2 + 0.1429 YMn12 -> 1.571 MnO + 0.1429 YMnO3,\n",
       " 25 MnO + YMnO3 -> YMn12 + 14 MnO2,\n",
       " YMn12 + 14 MnO2 -> 25 MnO + YMnO3,\n",
       " 2 MnO + YMnO3 -> YMn2O5 + Mn,\n",
       " YMn2O5 + Mn -> 2 MnO + YMnO3,\n",
       " MnO + 3 YMnO3 -> Y + 2 YMn2O5,\n",
       " Y + 2 YMn2O5 -> MnO + 3 YMnO3,\n",
       " MnO + 2 YMnO3 -> Y2Mn2O7 + Mn,\n",
       " Y2Mn2O7 + Mn -> MnO + 2 YMnO3,\n",
       " 5 MnO + YMnO3 -> Y + 2 Mn3O4,\n",
       " Y + 2 Mn3O4 -> 5 MnO + YMnO3,\n",
       " MnO + YMnO3 -> Y + 2 MnO2,\n",
       " Y + 2 MnO2 -> MnO + YMnO3,\n",
       " MnO + 2 YMnO3 -> Mn3O4 + Y2O3,\n",
       " Mn3O4 + Y2O3 -> MnO + 2 YMnO3,\n",
       " YMnO3 + 0.08333 YMn12 -> Mn2O3 + 1.083 Y,\n",
       " Mn2O3 + 1.083 Y -> YMnO3 + 0.08333 YMn12,\n",
       " 0.8571 YMnO3 + 0.1429 YMn12 -> Y + 2.571 MnO,\n",
       " Y + 2.571 MnO -> 0.8571 YMnO3 + 0.1429 YMn12,\n",
       " 0.6923 YMnO3 + 0.02564 YMn12 -> MnO + 0.359 Y2O3,\n",
       " MnO + 0.359 Y2O3 -> 0.6923 YMnO3 + 0.02564 YMn12,\n",
       " 2.4 YMnO3 + 0.04 YMn12 -> Y + 1.44 YMn2O5,\n",
       " Y + 1.44 YMn2O5 -> 2.4 YMnO3 + 0.04 YMn12,\n",
       " 0.07692 YMnO3 + 0.07692 YMn12 -> Mn + 0.07692 Y2O3,\n",
       " Mn + 0.07692 Y2O3 -> 0.07692 YMnO3 + 0.07692 YMn12,\n",
       " 0.9057 YMnO3 + 0.09434 YMn12 -> Y + 0.6792 Mn3O4,\n",
       " Y + 0.6792 Mn3O4 -> 0.9057 YMnO3 + 0.09434 YMn12,\n",
       " 0.96 YMnO3 + 0.04 YMn12 -> Y + 1.44 MnO2,\n",
       " Y + 1.44 MnO2 -> 0.96 YMnO3 + 0.04 YMn12,\n",
       " 2.692 YMnO3 + 0.02564 YMn12 -> Mn3O4 + 1.359 Y2O3,\n",
       " Mn3O4 + 1.359 Y2O3 -> 2.692 YMnO3 + 0.02564 YMn12,\n",
       " YMn2O5 + YMnO3 -> Y2Mn2O7 + MnO,\n",
       " Y2Mn2O7 + MnO -> YMn2O5 + YMnO3,\n",
       " 0.44 YMn2O5 + 1.6 YMnO3 -> Y2Mn2O7 + 0.04 YMn12,\n",
       " Y2Mn2O7 + 0.04 YMn12 -> 0.44 YMn2O5 + 1.6 YMnO3,\n",
       " 0.5 YMn2O5 + 1.5 YMnO3 -> Y2Mn2O7 + 0.5 Mn,\n",
       " Y2Mn2O7 + 0.5 Mn -> 0.5 YMn2O5 + 1.5 YMnO3,\n",
       " 1.5 YMn2O5 + 0.5 YMnO3 -> Y2Mn2O7 + 0.5 Mn3O4,\n",
       " Y2Mn2O7 + 0.5 Mn3O4 -> 1.5 YMn2O5 + 0.5 YMnO3,\n",
       " 0.5 Y2Mn2O7 + YMnO3 -> YMn2O5 + 0.5 Y2O3,\n",
       " YMn2O5 + 0.5 Y2O3 -> 0.5 Y2Mn2O7 + YMnO3,\n",
       " YMnO3 + 13 Mn -> Mn2O3 + YMn12,\n",
       " Mn2O3 + YMn12 -> YMnO3 + 13 Mn,\n",
       " YMnO3 + Mn -> Mn2O3 + Y,\n",
       " Mn2O3 + Y -> YMnO3 + Mn,\n",
       " 0.3333 YMnO3 + 4.667 Mn -> MnO + 0.3333 YMn12,\n",
       " MnO + 0.3333 YMn12 -> 0.3333 YMnO3 + 4.667 Mn,\n",
       " YMnO3 + 2 Mn -> Y + 3 MnO,\n",
       " Y + 3 MnO -> YMnO3 + 2 Mn,\n",
       " 0.6667 YMnO3 + 0.3333 Mn -> MnO + 0.3333 Y2O3,\n",
       " MnO + 0.3333 Y2O3 -> 0.6667 YMnO3 + 0.3333 Mn,\n",
       " 1.667 YMnO3 + 8.333 Mn -> YMn2O5 + 0.6667 YMn12,\n",
       " YMn2O5 + 0.6667 YMn12 -> 1.667 YMnO3 + 8.333 Mn,\n",
       " 2.333 YMnO3 + 3.667 Mn -> Y2Mn2O7 + 0.3333 YMn12,\n",
       " Y2Mn2O7 + 0.3333 YMn12 -> 2.333 YMnO3 + 3.667 Mn,\n",
       " YMnO3 + 13.25 Mn -> YMn12 + 0.75 Mn3O4,\n",
       " YMn12 + 0.75 Mn3O4 -> YMnO3 + 13.25 Mn,\n",
       " 0.6667 YMnO3 + 7.333 Mn -> O2 + 0.6667 YMn12,\n",
       " O2 + 0.6667 YMn12 -> 0.6667 YMnO3 + 7.333 Mn,\n",
       " YMnO3 + 12.5 Mn -> YMn12 + 1.5 MnO2,\n",
       " YMn12 + 1.5 MnO2 -> YMnO3 + 12.5 Mn,\n",
       " 2.5 YMnO3 + 0.5 Mn -> Y + 1.5 YMn2O5,\n",
       " Y + 1.5 YMn2O5 -> 2.5 YMnO3 + 0.5 Mn,\n",
       " YMnO3 + 1.25 Mn -> Y + 0.75 Mn3O4,\n",
       " Y + 0.75 Mn3O4 -> YMnO3 + 1.25 Mn,\n",
       " YMnO3 + 0.5 Mn -> Y + 1.5 MnO2,\n",
       " Y + 1.5 MnO2 -> YMnO3 + 0.5 Mn,\n",
       " 2.667 YMnO3 + 0.3333 Mn -> Mn3O4 + 1.333 Y2O3,\n",
       " Mn3O4 + 1.333 Y2O3 -> 2.667 YMnO3 + 0.3333 Mn,\n",
       " 0.3333 Y + YMnO3 -> MnO + 0.6667 Y2O3,\n",
       " MnO + 0.6667 Y2O3 -> 0.3333 Y + YMnO3,\n",
       " 13 Y + 12 YMnO3 -> YMn12 + 12 Y2O3,\n",
       " YMn12 + 12 Y2O3 -> 13 Y + 12 YMnO3,\n",
       " Y + YMnO3 -> Mn + Y2O3,\n",
       " Mn + Y2O3 -> Y + YMnO3,\n",
       " 0.3333 Y + 3 YMnO3 -> Mn3O4 + 1.667 Y2O3,\n",
       " Mn3O4 + 1.667 Y2O3 -> 0.3333 Y + 3 YMnO3,\n",
       " 2 YMnO3 + 0.3333 Y2O3 -> Y2Mn2O7 + 0.6667 Y,\n",
       " Y2Mn2O7 + 0.6667 Y -> 2 YMnO3 + 0.3333 Y2O3,\n",
       " 0.01887 YMnO3 + 0.7358 Mn3O4 -> Mn2O3 + 0.01887 YMn12,\n",
       " Mn2O3 + 0.01887 YMn12 -> 0.01887 YMnO3 + 0.7358 Mn3O4,\n",
       " 0.2 YMnO3 + 0.6 Mn3O4 -> Mn2O3 + 0.2 Y,\n",
       " Mn2O3 + 0.2 Y -> 0.2 YMnO3 + 0.6 Mn3O4,\n",
       " 0.5 YMnO3 + 0.5 Mn3O4 -> MnO + 0.5 YMn2O5,\n",
       " MnO + 0.5 YMn2O5 -> 0.5 YMnO3 + 0.5 Mn3O4,\n",
       " 2 YMnO3 + Mn3O4 -> Y2Mn2O7 + 3 MnO,\n",
       " Y2Mn2O7 + 3 MnO -> 2 YMnO3 + Mn3O4,\n",
       " 1.038 YMnO3 + 0.4717 Mn3O4 -> YMn2O5 + 0.03774 YMn12,\n",
       " YMn2O5 + 0.03774 YMn12 -> 1.038 YMnO3 + 0.4717 Mn3O4,\n",
       " 2.057 YMnO3 + 0.2075 Mn3O4 -> Y2Mn2O7 + 0.0566 YMn12,\n",
       " Y2Mn2O7 + 0.0566 YMn12 -> 2.057 YMnO3 + 0.2075 Mn3O4,\n",
       " 0.1132 YMnO3 + 0.4151 Mn3O4 -> O2 + 0.1132 YMn12,\n",
       " O2 + 0.1132 YMn12 -> 0.1132 YMnO3 + 0.4151 Mn3O4,\n",
       " YMnO3 + 12.5 Mn3O4 -> YMn12 + 26.5 MnO2,\n",
       " YMn12 + 26.5 MnO2 -> YMnO3 + 12.5 Mn3O4,\n",
       " YMnO3 + 0.5 Mn3O4 -> YMn2O5 + 0.5 Mn,\n",
       " YMn2O5 + 0.5 Mn -> YMnO3 + 0.5 Mn3O4,\n",
       " 3.5 YMnO3 + 0.5 Mn3O4 -> Y + 2.5 YMn2O5,\n",
       " Y + 2.5 YMn2O5 -> 3.5 YMnO3 + 0.5 Mn3O4,\n",
       " 2 YMnO3 + 0.25 Mn3O4 -> Y2Mn2O7 + 0.75 Mn,\n",
       " Y2Mn2O7 + 0.75 Mn -> 2 YMnO3 + 0.25 Mn3O4,\n",
       " YMnO3 + 0.5 Mn3O4 -> Y + 2.5 MnO2,\n",
       " Y + 2.5 MnO2 -> YMnO3 + 0.5 Mn3O4,\n",
       " 0.25 O2 + 2 YMnO3 -> YMn2O5 + 0.5 Y2O3,\n",
       " YMn2O5 + 0.5 Y2O3 -> 0.25 O2 + 2 YMnO3,\n",
       " 0.25 O2 + YMnO3 -> MnO2 + 0.5 Y2O3,\n",
       " MnO2 + 0.5 Y2O3 -> 0.25 O2 + YMnO3,\n",
       " 2 YMnO3 + 2 MnO2 -> Mn2O3 + Y2Mn2O7,\n",
       " Mn2O3 + Y2Mn2O7 -> 2 YMnO3 + 2 MnO2,\n",
       " 2 YMnO3 + MnO2 -> Y2Mn2O7 + MnO,\n",
       " Y2Mn2O7 + MnO -> 2 YMnO3 + MnO2,\n",
       " 2.04 YMnO3 + 0.44 MnO2 -> Y2Mn2O7 + 0.04 YMn12,\n",
       " Y2Mn2O7 + 0.04 YMn12 -> 2.04 YMnO3 + 0.44 MnO2,\n",
       " 0.08 YMnO3 + 0.88 MnO2 -> O2 + 0.08 YMn12,\n",
       " O2 + 0.08 YMn12 -> 0.08 YMnO3 + 0.88 MnO2,\n",
       " 2 YMnO3 + 0.5 MnO2 -> Y2Mn2O7 + 0.5 Mn,\n",
       " Y2Mn2O7 + 0.5 Mn -> 2 YMnO3 + 0.5 MnO2,\n",
       " 2 YMnO3 + 1.5 MnO2 -> Y2Mn2O7 + 0.5 Mn3O4,\n",
       " Y2Mn2O7 + 0.5 Mn3O4 -> 2 YMnO3 + 1.5 MnO2,\n",
       " 0.375 Mn2O3 + 0.025 YMn12 -> MnO + 0.025 YMn2O5,\n",
       " MnO + 0.025 YMn2O5 -> 0.375 Mn2O3 + 0.025 YMn12,\n",
       " 29 Mn2O3 + 2 YMn12 -> Y2Mn2O7 + 80 MnO,\n",
       " Y2Mn2O7 + 80 MnO -> 29 Mn2O3 + 2 YMn12,\n",
       " 12 Mn2O3 + YMn12 -> Y + 36 MnO,\n",
       " Y + 36 MnO -> 12 Mn2O3 + YMn12,\n",
       " 0.3462 Mn2O3 + 0.02564 YMn12 -> MnO + 0.01282 Y2O3,\n",
       " MnO + 0.01282 Y2O3 -> 0.3462 Mn2O3 + 0.02564 YMn12,\n",
       " 1.667 Mn2O3 + YMn12 -> YMn2O5 + 13.33 Mn,\n",
       " YMn2O5 + 13.33 Mn -> 1.667 Mn2O3 + YMn12,\n",
       " 55 Mn2O3 + YMn12 -> YMn2O5 + 40 Mn3O4,\n",
       " YMn2O5 + 40 Mn3O4 -> 55 Mn2O3 + YMn12,\n",
       " 2.333 Mn2O3 + 2 YMn12 -> Y2Mn2O7 + 26.67 Mn,\n",
       " Y2Mn2O7 + 26.67 Mn -> 2.333 Mn2O3 + 2 YMn12,\n",
       " 109 Mn2O3 + 2 YMn12 -> Y2Mn2O7 + 80 Mn3O4,\n",
       " Y2Mn2O7 + 80 Mn3O4 -> 109 Mn2O3 + 2 YMn12,\n",
       " 0.03846 Mn2O3 + 0.07692 YMn12 -> Mn + 0.03846 Y2O3,\n",
       " Mn + 0.03846 Y2O3 -> 0.03846 Mn2O3 + 0.07692 YMn12,\n",
       " 48 Mn2O3 + YMn12 -> Y + 36 Mn3O4,\n",
       " Y + 36 Mn3O4 -> 48 Mn2O3 + YMn12,\n",
       " 1.346 Mn2O3 + 0.02564 YMn12 -> Mn3O4 + 0.01282 Y2O3,\n",
       " Mn3O4 + 0.01282 Y2O3 -> 1.346 Mn2O3 + 0.02564 YMn12,\n",
       " 0.5 Mn2O3 + 0.1 YMn2O5 -> O2 + 0.1 YMn12,\n",
       " O2 + 0.1 YMn12 -> 0.5 Mn2O3 + 0.1 YMn2O5,\n",
       " 25 Mn2O3 + YMn2O5 -> YMn12 + 40 MnO2,\n",
       " YMn12 + 40 MnO2 -> 25 Mn2O3 + YMn2O5,\n",
       " Mn2O3 + YMn2O5 -> Y + 4 MnO2,\n",
       " Y + 4 MnO2 -> Mn2O3 + YMn2O5,\n",
       " 0.55 Mn2O3 + 0.05 Y2Mn2O7 -> O2 + 0.1 YMn12,\n",
       " O2 + 0.1 YMn12 -> 0.55 Mn2O3 + 0.05 Y2Mn2O7,\n",
       " 25.5 Mn2O3 + 0.5 Y2Mn2O7 -> YMn12 + 40 MnO2,\n",
       " YMn12 + 40 MnO2 -> 25.5 Mn2O3 + 0.5 Y2Mn2O7,\n",
       " 1.5 Mn2O3 + 0.5 Y2Mn2O7 -> Y + 4 MnO2,\n",
       " Y + 4 MnO2 -> 1.5 Mn2O3 + 0.5 Y2Mn2O7,\n",
       " 0.75 Mn2O3 + 0.25 Y -> MnO + 0.25 YMn2O5,\n",
       " MnO + 0.25 YMn2O5 -> 0.75 Mn2O3 + 0.25 Y,\n",
       " 5 Mn2O3 + 2 Y -> Y2Mn2O7 + 8 MnO,\n",
       " Y2Mn2O7 + 8 MnO -> 5 Mn2O3 + 2 Y,\n",
       " 0.5 Mn2O3 + 0.3333 Y -> MnO + 0.1667 Y2O3,\n",
       " MnO + 0.1667 Y2O3 -> 0.5 Mn2O3 + 0.3333 Y,\n",
       " 1.667 Mn2O3 + 1.111 Y -> YMn2O5 + 0.1111 YMn12,\n",
       " YMn2O5 + 0.1111 YMn12 -> 1.667 Mn2O3 + 1.111 Y,\n",
       " 2.333 Mn2O3 + 2.222 Y -> Y2Mn2O7 + 0.2222 YMn12,\n",
       " Y2Mn2O7 + 0.2222 YMn12 -> 2.333 Mn2O3 + 2.222 Y,\n",
       " 6 Mn2O3 + 13 Y -> YMn12 + 6 Y2O3,\n",
       " YMn12 + 6 Y2O3 -> 6 Mn2O3 + 13 Y,\n",
       " 0.6667 Mn2O3 + 0.1111 Y -> O2 + 0.1111 YMn12,\n",
       " O2 + 0.1111 YMn12 -> 0.6667 Mn2O3 + 0.1111 Y,\n",
       " 24 Mn2O3 + Y -> YMn12 + 36 MnO2,\n",
       " YMn12 + 36 MnO2 -> 24 Mn2O3 + Y,\n",
       " 1.667 Mn2O3 + Y -> YMn2O5 + 1.333 Mn,\n",
       " YMn2O5 + 1.333 Mn -> 1.667 Mn2O3 + Y,\n",
       " 7 Mn2O3 + Y -> YMn2O5 + 4 Mn3O4,\n",
       " YMn2O5 + 4 Mn3O4 -> 7 Mn2O3 + Y,\n",
       " 2.333 Mn2O3 + 2 Y -> Y2Mn2O7 + 2.667 Mn,\n",
       " Y2Mn2O7 + 2.667 Mn -> 2.333 Mn2O3 + 2 Y,\n",
       " 13 Mn2O3 + 2 Y -> Y2Mn2O7 + 8 Mn3O4,\n",
       " Y2Mn2O7 + 8 Mn3O4 -> 13 Mn2O3 + 2 Y,\n",
       " 0.5 Mn2O3 + Y -> Mn + 0.5 Y2O3,\n",
       " Mn + 0.5 Y2O3 -> 0.5 Mn2O3 + Y,\n",
       " 1.5 Mn2O3 + 0.3333 Y -> Mn3O4 + 0.1667 Y2O3,\n",
       " Mn3O4 + 0.1667 Y2O3 -> 1.5 Mn2O3 + 0.3333 Y,\n",
       " 1.5 Mn2O3 + 0.5 Y2O3 -> MnO + YMn2O5,\n",
       " MnO + YMn2O5 -> 1.5 Mn2O3 + 0.5 Y2O3,\n",
       " 2 Mn2O3 + Y2O3 -> Y2Mn2O7 + 2 MnO,\n",
       " Y2Mn2O7 + 2 MnO -> 2 Mn2O3 + Y2O3,\n",
       " 1.154 Mn2O3 + 0.5128 Y2O3 -> YMn2O5 + 0.02564 YMn12,\n",
       " YMn2O5 + 0.02564 YMn12 -> 1.154 Mn2O3 + 0.5128 Y2O3,\n",
       " 1.308 Mn2O3 + 1.026 Y2O3 -> Y2Mn2O7 + 0.05128 YMn12,\n",
       " Y2Mn2O7 + 0.05128 YMn12 -> 1.308 Mn2O3 + 1.026 Y2O3,\n",
       " 0.6154 Mn2O3 + 0.05128 Y2O3 -> O2 + 0.1026 YMn12,\n",
       " O2 + 0.1026 YMn12 -> 0.6154 Mn2O3 + 0.05128 Y2O3,\n",
       " 25.5 Mn2O3 + 0.5 Y2O3 -> YMn12 + 39 MnO2,\n",
       " YMn12 + 39 MnO2 -> 25.5 Mn2O3 + 0.5 Y2O3,\n",
       " 1.167 Mn2O3 + 0.5 Y2O3 -> YMn2O5 + 0.3333 Mn,\n",
       " YMn2O5 + 0.3333 Mn -> 1.167 Mn2O3 + 0.5 Y2O3,\n",
       " 3 Mn2O3 + 2 Y2O3 -> Y + 3 YMn2O5,\n",
       " Y + 3 YMn2O5 -> 3 Mn2O3 + 2 Y2O3,\n",
       " 2.5 Mn2O3 + 0.5 Y2O3 -> YMn2O5 + Mn3O4,\n",
       " YMn2O5 + Mn3O4 -> 2.5 Mn2O3 + 0.5 Y2O3,\n",
       " 1.333 Mn2O3 + Y2O3 -> Y2Mn2O7 + 0.6667 Mn,\n",
       " Y2Mn2O7 + 0.6667 Mn -> 1.333 Mn2O3 + Y2O3,\n",
       " Mn2O3 + 1.333 Y2O3 -> Y2Mn2O7 + 0.6667 Y,\n",
       " Y2Mn2O7 + 0.6667 Y -> Mn2O3 + 1.333 Y2O3,\n",
       " 4 Mn2O3 + Y2O3 -> Y2Mn2O7 + 2 Mn3O4,\n",
       " Y2Mn2O7 + 2 Mn3O4 -> 4 Mn2O3 + Y2O3,\n",
       " 1.5 Mn2O3 + 0.5 Y2O3 -> Y + 3 MnO2,\n",
       " Y + 3 MnO2 -> 1.5 Mn2O3 + 0.5 Y2O3,\n",
       " 5 MnO + YMn12 -> YMn2O5 + 15 Mn,\n",
       " YMn2O5 + 15 Mn -> 5 MnO + YMn12,\n",
       " 7 MnO + 2 YMn12 -> Y2Mn2O7 + 29 Mn,\n",
       " Y2Mn2O7 + 29 Mn -> 7 MnO + 2 YMn12,\n",
       " 0.1111 MnO + 0.07407 YMn12 -> Mn + 0.03704 Y2O3,\n",
       " Mn + 0.03704 Y2O3 -> 0.1111 MnO + 0.07407 YMn12,\n",
       " 55 MnO + YMn2O5 -> YMn12 + 15 Mn3O4,\n",
       " YMn12 + 15 Mn3O4 -> 55 MnO + YMn2O5,\n",
       " 1.333 MnO + 0.1333 YMn2O5 -> O2 + 0.1333 YMn12,\n",
       " O2 + 0.1333 YMn12 -> 1.333 MnO + 0.1333 YMn2O5,\n",
       " 25 MnO + YMn2O5 -> YMn12 + 15 MnO2,\n",
       " YMn12 + 15 MnO2 -> 25 MnO + YMn2O5,\n",
       " MnO + 2 YMn2O5 -> Y2Mn2O7 + Mn3O4,\n",
       " Y2Mn2O7 + Mn3O4 -> MnO + 2 YMn2O5,\n",
       " 7 MnO + YMn2O5 -> Y + 3 Mn3O4,\n",
       " Y + 3 Mn3O4 -> 7 MnO + YMn2O5,\n",
       " MnO + YMn2O5 -> Y + 3 MnO2,\n",
       " Y + 3 MnO2 -> MnO + YMn2O5,\n",
       " 1.667 MnO + 0.6667 YMn2O5 -> Mn3O4 + 0.3333 Y2O3,\n",
       " Mn3O4 + 0.3333 Y2O3 -> 1.667 MnO + 0.6667 YMn2O5,\n",
       " 0.5172 Y2Mn2O7 + 1.379 MnO -> YMn2O5 + 0.03448 YMn12,\n",
       " YMn2O5 + 0.03448 YMn12 -> 0.5172 Y2Mn2O7 + 1.379 MnO,\n",
       " 0.5 Y2Mn2O7 + 54.5 MnO -> YMn12 + 14.5 Mn3O4,\n",
       " YMn12 + 14.5 Mn3O4 -> 0.5 Y2Mn2O7 + 54.5 MnO,\n",
       " 0.06897 Y2Mn2O7 + 1.517 MnO -> O2 + 0.1379 YMn12,\n",
       " O2 + 0.1379 YMn12 -> 0.06897 Y2Mn2O7 + 1.517 MnO,\n",
       " 0.5 Y2Mn2O7 + 25.5 MnO -> YMn12 + 14.5 MnO2,\n",
       " YMn12 + 14.5 MnO2 -> 0.5 Y2Mn2O7 + 25.5 MnO,\n",
       " 0.5 Y2Mn2O7 + 1.5 MnO -> YMn2O5 + 0.5 Mn,\n",
       " YMn2O5 + 0.5 Mn -> 0.5 Y2Mn2O7 + 1.5 MnO,\n",
       " 3 Y2Mn2O7 + 4 MnO -> Y + 5 YMn2O5,\n",
       " Y + 5 YMn2O5 -> 3 Y2Mn2O7 + 4 MnO,\n",
       " 0.75 Y2Mn2O7 + 0.5 MnO -> YMn2O5 + 0.25 Y2O3,\n",
       " YMn2O5 + 0.25 Y2O3 -> 0.75 Y2Mn2O7 + 0.5 MnO,\n",
       " 0.5 Y2Mn2O7 + 6.5 MnO -> Y + 2.5 Mn3O4,\n",
       " Y + 2.5 Mn3O4 -> 0.5 Y2Mn2O7 + 6.5 MnO,\n",
       " 0.5 Y2Mn2O7 + 1.5 MnO -> Y + 2.5 MnO2,\n",
       " Y + 2.5 MnO2 -> 0.5 Y2Mn2O7 + 1.5 MnO,\n",
       " 0.5 Y2Mn2O7 + 2 MnO -> Mn3O4 + 0.5 Y2O3,\n",
       " Mn3O4 + 0.5 Y2O3 -> 0.5 Y2Mn2O7 + 2 MnO,\n",
       " 1.25 Y + 5 MnO -> YMn2O5 + 0.25 YMn12,\n",
       " YMn2O5 + 0.25 YMn12 -> 1.25 Y + 5 MnO,\n",
       " 2.417 Y + 7 MnO -> Y2Mn2O7 + 0.4167 YMn12,\n",
       " Y2Mn2O7 + 0.4167 YMn12 -> 2.417 Y + 7 MnO,\n",
       " 9 Y + 12 MnO -> YMn12 + 4 Y2O3,\n",
       " YMn12 + 4 Y2O3 -> 9 Y + 12 MnO,\n",
       " Y + 48 MnO -> YMn12 + 12 Mn3O4,\n",
       " YMn12 + 12 Mn3O4 -> Y + 48 MnO,\n",
       " 0.1667 Y + 2 MnO -> O2 + 0.1667 YMn12,\n",
       " O2 + 0.1667 YMn12 -> 0.1667 Y + 2 MnO,\n",
       " Y + 24 MnO -> YMn12 + 12 MnO2,\n",
       " YMn12 + 12 MnO2 -> Y + 24 MnO,\n",
       " Y + 5 MnO -> YMn2O5 + 3 Mn,\n",
       " YMn2O5 + 3 Mn -> Y + 5 MnO,\n",
       " 2 Y + 7 MnO -> Y2Mn2O7 + 5 Mn,\n",
       " Y2Mn2O7 + 5 Mn -> 2 Y + 7 MnO,\n",
       " 0.6667 Y + MnO -> Mn + 0.3333 Y2O3,\n",
       " Mn + 0.3333 Y2O3 -> 0.6667 Y + MnO,\n",
       " 3.333 MnO + 0.5556 Y2O3 -> YMn2O5 + 0.1111 YMn12,\n",
       " YMn2O5 + 0.1111 YMn12 -> 3.333 MnO + 0.5556 Y2O3,\n",
       " 3.778 MnO + 1.074 Y2O3 -> Y2Mn2O7 + 0.1481 YMn12,\n",
       " Y2Mn2O7 + 0.1481 YMn12 -> 3.778 MnO + 1.074 Y2O3,\n",
       " 52.5 MnO + 0.5 Y2O3 -> YMn12 + 13.5 Mn3O4,\n",
       " YMn12 + 13.5 Mn3O4 -> 52.5 MnO + 0.5 Y2O3,\n",
       " 1.778 MnO + 0.07407 Y2O3 -> O2 + 0.1481 YMn12,\n",
       " O2 + 0.1481 YMn12 -> 1.778 MnO + 0.07407 Y2O3,\n",
       " 25.5 MnO + 0.5 Y2O3 -> YMn12 + 13.5 MnO2,\n",
       " YMn12 + 13.5 MnO2 -> 25.5 MnO + 0.5 Y2O3,\n",
       " 3.5 MnO + 0.5 Y2O3 -> YMn2O5 + 1.5 Mn,\n",
       " YMn2O5 + 1.5 Mn -> 3.5 MnO + 0.5 Y2O3,\n",
       " 2 MnO + Y2O3 -> Y + YMn2O5,\n",
       " Y + YMn2O5 -> 2 MnO + Y2O3,\n",
       " 4 MnO + Y2O3 -> Y2Mn2O7 + 2 Mn,\n",
       " Y2Mn2O7 + 2 Mn -> 4 MnO + Y2O3,\n",
       " 2 MnO + 1.667 Y2O3 -> Y2Mn2O7 + 1.333 Y,\n",
       " Y2Mn2O7 + 1.333 Y -> 2 MnO + 1.667 Y2O3,\n",
       " 4.5 MnO + 0.5 Y2O3 -> Y + 1.5 Mn3O4,\n",
       " Y + 1.5 Mn3O4 -> 4.5 MnO + 0.5 Y2O3,\n",
       " 1.5 MnO + 0.5 Y2O3 -> Y + 1.5 MnO2,\n",
       " Y + 1.5 MnO2 -> 1.5 MnO + 0.5 Y2O3,\n",
       " 1.4 YMn2O5 + 0.6 YMn12 -> Y2Mn2O7 + 8 Mn,\n",
       " Y2Mn2O7 + 8 Mn -> 1.4 YMn2O5 + 0.6 YMn12,\n",
       " 1.982 YMn2O5 + 0.01818 YMn12 -> Y2Mn2O7 + 0.7273 Mn3O4,\n",
       " Y2Mn2O7 + 0.7273 Mn3O4 -> 1.982 YMn2O5 + 0.01818 YMn12,\n",
       " 0.03333 YMn2O5 + 0.07778 YMn12 -> Mn + 0.05556 Y2O3,\n",
       " Mn + 0.05556 Y2O3 -> 0.03333 YMn2O5 + 0.07778 YMn12,\n",
       " 0.8727 YMn2O5 + 0.1273 YMn12 -> Y + 1.091 Mn3O4,\n",
       " Y + 1.091 Mn3O4 -> 0.8727 YMn2O5 + 0.1273 YMn12,\n",
       " 0.96 YMn2O5 + 0.04 YMn12 -> Y + 2.4 MnO2,\n",
       " Y + 2.4 MnO2 -> 0.96 YMn2O5 + 0.04 YMn12,\n",
       " 1.167 YMn2O5 + 0.05556 YMn12 -> Mn3O4 + 0.6111 Y2O3,\n",
       " Mn3O4 + 0.6111 Y2O3 -> 1.167 YMn2O5 + 0.05556 YMn12,\n",
       " 1.5 Y2Mn2O7 + 0.1 YMn12 -> Y + 2.1 YMn2O5,\n",
       " Y + 2.1 YMn2O5 -> 1.5 Y2Mn2O7 + 0.1 YMn12,\n",
       " 0.8824 Y2Mn2O7 + 0.01961 YMn12 -> YMn2O5 + 0.3922 Y2O3,\n",
       " YMn2O5 + 0.3922 Y2O3 -> 0.8824 Y2Mn2O7 + 0.01961 YMn12,\n",
       " 0.02941 Y2Mn2O7 + 0.07843 YMn12 -> Mn + 0.06863 Y2O3,\n",
       " Mn + 0.06863 Y2O3 -> 0.02941 Y2Mn2O7 + 0.07843 YMn12,\n",
       " 0.4404 Y2Mn2O7 + 0.1193 YMn12 -> Y + 0.7706 Mn3O4,\n",
       " Y + 0.7706 Mn3O4 -> 0.4404 Y2Mn2O7 + 0.1193 YMn12,\n",
       " 0.4706 Y2Mn2O7 + 0.05882 YMn12 -> Y + 1.647 MnO2,\n",
       " Y + 1.647 MnO2 -> 0.4706 Y2Mn2O7 + 0.05882 YMn12,\n",
       " 1.029 Y2Mn2O7 + 0.07843 YMn12 -> Mn3O4 + 1.069 Y2O3,\n",
       " Mn3O4 + 1.069 Y2O3 -> 1.029 Y2Mn2O7 + 0.07843 YMn12,\n",
       " 0.06667 YMn12 + 0.6667 Y2O3 -> Y + 0.4 YMn2O5,\n",
       " Y + 0.4 YMn2O5 -> 0.06667 YMn12 + 0.6667 Y2O3,\n",
       " 0.1667 YMn12 + 2.333 Y2O3 -> Y2Mn2O7 + 2.833 Y,\n",
       " Y2Mn2O7 + 2.833 Y -> 0.1667 YMn12 + 2.333 Y2O3,\n",
       " 0.08571 YMn12 + 0.4571 Y2O3 -> Y + 0.3429 Mn3O4,\n",
       " Y + 0.3429 Mn3O4 -> 0.08571 YMn12 + 0.4571 Y2O3,\n",
       " 0.05882 YMn12 + 0.4706 Y2O3 -> Y + 0.7059 MnO2,\n",
       " Y + 0.7059 MnO2 -> 0.05882 YMn12 + 0.4706 Y2O3,\n",
       " YMn12 + 1.25 Mn3O4 -> YMn2O5 + 13.75 Mn,\n",
       " YMn2O5 + 13.75 Mn -> YMn12 + 1.25 Mn3O4,\n",
       " 2 YMn12 + 1.75 Mn3O4 -> Y2Mn2O7 + 27.25 Mn,\n",
       " Y2Mn2O7 + 27.25 Mn -> 2 YMn12 + 1.75 Mn3O4,\n",
       " 0.07619 YMn12 + 0.02857 Mn3O4 -> Mn + 0.0381 Y2O3,\n",
       " Mn + 0.0381 Y2O3 -> 0.07619 YMn12 + 0.02857 Mn3O4,\n",
       " 2.5 O2 + YMn12 -> YMn2O5 + 10 Mn,\n",
       " YMn2O5 + 10 Mn -> 2.5 O2 + YMn12,\n",
       " 9.167 O2 + YMn12 -> YMn2O5 + 3.333 Mn3O4,\n",
       " YMn2O5 + 3.333 Mn3O4 -> 9.167 O2 + YMn12,\n",
       " 12.5 O2 + YMn12 -> YMn2O5 + 10 MnO2,\n",
       " YMn2O5 + 10 MnO2 -> 12.5 O2 + YMn12,\n",
       " 3.5 O2 + 2 YMn12 -> Y2Mn2O7 + 22 Mn,\n",
       " Y2Mn2O7 + 22 Mn -> 3.5 O2 + 2 YMn12,\n",
       " 18.17 O2 + 2 YMn12 -> Y2Mn2O7 + 7.333 Mn3O4,\n",
       " Y2Mn2O7 + 7.333 Mn3O4 -> 18.17 O2 + 2 YMn12,\n",
       " 25.5 O2 + 2 YMn12 -> Y2Mn2O7 + 22 MnO2,\n",
       " Y2Mn2O7 + 22 MnO2 -> 25.5 O2 + 2 YMn12,\n",
       " 0.0625 O2 + 0.08333 YMn12 -> Mn + 0.04167 Y2O3,\n",
       " Mn + 0.04167 Y2O3 -> 0.0625 O2 + 0.08333 YMn12,\n",
       " 8 O2 + YMn12 -> Y + 4 Mn3O4,\n",
       " Y + 4 Mn3O4 -> 8 O2 + YMn12,\n",
       " 12 O2 + YMn12 -> Y + 12 MnO2,\n",
       " Y + 12 MnO2 -> 12 O2 + YMn12,\n",
       " 2.188 O2 + 0.25 YMn12 -> Mn3O4 + 0.125 Y2O3,\n",
       " Mn3O4 + 0.125 Y2O3 -> 2.188 O2 + 0.25 YMn12,\n",
       " 1.062 O2 + 0.08333 YMn12 -> MnO2 + 0.04167 Y2O3,\n",
       " MnO2 + 0.04167 Y2O3 -> 1.062 O2 + 0.08333 YMn12,\n",
       " YMn12 + 2.5 MnO2 -> YMn2O5 + 12.5 Mn,\n",
       " YMn2O5 + 12.5 Mn -> YMn12 + 2.5 MnO2,\n",
       " YMn12 + 27.5 MnO2 -> YMn2O5 + 12.5 Mn3O4,\n",
       " YMn2O5 + 12.5 Mn3O4 -> YMn12 + 27.5 MnO2,\n",
       " 2 YMn12 + 3.5 MnO2 -> Y2Mn2O7 + 25.5 Mn,\n",
       " Y2Mn2O7 + 25.5 Mn -> 2 YMn12 + 3.5 MnO2,\n",
       " 2 YMn12 + 54.5 MnO2 -> Y2Mn2O7 + 25.5 Mn3O4,\n",
       " Y2Mn2O7 + 25.5 Mn3O4 -> 2 YMn12 + 54.5 MnO2,\n",
       " 0.07843 YMn12 + 0.05882 MnO2 -> Mn + 0.03922 Y2O3,\n",
       " Mn + 0.03922 Y2O3 -> 0.07843 YMn12 + 0.05882 MnO2,\n",
       " YMn12 + 24 MnO2 -> Y + 12 Mn3O4,\n",
       " Y + 12 Mn3O4 -> YMn12 + 24 MnO2,\n",
       " 0.07843 YMn12 + 2.059 MnO2 -> Mn3O4 + 0.03922 Y2O3,\n",
       " Mn3O4 + 0.03922 Y2O3 -> 0.07843 YMn12 + 2.059 MnO2,\n",
       " 2 YMn2O5 + 0.25 Mn -> Y2Mn2O7 + 0.75 Mn3O4,\n",
       " Y2Mn2O7 + 0.75 Mn3O4 -> 2 YMn2O5 + 0.25 Mn,\n",
       " YMn2O5 + 1.75 Mn -> Y + 1.25 Mn3O4,\n",
       " Y + 1.25 Mn3O4 -> YMn2O5 + 1.75 Mn,\n",
       " YMn2O5 + 0.5 Mn -> Y + 2.5 MnO2,\n",
       " Y + 2.5 MnO2 -> YMn2O5 + 0.5 Mn,\n",
       " 1.143 YMn2O5 + 0.7143 Mn -> Mn3O4 + 0.5714 Y2O3,\n",
       " Mn3O4 + 0.5714 Y2O3 -> 1.143 YMn2O5 + 0.7143 Mn,\n",
       " 0.6 Y + 1.4 YMn2O5 -> Y2Mn2O7 + 0.8 Mn,\n",
       " Y2Mn2O7 + 0.8 Mn -> 0.6 Y + 1.4 YMn2O5,\n",
       " 0.1429 Y + 1.857 YMn2O5 -> Y2Mn2O7 + 0.5714 Mn3O4,\n",
       " Y2Mn2O7 + 0.5714 Mn3O4 -> 0.1429 Y + 1.857 YMn2O5,\n",
       " 1.167 Y + 0.5 YMn2O5 -> Mn + 0.8333 Y2O3,\n",
       " Mn + 0.8333 Y2O3 -> 1.167 Y + 0.5 YMn2O5,\n",
       " 0.8333 Y + 1.5 YMn2O5 -> Mn3O4 + 1.167 Y2O3,\n",
       " Mn3O4 + 1.167 Y2O3 -> 0.8333 Y + 1.5 YMn2O5,\n",
       " 1.143 YMn2O5 + 0.4286 Y2O3 -> Y2Mn2O7 + 0.2857 Mn,\n",
       " Y2Mn2O7 + 0.2857 Mn -> 1.143 YMn2O5 + 0.4286 Y2O3,\n",
       " YMn2O5 + 0.6667 Y2O3 -> Y2Mn2O7 + 0.3333 Y,\n",
       " Y2Mn2O7 + 0.3333 Y -> YMn2O5 + 0.6667 Y2O3,\n",
       " 1.6 YMn2O5 + 0.2 Y2O3 -> Y2Mn2O7 + 0.4 Mn3O4,\n",
       " Y2Mn2O7 + 0.4 Mn3O4 -> 1.6 YMn2O5 + 0.2 Y2O3,\n",
       " YMn2O5 + 0.5 Mn3O4 -> Y + 3.5 MnO2,\n",
       " Y + 3.5 MnO2 -> YMn2O5 + 0.5 Mn3O4,\n",
       " 0.5 O2 + 2 YMn2O5 -> Y2Mn2O7 + 2 MnO2,\n",
       " Y2Mn2O7 + 2 MnO2 -> 0.5 O2 + 2 YMn2O5,\n",
       " 0.125 O2 + 0.5 YMn2O5 -> MnO2 + 0.25 Y2O3,\n",
       " MnO2 + 0.25 Y2O3 -> 0.125 O2 + 0.5 YMn2O5,\n",
       " 0.5 Y2Mn2O7 + 1.625 Mn -> Y + 0.875 Mn3O4,\n",
       " Y + 0.875 Mn3O4 -> 0.5 Y2Mn2O7 + 1.625 Mn,\n",
       " 0.5 Y2Mn2O7 + 0.75 Mn -> Y + 1.75 MnO2,\n",
       " Y + 1.75 MnO2 -> 0.5 Y2Mn2O7 + 0.75 Mn,\n",
       " Y2Mn2O7 + Mn -> Mn3O4 + Y2O3,\n",
       " Mn3O4 + Y2O3 -> Y2Mn2O7 + Mn,\n",
       " 0.5 Y2Mn2O7 + 1.333 Y -> Mn + 1.167 Y2O3,\n",
       " Mn + 1.167 Y2O3 -> 0.5 Y2Mn2O7 + 1.333 Y,\n",
       " 1.5 Y2Mn2O7 + 1.333 Y -> Mn3O4 + 2.167 Y2O3,\n",
       " Mn3O4 + 2.167 Y2O3 -> 1.5 Y2Mn2O7 + 1.333 Y,\n",
       " 0.5 Y2Mn2O7 + 0.75 Mn3O4 -> Y + 3.25 MnO2,\n",
       " Y + 3.25 MnO2 -> 0.5 Y2Mn2O7 + 0.75 Mn3O4,\n",
       " 1.125 Mn + 0.5 Y2O3 -> Y + 0.375 Mn3O4,\n",
       " Y + 0.375 Mn3O4 -> 1.125 Mn + 0.5 Y2O3,\n",
       " 0.75 Mn + 0.5 Y2O3 -> Y + 0.75 MnO2,\n",
       " Y + 0.75 MnO2 -> 0.75 Mn + 0.5 Y2O3,\n",
       " 1.333 Y + 3 MnO2 -> Mn3O4 + 0.6667 Y2O3,\n",
       " Mn3O4 + 0.6667 Y2O3 -> 1.333 Y + 3 MnO2,\n",
       " 0.3333 Mn2O3 + 0.06667 Y12(MnC3)5 -> MnO + 0.2 Y4C5,\n",
       " MnO + 0.2 Y4C5 -> 0.3333 Mn2O3 + 0.06667 Y12(MnC3)5,\n",
       " 6.667 Mn2O3 + 0.3333 Y12(MnC3)5 -> Y4C5 + 5 Mn3O4,\n",
       " Y4C5 + 5 Mn3O4 -> 6.667 Mn2O3 + 0.3333 Y12(MnC3)5,\n",
       " 0.05 Y12(MnC3)5 + 0.25 Mn3O4 -> MnO + 0.15 Y4C5,\n",
       " MnO + 0.15 Y4C5 -> 0.05 Y12(MnC3)5 + 0.25 Mn3O4,\n",
       " 0.4 Y12(MnC3)5 + 1.5 O2 -> Mn2O3 + 1.2 Y4C5,\n",
       " Mn2O3 + 1.2 Y4C5 -> 0.4 Y12(MnC3)5 + 1.5 O2,\n",
       " 0.2 Y12(MnC3)5 + 0.5 O2 -> MnO + 0.6 Y4C5,\n",
       " MnO + 0.6 Y4C5 -> 0.2 Y12(MnC3)5 + 0.5 O2,\n",
       " 0.3333 Y12(MnC3)5 + 1.111 O2 -> Y4C5 + 0.5556 Mn3O4,\n",
       " Y4C5 + 0.5556 Mn3O4 -> 0.3333 Y12(MnC3)5 + 1.111 O2,\n",
       " 0.3333 Y12(MnC3)5 + 1.667 O2 -> Y4C5 + 1.667 MnO2,\n",
       " Y4C5 + 1.667 MnO2 -> 0.3333 Y12(MnC3)5 + 1.667 O2,\n",
       " 0.1 Y12(MnC3)5 + 1.5 MnO2 -> Mn2O3 + 0.3 Y4C5,\n",
       " Mn2O3 + 0.3 Y4C5 -> 0.1 Y12(MnC3)5 + 1.5 MnO2,\n",
       " 0.1 Y12(MnC3)5 + 0.5 MnO2 -> MnO + 0.3 Y4C5,\n",
       " MnO + 0.3 Y4C5 -> 0.1 Y12(MnC3)5 + 0.5 MnO2,\n",
       " 0.3333 Y12(MnC3)5 + 3.333 MnO2 -> Y4C5 + 1.667 Mn3O4,\n",
       " Y4C5 + 1.667 Mn3O4 -> 0.3333 Y12(MnC3)5 + 3.333 MnO2,\n",
       " 2 YMnO3 + 0.5 CO2 -> Y2Mn2O7 + 0.5 C,\n",
       " Y2Mn2O7 + 0.5 C -> 2 YMnO3 + 0.5 CO2,\n",
       " 1.667 YMnO3 + 0.02564 Y10Mn13C18 -> YMn2O5 + 0.4615 Y2C,\n",
       " YMn2O5 + 0.4615 Y2C -> 1.667 YMnO3 + 0.02564 Y10Mn13C18,\n",
       " 0.6667 YMnO3 + 0.02564 Y10Mn13C18 -> MnO2 + 0.4615 Y2C,\n",
       " MnO2 + 0.4615 Y2C -> 0.6667 YMnO3 + 0.02564 Y10Mn13C18,\n",
       " 0.01538 Y10Mn13C18 + 0.4 YMn2O5 -> MnO2 + 0.2769 Y2C,\n",
       " MnO2 + 0.2769 Y2C -> 0.01538 Y10Mn13C18 + 0.4 YMn2O5,\n",
       " Cl2 + 0.2 Y12(MnC3)5 -> MnCl2 + 0.6 Y4C5,\n",
       " MnCl2 + 0.6 Y4C5 -> Cl2 + 0.2 Y12(MnC3)5,\n",
       " MnCl2 + 4 YCCl -> Y2MnC4 + 2 YCl3,\n",
       " Y2MnC4 + 2 YCl3 -> MnCl2 + 4 YCCl,\n",
       " 2 YMn2O5 + 2 LiCO2 -> Y2Mn2O7 + Li2Mn2C2O7,\n",
       " Y2Mn2O7 + Li2Mn2C2O7 -> 2 YMn2O5 + 2 LiCO2,\n",
       " 0.5 Y2Mn2O7 + LiCO2 -> LiMnCO4 + 0.5 Y2O3,\n",
       " LiMnCO4 + 0.5 Y2O3 -> 0.5 Y2Mn2O7 + LiCO2,\n",
       " LiC + 0.5 Y2Mn2O7 -> Y + 0.5 Li2Mn2C2O7,\n",
       " Y + 0.5 Li2Mn2C2O7 -> LiC + 0.5 Y2Mn2O7,\n",
       " 0.6667 Y + 2 LiMnCO4 -> Li2Mn2C2O7 + 0.3333 Y2O3,\n",
       " Li2Mn2C2O7 + 0.3333 Y2O3 -> 0.6667 Y + 2 LiMnCO4,\n",
       " Li2MnCO4 -> Li2CO3 + MnO,\n",
       " Li2CO3 + MnO -> Li2MnCO4,\n",
       " 2 Li2MnCO4 -> Li2O + Li2Mn2C2O7,\n",
       " Li2O + Li2Mn2C2O7 -> 2 Li2MnCO4,\n",
       " Li2MnCO4 -> LiMnO2 + LiCO2,\n",
       " LiMnO2 + LiCO2 -> Li2MnCO4,\n",
       " Li2MnCO4 -> Li + LiMnCO4,\n",
       " Li + LiMnCO4 -> Li2MnCO4,\n",
       " 0.5 Li2Mn2C2O7 -> LiCO2 + 0.5 Mn2O3,\n",
       " LiCO2 + 0.5 Mn2O3 -> 0.5 Li2Mn2C2O7,\n",
       " LiMnCO4 -> LiMnO2 + CO2,\n",
       " LiMnO2 + CO2 -> LiMnCO4,\n",
       " 4 LiMnCO4 -> O2 + 2 Li2Mn2C2O7,\n",
       " O2 + 2 Li2Mn2C2O7 -> 4 LiMnCO4,\n",
       " LiMnCO4 -> LiCO2 + MnO2,\n",
       " LiCO2 + MnO2 -> LiMnCO4,\n",
       " Li2MnCO4 + Mn2O3 -> Li2CO3 + Mn3O4,\n",
       " Li2CO3 + Mn3O4 -> Li2MnCO4 + Mn2O3,\n",
       " Li2MnCO4 + 0.5 Mn2O3 -> LiMnO2 + 0.5 Li2Mn2C2O7,\n",
       " LiMnO2 + 0.5 Li2Mn2C2O7 -> Li2MnCO4 + 0.5 Mn2O3,\n",
       " Li2MnO3 + Li2MnCO4 -> Li4CO4 + Mn2O3,\n",
       " Li4CO4 + Mn2O3 -> Li2MnO3 + Li2MnCO4,\n",
       " Li2MnO3 + Li2MnCO4 -> Li2CO3 + 2 LiMnO2,\n",
       " Li2CO3 + 2 LiMnO2 -> Li2MnO3 + Li2MnCO4,\n",
       " 0.5 Li2CO3 + 0.5 Li2MnCO4 -> LiCO2 + 0.5 Li2MnO3,\n",
       " LiCO2 + 0.5 Li2MnO3 -> 0.5 Li2CO3 + 0.5 Li2MnCO4,\n",
       " Li2CO3 + 2 Li2MnCO4 -> Li4CO4 + Li2Mn2C2O7,\n",
       " Li4CO4 + Li2Mn2C2O7 -> Li2CO3 + 2 Li2MnCO4,\n",
       " 4 Li2MnCO4 + CO2 -> Li4CO4 + 2 Li2Mn2C2O7,\n",
       " Li4CO4 + 2 Li2Mn2C2O7 -> 4 Li2MnCO4 + CO2,\n",
       " 2 Li2MnCO4 + CO2 -> Li2CO3 + Li2Mn2C2O7,\n",
       " Li2CO3 + Li2Mn2C2O7 -> 2 Li2MnCO4 + CO2,\n",
       " 2 Li2MnCO4 + CO2 -> LiMn2O4 + 3 LiCO2,\n",
       " LiMn2O4 + 3 LiCO2 -> 2 Li2MnCO4 + CO2,\n",
       " 0.5 Li2MnCO4 + 0.5 CO2 -> LiCO2 + 0.5 MnO2,\n",
       " LiCO2 + 0.5 MnO2 -> 0.5 Li2MnCO4 + 0.5 CO2,\n",
       " Li2MnCO4 + CO2 -> LiMnCO4 + LiCO2,\n",
       " LiMnCO4 + LiCO2 -> Li2MnCO4 + CO2,\n",
       " Mn + Li2MnCO4 -> LiC + LiMn2O4,\n",
       " LiC + LiMn2O4 -> Mn + Li2MnCO4,\n",
       " 0.5 Mn + 0.5 Li2MnCO4 -> LiMnO2 + 0.5 C,\n",
       " LiMnO2 + 0.5 C -> 0.5 Mn + 0.5 Li2MnCO4,\n",
       " 0.9167 Li2MnCO4 + 0.08333 LiC12 -> LiC + 0.9167 LiMnCO4,\n",
       " LiC + 0.9167 LiMnCO4 -> 0.9167 Li2MnCO4 + 0.08333 LiC12,\n",
       " 0.3333 LiMn2O4 + 0.3333 Li2MnCO4 -> LiMnO2 + 0.3333 CO2,\n",
       " LiMnO2 + 0.3333 CO2 -> 0.3333 LiMn2O4 + 0.3333 Li2MnCO4,\n",
       " 3 LiMn2O4 + Li2MnCO4 -> C + Li5Mn7O16,\n",
       " C + Li5Mn7O16 -> 3 LiMn2O4 + Li2MnCO4,\n",
       " ...]"
      ]
     },
     "execution_count": 19,
     "metadata": {},
     "output_type": "execute_result"
    }
   ],
   "source": [
    "list(rxns.get_rxns())"
   ]
  },
  {
   "cell_type": "markdown",
   "id": "8194edc6",
   "metadata": {},
   "source": [
    "The cost function is a monotonic function used to assign weights to edges in the network. In this case, we will use the softplus function, assigned a temperature scaling of $T=900$ K, and use the default arguments which automatically determine the softplus weighting based on the energy per atom of the reaction:"
   ]
  },
  {
   "cell_type": "code",
   "execution_count": 20,
   "id": "94c693ae",
   "metadata": {},
   "outputs": [],
   "source": [
    "cf = Softplus(900)"
   ]
  },
  {
   "cell_type": "markdown",
   "id": "1c799d22",
   "metadata": {},
   "source": [
    "Finally, we provide these as arguments to the `ReactionNetwork` initialization:"
   ]
  },
  {
   "cell_type": "code",
   "execution_count": 21,
   "id": "8dc1f67a",
   "metadata": {},
   "outputs": [],
   "source": [
    "rn = ReactionNetwork(rxns, cf)"
   ]
  },
  {
   "cell_type": "markdown",
   "id": "a487a616",
   "metadata": {},
   "source": [
    "This simply initializes a `ReactionNetwork` object but does not build the network graph. To do so, we call the `.build()` function:"
   ]
  },
  {
   "cell_type": "code",
   "execution_count": 22,
   "id": "adc019cd",
   "metadata": {},
   "outputs": [
    {
     "name": "stderr",
     "output_type": "stream",
     "text": [
      "INFO:ReactionNetwork:Building graph from reactions...\n",
      "100%|██████████████████████████████████████████████████████████████████████████████████████████████████████████████████████████████████████████| 2182/2182 [00:01<00:00, 1362.53it/s]\n"
     ]
    }
   ],
   "source": [
    "rn.build()"
   ]
  },
  {
   "cell_type": "markdown",
   "id": "74d6ddfc",
   "metadata": {},
   "source": [
    "This should have completed within a few seconds. You'll notice that two things happened:\n",
    "\n",
    "1. The enumerator(s) were run and a list of reactions was generated\n",
    "2. The weighted graph object was built with these reactions and stored under the `graph` attribute of the reaction network object\n",
    "\n",
    "We can access this graph object, which is a graph-tool object, by using the `graph` attribute:"
   ]
  },
  {
   "cell_type": "code",
   "execution_count": 23,
   "id": "f26d61c6",
   "metadata": {},
   "outputs": [
    {
     "data": {
      "text/plain": [
       "<Graph object, directed, with 984 vertices and 2674 edges, 2 internal vertex properties, 3 internal edge properties, at 0x154d32c50>"
      ]
     },
     "execution_count": 23,
     "metadata": {},
     "output_type": "execute_result"
    }
   ],
   "source": [
    "rn.graph"
   ]
  },
  {
   "cell_type": "code",
   "execution_count": 24,
   "id": "dfd61d73",
   "metadata": {},
   "outputs": [],
   "source": [
    "from jobflow import SETTINGS\n",
    "from monty.serialization import MontyDecoder\n",
    "\n",
    "store = SETTINGS.JOB_STORE\n",
    "\n",
    "# connect to the job store\n",
    "store.connect()"
   ]
  },
  {
   "cell_type": "markdown",
   "id": "d62da971",
   "metadata": {},
   "source": [
    "There are a couple provided ways to plot reaction networks. The first is to use the built in drawing features in graph-tool, which have been provided in a wrapper function."
   ]
  },
  {
   "cell_type": "code",
   "execution_count": 13,
   "id": "739a5bb9",
   "metadata": {},
   "outputs": [],
   "source": [
    "#plot_network(rn.graph);"
   ]
  },
  {
   "cell_type": "markdown",
   "id": "8bb8a5dc",
   "metadata": {},
   "source": [
    "You'll notice that at this stage, the reaction network graph is a collection of \"sub\"-networks, i.e. a collection of smaller reaction networks for smaller chemical subsystems. This configuration will change once we set up for pathfinding in the next section."
   ]
  },
  {
   "cell_type": "markdown",
   "id": "a45a67d6",
   "metadata": {},
   "source": [
    "The second way to plot graphs is to use graphistry, which requires setting up an account on Graphistry Hub: https://hub.graphistry.com/"
   ]
  },
  {
   "cell_type": "code",
   "execution_count": 14,
   "id": "dc1d2b7c",
   "metadata": {},
   "outputs": [],
   "source": [
    "#plot_network_on_graphistry(rn.graph)"
   ]
  },
  {
   "cell_type": "markdown",
   "id": "6c9c9d1c",
   "metadata": {},
   "source": [
    "### Solving for reaction pathways\n",
    "\n",
    "To solve for reaction pathways, we must set precursor phases, as well as a target phase. This will automatically build all the required \"zero-cost\" edges which connect the different chemical subsystems. Please see the original manuscript for more detail with regards to how this works. In short, zero-cost edges are drawn between and product node to any reactant node that contains a subset of the set consisting of the {precursors + products} phases. "
   ]
  },
  {
   "cell_type": "code",
   "execution_count": 26,
   "id": "f8d706e6",
   "metadata": {},
   "outputs": [],
   "source": [
    "rn.set_precursors([\"Li2CO3\", \"Mn2O3\", \"YCl3\"])"
   ]
  },
  {
   "cell_type": "code",
   "execution_count": 27,
   "id": "b6fa1322",
   "metadata": {},
   "outputs": [],
   "source": [
    "rn.set_target(\"YMnO3\")"
   ]
  },
  {
   "cell_type": "markdown",
   "id": "edc91d88",
   "metadata": {},
   "source": [
    "We can see how this changes the network by re-drawing it:"
   ]
  },
  {
   "cell_type": "code",
   "execution_count": 28,
   "id": "8156aaf7",
   "metadata": {},
   "outputs": [],
   "source": [
    "# plot_network(rn.graph);"
   ]
  },
  {
   "cell_type": "markdown",
   "id": "a588282d",
   "metadata": {},
   "source": [
    "You should now see that the chemical subsystems have come together -- this is due to the zero-cost edges that were just described. We can now perform pathfinding to extract reaction pathways.\n",
    "\n",
    "To get reaction pathways, we simply call the `find_pathways()` method. This automatically handles finding pathways to multiple targets, by calling the internal shortest paths method. The _k_ parameter specifies the number of shortest paths to find to each target."
   ]
  },
  {
   "cell_type": "code",
   "execution_count": 29,
   "id": "ec70a87e",
   "metadata": {},
   "outputs": [
    {
     "name": "stdout",
     "output_type": "stream",
     "text": [
      "PATHS to YMnO3 \n",
      "\n",
      "--------------------------------------- \n",
      "\n",
      "Mn2O3 + 0.2222 YCl3 -> 0.2222 Mn8Cl3O10 + 0.1111 Y2Mn2O7 (dG = -0.015 eV/atom) \n",
      "Mn2O3 + Y2Mn2O7 -> 2 YMnO3 + 2 MnO2 (dG = 0.005 eV/atom) \n",
      "Total Cost: 0.528 \n",
      "\n",
      "Mn2O3 + 0.2222 YCl3 -> 0.2222 Mn8Cl3O10 + 0.1111 Y2Mn2O7 (dG = -0.015 eV/atom) \n",
      "2 Y2Mn2O7 -> O2 + 4 YMnO3 (dG = 0.038 eV/atom) \n",
      "Total Cost: 0.535 \n",
      "\n",
      "Mn2O3 + 0.2 YCl3 -> 0.2 Mn8Cl3O10 + 0.2 YMn2O5 (dG = -0.025 eV/atom) \n",
      "YMn2O5 -> YMnO3 + MnO2 (dG = 0.048 eV/atom) \n",
      "Total Cost: 0.535 \n",
      "\n",
      "2 Li2CO3 + Mn2O3 -> Li2O + 2 LiMnCO4 (dG = 0.029 eV/atom) \n",
      "YCl3 + 1.5 Li2O -> 0.5 Y2O3 + 3 LiCl (dG = -0.297 eV/atom) \n",
      "Mn2O3 + Y2O3 -> 2 YMnO3 (dG = -0.069 eV/atom) \n",
      "Total Cost: 0.724 \n",
      "\n",
      "2 Li2CO3 + Mn2O3 -> Li2O + 2 LiMnCO4 (dG = 0.029 eV/atom) \n",
      "YCl3 + Li2O -> YClO + 2 LiCl (dG = -0.273 eV/atom) \n",
      "Mn2O3 + 3 YClO -> 2 YMnO3 + YCl3 (dG = 0.0 eV/atom) \n",
      "Total Cost: 0.744 \n",
      "\n",
      "PATHS to LiCl \n",
      "\n",
      "--------------------------------------- \n",
      "\n",
      "2 Li2CO3 + Mn2O3 -> Li2O + 2 LiMnCO4 (dG = 0.029 eV/atom) \n",
      "YCl3 + 1.5 Li2O -> 0.5 Y2O3 + 3 LiCl (dG = -0.297 eV/atom) \n",
      "Total Cost: 0.475 \n",
      "\n",
      "2 Li2CO3 + Mn2O3 -> Li2O + 2 LiMnCO4 (dG = 0.029 eV/atom) \n",
      "YCl3 + Li2O -> YClO + 2 LiCl (dG = -0.273 eV/atom) \n",
      "Total Cost: 0.479 \n",
      "\n",
      "Li2CO3 -> Li2O + CO2 (dG = 0.146 eV/atom) \n",
      "YCl3 + 1.5 Li2O -> 0.5 Y2O3 + 3 LiCl (dG = -0.297 eV/atom) \n",
      "Total Cost: 0.504 \n",
      "\n",
      "Li2CO3 -> Li2O + CO2 (dG = 0.146 eV/atom) \n",
      "YCl3 + Li2O -> YClO + 2 LiCl (dG = -0.273 eV/atom) \n",
      "Total Cost: 0.508 \n",
      "\n",
      "Li2CO3 + 0.5 Mn2O3 -> 0.25 O2 + Li2MnCO4 (dG = 0.054 eV/atom) \n",
      "0.5 O2 + 2 Li2MnCO4 -> Li2O + 2 LiMnCO4 (dG = -0.026 eV/atom) \n",
      "YCl3 + 1.5 Li2O -> 0.5 Y2O3 + 3 LiCl (dG = -0.297 eV/atom) \n",
      "Total Cost: 0.74 \n",
      "\n",
      "PATHS to CO2 \n",
      "\n",
      "--------------------------------------- \n",
      "\n",
      "Li2CO3 + Mn2O3 -> CO2 + 2 LiMnO2 (dG = 0.009 eV/atom) \n",
      "Total Cost: 0.267 \n",
      "\n",
      "2 Li2CO3 -> Li4CO4 + CO2 (dG = 0.055 eV/atom) \n",
      "Total Cost: 0.278 \n",
      "\n",
      "Li2CO3 -> Li2O + CO2 (dG = 0.146 eV/atom) \n",
      "Total Cost: 0.301 \n",
      "\n",
      "Li2CO3 + 0.5 Mn2O3 -> 0.25 O2 + Li2MnCO4 (dG = 0.054 eV/atom) \n",
      "0.5 O2 + Li2MnCO4 -> Li2MnO3 + CO2 (dG = -0.092 eV/atom) \n",
      "Total Cost: 0.522 \n",
      "\n",
      "Li2CO3 + Mn2O3 -> LiMn2O4 + LiCO2 (dG = 0.046 eV/atom) \n",
      "LiMn2O4 + 3 LiCO2 -> 2 Li2MnCO4 + CO2 (dG = -0.069 eV/atom) \n",
      "Total Cost: 0.525 \n",
      "\n"
     ]
    }
   ],
   "source": [
    "paths = rn.find_pathways([\"YMnO3\", \"LiCl\", \"CO2\"], k=5)"
   ]
  },
  {
   "cell_type": "code",
   "execution_count": 30,
   "id": "931673db",
   "metadata": {},
   "outputs": [
    {
     "data": {
      "text/plain": [
       "[Mn2O3 + 0.2222 YCl3 -> 0.2222 Mn8Cl3O10 + 0.1111 Y2Mn2O7 (dG = -0.015 eV/atom) \n",
       " Mn2O3 + Y2Mn2O7 -> 2 YMnO3 + 2 MnO2 (dG = 0.005 eV/atom) \n",
       " Total Cost: 0.528,\n",
       " Mn2O3 + 0.2222 YCl3 -> 0.2222 Mn8Cl3O10 + 0.1111 Y2Mn2O7 (dG = -0.015 eV/atom) \n",
       " 2 Y2Mn2O7 -> O2 + 4 YMnO3 (dG = 0.038 eV/atom) \n",
       " Total Cost: 0.535,\n",
       " Mn2O3 + 0.2 YCl3 -> 0.2 Mn8Cl3O10 + 0.2 YMn2O5 (dG = -0.025 eV/atom) \n",
       " YMn2O5 -> YMnO3 + MnO2 (dG = 0.048 eV/atom) \n",
       " Total Cost: 0.535,\n",
       " 2 Li2CO3 + Mn2O3 -> Li2O + 2 LiMnCO4 (dG = 0.029 eV/atom) \n",
       " YCl3 + 1.5 Li2O -> 0.5 Y2O3 + 3 LiCl (dG = -0.297 eV/atom) \n",
       " Mn2O3 + Y2O3 -> 2 YMnO3 (dG = -0.069 eV/atom) \n",
       " Total Cost: 0.724,\n",
       " 2 Li2CO3 + Mn2O3 -> Li2O + 2 LiMnCO4 (dG = 0.029 eV/atom) \n",
       " YCl3 + Li2O -> YClO + 2 LiCl (dG = -0.273 eV/atom) \n",
       " Mn2O3 + 3 YClO -> 2 YMnO3 + YCl3 (dG = 0.0 eV/atom) \n",
       " Total Cost: 0.744,\n",
       " 2 Li2CO3 + Mn2O3 -> Li2O + 2 LiMnCO4 (dG = 0.029 eV/atom) \n",
       " YCl3 + 1.5 Li2O -> 0.5 Y2O3 + 3 LiCl (dG = -0.297 eV/atom) \n",
       " Total Cost: 0.475,\n",
       " 2 Li2CO3 + Mn2O3 -> Li2O + 2 LiMnCO4 (dG = 0.029 eV/atom) \n",
       " YCl3 + Li2O -> YClO + 2 LiCl (dG = -0.273 eV/atom) \n",
       " Total Cost: 0.479,\n",
       " Li2CO3 -> Li2O + CO2 (dG = 0.146 eV/atom) \n",
       " YCl3 + 1.5 Li2O -> 0.5 Y2O3 + 3 LiCl (dG = -0.297 eV/atom) \n",
       " Total Cost: 0.504,\n",
       " Li2CO3 -> Li2O + CO2 (dG = 0.146 eV/atom) \n",
       " YCl3 + Li2O -> YClO + 2 LiCl (dG = -0.273 eV/atom) \n",
       " Total Cost: 0.508,\n",
       " Li2CO3 + 0.5 Mn2O3 -> 0.25 O2 + Li2MnCO4 (dG = 0.054 eV/atom) \n",
       " 0.5 O2 + 2 Li2MnCO4 -> Li2O + 2 LiMnCO4 (dG = -0.026 eV/atom) \n",
       " YCl3 + 1.5 Li2O -> 0.5 Y2O3 + 3 LiCl (dG = -0.297 eV/atom) \n",
       " Total Cost: 0.74,\n",
       " Li2CO3 + Mn2O3 -> CO2 + 2 LiMnO2 (dG = 0.009 eV/atom) \n",
       " Total Cost: 0.267,\n",
       " 2 Li2CO3 -> Li4CO4 + CO2 (dG = 0.055 eV/atom) \n",
       " Total Cost: 0.278,\n",
       " Li2CO3 -> Li2O + CO2 (dG = 0.146 eV/atom) \n",
       " Total Cost: 0.301,\n",
       " Li2CO3 + 0.5 Mn2O3 -> 0.25 O2 + Li2MnCO4 (dG = 0.054 eV/atom) \n",
       " 0.5 O2 + Li2MnCO4 -> Li2MnO3 + CO2 (dG = -0.092 eV/atom) \n",
       " Total Cost: 0.522,\n",
       " Li2CO3 + Mn2O3 -> LiMn2O4 + LiCO2 (dG = 0.046 eV/atom) \n",
       " LiMn2O4 + 3 LiCO2 -> 2 Li2MnCO4 + CO2 (dG = -0.069 eV/atom) \n",
       " Total Cost: 0.525]"
      ]
     },
     "execution_count": 30,
     "metadata": {},
     "output_type": "execute_result"
    }
   ],
   "source": [
    "paths.get_paths()"
   ]
  },
  {
   "cell_type": "markdown",
   "id": "dd784030",
   "metadata": {},
   "source": [
    "The output of this method is a list of `BasicPathway` objects. Note that these objects contain a list of reactions and associated costs, but the actual pathway is typically not balanced:"
   ]
  },
  {
   "cell_type": "code",
   "execution_count": 31,
   "id": "8fde70a1",
   "metadata": {},
   "outputs": [
    {
     "name": "stdout",
     "output_type": "stream",
     "text": [
      "Mn2O3 + 0.2222 YCl3 -> 0.2222 Mn8Cl3O10 + 0.1111 Y2Mn2O7 (dG = -0.015 eV/atom) \n",
      "Mn2O3 + Y2Mn2O7 -> 2 YMnO3 + 2 MnO2 (dG = 0.005 eV/atom) \n",
      "Total Cost: 0.528\n"
     ]
    }
   ],
   "source": [
    "example_path = paths.get_paths()[0]\n",
    "print(example_path)"
   ]
  },
  {
   "cell_type": "markdown",
   "id": "17a1a55c",
   "metadata": {},
   "source": [
    "This means that the reactions you see above do not necessarily include all reactants, nor do they include form all desired products. They are simply a series of reactions extracted from the reaction network that maybe encountered as the system attempts to get from starter phases to target phases.\n",
    "\n",
    "To actually get balanced reactions, we can use the `PathwaySolver` class. This class takes a set of entries, a list of `BasicPathway` objects, as well as a cost function, and can be used to solve for balanced pathways given a net reaction. First we initialize the class:"
   ]
  },
  {
   "cell_type": "code",
   "execution_count": 32,
   "id": "6767200b",
   "metadata": {},
   "outputs": [],
   "source": [
    "ps = PathwaySolver(paths, rn.entries, cf) # open_elem=\"O\", chempot=0"
   ]
  },
  {
   "cell_type": "code",
   "execution_count": 35,
   "id": "fcf1af97",
   "metadata": {},
   "outputs": [
    {
     "data": {
      "text/plain": [
       "{'oxide_type': 'None',\n",
       " 'aspherical': True,\n",
       " 'last_updated': datetime.datetime(2020, 11, 11, 18, 12, 8, 828000),\n",
       " 'task_id': 'mp-1795488',\n",
       " 'oxidation_states': {},\n",
       " 'run_type': 'GGA',\n",
       " 'idx': 0}"
      ]
     },
     "execution_count": 35,
     "metadata": {},
     "output_type": "execute_result"
    }
   ],
   "source": [
    "rn.entries.entries_list[0].data"
   ]
  },
  {
   "cell_type": "markdown",
   "id": "dc8e2b26",
   "metadata": {},
   "source": [
    "To balance the pathways, we must provide a net reaction representing the total conversion of precursors to final products. This corresponds to the assisted metathesis reaction we defined in the beginning. We can automatically make this reaction by initializing a `ComputedReaction` object from the corresponding entries:"
   ]
  },
  {
   "cell_type": "code",
   "execution_count": 33,
   "id": "a3256224",
   "metadata": {},
   "outputs": [
    {
     "data": {
      "text/plain": [
       "1.5 Li2CO3 + 0.5 Mn2O3 + YCl3 -> YMnO3 + 3 LiCl + 1.5 CO2"
      ]
     },
     "execution_count": 33,
     "metadata": {},
     "output_type": "execute_result"
    }
   ],
   "source": [
    "product_entries = []\n",
    "for i in [\"YMnO3\",\"LiCl\",\"CO2\"]:\n",
    "    product_entries.append(rn.entries.get_min_entry_by_formula(i))\n",
    "    \n",
    "net_rxn = ComputedReaction.balance(rn.precursors,product_entries)\n",
    "net_rxn"
   ]
  },
  {
   "cell_type": "markdown",
   "id": "406e3e3b",
   "metadata": {},
   "source": [
    "Finally, we provide the net reaction to the `PathwaySolver` object. Note that the _intermediate_rxn_energy_cutoff_ helps to limit which intermediate reactions are considered (this can substantially decrease the combinatorial complexity), and the _filter_interdependent_ flag verifies that suggested pathways do not contain interdependent reactions (i.e. where both the reactants of reaction A depend on the products of the reaction B, and the reactants of reaction B depend on the products of reaction A).\n",
    "\n",
    "**Note: Even though this step is compiled/parallelized using Numba, this is often the most time-intensive step in the reaction network analysis. Consider limiting the value of the maximum number of combos, as well as the value of the intermediate reaction energy cutoff.**"
   ]
  },
  {
   "cell_type": "code",
   "execution_count": 35,
   "id": "83e33177",
   "metadata": {
    "scrolled": true
   },
   "outputs": [
    {
     "name": "stderr",
     "output_type": "stream",
     "text": [
      "INFO:PathwaySolver:Net reaction: 1.5 Li2CO3 + 0.5 Mn2O3 + YCl3 -> YMnO3 + 3 LiCl + 1.5 CO2 \n",
      "\n",
      "INFO:PathwaySolver:Identifying reactions between intermediates...\n",
      "100%|████████████████████████████████████████████████████████████████████████████████████████████████████████████████████████████████████████████████| 31/31 [00:02<00:00, 10.56it/s]\n",
      "INFO:PathwaySolver:Found 50 intermediate reactions! \n",
      "\n",
      "PathwaySolver (Batch 1): 100%|█████████████████████████████████████████████████████████████████████████████████████████████████████████████████████████| 9/9 [01:28<00:00,  9.80s/it]\n"
     ]
    }
   ],
   "source": [
    "balanced_paths = ps.solve(net_rxn, max_num_combos=4, \n",
    "                          intermediate_rxn_energy_cutoff=0.0, \n",
    "                          use_minimize_enumerator=False,\n",
    "                          filter_interdependent=True)"
   ]
  },
  {
   "cell_type": "markdown",
   "id": "7499b24b",
   "metadata": {},
   "source": [
    "We can now print the suggested, balanced reaction pathways:"
   ]
  },
  {
   "cell_type": "code",
   "execution_count": 36,
   "id": "66aa3200",
   "metadata": {},
   "outputs": [
    {
     "name": "stdout",
     "output_type": "stream",
     "text": [
      "Path 1 \n",
      "\n",
      "Li2O + 0.6667 YCl3 -> 2 LiCl + 0.3333 Y2O3 (dG = -0.297 eV/atom) \n",
      "Mn2O3 + Y2O3 -> 2 YMnO3 (dG = -0.069 eV/atom) \n",
      "Li2CO3 -> CO2 + Li2O (dG = 0.146 eV/atom) \n",
      "Average Cost: 0.252\n",
      "\n",
      "\n",
      "Path 2 \n",
      "\n",
      "Li2O + YCl3 -> 2 LiCl + YClO (dG = -0.273 eV/atom) \n",
      "Li2CO3 -> CO2 + Li2O (dG = 0.146 eV/atom) \n",
      "0.5 Li2CO3 + 0.5 Mn2O3 -> 0.5 CO2 + LiMnO2 (dG = 0.009 eV/atom) \n",
      "LiMnO2 + YClO -> LiCl + YMnO3 (dG = -0.081 eV/atom) \n",
      "Average Cost: 0.254\n",
      "\n",
      "\n",
      "Path 3 \n",
      "\n",
      "Mn2O3 + Y2O3 -> 2 YMnO3 (dG = -0.069 eV/atom) \n",
      "Li2O + YCl3 -> 2 LiCl + YClO (dG = -0.273 eV/atom) \n",
      "Li2CO3 -> CO2 + Li2O (dG = 0.146 eV/atom) \n",
      "Li2O + 2 YClO -> 2 LiCl + Y2O3 (dG = -0.136 eV/atom) \n",
      "Average Cost: 0.257\n",
      "\n",
      "\n"
     ]
    }
   ],
   "source": [
    "for idx, path in enumerate(balanced_paths):\n",
    "    print(f\"Path {idx+1}\", \"\\n\")\n",
    "    print(path)\n",
    "    print(\"\\n\")"
   ]
  },
  {
   "cell_type": "code",
   "execution_count": 23,
   "id": "e469ee12",
   "metadata": {},
   "outputs": [
    {
     "data": {
      "text/plain": [
       "[Li2O + 0.6667 YCl3 -> 2 LiCl + 0.3333 Y2O3 (dG = -0.297 eV/atom) \n",
       " Mn2O3 + Y2O3 -> 2 YMnO3 (dG = -0.069 eV/atom) \n",
       " Li2CO3 -> CO2 + Li2O (dG = 0.146 eV/atom) \n",
       " Average Cost: 0.252,\n",
       " Li2O + YCl3 -> 2 LiCl + YClO (dG = -0.273 eV/atom) \n",
       " Li2CO3 -> CO2 + Li2O (dG = 0.146 eV/atom) \n",
       " Li2CO3 + Mn2O3 -> CO2 + 2 LiMnO2 (dG = 0.009 eV/atom) \n",
       " LiMnO2 + YClO -> LiCl + YMnO3 (dG = -0.081 eV/atom) \n",
       " Average Cost: 0.254,\n",
       " Li2O + YCl3 -> 2 LiCl + YClO (dG = -0.273 eV/atom) \n",
       " Li2CO3 -> CO2 + Li2O (dG = 0.146 eV/atom) \n",
       " 2 Li2CO3 -> CO2 + Li4CO4 (dG = 0.055 eV/atom) \n",
       " LiMnO2 + YClO -> LiCl + YMnO3 (dG = -0.081 eV/atom) \n",
       " Li4CO4 + 2 Mn2O3 -> CO2 + 4 LiMnO2 (dG = -0.025 eV/atom) \n",
       " Average Cost: 0.254,\n",
       " Li2O + YCl3 -> 2 LiCl + YClO (dG = -0.273 eV/atom) \n",
       " Li2CO3 -> CO2 + Li2O (dG = 0.146 eV/atom) \n",
       " Li2CO3 + Mn2O3 -> LiCO2 + LiMn2O4 (dG = 0.046 eV/atom) \n",
       " LiMnO2 + YClO -> LiCl + YMnO3 (dG = -0.081 eV/atom) \n",
       " LiCO2 + LiMn2O4 -> CO2 + 2 LiMnO2 (dG = -0.038 eV/atom) \n",
       " Average Cost: 0.255,\n",
       " Li2O + 0.6667 YCl3 -> 2 LiCl + 0.3333 Y2O3 (dG = -0.297 eV/atom) \n",
       " Mn2O3 + Y2O3 -> 2 YMnO3 (dG = -0.069 eV/atom) \n",
       " Li2O + YCl3 -> 2 LiCl + YClO (dG = -0.273 eV/atom) \n",
       " Li2CO3 -> CO2 + Li2O (dG = 0.146 eV/atom) \n",
       " Li2O + 2 YClO -> 2 LiCl + Y2O3 (dG = -0.136 eV/atom) \n",
       " Average Cost: 0.255,\n",
       " Mn2O3 + Y2O3 -> 2 YMnO3 (dG = -0.069 eV/atom) \n",
       " Li2O + YCl3 -> 2 LiCl + YClO (dG = -0.273 eV/atom) \n",
       " Li2CO3 -> CO2 + Li2O (dG = 0.146 eV/atom) \n",
       " Li2O + 2 YClO -> 2 LiCl + Y2O3 (dG = -0.136 eV/atom) \n",
       " Average Cost: 0.257]"
      ]
     },
     "execution_count": 23,
     "metadata": {},
     "output_type": "execute_result"
    }
   ],
   "source": [
    "balanced_paths"
   ]
  },
  {
   "cell_type": "code",
   "execution_count": null,
   "id": "cda6e310",
   "metadata": {},
   "outputs": [],
   "source": []
  },
  {
   "cell_type": "code",
   "execution_count": 24,
   "id": "f8853da5",
   "metadata": {},
   "outputs": [],
   "source": [
    "from rxn_network.pathways.pathway_set import PathwaySet"
   ]
  },
  {
   "cell_type": "markdown",
   "id": "1bf41273",
   "metadata": {},
   "source": [
    "We note that **Pathway 12 most closely matches the experimentally observed reaction pathway** (ordering subject to change in the future).\n",
    "\n",
    "However, many of the pathways include hypothetical (never-before-synthesized) materials (e.g., Li3MnO3), so the top-ranked pathway does not necessarily match what is experimentally observed."
   ]
  },
  {
   "cell_type": "markdown",
   "id": "34e6b633",
   "metadata": {},
   "source": [
    "### Running networks with jobflow\n",
    "\n",
    "The `NetworkFW` class allows you to easily run the reaction network construction and pathfinding analysis via fireworks. Simply create a network firework, add it to the LaunchPad, and launch it on your computing resource. See the documentation for more information about each of the parameters."
   ]
  },
  {
   "cell_type": "code",
   "execution_count": 36,
   "id": "30461bf5",
   "metadata": {},
   "outputs": [],
   "source": [
    "from rxn_network.flows.core import NetworkFlowMaker\n",
    "from rxn_network.jobs.core import GetEntrySetMaker, NetworkMaker, PathwaySolverMaker\n",
    "from jobflow.managers.local import run_locally"
   ]
  },
  {
   "cell_type": "code",
   "execution_count": 63,
   "id": "1007d1d5",
   "metadata": {},
   "outputs": [],
   "source": [
    "precursors=[\"YCl3\", \"Mn2O3\", \"Li2CO3\"]\n",
    "targets=[\"YMnO3\", \"LiCl\", \"CO2\"]\n",
    "k=5\n",
    "temp = 650+273\n",
    "cf = Softplus(temp, [\"energy_per_atom\"], [1.0])\n",
    "\n",
    "get_entry_set_maker = GetEntrySetMaker(temperature=temp, e_above_hull=0.000)\n",
    "network_maker = NetworkMaker(cost_function=cf, precursors=precursors, targets=targets, calculate_pathways=k)\n",
    "solver_maker = PathwaySolverMaker(cost_function=cf, precursors=precursors, targets=targets)"
   ]
  },
  {
   "cell_type": "code",
   "execution_count": 64,
   "id": "4454e8c5",
   "metadata": {},
   "outputs": [],
   "source": [
    "flow = NetworkFlowMaker(get_entry_set_maker=get_entry_set_maker, \n",
    "                 network_maker=network_maker, solver_maker=solver_maker, open_elem=\"O\", chempots=[0.0]).make(precursors=precursors, targets=targets)"
   ]
  },
  {
   "cell_type": "code",
   "execution_count": 65,
   "id": "f0ab971f",
   "metadata": {},
   "outputs": [
    {
     "data": {
      "text/plain": [
       "<module 'matplotlib.pyplot' from '/Users/mcdermott/opt/miniconda3/envs/rn_dev2/lib/python3.10/site-packages/matplotlib/pyplot.py'>"
      ]
     },
     "execution_count": 65,
     "metadata": {},
     "output_type": "execute_result"
    },
    {
     "data": {
      "image/png": "[encoded data removed]",
      "text/plain": [
       "<Figure size 1200x800 with 1 Axes>"
      ]
     },
     "metadata": {},
     "output_type": "display_data"
    }
   ],
   "source": [
    "flow.draw_graph()"
   ]
  },
  {
   "cell_type": "code",
   "execution_count": 66,
   "id": "083ee5d7",
   "metadata": {},
   "outputs": [
    {
     "name": "stdout",
     "output_type": "stream",
     "text": [
      "2022-09-14 12:10:24,435 INFO Started executing jobs locally\n"
     ]
    },
    {
     "name": "stderr",
     "output_type": "stream",
     "text": [
      "INFO:jobflow.managers.local:Started executing jobs locally\n"
     ]
    },
    {
     "name": "stdout",
     "output_type": "stream",
     "text": [
      "2022-09-14 12:10:24,438 INFO Starting job - get_and_process_entries (Mn-Y-C-Cl-O-Li, T=923 K, +0.0 eV) (c6ba0b94-ce6e-4203-bfd2-b6216ce6ce4f)\n"
     ]
    },
    {
     "name": "stderr",
     "output_type": "stream",
     "text": [
      "INFO:jobflow.core.job:Starting job - get_and_process_entries (Mn-Y-C-Cl-O-Li, T=923 K, +0.0 eV) (c6ba0b94-ce6e-4203-bfd2-b6216ce6ce4f)\n"
     ]
    },
    {
     "name": "stdout",
     "output_type": "stream",
     "text": [
      "2022-09-14 12:10:34,374 INFO Finished job - get_and_process_entries (Mn-Y-C-Cl-O-Li, T=923 K, +0.0 eV) (c6ba0b94-ce6e-4203-bfd2-b6216ce6ce4f)\n"
     ]
    },
    {
     "name": "stderr",
     "output_type": "stream",
     "text": [
      "INFO:jobflow.core.job:Finished job - get_and_process_entries (Mn-Y-C-Cl-O-Li, T=923 K, +0.0 eV) (c6ba0b94-ce6e-4203-bfd2-b6216ce6ce4f)\n"
     ]
    },
    {
     "name": "stdout",
     "output_type": "stream",
     "text": [
      "2022-09-14 12:10:34,376 INFO Starting job - ReactionEnumerationMaker.make (ebddca31-bf97-4763-8750-53238d5ee1b7)\n"
     ]
    },
    {
     "name": "stderr",
     "output_type": "stream",
     "text": [
      "INFO:jobflow.core.job:Starting job - ReactionEnumerationMaker.make (ebddca31-bf97-4763-8750-53238d5ee1b7)\n",
      "100%|████████████████████████████████████████████████████████████████████████████████████████████████████████████████████████████████████████████████| 54/54 [00:04<00:00, 13.11it/s]\n",
      "100%|████████████████████████████████████████████████████████████████████████████████████████████████████████████████████████████████████████████████| 43/43 [00:13<00:00,  3.19it/s]\n",
      "100%|████████████████████████████████████████████████████████████████████████████████████████████████████████████████████████████████████████████████| 57/57 [00:07<00:00,  8.01it/s]\n"
     ]
    },
    {
     "name": "stdout",
     "output_type": "stream",
     "text": [
      "2022-09-14 12:11:02,469 INFO Finished job - ReactionEnumerationMaker.make (ebddca31-bf97-4763-8750-53238d5ee1b7)\n"
     ]
    },
    {
     "name": "stderr",
     "output_type": "stream",
     "text": [
      "INFO:jobflow.core.job:Finished job - ReactionEnumerationMaker.make (ebddca31-bf97-4763-8750-53238d5ee1b7)\n"
     ]
    },
    {
     "name": "stdout",
     "output_type": "stream",
     "text": [
      "2022-09-14 12:11:02,473 INFO Starting job - ReactionEnumerationMaker.make (eb7402cc-5266-41d0-8bdb-35ec8a8ce187)\n"
     ]
    },
    {
     "name": "stderr",
     "output_type": "stream",
     "text": [
      "INFO:jobflow.core.job:Starting job - ReactionEnumerationMaker.make (eb7402cc-5266-41d0-8bdb-35ec8a8ce187)\n",
      "100%|████████████████████████████████████████████████████████████████████████████████████████████████████████████████████████████████████████████████| 31/31 [00:02<00:00, 15.13it/s]\n"
     ]
    },
    {
     "name": "stdout",
     "output_type": "stream",
     "text": [
      "2022-09-14 12:11:05,185 INFO Finished job - ReactionEnumerationMaker.make (eb7402cc-5266-41d0-8bdb-35ec8a8ce187)\n"
     ]
    },
    {
     "name": "stderr",
     "output_type": "stream",
     "text": [
      "INFO:jobflow.core.job:Finished job - ReactionEnumerationMaker.make (eb7402cc-5266-41d0-8bdb-35ec8a8ce187)\n"
     ]
    },
    {
     "name": "stdout",
     "output_type": "stream",
     "text": [
      "2022-09-14 12:11:05,186 INFO Starting job - build_and_analyze_network (9ff8df87-0f86-44f8-bf21-6672e5fe3745)\n"
     ]
    },
    {
     "name": "stderr",
     "output_type": "stream",
     "text": [
      "INFO:jobflow.core.job:Starting job - build_and_analyze_network (9ff8df87-0f86-44f8-bf21-6672e5fe3745)\n",
      "INFO:ReactionNetwork:Building graph from reactions...\n",
      "100%|███████████████████████████████████████████████████████████████████████████████████████████████████████████████████████████████████████████| 9873/9873 [00:13<00:00, 706.51it/s]\n"
     ]
    },
    {
     "name": "stdout",
     "output_type": "stream",
     "text": [
      "PATHS to YMnO3 \n",
      "\n",
      "--------------------------------------- \n",
      "\n",
      "1.25 Mn2O3 + YCl3 -> YMnO3 + 0.375 O2 + 1.5 MnCl2 (dG = 0.095 eV/atom) \n",
      "Total Cost: 0.282 \n",
      "\n",
      "0.5 Li2CO3 + 0.3333 YCl3 -> LiCl + 0.1667 Y2O3 + 0.5 CO2 (dG = -0.099 eV/atom) \n",
      "Mn2O3 + Y2O3 -> 2 YMnO3 (dG = -0.069 eV/atom) \n",
      "Total Cost: 0.481 \n",
      "\n",
      "Li2CO3 + Mn2O3 -> LiMnCO4 + LiMnO2 (dG = -0.013 eV/atom) \n",
      "2 YCl3 + 6 LiMnO2 -> YMnO3 + Mn3O4 + YMn2O5 + 6 LiCl (dG = -0.116 eV/atom) \n",
      "Total Cost: 0.49 \n",
      "\n",
      "0.5 Li2CO3 + 0.5 YCl3 -> LiCl + 0.5 YClO + 0.5 CO2 (dG = -0.109 eV/atom) \n",
      "3 YClO + Mn2O3 -> YCl3 + 2 YMnO3 (dG = -0.0 eV/atom) \n",
      "Total Cost: 0.494 \n",
      "\n",
      "0.5 Li2CO3 + 0.5 Mn2O3 -> LiMnO2 + 0.5 CO2 (dG = 0.006 eV/atom) \n",
      "2 YCl3 + 6 LiMnO2 -> YMnO3 + Mn3O4 + YMn2O5 + 6 LiCl (dG = -0.116 eV/atom) \n",
      "Total Cost: 0.494 \n",
      "\n",
      "PATHS to LiCl \n",
      "\n",
      "--------------------------------------- \n",
      "\n",
      "0.5 Li2CO3 + 0.5 YCl3 -> LiCl + 0.5 YClO + 0.5 CO2 (dG = -0.109 eV/atom) \n",
      "Total Cost: 0.235 \n",
      "\n",
      "0.5 Li2CO3 + 0.3333 YCl3 -> LiCl + 0.1667 Y2O3 + 0.5 CO2 (dG = -0.099 eV/atom) \n",
      "Total Cost: 0.237 \n",
      "\n",
      "Li2CO3 + 0.5 Mn2O3 -> Li + 0.25 O2 + LiMnCO4 (dG = 0.32 eV/atom) \n",
      "O2 + 4 Li + 1.333 YCl3 -> 0.6667 Y2O3 + 4 LiCl (dG = -1.173 eV/atom) \n",
      "Total Cost: 0.429 \n",
      "\n",
      "Li2CO3 + 0.5 Mn2O3 -> Li + 0.25 O2 + LiMnCO4 (dG = 0.32 eV/atom) \n",
      "O2 + 4 Li + 2 YCl3 -> 2 YClO + 4 LiCl (dG = -0.982 eV/atom) \n",
      "Total Cost: 0.447 \n",
      "\n",
      "Li2CO3 + 0.5 Mn2O3 -> Li + 0.5 O2 + 0.5 Li2Mn2C2O7 (dG = 0.397 eV/atom) \n",
      "O2 + 4 Li + 1.333 YCl3 -> 0.6667 Y2O3 + 4 LiCl (dG = -1.173 eV/atom) \n",
      "Total Cost: 0.452 \n",
      "\n",
      "PATHS to CO2 \n",
      "\n",
      "--------------------------------------- \n",
      "\n",
      "0.5 Li2CO3 + 0.5 YCl3 -> LiCl + 0.5 YClO + 0.5 CO2 (dG = -0.109 eV/atom) \n",
      "Total Cost: 0.235 \n",
      "\n",
      "0.5 Li2CO3 + 0.3333 YCl3 -> LiCl + 0.1667 Y2O3 + 0.5 CO2 (dG = -0.099 eV/atom) \n",
      "Total Cost: 0.237 \n",
      "\n",
      "0.5 Li2CO3 + 0.5 Mn2O3 -> LiMnO2 + 0.5 CO2 (dG = 0.006 eV/atom) \n",
      "Total Cost: 0.261 \n",
      "\n",
      "2 Li2CO3 -> Li4CO4 + CO2 (dG = 0.052 eV/atom) \n",
      "Total Cost: 0.271 \n",
      "\n",
      "Li2CO3 -> Li2O + CO2 (dG = 0.141 eV/atom) \n",
      "Total Cost: 0.293 \n",
      "\n",
      "2022-09-14 12:11:49,311 INFO Finished job - build_and_analyze_network (9ff8df87-0f86-44f8-bf21-6672e5fe3745)\n"
     ]
    },
    {
     "name": "stderr",
     "output_type": "stream",
     "text": [
      "INFO:jobflow.core.job:Finished job - build_and_analyze_network (9ff8df87-0f86-44f8-bf21-6672e5fe3745)\n"
     ]
    },
    {
     "name": "stdout",
     "output_type": "stream",
     "text": [
      "2022-09-14 12:11:49,315 INFO Starting job - build_and_analyze_network(open O, mu=0.0) (e8fb9c69-f39b-4a7c-b2cd-a260553c63fb)\n"
     ]
    },
    {
     "name": "stderr",
     "output_type": "stream",
     "text": [
      "INFO:jobflow.core.job:Starting job - build_and_analyze_network(open O, mu=0.0) (e8fb9c69-f39b-4a7c-b2cd-a260553c63fb)\n",
      "INFO:ReactionNetwork:Building graph from reactions...\n",
      "100%|█████████████████████████████████████████████████████████████████████████████████████████████████████████████████████████████████████████| 10198/10198 [00:14<00:00, 697.93it/s]\n"
     ]
    },
    {
     "name": "stdout",
     "output_type": "stream",
     "text": [
      "PATHS to YMnO3 \n",
      "\n",
      "--------------------------------------- \n",
      "\n",
      "1.25 Mn2O3 + YCl3 -> YMnO3 + 0.375 O2 + 1.5 MnCl2 (dG = 0.095 eV/atom) \n",
      "Total Cost: 0.282 \n",
      "\n",
      "0.5 Li2CO3 + 0.3333 YCl3 -> LiCl + 0.1667 Y2O3 + 0.5 CO2 (dG = -0.099 eV/atom) \n",
      "Mn2O3 + Y2O3 -> 2 YMnO3 (dG = -0.069 eV/atom) \n",
      "Total Cost: 0.481 \n",
      "\n",
      "Li2CO3 + Mn2O3 -> LiMnCO4 + LiMnO2 (dG = -0.013 eV/atom) \n",
      "2 YCl3 + 6 LiMnO2 -> YMnO3 + Mn3O4 + YMn2O5 + 6 LiCl (dG = -0.116 eV/atom) \n",
      "Total Cost: 0.49 \n",
      "\n",
      "0.5 Li2CO3 + 0.5 YCl3 -> LiCl + 0.5 YClO + 0.5 CO2 (dG = -0.109 eV/atom) \n",
      "3 YClO + Mn2O3 -> YCl3 + 2 YMnO3 (dG = -0.0 eV/atom) \n",
      "Total Cost: 0.494 \n",
      "\n",
      "0.5 Li2CO3 + 0.5 Mn2O3 -> LiMnO2 + 0.5 CO2 (dG = 0.006 eV/atom) \n",
      "2 YCl3 + 6 LiMnO2 -> YMnO3 + Mn3O4 + YMn2O5 + 6 LiCl (dG = -0.116 eV/atom) \n",
      "Total Cost: 0.494 \n",
      "\n",
      "PATHS to LiCl \n",
      "\n",
      "--------------------------------------- \n",
      "\n",
      "0.5 Li2CO3 + 0.5 YCl3 -> LiCl + 0.5 YClO + 0.5 CO2 (dG = -0.109 eV/atom) \n",
      "Total Cost: 0.235 \n",
      "\n",
      "0.5 Li2CO3 + 0.3333 YCl3 -> LiCl + 0.1667 Y2O3 + 0.5 CO2 (dG = -0.099 eV/atom) \n",
      "Total Cost: 0.237 \n",
      "\n",
      "0.5217 Li2CO3 + Mn2O3 -> LiMn2O4 + 0.2826 O2 + 0.04348 LiC12 (dG = 0.23 eV/atom) \n",
      "LiC12 + 0.3333 YCl3 + 12.25 O2 -> LiCl + 0.1667 Y2O3 + 12 CO2 (dG = -1.33 eV/atom) \n",
      "Total Cost: 0.392 \n",
      "\n",
      "0.5217 Li2CO3 + Mn2O3 -> LiMn2O4 + 0.2826 O2 + 0.04348 LiC12 (dG = 0.23 eV/atom) \n",
      "LiC12 + 0.5 YCl3 + 12.25 O2 -> LiCl + 12 CO2 + 0.5 YClO (dG = -1.31 eV/atom) \n",
      "Total Cost: 0.393 \n",
      "\n",
      "2.243 Li2CO3 + 3.009 Mn2O3 -> O2 + 0.1869 LiC12 + 0.8598 Li5Mn7O16 (dG = 0.274 eV/atom) \n",
      "LiC12 + 0.3333 YCl3 + 12.25 O2 -> LiCl + 0.1667 Y2O3 + 12 CO2 (dG = -1.33 eV/atom) \n",
      "Total Cost: 0.404 \n",
      "\n",
      "PATHS to CO2 \n",
      "\n",
      "--------------------------------------- \n",
      "\n",
      "0.5 Li2CO3 + 0.5 YCl3 -> LiCl + 0.5 YClO + 0.5 CO2 (dG = -0.109 eV/atom) \n",
      "Total Cost: 0.235 \n",
      "\n",
      "0.5 Li2CO3 + 0.3333 YCl3 -> LiCl + 0.1667 Y2O3 + 0.5 CO2 (dG = -0.099 eV/atom) \n",
      "Total Cost: 0.237 \n",
      "\n",
      "0.5 Li2CO3 + 0.5 Mn2O3 -> LiMnO2 + 0.5 CO2 (dG = 0.006 eV/atom) \n",
      "Total Cost: 0.261 \n",
      "\n",
      "2 Li2CO3 -> Li4CO4 + CO2 (dG = 0.052 eV/atom) \n",
      "Total Cost: 0.271 \n",
      "\n",
      "Li2CO3 -> Li2O + CO2 (dG = 0.141 eV/atom) \n",
      "Total Cost: 0.293 \n",
      "\n",
      "2022-09-14 12:12:35,630 INFO Finished job - build_and_analyze_network(open O, mu=0.0) (e8fb9c69-f39b-4a7c-b2cd-a260553c63fb)\n"
     ]
    },
    {
     "name": "stderr",
     "output_type": "stream",
     "text": [
      "INFO:jobflow.core.job:Finished job - build_and_analyze_network(open O, mu=0.0) (e8fb9c69-f39b-4a7c-b2cd-a260553c63fb)\n"
     ]
    },
    {
     "name": "stdout",
     "output_type": "stream",
     "text": [
      "2022-09-14 12:12:35,634 INFO Starting job - solve pathways (e0acdaf3-6579-4f6f-b8a0-de7c28616da4)\n"
     ]
    },
    {
     "name": "stderr",
     "output_type": "stream",
     "text": [
      "INFO:jobflow.core.job:Starting job - solve pathways (e0acdaf3-6579-4f6f-b8a0-de7c28616da4)\n",
      "INFO:PathwaySolver:Net reaction: YCl3 + 0.5 Mn2O3 + 1.5 Li2CO3 -> YMnO3 + 3 LiCl + 1.5 CO2 \n",
      "\n",
      "INFO:PathwaySolver:Identifying reactions between intermediates...\n",
      "100%|███████████████████████████████████████████████████████████████████████████████████████████████████████████████████████████████████████████████| 33/33 [00:00<00:00, 150.01it/s]\n",
      "INFO:PathwaySolver:Found 25 intermediate reactions! \n",
      "\n",
      "PathwaySolver (Batch 1):  25%|██████████████████████████████▎                                                                                          | 1/4 [00:01<00:05,  1.93s/it]\u001b[2m\u001b[36m(_get_balanced_paths_ray pid=2621)\u001b[0m OMP: Info #276: omp_set_nested routine deprecated, please use omp_set_max_active_levels instead.\n",
      "\u001b[2m\u001b[36m(_get_balanced_paths_ray pid=2615)\u001b[0m OMP: Info #276: omp_set_nested routine deprecated, please use omp_set_max_active_levels instead.\n",
      "\u001b[2m\u001b[36m(_get_balanced_paths_ray pid=2611)\u001b[0m OMP: Info #276: omp_set_nested routine deprecated, please use omp_set_max_active_levels instead.\n",
      "PathwaySolver (Batch 1): 100%|█████████████████████████████████████████████████████████████████████████████████████████████████████████████████████████| 4/4 [00:08<00:00,  2.25s/it]\n"
     ]
    },
    {
     "name": "stdout",
     "output_type": "stream",
     "text": [
      "2022-09-14 12:12:46,180 INFO Finished job - solve pathways (e0acdaf3-6579-4f6f-b8a0-de7c28616da4)\n"
     ]
    },
    {
     "name": "stderr",
     "output_type": "stream",
     "text": [
      "INFO:jobflow.core.job:Finished job - solve pathways (e0acdaf3-6579-4f6f-b8a0-de7c28616da4)\n"
     ]
    },
    {
     "name": "stdout",
     "output_type": "stream",
     "text": [
      "2022-09-14 12:12:46,182 INFO Starting job - solve pathways(open O, mu=0.0) (31712e4d-104a-4661-be6a-70aa2f2a2d6a)\n"
     ]
    },
    {
     "name": "stderr",
     "output_type": "stream",
     "text": [
      "INFO:jobflow.core.job:Starting job - solve pathways(open O, mu=0.0) (31712e4d-104a-4661-be6a-70aa2f2a2d6a)\n",
      "INFO:PathwaySolver:Net reaction: YCl3 + 0.5 Mn2O3 + 1.5 Li2CO3 -> YMnO3 + 3 LiCl + 1.5 CO2 \n",
      "\n",
      "INFO:PathwaySolver:Identifying reactions between intermediates...\n",
      "100%|███████████████████████████████████████████████████████████████████████████████████████████████████████████████████████████████████████████████| 35/35 [00:00<00:00, 131.76it/s]\n",
      "INFO:PathwaySolver:Found 32 intermediate reactions! \n",
      "\n",
      "PathwaySolver (Batch 1):  80%|████████████████████████████████████████████████████████████████████████████████████████████████▊                        | 4/5 [00:02<00:00,  1.27it/s]\u001b[2m\u001b[36m(_get_balanced_paths_ray pid=2616)\u001b[0m OMP: Info #276: omp_set_nested routine deprecated, please use omp_set_max_active_levels instead.\n",
      "PathwaySolver (Batch 1): 100%|█████████████████████████████████████████████████████████████████████████████████████████████████████████████████████████| 5/5 [00:08<00:00,  1.71s/it]"
     ]
    },
    {
     "name": "stdout",
     "output_type": "stream",
     "text": [
      "2022-09-14 12:12:55,951 INFO Finished job - solve pathways(open O, mu=0.0) (31712e4d-104a-4661-be6a-70aa2f2a2d6a)\n"
     ]
    },
    {
     "name": "stderr",
     "output_type": "stream",
     "text": [
      "\n",
      "INFO:jobflow.core.job:Finished job - solve pathways(open O, mu=0.0) (31712e4d-104a-4661-be6a-70aa2f2a2d6a)\n"
     ]
    },
    {
     "name": "stdout",
     "output_type": "stream",
     "text": [
      "2022-09-14 12:12:55,952 INFO Finished executing jobs locally\n"
     ]
    },
    {
     "name": "stderr",
     "output_type": "stream",
     "text": [
      "INFO:jobflow.managers.local:Finished executing jobs locally\n"
     ]
    }
   ],
   "source": [
    "output = run_locally(flow)"
   ]
  },
  {
   "cell_type": "code",
   "execution_count": 67,
   "id": "524b51d7",
   "metadata": {},
   "outputs": [
    {
     "name": "stdout",
     "output_type": "stream",
     "text": [
      "0.5 Li2CO3 + 0.3333 YCl3 -> 0.5 CO2 + LiCl + 0.1667 Y2O3 (dG = -0.099 eV/atom) \n",
      "Mn2O3 + Y2O3 -> 2 YMnO3 (dG = -0.069 eV/atom) \n",
      "Average Cost: 0.238\n",
      "0.5 Li2CO3 + 0.5 YCl3 -> 0.5 CO2 + LiCl + 0.5 YClO (dG = -0.109 eV/atom) \n",
      "2 Li2CO3 -> CO2 + Li4CO4 (dG = 0.052 eV/atom) \n",
      "Li4CO4 + 2 Mn2O3 -> CO2 + 4 LiMnO2 (dG = -0.026 eV/atom) \n",
      "LiMnO2 + YClO -> LiCl + YMnO3 (dG = -0.083 eV/atom) \n",
      "Average Cost: 0.241\n",
      "Mn2O3 + Y2O3 -> 2 YMnO3 (dG = -0.069 eV/atom) \n",
      "0.5 Li2CO3 + 0.5 YCl3 -> 0.5 CO2 + LiCl + 0.5 YClO (dG = -0.109 eV/atom) \n",
      "Li2CO3 -> CO2 + Li2O (dG = 0.141 eV/atom) \n",
      "0.5 Li2O + YClO -> LiCl + 0.5 Y2O3 (dG = -0.138 eV/atom) \n",
      "Average Cost: 0.242\n",
      "0.5 Li2CO3 + 0.3333 YCl3 -> 0.5 CO2 + LiCl + 0.1667 Y2O3 (dG = -0.099 eV/atom) \n",
      "Mn2O3 + Y2O3 -> 2 YMnO3 (dG = -0.069 eV/atom) \n",
      "Li2CO3 -> CO2 + Li2O (dG = 0.141 eV/atom) \n",
      "Li2O + 0.6667 YCl3 -> 2 LiCl + 0.3333 Y2O3 (dG = -0.3 eV/atom) \n",
      "Average Cost: 0.243\n",
      "0.5 Li2CO3 + 0.5 YCl3 -> 0.5 CO2 + LiCl + 0.5 YClO (dG = -0.109 eV/atom) \n",
      "0.5 Li2CO3 + 0.5 Mn2O3 -> 0.5 CO2 + LiMnO2 (dG = 0.006 eV/atom) \n",
      "LiMnO2 + YClO -> LiCl + YMnO3 (dG = -0.083 eV/atom) \n",
      "Average Cost: 0.243\n",
      "Mn2O3 + Y2O3 -> 2 YMnO3 (dG = -0.069 eV/atom) \n",
      "Li2CO3 -> CO2 + Li2O (dG = 0.141 eV/atom) \n",
      "Li2O + 0.6667 YCl3 -> 2 LiCl + 0.3333 Y2O3 (dG = -0.3 eV/atom) \n",
      "Average Cost: 0.245\n",
      "Mn2O3 + Y2O3 -> 2 YMnO3 (dG = -0.069 eV/atom) \n",
      "Li2CO3 -> CO2 + Li2O (dG = 0.141 eV/atom) \n",
      "0.5 Li2O + YClO -> LiCl + 0.5 Y2O3 (dG = -0.138 eV/atom) \n",
      "Li2O + YCl3 -> 2 LiCl + YClO (dG = -0.276 eV/atom) \n",
      "Average Cost: 0.248\n",
      "0.5 Li2CO3 + 0.5 Mn2O3 -> 0.5 CO2 + LiMnO2 (dG = 0.006 eV/atom) \n",
      "Li2CO3 -> CO2 + Li2O (dG = 0.141 eV/atom) \n",
      "Li2O + YCl3 -> 2 LiCl + YClO (dG = -0.276 eV/atom) \n",
      "LiMnO2 + YClO -> LiCl + YMnO3 (dG = -0.083 eV/atom) \n",
      "Average Cost: 0.249\n"
     ]
    }
   ],
   "source": [
    "for p in output[flow.all_uuids[-4]][1].output.balanced_paths:\n",
    "    print(p)"
   ]
  },
  {
   "cell_type": "code",
   "execution_count": null,
   "id": "1d79964a",
   "metadata": {},
   "outputs": [],
   "source": [
    "fw = NetworkFW([BasicEnumerator()], Softplus(900), chemsys=\"Y-Mn-O-Li-Cl-C\", entry_set_params={\"e_above_hull\":0.000}, \n",
    "               pathway_params={\"precursors\":[\"YCl3\",\"Mn2O3\",\"Li2CO3\"], \"targets\":[\"YMnO3\",\"LiCl\",\"CO2\"], \"k\":5},\n",
    "              solver_params={\"max_num_combos\":4, \"intermediate_rxn_energy_cutoff\":0.0, \"use_minimize_enumerator\": True})"
   ]
  },
  {
   "cell_type": "code",
   "execution_count": null,
   "id": "690f7444",
   "metadata": {},
   "outputs": [],
   "source": [
    "lpad.add_wf(Workflow([fw]))"
   ]
  },
  {
   "cell_type": "code",
   "execution_count": null,
   "id": "b6bab5db",
   "metadata": {},
   "outputs": [],
   "source": [
    "!rlaunch singleshot"
   ]
  },
  {
   "cell_type": "markdown",
   "id": "80feacb7",
   "metadata": {},
   "source": [
    "### Thank you!\n",
    "\n",
    "If any errors with the reaction-network code are encountered, please raise an Issue here: https://github.com/GENESIS-EFRC/reaction-network/issues"
   ]
  },
  {
   "cell_type": "code",
   "execution_count": null,
   "id": "ac328ad2",
   "metadata": {},
   "outputs": [],
   "source": [
    "from maggma.stores import MongoStore\n",
    "from rxn_network.pathways.pathway_set import PathwaySet"
   ]
  },
  {
   "cell_type": "code",
   "execution_count": null,
   "id": "32103621",
   "metadata": {},
   "outputs": [],
   "source": [
    "ms = MongoStore.from_db_file(\"/Users/mcdermott/db_rn.json\")\n",
    "ms.connect()"
   ]
  },
  {
   "cell_type": "code",
   "execution_count": null,
   "id": "77090687",
   "metadata": {},
   "outputs": [],
   "source": [
    "d = ms.query_one({\"task_id\":82}, [\"balanced_pathways\"])"
   ]
  },
  {
   "cell_type": "code",
   "execution_count": null,
   "id": "bdb972e1",
   "metadata": {},
   "outputs": [],
   "source": [
    "pset = PathwaySet.from_dict(d[\"balanced_pathways\"])"
   ]
  }
 ],
 "metadata": {
  "kernelspec": {
   "display_name": "Python 3 (ipykernel)",
   "language": "python",
   "name": "python3"
  },
  "language_info": {
   "codemirror_mode": {
    "name": "ipython",
    "version": 3
   },
   "file_extension": ".py",
   "mimetype": "text/x-python",
   "name": "python",
   "nbconvert_exporter": "python",
   "pygments_lexer": "ipython3",
   "version": "3.10.5"
  }
 },
 "nbformat": 4,
 "nbformat_minor": 5
}
