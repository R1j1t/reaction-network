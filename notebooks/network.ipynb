{
 "cells": [
  {
   "cell_type": "markdown",
   "id": "61b45e58",
   "metadata": {},
   "source": [
    "# reaction-network (Demo Notebook): Networks\n",
    "\n",
    "## Author: Matthew McDermott\n",
    "## Last Updated: 11/16/21\n",
    "\n",
    "**If you use this code in your work, please consider citing the following paper:**\n",
    "\n",
    "McDermott, M. J., Dwaraknath, S. S., and Persson, K. A. (2021). A graph-based network for predicting chemical reaction pathways in solid-state materials synthesis. \n",
    "Nature Communications, 12(1). https://doi.org/10.1038/s41467-021-23339-x"
   ]
  },
  {
   "cell_type": "code",
   "execution_count": 1,
   "id": "77eb7928",
   "metadata": {},
   "outputs": [],
   "source": [
    "import logging \n",
    "\n",
    "from pymatgen.ext.matproj import MPRester\n",
    "from rxn_network.enumerators.basic import BasicEnumerator, BasicOpenEnumerator\n",
    "from rxn_network.enumerators.minimize import MinimizeGibbsEnumerator, MinimizeGrandPotentialEnumerator\n",
    "from pymatgen.analysis.phase_diagram import PhaseDiagram, PDPlotter\n",
    "from rxn_network.thermo.chempot_diagram import ChemicalPotentialDiagram\n",
    "\n",
    "from rxn_network.costs.softplus import Softplus\n",
    "from pymatgen.core.composition import Composition, Element\n",
    "from rxn_network.entries.entry_set import GibbsEntrySet\n",
    "from rxn_network.network.network import ReactionNetwork\n",
    "from rxn_network.entries.nist import NISTReferenceEntry\n",
    "from rxn_network.reactions.computed import ComputedReaction\n",
    "from rxn_network.reactions.reaction_set import ReactionSet\n",
    "from rxn_network.reactions.open import OpenComputedReaction\n",
    "from rxn_network.network.entry import NetworkEntry, NetworkEntryType\n",
    "from rxn_network.network.visualize import plot_network_on_graphistry, plot_network\n",
    "from rxn_network.pathways.solver import PathwaySolver\n",
    "\n",
    "import graphistry\n",
    "import graph_tool.all as gt\n",
    "\n",
    "%load_ext autoreload\n",
    "%autoreload 2"
   ]
  },
  {
   "cell_type": "code",
   "execution_count": 2,
   "id": "44d6c072",
   "metadata": {},
   "outputs": [
    {
     "data": {
      "application/vnd.jupyter.widget-view+json": {
       "model_id": "2b60d99438ee4278a1ddc29ffd90ac72",
       "version_major": 2,
       "version_minor": 0
      },
      "text/plain": [
       "  0%|          | 0/848 [00:00<?, ?it/s]"
      ]
     },
     "metadata": {},
     "output_type": "display_data"
    }
   ],
   "source": [
    "with MPRester() as mpr:  # Insert your Materials Project API key here (if needed)\n",
    "    entries = mpr.get_entries_in_chemsys(\"Y-Mn-O-Li-Cl-C\", inc_structure=\"final\")"
   ]
  },
  {
   "cell_type": "code",
   "execution_count": 17,
   "id": "81dc252c",
   "metadata": {},
   "outputs": [],
   "source": [
    "entry_set = GibbsEntrySet.from_entries(entries, 900, include_barin_data=False).filter_by_stability(0.025)"
   ]
  },
  {
   "cell_type": "code",
   "execution_count": 18,
   "id": "94c693ae",
   "metadata": {},
   "outputs": [],
   "source": [
    "be = BasicEnumerator()\n",
    "cf = Softplus(900)"
   ]
  },
  {
   "cell_type": "code",
   "execution_count": 19,
   "id": "8dc1f67a",
   "metadata": {},
   "outputs": [],
   "source": [
    "rn = ReactionNetwork(entry_set, [BasicEnumerator()], cf)"
   ]
  },
  {
   "cell_type": "code",
   "execution_count": 20,
   "id": "adc019cd",
   "metadata": {},
   "outputs": [
    {
     "data": {
      "application/vnd.jupyter.widget-view+json": {
       "model_id": "5ca6efa34cb440069fd24d9f45edbd3c",
       "version_major": 2,
       "version_minor": 0
      },
      "text/plain": [
       "BasicEnumerator:   0%|          | 0/57 [00:00<?, ?it/s]"
      ]
     },
     "metadata": {},
     "output_type": "display_data"
    }
   ],
   "source": [
    "rn.build()"
   ]
  },
  {
   "cell_type": "code",
   "execution_count": 21,
   "id": "f8d706e6",
   "metadata": {},
   "outputs": [],
   "source": [
    "rn.set_precursors([entry_set.get_min_entry_by_formula(\"Li2CO3\"), \n",
    "                   entry_set.get_min_entry_by_formula(\"Mn2O3\"), \n",
    "                   entry_set.get_min_entry_by_formula(\"YCl3\")])"
   ]
  },
  {
   "cell_type": "code",
   "execution_count": 22,
   "id": "ec70a87e",
   "metadata": {},
   "outputs": [
    {
     "name": "stdout",
     "output_type": "stream",
     "text": [
      "PATHS to YMnO3 \n",
      "\n",
      "--------------------------------------- \n",
      "\n",
      "0.5 Mn2O3 + 1.5 Li2CO3 -> Li3MnO3 + 1.5 CO2 (dG = 0.185 eV/atom) \n",
      "Li3MnO3 + YCl3 -> YMnO3 + 3 LiCl (dG = -0.218 eV/atom) \n",
      "Total Cost: 0.529 \n",
      "\n",
      "Mn2O3 + 2 Li2CO3 -> Li2Mn(CO3)2 + Li2MnO3 (dG = 0.042 eV/atom) \n",
      "3.429 Li2MnO3 + 3.286 Mn2O3 -> Li3MnO3 + 0.4286 Li9Mn21O40 (dG = 0.029 eV/atom) \n",
      "Li3MnO3 + YCl3 -> YMnO3 + 3 LiCl (dG = -0.218 eV/atom) \n",
      "Total Cost: 0.765 \n",
      "\n",
      "Mn2O3 + 2 Li2CO3 -> Li2Mn(CO3)2 + Li2MnO3 (dG = 0.042 eV/atom) \n",
      "3 Li2MnO3 + 2 Mn2O3 -> Li3MnO3 + 3 LiMn2O4 (dG = 0.035 eV/atom) \n",
      "Li3MnO3 + YCl3 -> YMnO3 + 3 LiCl (dG = -0.218 eV/atom) \n",
      "Total Cost: 0.766 \n",
      "\n",
      "Mn2O3 + Li2CO3 -> MnCO3 + Li2MnO3 (dG = 0.053 eV/atom) \n",
      "3.429 Li2MnO3 + 3.286 Mn2O3 -> Li3MnO3 + 0.4286 Li9Mn21O40 (dG = 0.029 eV/atom) \n",
      "Li3MnO3 + YCl3 -> YMnO3 + 3 LiCl (dG = -0.218 eV/atom) \n",
      "Total Cost: 0.767 \n",
      "\n",
      "Mn2O3 + Li2CO3 -> MnCO3 + Li2MnO3 (dG = 0.053 eV/atom) \n",
      "3 Li2MnO3 + 2 Mn2O3 -> Li3MnO3 + 3 LiMn2O4 (dG = 0.035 eV/atom) \n",
      "Li3MnO3 + YCl3 -> YMnO3 + 3 LiCl (dG = -0.218 eV/atom) \n",
      "Total Cost: 0.769 \n",
      "\n",
      "PATHS to LiCl \n",
      "\n",
      "--------------------------------------- \n",
      "\n",
      "0.5 Mn2O3 + 1.5 Li2CO3 -> Li3MnO3 + 1.5 CO2 (dG = 0.185 eV/atom) \n",
      "Li3MnO3 + YCl3 -> YMnO3 + 3 LiCl (dG = -0.218 eV/atom) \n",
      "Total Cost: 0.529 \n",
      "\n",
      "Li2CO3 -> Li2O + CO2 (dG = 0.277 eV/atom) \n",
      "Li2O + 0.6667 YCl3 -> 0.3333 Y2O3 + 2 LiCl (dG = -0.297 eV/atom) \n",
      "Total Cost: 0.54 \n",
      "\n",
      "Li2CO3 -> Li2O + CO2 (dG = 0.277 eV/atom) \n",
      "Li2O + YCl3 -> YClO + 2 LiCl (dG = -0.273 eV/atom) \n",
      "Total Cost: 0.544 \n",
      "\n",
      "Li2CO3 -> Li2O + CO2 (dG = 0.277 eV/atom) \n",
      "Li2O + 0.5 YCl3 -> 0.5 LiYO2 + 1.5 LiCl (dG = -0.251 eV/atom) \n",
      "Total Cost: 0.548 \n",
      "\n",
      "Mn2O3 + 2 Li2CO3 -> Li2Mn(CO3)2 + Li2MnO3 (dG = 0.042 eV/atom) \n",
      "2.286 Li2MnO3 + 1.857 Mn2O3 -> Li2O + 0.2857 Li9Mn21O40 (dG = 0.041 eV/atom) \n",
      "Li2O + 0.6667 YCl3 -> 0.3333 Y2O3 + 2 LiCl (dG = -0.297 eV/atom) \n",
      "Total Cost: 0.753 \n",
      "\n",
      "PATHS to CO2 \n",
      "\n",
      "--------------------------------------- \n",
      "\n",
      "0.5 Mn2O3 + 0.5 Li2CO3 -> LiMnO2 + 0.5 CO2 (dG = 0.08 eV/atom) \n",
      "Total Cost: 0.284 \n",
      "\n",
      "0.5 Mn2O3 + 1.5 Li2CO3 -> Li3MnO3 + 1.5 CO2 (dG = 0.185 eV/atom) \n",
      "Total Cost: 0.311 \n",
      "\n",
      "Li2CO3 -> Li2O + CO2 (dG = 0.277 eV/atom) \n",
      "Total Cost: 0.337 \n",
      "\n",
      "2 Mn2O3 -> MnO2 + Mn3O4 (dG = 0.015 eV/atom) \n",
      "2.5 MnO2 + Li2CO3 -> CO2 + 0.5 Li4Mn5O12 (dG = 0.042 eV/atom) \n",
      "Total Cost: 0.543 \n",
      "\n",
      "2 Mn2O3 -> MnO2 + Mn3O4 (dG = 0.015 eV/atom) \n",
      "MnO2 + 0.3333 Li2CO3 -> 0.3333 CO2 + 0.3333 Li2Mn3O7 (dG = 0.051 eV/atom) \n",
      "Total Cost: 0.546 \n",
      "\n"
     ]
    }
   ],
   "source": [
    "paths = rn.find_pathways([\"YMnO3\",\"LiCl\",\"CO2\"], k=5)"
   ]
  },
  {
   "cell_type": "code",
   "execution_count": 23,
   "id": "6767200b",
   "metadata": {},
   "outputs": [],
   "source": [
    "ps = PathwaySolver(rn.entries, paths, Softplus(900)) # open_elem=\"O\", chempot=0"
   ]
  },
  {
   "cell_type": "code",
   "execution_count": 24,
   "id": "a3256224",
   "metadata": {},
   "outputs": [
    {
     "data": {
      "text/plain": [
       "YCl3 + 0.5 Mn2O3 + 1.5 Li2CO3 -> YMnO3 + 3 LiCl + 1.5 CO2"
      ]
     },
     "execution_count": 24,
     "metadata": {},
     "output_type": "execute_result"
    }
   ],
   "source": [
    "product_entries = []\n",
    "for i in [\"YMnO3\",\"LiCl\",\"CO2\"]:\n",
    "    product_entries.append(entry_set.get_min_entry_by_formula(i))\n",
    "    \n",
    "net_rxn = ComputedReaction.balance(rn.precursors,product_entries)\n",
    "net_rxn"
   ]
  },
  {
   "cell_type": "code",
   "execution_count": 25,
   "id": "83e33177",
   "metadata": {},
   "outputs": [
    {
     "data": {
      "application/vnd.jupyter.widget-view+json": {
       "model_id": "1f20010e841a415aaf121fd3e527eed7",
       "version_major": 2,
       "version_minor": 0
      },
      "text/plain": [
       "BasicEnumerator:   0%|          | 0/30 [00:00<?, ?it/s]"
      ]
     },
     "metadata": {},
     "output_type": "display_data"
    },
    {
     "data": {
      "application/vnd.jupyter.widget-view+json": {
       "model_id": "3dcc274fb4ac4c4491ad69853bb72edb",
       "version_major": 2,
       "version_minor": 0
      },
      "text/plain": [
       "PathwaySolver:   0%|          | 0/1 [00:00<?, ?it/s]"
      ]
     },
     "metadata": {},
     "output_type": "display_data"
    },
    {
     "data": {
      "application/vnd.jupyter.widget-view+json": {
       "model_id": "4316a92b50204ad187867ed4dfebd7ac",
       "version_major": 2,
       "version_minor": 0
      },
      "text/plain": [
       "PathwaySolver:   0%|          | 0/1 [00:00<?, ?it/s]"
      ]
     },
     "metadata": {},
     "output_type": "display_data"
    }
   ],
   "source": [
    "a = ps.solve(net_rxn, max_num_combos=5, intermediate_rxn_energy_cutoff=0.0, filter_interdependent=True)"
   ]
  },
  {
   "cell_type": "code",
   "execution_count": 26,
   "id": "66aa3200",
   "metadata": {},
   "outputs": [
    {
     "name": "stdout",
     "output_type": "stream",
     "text": [
      "1.5 Li2CO3 + 0.5 Mn2O3 -> 1.5 CO2 + Li3MnO3 (dG = 0.185 eV/atom) \n",
      "Li3MnO3 + YCl3 -> 3 LiCl + YMnO3 (dG = -0.218 eV/atom) \n",
      "Average Cost: 0.265\n",
      "\n",
      "\n",
      "1.5 Li2CO3 + 0.5 Mn2O3 -> 1.5 CO2 + Li3MnO3 (dG = 0.185 eV/atom) \n",
      "Li3MnO3 + YCl3 -> 3 LiCl + YMnO3 (dG = -0.218 eV/atom) \n",
      "Li2CO3 -> CO2 + Li2O (dG = 0.277 eV/atom) \n",
      "Li2O + 0.5 YCl3 -> 1.5 LiCl + 0.5 LiYO2 (dG = -0.251 eV/atom) \n",
      "LiYO2 + 0.6667 Mn2O3 -> 0.3333 Li3MnO3 + YMnO3 (dG = -0.051 eV/atom) \n",
      "Average Cost: 0.266\n",
      "\n",
      "\n",
      "Li2CO3 -> CO2 + Li2O (dG = 0.277 eV/atom) \n",
      "Li2O + 0.5 YCl3 -> 1.5 LiCl + 0.5 LiYO2 (dG = -0.251 eV/atom) \n",
      "LiYO2 + Mn2O3 -> LiMnO2 + YMnO3 (dG = -0.072 eV/atom) \n",
      "LiMnO2 + YClO -> LiCl + YMnO3 (dG = -0.066 eV/atom) \n",
      "LiYO2 + YCl3 -> LiCl + 2 YClO (dG = -0.164 eV/atom) \n",
      "Average Cost: 0.266\n",
      "\n",
      "\n",
      "Li2CO3 -> CO2 + Li2O (dG = 0.277 eV/atom) \n",
      "Li2O + 0.5 YCl3 -> 1.5 LiCl + 0.5 LiYO2 (dG = -0.251 eV/atom) \n",
      "LiYO2 + YClO -> LiCl + Y2O3 (dG = -0.089 eV/atom) \n",
      "Mn2O3 + Y2O3 -> 2 YMnO3 (dG = -0.048 eV/atom) \n",
      "LiYO2 + YCl3 -> LiCl + 2 YClO (dG = -0.164 eV/atom) \n",
      "Average Cost: 0.266\n",
      "\n",
      "\n",
      "1.5 Li2CO3 + 0.5 Mn2O3 -> 1.5 CO2 + Li3MnO3 (dG = 0.185 eV/atom) \n",
      "Li3MnO3 + YCl3 -> 3 LiCl + YMnO3 (dG = -0.218 eV/atom) \n",
      "Li2CO3 -> CO2 + Li2O (dG = 0.277 eV/atom) \n",
      "Li2O + 0.6667 YCl3 -> 2 LiCl + 0.3333 Y2O3 (dG = -0.297 eV/atom) \n",
      "Mn2O3 + Y2O3 -> 2 YMnO3 (dG = -0.048 eV/atom) \n",
      "Average Cost: 0.266\n",
      "\n",
      "\n",
      "Li2CO3 -> CO2 + Li2O (dG = 0.277 eV/atom) \n",
      "Li2O + 0.5 YCl3 -> 1.5 LiCl + 0.5 LiYO2 (dG = -0.251 eV/atom) \n",
      "0.5 Li2CO3 + 0.5 Mn2O3 -> 0.5 CO2 + LiMnO2 (dG = 0.08 eV/atom) \n",
      "LiMnO2 + YClO -> LiCl + YMnO3 (dG = -0.066 eV/atom) \n",
      "LiYO2 + YCl3 -> LiCl + 2 YClO (dG = -0.164 eV/atom) \n",
      "Average Cost: 0.266\n",
      "\n",
      "\n",
      "Li3MnO3 + YCl3 -> 3 LiCl + YMnO3 (dG = -0.218 eV/atom) \n",
      "Li2CO3 -> CO2 + Li2O (dG = 0.277 eV/atom) \n",
      "Li2O + 0.5 YCl3 -> 1.5 LiCl + 0.5 LiYO2 (dG = -0.251 eV/atom) \n",
      "LiYO2 + 0.6667 Mn2O3 -> 0.3333 Li3MnO3 + YMnO3 (dG = -0.051 eV/atom) \n",
      "Average Cost: 0.267\n",
      "\n",
      "\n",
      "Li2CO3 -> CO2 + Li2O (dG = 0.277 eV/atom) \n",
      "Li2O + YCl3 -> 2 LiCl + YClO (dG = -0.273 eV/atom) \n",
      "Li2O + 0.5 YCl3 -> 1.5 LiCl + 0.5 LiYO2 (dG = -0.251 eV/atom) \n",
      "LiYO2 + Mn2O3 -> LiMnO2 + YMnO3 (dG = -0.072 eV/atom) \n",
      "LiMnO2 + YClO -> LiCl + YMnO3 (dG = -0.066 eV/atom) \n",
      "Average Cost: 0.267\n",
      "\n",
      "\n",
      "Li2CO3 -> CO2 + Li2O (dG = 0.277 eV/atom) \n",
      "Li2O + YCl3 -> 2 LiCl + YClO (dG = -0.273 eV/atom) \n",
      "Li2O + 0.5 YCl3 -> 1.5 LiCl + 0.5 LiYO2 (dG = -0.251 eV/atom) \n",
      "LiYO2 + YClO -> LiCl + Y2O3 (dG = -0.089 eV/atom) \n",
      "Mn2O3 + Y2O3 -> 2 YMnO3 (dG = -0.048 eV/atom) \n",
      "Average Cost: 0.268\n",
      "\n",
      "\n",
      "Li2CO3 -> CO2 + Li2O (dG = 0.277 eV/atom) \n",
      "Li2O + 0.6667 YCl3 -> 2 LiCl + 0.3333 Y2O3 (dG = -0.297 eV/atom) \n",
      "Mn2O3 + Y2O3 -> 2 YMnO3 (dG = -0.048 eV/atom) \n",
      "Average Cost: 0.268\n",
      "\n",
      "\n",
      "Li2CO3 -> CO2 + Li2O (dG = 0.277 eV/atom) \n",
      "Li2O + 0.6667 YCl3 -> 2 LiCl + 0.3333 Y2O3 (dG = -0.297 eV/atom) \n",
      "Li2O + 0.5 YCl3 -> 1.5 LiCl + 0.5 LiYO2 (dG = -0.251 eV/atom) \n",
      "3 LiYO2 + YCl3 -> 3 LiCl + 2 Y2O3 (dG = -0.16 eV/atom) \n",
      "Mn2O3 + Y2O3 -> 2 YMnO3 (dG = -0.048 eV/atom) \n",
      "Average Cost: 0.268\n",
      "\n",
      "\n",
      "Li2CO3 -> CO2 + Li2O (dG = 0.277 eV/atom) \n",
      "Li2O + 0.5 YCl3 -> 1.5 LiCl + 0.5 LiYO2 (dG = -0.251 eV/atom) \n",
      "3 LiYO2 + YCl3 -> 3 LiCl + 2 Y2O3 (dG = -0.16 eV/atom) \n",
      "Mn2O3 + Y2O3 -> 2 YMnO3 (dG = -0.048 eV/atom) \n",
      "Average Cost: 0.269\n",
      "\n",
      "\n",
      "Li2CO3 -> CO2 + Li2O (dG = 0.277 eV/atom) \n",
      "Li2O + 0.5 YCl3 -> 1.5 LiCl + 0.5 LiYO2 (dG = -0.251 eV/atom) \n",
      "Li2O + 2 YClO -> 2 LiCl + Y2O3 (dG = -0.136 eV/atom) \n",
      "Mn2O3 + Y2O3 -> 2 YMnO3 (dG = -0.048 eV/atom) \n",
      "LiYO2 + YCl3 -> LiCl + 2 YClO (dG = -0.164 eV/atom) \n",
      "Average Cost: 0.269\n",
      "\n",
      "\n",
      "Li2CO3 -> CO2 + Li2O (dG = 0.277 eV/atom) \n",
      "Li2O + YCl3 -> 2 LiCl + YClO (dG = -0.273 eV/atom) \n",
      "0.5 Li2CO3 + 0.5 Mn2O3 -> 0.5 CO2 + LiMnO2 (dG = 0.08 eV/atom) \n",
      "LiMnO2 + YClO -> LiCl + YMnO3 (dG = -0.066 eV/atom) \n",
      "Average Cost: 0.27\n",
      "\n",
      "\n",
      "Li2CO3 -> CO2 + Li2O (dG = 0.277 eV/atom) \n",
      "Li2O + YCl3 -> 2 LiCl + YClO (dG = -0.273 eV/atom) \n",
      "LiYO2 + Mn2O3 -> LiMnO2 + YMnO3 (dG = -0.072 eV/atom) \n",
      "LiMnO2 + YClO -> LiCl + YMnO3 (dG = -0.066 eV/atom) \n",
      "Li2O + YClO -> LiCl + LiYO2 (dG = -0.1 eV/atom) \n",
      "Average Cost: 0.271\n",
      "\n",
      "\n",
      "Li2CO3 -> CO2 + Li2O (dG = 0.277 eV/atom) \n",
      "Li2O + YCl3 -> 2 LiCl + YClO (dG = -0.273 eV/atom) \n",
      "LiYO2 + YClO -> LiCl + Y2O3 (dG = -0.089 eV/atom) \n",
      "Mn2O3 + Y2O3 -> 2 YMnO3 (dG = -0.048 eV/atom) \n",
      "Li2O + YClO -> LiCl + LiYO2 (dG = -0.1 eV/atom) \n",
      "Average Cost: 0.271\n",
      "\n",
      "\n",
      "Li2CO3 -> CO2 + Li2O (dG = 0.277 eV/atom) \n",
      "Li2O + 0.6667 YCl3 -> 2 LiCl + 0.3333 Y2O3 (dG = -0.297 eV/atom) \n",
      "Li2O + YCl3 -> 2 LiCl + YClO (dG = -0.273 eV/atom) \n",
      "Li2O + 2 YClO -> 2 LiCl + Y2O3 (dG = -0.136 eV/atom) \n",
      "Mn2O3 + Y2O3 -> 2 YMnO3 (dG = -0.048 eV/atom) \n",
      "Average Cost: 0.271\n",
      "\n",
      "\n",
      "Li3MnO3 + YCl3 -> 3 LiCl + YMnO3 (dG = -0.218 eV/atom) \n",
      "Li2CO3 -> CO2 + Li2O (dG = 0.277 eV/atom) \n",
      "Li2O + YCl3 -> 2 LiCl + YClO (dG = -0.273 eV/atom) \n",
      "LiYO2 + 0.6667 Mn2O3 -> 0.3333 Li3MnO3 + YMnO3 (dG = -0.051 eV/atom) \n",
      "Li2O + YClO -> LiCl + LiYO2 (dG = -0.1 eV/atom) \n",
      "Average Cost: 0.272\n",
      "\n",
      "\n",
      "Li2CO3 -> CO2 + Li2O (dG = 0.277 eV/atom) \n",
      "Li2O + YCl3 -> 2 LiCl + YClO (dG = -0.273 eV/atom) \n",
      "Li2O + 2 YClO -> 2 LiCl + Y2O3 (dG = -0.136 eV/atom) \n",
      "Mn2O3 + Y2O3 -> 2 YMnO3 (dG = -0.048 eV/atom) \n",
      "Average Cost: 0.273\n",
      "\n",
      "\n",
      "Li2CO3 -> CO2 + Li2O (dG = 0.277 eV/atom) \n",
      "Li2O + YCl3 -> 2 LiCl + YClO (dG = -0.273 eV/atom) \n",
      "3 LiYO2 + YCl3 -> 3 LiCl + 2 Y2O3 (dG = -0.16 eV/atom) \n",
      "Mn2O3 + Y2O3 -> 2 YMnO3 (dG = -0.048 eV/atom) \n",
      "Li2O + YClO -> LiCl + LiYO2 (dG = -0.1 eV/atom) \n",
      "Average Cost: 0.274\n",
      "\n",
      "\n"
     ]
    }
   ],
   "source": [
    "for path in a:\n",
    "    print(path)\n",
    "    print(\"\\n\")"
   ]
  }
 ],
 "metadata": {
  "kernelspec": {
   "display_name": "Python 3",
   "language": "python",
   "name": "python3"
  },
  "language_info": {
   "codemirror_mode": {
    "name": "ipython",
    "version": 3
   },
   "file_extension": ".py",
   "mimetype": "text/x-python",
   "name": "python",
   "nbconvert_exporter": "python",
   "pygments_lexer": "ipython3",
   "version": "3.8.8"
  }
 },
 "nbformat": 4,
 "nbformat_minor": 5
}
