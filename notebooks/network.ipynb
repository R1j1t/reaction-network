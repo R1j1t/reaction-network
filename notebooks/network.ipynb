{
 "cells": [
  {
   "cell_type": "markdown",
   "id": "61b45e58",
   "metadata": {},
   "source": [
    "# reaction-network (Demo Notebook): Networks\n",
    "\n",
    "### Author: Matthew McDermott\n",
    "Last Updated: 08/23/22\n",
    "\n",
    "The code provided in this notebook is an updated walkthrough of the first example (YMnO3) in the accompanying manuscript (see citation below). The refactored `reaction-network` package contains similar code to what was released with the manuscript; however, many processes/functions are now separated into their own defined classes/methods. For a look at the previous demo notebook (which also contained some of the raw results that went into the manuscript), please check out the _archived_ folder.\n",
    "\n",
    "**If you use this code or Python package in your work, please consider citing the following paper:**\n",
    "\n",
    "McDermott, M. J., Dwaraknath, S. S., and Persson, K. A. (2021). A graph-based network for predicting chemical reaction pathways in solid-state materials synthesis. \n",
    "Nature Communications, 12(1). https://doi.org/10.1038/s41467-021-23339-x"
   ]
  },
  {
   "cell_type": "markdown",
   "id": "47f5bc5b",
   "metadata": {},
   "source": [
    "### Imports"
   ]
  },
  {
   "cell_type": "code",
   "execution_count": 1,
   "id": "77eb7928",
   "metadata": {},
   "outputs": [
    {
     "name": "stderr",
     "output_type": "stream",
     "text": [
      "/Users/mcdermott/opt/miniconda3/envs/rn_dev/lib/python3.9/site-packages/pymatgen/analysis/phase_diagram.py:24: TqdmExperimentalWarning: Using `tqdm.autonotebook.tqdm` in notebook mode. Use `tqdm.tqdm` instead to force console mode (e.g. in jupyter console)\n",
      "  from tqdm.autonotebook import tqdm\n"
     ]
    }
   ],
   "source": [
    "import logging \n",
    "\n",
    "from mp_api import MPRester\n",
    "from pymatgen.core.composition import Element\n",
    "from pymatgen.analysis.phase_diagram import PhaseDiagram, PDPlotter\n",
    "from monty.serialization import loadfn\n",
    "\n",
    "from rxn_network.costs.softplus import Softplus\n",
    "from rxn_network.thermo.chempot_diagram import ChemicalPotentialDiagram\n",
    "from rxn_network.core.composition import Composition\n",
    "from pymatgen.core.composition import Composition, Element\n",
    "from rxn_network.entries.entry_set import GibbsEntrySet\n",
    "from rxn_network.network.network import ReactionNetwork\n",
    "from rxn_network.entries.nist import NISTReferenceEntry\n",
    "from rxn_network.reactions.computed import ComputedReaction\n",
    "from rxn_network.reactions.reaction_set import ReactionSet\n",
    "from rxn_network.reactions.open import OpenComputedReaction\n",
    "from rxn_network.network.entry import NetworkEntry, NetworkEntryType\n",
    "from rxn_network.network.visualize import plot_network_on_graphistry, plot_network\n",
    "from rxn_network.pathways.solver import PathwaySolver\n",
    "from rxn_network.enumerators.basic import BasicEnumerator, BasicOpenEnumerator\n",
    "from rxn_network.enumerators.minimize import MinimizeGibbsEnumerator, MinimizeGrandPotentialEnumerator\n",
    "\n",
    "#import graphistry\n",
    "\n",
    "%load_ext autoreload\n",
    "%autoreload 2\n",
    "\n",
    "logging.info(\"Logging initialized\")"
   ]
  },
  {
   "cell_type": "markdown",
   "id": "fd15278f",
   "metadata": {},
   "source": [
    "### Case Study: YMnO3 assisted metathesis"
   ]
  },
  {
   "cell_type": "markdown",
   "id": "6b798814",
   "metadata": {},
   "source": [
    "We will be using the assisted metathesis synthesis of YMnO3 as a case study for the reaction network code. This is the first example discussed in the original manuscript. The assisted metathesis reaction reported by Todd & Neilson (JACS, 2019) corresponds to a net reaction equation:\n",
    "\n",
    "$$ Mn_2O_3 + 2 YCl_3 + 3Li_2CO_3 \\to 2YMnO_3 + 6LiCl + 3CO_2 $$\n",
    "\n",
    "In the paper, they report a reaction pathway involving the formation of intermediates LiMnO2 and YOCl. These react to form YMnO3 product and LiCl byproduct. (The CO2 is released when Li2CO3 reacts initially to form LiMnO2)."
   ]
  },
  {
   "cell_type": "markdown",
   "id": "7c2282bf",
   "metadata": {},
   "source": [
    "### Downloading and modifying entries\n",
    "\n",
    "First, we acquire entries for phases in the Y-Mn-O-Li-Cl-C chemical system from the Materials Project (MP), a computed materials database containing calculations for over 130,000 materials."
   ]
  },
  {
   "cell_type": "code",
   "execution_count": 2,
   "id": "44d6c072",
   "metadata": {},
   "outputs": [
    {
     "name": "stderr",
     "output_type": "stream",
     "text": [
      "WARNING:twisted:/Users/mcdermott/opt/miniconda3/envs/rn_dev/lib/python3.9/site-packages/mp_api/client.py:138: builtins.UserWarning: Problem loading MPContribs client: Duplicate operationId: delete_entry\n"
     ]
    },
    {
     "data": {
      "application/vnd.jupyter.widget-view+json": {
       "model_id": "fe625ac0f05045338bfe0282f24f6db1",
       "version_major": 2,
       "version_minor": 0
      },
      "text/plain": [
       "Retrieving ThermoDoc documents:   0%|          | 0/136 [00:00<?, ?it/s]"
      ]
     },
     "metadata": {},
     "output_type": "display_data"
    }
   ],
   "source": [
    "with MPRester() as mpr:  # insert your Materials Project API key here\n",
    "    entries = mpr.get_entries_in_chemsys(\"Y-Mn-O\")"
   ]
  },
  {
   "cell_type": "code",
   "execution_count": 3,
   "id": "3aff12aa",
   "metadata": {},
   "outputs": [],
   "source": [
    "#entries = loadfn(\"entries.json.gz\")"
   ]
  },
  {
   "cell_type": "markdown",
   "id": "f16c4523",
   "metadata": {},
   "source": [
    "The `GibbsEntrySet` class allows us to automatically converet `ComputedStructureEntry` objects downloaded from the MP database into `GibbsComputedEntry` objects, where DFT-calculated energies have been converted to machine learning (ML)-estimated equivalent values of the Gibbs free energies of formation, $\\Delta G_f$ for all entries at the specified temperature. \n",
    "\n",
    "For more information, check out the citation in the documentation for `GibbsComputedEntry`."
   ]
  },
  {
   "cell_type": "code",
   "execution_count": 4,
   "id": "81dc252c",
   "metadata": {},
   "outputs": [],
   "source": [
    "temp = 900  # units: Kelvin\n",
    "entry_set = GibbsEntrySet.from_entries(entries, temp)"
   ]
  },
  {
   "cell_type": "markdown",
   "id": "560515ce",
   "metadata": {},
   "source": [
    "The `GibbsEntrySet` class has many helpful functions, such as the following `filter_by_stability()` function, which automatically removes entries which are a specified energy per atom above the convex hull of stability:"
   ]
  },
  {
   "cell_type": "code",
   "execution_count": 5,
   "id": "8529fd0a",
   "metadata": {},
   "outputs": [
    {
     "data": {
      "text/plain": [
       "[GibbsComputedEntry | mp-35 | Mn29 (Mn)\n",
       " Gibbs Energy (900 K) = 0.0000,\n",
       " GibbsComputedEntry | mp-1172875 | Mn32 O48 (Mn2O3)\n",
       " Gibbs Energy (900 K) = -121.0591,\n",
       " GibbsComputedEntry | mp-18759 | Mn6 O8 (Mn3O4)\n",
       " Gibbs Energy (900 K) = -22.0535,\n",
       " GibbsComputedEntry | mp-999539 | Mn4 O4 (MnO)\n",
       " Gibbs Energy (900 K) = -12.5274,\n",
       " GibbsComputedEntry | mp-1272141 | Mn1 O2 (MnO2)\n",
       " Gibbs Energy (900 K) = -3.9507,\n",
       " GibbsComputedEntry | mp-12957 | O8 (O2)\n",
       " Gibbs Energy (900 K) = 0.0000,\n",
       " GibbsComputedEntry | mp-1187739 | Y3 (Y)\n",
       " Gibbs Energy (900 K) = 0.0000,\n",
       " GibbsComputedEntry | mp-18831 | Y4 Mn4 O14 (Y2Mn2O7)\n",
       " Gibbs Energy (900 K) = -52.1371,\n",
       " GibbsComputedEntry | mp-2652 | Y16 O24 (Y2O3)\n",
       " Gibbs Energy (900 K) = -139.2071,\n",
       " GibbsComputedEntry | mp-22508 | Y1 Mn12 (YMn12)\n",
       " Gibbs Energy (900 K) = -0.0997,\n",
       " GibbsComputedEntry | mp-510598 | Y4 Mn8 O20 (YMn2O5)\n",
       " Gibbs Energy (900 K) = -68.6480,\n",
       " GibbsComputedEntry | mp-19385 | Y6 Mn6 O18 (YMnO3)\n",
       " Gibbs Energy (900 K) = -76.9563]"
      ]
     },
     "execution_count": 5,
     "metadata": {},
     "output_type": "execute_result"
    }
   ],
   "source": [
    "entry_set = entry_set.filter_by_stability(0.0)\n",
    "entry_set.entries_list"
   ]
  },
  {
   "cell_type": "markdown",
   "id": "b8463b6c",
   "metadata": {},
   "source": [
    "In this case, we remove all entries which are unstable (above an energy cutoff of 10 meV/atom), which greatly reduces the combinatorial complexity of the system."
   ]
  },
  {
   "cell_type": "markdown",
   "id": "c633c24d",
   "metadata": {},
   "source": [
    "## Building the reaction network\n",
    "\n",
    "The reaction network can be initialized by providing 3 arguments to the `ReactionNetwork` class:\n",
    "\n",
    "1. **entries:** iterable of entry-like objects (e.g., `GibbsComputedEntry`)\n",
    "2. **enumerators:** iterable of enumerators which will be called during the build of the network\n",
    "3. **cost_function:** the function used to calculate the cost of each reaction edge \n",
    "\n",
    "We will use a BasicEnumerator (see the **Enumerators Demo Notebook** for more information on the type of enumerators available):"
   ]
  },
  {
   "cell_type": "code",
   "execution_count": 6,
   "id": "0bc4d165",
   "metadata": {},
   "outputs": [],
   "source": [
    "be = BasicEnumerator()"
   ]
  },
  {
   "cell_type": "code",
   "execution_count": 8,
   "id": "fc09e59c",
   "metadata": {},
   "outputs": [
    {
     "name": "stderr",
     "output_type": "stream",
     "text": [
      "BasicEnumerator: 1it [00:00, 31.12it/s]\n"
     ]
    }
   ],
   "source": [
    "rxns = be.enumerate(entry_set)"
   ]
  },
  {
   "cell_type": "code",
   "execution_count": 7,
   "id": "5ffa1615",
   "metadata": {},
   "outputs": [
    {
     "data": {
      "text/plain": [
       "[YMn12 -> Y + 12 Mn,\n",
       " Y + 12 Mn -> YMn12,\n",
       " 0.6667 Y2O3 -> O2 + 1.333 Y,\n",
       " O2 + 1.333 Y -> 0.6667 Y2O3,\n",
       " MnO2 -> O2 + Mn,\n",
       " O2 + Mn -> MnO2,\n",
       " 2 MnO2 -> Mn2O3 + 0.5 O2,\n",
       " Mn2O3 + 0.5 O2 -> 2 MnO2,\n",
       " MnO2 -> MnO + 0.5 O2,\n",
       " MnO + 0.5 O2 -> MnO2,\n",
       " 3 MnO2 -> Mn3O4 + O2,\n",
       " Mn3O4 + O2 -> 3 MnO2,\n",
       " 2 Mn2O3 -> Mn + 3 MnO2,\n",
       " Mn + 3 MnO2 -> 2 Mn2O3,\n",
       " Mn2O3 -> MnO + MnO2,\n",
       " MnO + MnO2 -> Mn2O3,\n",
       " 2 Mn2O3 -> Mn3O4 + MnO2,\n",
       " Mn3O4 + MnO2 -> 2 Mn2O3,\n",
       " 0.6667 Mn2O3 -> O2 + 1.333 Mn,\n",
       " O2 + 1.333 Mn -> 0.6667 Mn2O3,\n",
       " 0.5 Mn2O3 -> MnO + 0.25 O2,\n",
       " MnO + 0.25 O2 -> 0.5 Mn2O3,\n",
       " 1.5 Mn2O3 -> Mn3O4 + 0.25 O2,\n",
       " Mn3O4 + 0.25 O2 -> 1.5 Mn2O3,\n",
       " 2 MnO -> Mn + MnO2,\n",
       " Mn + MnO2 -> 2 MnO,\n",
       " 3 MnO -> Mn2O3 + Mn,\n",
       " Mn2O3 + Mn -> 3 MnO,\n",
       " 2 MnO -> O2 + 2 Mn,\n",
       " O2 + 2 Mn -> 2 MnO,\n",
       " 4 MnO -> Mn3O4 + Mn,\n",
       " Mn3O4 + Mn -> 4 MnO,\n",
       " Mn3O4 -> Mn + 2 MnO2,\n",
       " Mn + 2 MnO2 -> Mn3O4,\n",
       " 0.5 Mn3O4 -> MnO + 0.5 MnO2,\n",
       " MnO + 0.5 MnO2 -> 0.5 Mn3O4,\n",
       " 0.75 Mn3O4 -> Mn2O3 + 0.25 Mn,\n",
       " Mn2O3 + 0.25 Mn -> 0.75 Mn3O4,\n",
       " 0.5 Mn3O4 -> O2 + 1.5 Mn,\n",
       " O2 + 1.5 Mn -> 0.5 Mn3O4,\n",
       " Mn3O4 -> MnO + Mn2O3,\n",
       " MnO + Mn2O3 -> Mn3O4,\n",
       " 0.3333 Mn3O4 -> MnO + 0.1667 O2,\n",
       " MnO + 0.1667 O2 -> 0.3333 Mn3O4,\n",
       " YMn2O5 -> MnO2 + YMnO3,\n",
       " MnO2 + YMnO3 -> YMn2O5,\n",
       " 2 YMn2O5 -> Mn2O3 + Y2Mn2O7,\n",
       " Mn2O3 + Y2Mn2O7 -> 2 YMn2O5,\n",
       " 0.5 Y2Mn2O7 -> MnO2 + 0.5 Y2O3,\n",
       " MnO2 + 0.5 Y2O3 -> 0.5 Y2Mn2O7,\n",
       " 0.5 Y2Mn2O7 -> YMnO3 + 0.25 O2,\n",
       " YMnO3 + 0.25 O2 -> 0.5 Y2Mn2O7,\n",
       " 2 YMnO3 -> Mn2O3 + Y2O3,\n",
       " Mn2O3 + Y2O3 -> 2 YMnO3,\n",
       " 2.5 MnO2 + YMn12 -> YMn2O5 + 12.5 Mn,\n",
       " YMn2O5 + 12.5 Mn -> 2.5 MnO2 + YMn12,\n",
       " 3.5 MnO2 + 2 YMn12 -> Y2Mn2O7 + 25.5 Mn,\n",
       " Y2Mn2O7 + 25.5 Mn -> 3.5 MnO2 + 2 YMn12,\n",
       " 1.5 MnO2 + 2 YMn12 -> Y2O3 + 25.5 Mn,\n",
       " Y2O3 + 25.5 Mn -> 1.5 MnO2 + 2 YMn12,\n",
       " 1.5 MnO2 + YMn12 -> YMnO3 + 12.5 Mn,\n",
       " YMnO3 + 12.5 Mn -> 1.5 MnO2 + YMn12,\n",
       " 1.6 MnO2 + 0.04 YMn12 -> Mn2O3 + 0.04 YMn2O5,\n",
       " Mn2O3 + 0.04 YMn2O5 -> 1.6 MnO2 + 0.04 YMn12,\n",
       " 1.569 MnO2 + 0.03922 YMn12 -> Mn2O3 + 0.01961 Y2Mn2O7,\n",
       " Mn2O3 + 0.01961 Y2Mn2O7 -> 1.569 MnO2 + 0.03922 YMn12,\n",
       " 1.529 MnO2 + 0.03922 YMn12 -> Mn2O3 + 0.01961 Y2O3,\n",
       " Mn2O3 + 0.01961 Y2O3 -> 1.529 MnO2 + 0.03922 YMn12,\n",
       " 1.5 MnO2 + 0.04167 YMn12 -> Mn2O3 + 0.04167 Y,\n",
       " Mn2O3 + 0.04167 Y -> 1.5 MnO2 + 0.04167 YMn12,\n",
       " 1.56 MnO2 + 0.04 YMn12 -> Mn2O3 + 0.04 YMnO3,\n",
       " Mn2O3 + 0.04 YMnO3 -> 1.56 MnO2 + 0.04 YMn12,\n",
       " 15 MnO2 + YMn12 -> YMn2O5 + 25 MnO,\n",
       " YMn2O5 + 25 MnO -> 15 MnO2 + YMn12,\n",
       " 27.5 MnO2 + YMn12 -> YMn2O5 + 12.5 Mn3O4,\n",
       " YMn2O5 + 12.5 Mn3O4 -> 27.5 MnO2 + YMn12,\n",
       " 29 MnO2 + 2 YMn12 -> Y2Mn2O7 + 51 MnO,\n",
       " Y2Mn2O7 + 51 MnO -> 29 MnO2 + 2 YMn12,\n",
       " 27 MnO2 + 2 YMn12 -> Y2O3 + 51 MnO,\n",
       " Y2O3 + 51 MnO -> 27 MnO2 + 2 YMn12,\n",
       " 0.5 MnO2 + 0.04167 YMn12 -> MnO + 0.04167 Y,\n",
       " MnO + 0.04167 Y -> 0.5 MnO2 + 0.04167 YMn12,\n",
       " 14 MnO2 + YMn12 -> YMnO3 + 25 MnO,\n",
       " YMnO3 + 25 MnO -> 14 MnO2 + YMn12,\n",
       " 54.5 MnO2 + 2 YMn12 -> Y2Mn2O7 + 25.5 Mn3O4,\n",
       " Y2Mn2O7 + 25.5 Mn3O4 -> 54.5 MnO2 + 2 YMn12,\n",
       " 52.5 MnO2 + 2 YMn12 -> Y2O3 + 25.5 Mn3O4,\n",
       " Y2O3 + 25.5 Mn3O4 -> 52.5 MnO2 + 2 YMn12,\n",
       " 2 MnO2 + 0.08333 YMn12 -> Mn3O4 + 0.08333 Y,\n",
       " Mn3O4 + 0.08333 Y -> 2 MnO2 + 0.08333 YMn12,\n",
       " 26.5 MnO2 + YMn12 -> YMnO3 + 12.5 Mn3O4,\n",
       " YMnO3 + 12.5 Mn3O4 -> 26.5 MnO2 + YMn12,\n",
       " 10 MnO2 + YMn2O5 -> YMn12 + 12.5 O2,\n",
       " YMn12 + 12.5 O2 -> 10 MnO2 + YMn2O5,\n",
       " 11 MnO2 + 0.5 Y2Mn2O7 -> YMn12 + 12.75 O2,\n",
       " YMn12 + 12.75 O2 -> 11 MnO2 + 0.5 Y2Mn2O7,\n",
       " MnO2 + 0.5 Y2Mn2O7 -> YMn2O5 + 0.25 O2,\n",
       " YMn2O5 + 0.25 O2 -> MnO2 + 0.5 Y2Mn2O7,\n",
       " 12 MnO2 + 0.5 Y2O3 -> YMn12 + 12.75 O2,\n",
       " YMn12 + 12.75 O2 -> 12 MnO2 + 0.5 Y2O3,\n",
       " 2 MnO2 + 0.5 Y2O3 -> YMn2O5 + 0.25 O2,\n",
       " YMn2O5 + 0.25 O2 -> 2 MnO2 + 0.5 Y2O3,\n",
       " MnO2 + 0.5 Y2O3 -> YMnO3 + 0.25 O2,\n",
       " YMnO3 + 0.25 O2 -> MnO2 + 0.5 Y2O3,\n",
       " 2.5 MnO2 + Y -> YMn2O5 + 0.5 Mn,\n",
       " YMn2O5 + 0.5 Mn -> 2.5 MnO2 + Y,\n",
       " 3.5 MnO2 + 2 Y -> Y2Mn2O7 + 1.5 Mn,\n",
       " Y2Mn2O7 + 1.5 Mn -> 3.5 MnO2 + 2 Y,\n",
       " 1.5 MnO2 + 2 Y -> Y2O3 + 1.5 Mn,\n",
       " Y2O3 + 1.5 Mn -> 1.5 MnO2 + 2 Y,\n",
       " 1.5 MnO2 + Y -> YMnO3 + 0.5 Mn,\n",
       " YMnO3 + 0.5 Mn -> 1.5 MnO2 + Y,\n",
       " 4 MnO2 + Y -> Mn2O3 + YMn2O5,\n",
       " Mn2O3 + YMn2O5 -> 4 MnO2 + Y,\n",
       " 2.667 MnO2 + 0.6667 Y -> Mn2O3 + 0.3333 Y2Mn2O7,\n",
       " Mn2O3 + 0.3333 Y2Mn2O7 -> 2.667 MnO2 + 0.6667 Y,\n",
       " 2 MnO2 + 0.6667 Y -> Mn2O3 + 0.3333 Y2O3,\n",
       " Mn2O3 + 0.3333 Y2O3 -> 2 MnO2 + 0.6667 Y,\n",
       " 3 MnO2 + Y -> Mn2O3 + YMnO3,\n",
       " Mn2O3 + YMnO3 -> 3 MnO2 + Y,\n",
       " 2.5 MnO2 + 1.042 Y -> YMn2O5 + 0.04167 YMn12,\n",
       " YMn2O5 + 0.04167 YMn12 -> 2.5 MnO2 + 1.042 Y,\n",
       " 12 MnO2 + Y -> YMn12 + 12 O2,\n",
       " YMn12 + 12 O2 -> 12 MnO2 + Y,\n",
       " 28 MnO2 + 17 Y -> YMn12 + 8 Y2Mn2O7,\n",
       " YMn12 + 8 Y2Mn2O7 -> 28 MnO2 + 17 Y,\n",
       " 12 MnO2 + 17 Y -> YMn12 + 8 Y2O3,\n",
       " YMn12 + 8 Y2O3 -> 12 MnO2 + 17 Y,\n",
       " 36 MnO2 + 25 Y -> YMn12 + 24 YMnO3,\n",
       " YMn12 + 24 YMnO3 -> 36 MnO2 + 25 Y,\n",
       " 3 MnO2 + Y -> YMn2O5 + MnO,\n",
       " YMn2O5 + MnO -> 3 MnO2 + Y,\n",
       " 3.5 MnO2 + Y -> YMn2O5 + 0.5 Mn3O4,\n",
       " YMn2O5 + 0.5 Mn3O4 -> 3.5 MnO2 + Y,\n",
       " 5 MnO2 + 2 Y -> Y2Mn2O7 + 3 MnO,\n",
       " Y2Mn2O7 + 3 MnO -> 5 MnO2 + 2 Y,\n",
       " 3 MnO2 + 2 Y -> Y2O3 + 3 MnO,\n",
       " Y2O3 + 3 MnO -> 3 MnO2 + 2 Y,\n",
       " 2 MnO2 + Y -> YMnO3 + MnO,\n",
       " YMnO3 + MnO -> 2 MnO2 + Y,\n",
       " 6.5 MnO2 + 2 Y -> Y2Mn2O7 + 1.5 Mn3O4,\n",
       " Y2Mn2O7 + 1.5 Mn3O4 -> 6.5 MnO2 + 2 Y,\n",
       " 4.5 MnO2 + 2 Y -> Y2O3 + 1.5 Mn3O4,\n",
       " Y2O3 + 1.5 Mn3O4 -> 4.5 MnO2 + 2 Y,\n",
       " 2.5 MnO2 + Y -> YMnO3 + 0.5 Mn3O4,\n",
       " YMnO3 + 0.5 Mn3O4 -> 2.5 MnO2 + Y,\n",
       " 0.5 MnO2 + 2 YMnO3 -> Y2Mn2O7 + 0.5 Mn,\n",
       " Y2Mn2O7 + 0.5 Mn -> 0.5 MnO2 + 2 YMnO3,\n",
       " 2 MnO2 + 2 YMnO3 -> Mn2O3 + Y2Mn2O7,\n",
       " Mn2O3 + Y2Mn2O7 -> 2 MnO2 + 2 YMnO3,\n",
       " 11 MnO2 + YMnO3 -> YMn12 + 12.5 O2,\n",
       " YMn12 + 12.5 O2 -> 11 MnO2 + YMnO3,\n",
       " 11 MnO2 + 51 YMnO3 -> YMn12 + 25 Y2Mn2O7,\n",
       " YMn12 + 25 Y2Mn2O7 -> 11 MnO2 + 51 YMnO3,\n",
       " MnO2 + 2 YMnO3 -> Y2Mn2O7 + MnO,\n",
       " Y2Mn2O7 + MnO -> MnO2 + 2 YMnO3,\n",
       " 1.5 MnO2 + 2 YMnO3 -> Y2Mn2O7 + 0.5 Mn3O4,\n",
       " Y2Mn2O7 + 0.5 Mn3O4 -> 1.5 MnO2 + 2 YMnO3,\n",
       " 0.6 YMn2O5 + 8 Mn -> Mn2O3 + 0.6 YMn12,\n",
       " Mn2O3 + 0.6 YMn12 -> 0.6 YMn2O5 + 8 Mn,\n",
       " 0.8571 YMn2O5 + 0.2857 Mn -> Mn2O3 + 0.4286 Y2O3,\n",
       " Mn2O3 + 0.4286 Y2O3 -> 0.8571 YMn2O5 + 0.2857 Mn,\n",
       " 0.6 YMn2O5 + 0.8 Mn -> Mn2O3 + 0.6 Y,\n",
       " Mn2O3 + 0.6 Y -> 0.6 YMn2O5 + 0.8 Mn,\n",
       " 1.5 YMn2O5 + 0.5 Mn -> Mn2O3 + 1.5 YMnO3,\n",
       " Mn2O3 + 1.5 YMnO3 -> 1.5 YMn2O5 + 0.5 Mn,\n",
       " YMn2O5 + 10 Mn -> YMn12 + 2.5 O2,\n",
       " YMn12 + 2.5 O2 -> YMn2O5 + 10 Mn,\n",
       " YMn2O5 + 15 Mn -> YMn12 + 5 MnO,\n",
       " YMn12 + 5 MnO -> YMn2O5 + 15 Mn,\n",
       " YMn2O5 + 13.75 Mn -> YMn12 + 1.25 Mn3O4,\n",
       " YMn12 + 1.25 Mn3O4 -> YMn2O5 + 13.75 Mn,\n",
       " 2 YMn2O5 + Mn -> Y2Mn2O7 + 3 MnO,\n",
       " Y2Mn2O7 + 3 MnO -> 2 YMn2O5 + Mn,\n",
       " 2 YMn2O5 + 3 Mn -> Y2O3 + 7 MnO,\n",
       " Y2O3 + 7 MnO -> 2 YMn2O5 + 3 Mn,\n",
       " 0.2 YMn2O5 + 0.6 Mn -> MnO + 0.2 Y,\n",
       " MnO + 0.2 Y -> 0.2 YMn2O5 + 0.6 Mn,\n",
       " YMn2O5 + Mn -> YMnO3 + 2 MnO,\n",
       " YMnO3 + 2 MnO -> YMn2O5 + Mn,\n",
       " 2 YMn2O5 + 0.25 Mn -> Y2Mn2O7 + 0.75 Mn3O4,\n",
       " Y2Mn2O7 + 0.75 Mn3O4 -> 2 YMn2O5 + 0.25 Mn,\n",
       " 2 YMn2O5 + 1.25 Mn -> Y2O3 + 1.75 Mn3O4,\n",
       " Y2O3 + 1.75 Mn3O4 -> 2 YMn2O5 + 1.25 Mn,\n",
       " 0.8 YMn2O5 + 1.4 Mn -> Mn3O4 + 0.8 Y,\n",
       " Mn3O4 + 0.8 Y -> 0.8 YMn2O5 + 1.4 Mn,\n",
       " YMn2O5 + 0.5 Mn -> YMnO3 + 0.5 Mn3O4,\n",
       " YMnO3 + 0.5 Mn3O4 -> YMn2O5 + 0.5 Mn,\n",
       " 0.4286 Y2Mn2O7 + 11.43 Mn -> Mn2O3 + 0.8571 YMn12,\n",
       " Mn2O3 + 0.8571 YMn12 -> 0.4286 Y2Mn2O7 + 11.43 Mn,\n",
       " 0.75 Y2Mn2O7 + 0.5 Mn -> Mn2O3 + 0.75 Y2O3,\n",
       " Mn2O3 + 0.75 Y2O3 -> 0.75 Y2Mn2O7 + 0.5 Mn,\n",
       " 0.4286 Y2Mn2O7 + 1.143 Mn -> Mn2O3 + 0.8571 Y,\n",
       " Mn2O3 + 0.8571 Y -> 0.4286 Y2Mn2O7 + 1.143 Mn,\n",
       " 3 Y2Mn2O7 + 2 Mn -> Mn2O3 + 6 YMnO3,\n",
       " Mn2O3 + 6 YMnO3 -> 3 Y2Mn2O7 + 2 Mn,\n",
       " 0.7143 Y2Mn2O7 + 5.714 Mn -> YMn2O5 + 0.4286 YMn12,\n",
       " YMn2O5 + 0.4286 YMn12 -> 0.7143 Y2Mn2O7 + 5.714 Mn,\n",
       " 0.5 Y2Mn2O7 + 11 Mn -> YMn12 + 1.75 O2,\n",
       " YMn12 + 1.75 O2 -> 0.5 Y2Mn2O7 + 11 Mn,\n",
       " 0.5 Y2Mn2O7 + 14.5 Mn -> YMn12 + 3.5 MnO,\n",
       " YMn12 + 3.5 MnO -> 0.5 Y2Mn2O7 + 14.5 Mn,\n",
       " 0.5 Y2Mn2O7 + 13.62 Mn -> YMn12 + 0.875 Mn3O4,\n",
       " YMn12 + 0.875 Mn3O4 -> 0.5 Y2Mn2O7 + 13.62 Mn,\n",
       " 0.875 Y2Mn2O7 + 0.25 Mn -> YMn2O5 + 0.375 Y2O3,\n",
       " YMn2O5 + 0.375 Y2O3 -> 0.875 Y2Mn2O7 + 0.25 Mn,\n",
       " 0.7143 Y2Mn2O7 + 0.5714 Mn -> YMn2O5 + 0.4286 Y,\n",
       " YMn2O5 + 0.4286 Y -> 0.7143 Y2Mn2O7 + 0.5714 Mn,\n",
       " 2 Y2Mn2O7 + Mn -> YMn2O5 + 3 YMnO3,\n",
       " YMn2O5 + 3 YMnO3 -> 2 Y2Mn2O7 + Mn,\n",
       " Y2Mn2O7 + 2 Mn -> Y2O3 + 4 MnO,\n",
       " Y2O3 + 4 MnO -> Y2Mn2O7 + 2 Mn,\n",
       " 0.1429 Y2Mn2O7 + 0.7143 Mn -> MnO + 0.2857 Y,\n",
       " MnO + 0.2857 Y -> 0.1429 Y2Mn2O7 + 0.7143 Mn,\n",
       " 0.5 Y2Mn2O7 + 0.5 Mn -> YMnO3 + 0.5 MnO,\n",
       " YMnO3 + 0.5 MnO -> 0.5 Y2Mn2O7 + 0.5 Mn,\n",
       " Y2Mn2O7 + Mn -> Y2O3 + Mn3O4,\n",
       " Y2O3 + Mn3O4 -> Y2Mn2O7 + Mn,\n",
       " 0.5714 Y2Mn2O7 + 1.857 Mn -> Mn3O4 + 1.143 Y,\n",
       " Mn3O4 + 1.143 Y -> 0.5714 Y2Mn2O7 + 1.857 Mn,\n",
       " 0.5 Y2Mn2O7 + 0.375 Mn -> YMnO3 + 0.125 Mn3O4,\n",
       " YMnO3 + 0.125 Mn3O4 -> 0.5 Y2Mn2O7 + 0.375 Mn,\n",
       " Y2O3 + 26 Mn -> Mn2O3 + 2 YMn12,\n",
       " Mn2O3 + 2 YMn12 -> Y2O3 + 26 Mn,\n",
       " Y2O3 + 2 Mn -> Mn2O3 + 2 Y,\n",
       " Mn2O3 + 2 Y -> Y2O3 + 2 Mn,\n",
       " 1.667 Y2O3 + 30 Mn -> YMn2O5 + 2.333 YMn12,\n",
       " YMn2O5 + 2.333 YMn12 -> 1.667 Y2O3 + 30 Mn,\n",
       " 0.5 Y2O3 + 12 Mn -> YMn12 + 0.75 O2,\n",
       " YMn12 + 0.75 O2 -> 0.5 Y2O3 + 12 Mn,\n",
       " 0.5 Y2O3 + 13.5 Mn -> YMn12 + 1.5 MnO,\n",
       " YMn12 + 1.5 MnO -> 0.5 Y2O3 + 13.5 Mn,\n",
       " 0.875 Y2O3 + 12.75 Mn -> YMn12 + 0.375 Y2Mn2O7,\n",
       " YMn12 + 0.375 Y2Mn2O7 -> 0.875 Y2O3 + 12.75 Mn,\n",
       " 0.5 Y2O3 + 13.12 Mn -> YMn12 + 0.375 Mn3O4,\n",
       " YMn12 + 0.375 Mn3O4 -> 0.5 Y2O3 + 13.12 Mn,\n",
       " Y2O3 + 13 Mn -> YMn12 + YMnO3,\n",
       " YMn12 + YMnO3 -> Y2O3 + 13 Mn,\n",
       " 1.667 Y2O3 + 2 Mn -> YMn2O5 + 2.333 Y,\n",
       " YMn2O5 + 2.333 Y -> 1.667 Y2O3 + 2 Mn,\n",
       " 0.3333 Y2O3 + Mn -> MnO + 0.6667 Y,\n",
       " MnO + 0.6667 Y -> 0.3333 Y2O3 + Mn,\n",
       " 2.333 Y2O3 + 2 Mn -> Y2Mn2O7 + 2.667 Y,\n",
       " Y2Mn2O7 + 2.667 Y -> 2.333 Y2O3 + 2 Mn,\n",
       " 1.333 Y2O3 + 3 Mn -> Mn3O4 + 2.667 Y,\n",
       " Mn3O4 + 2.667 Y -> 1.333 Y2O3 + 3 Mn,\n",
       " Y2O3 + Mn -> YMnO3 + Y,\n",
       " YMnO3 + Y -> Y2O3 + Mn,\n",
       " YMnO3 + 13 Mn -> Mn2O3 + YMn12,\n",
       " Mn2O3 + YMn12 -> YMnO3 + 13 Mn,\n",
       " YMnO3 + Mn -> Mn2O3 + Y,\n",
       " Mn2O3 + Y -> YMnO3 + Mn,\n",
       " 1.667 YMnO3 + 8.333 Mn -> YMn2O5 + 0.6667 YMn12,\n",
       " YMn2O5 + 0.6667 YMn12 -> 1.667 YMnO3 + 8.333 Mn,\n",
       " YMnO3 + 11 Mn -> YMn12 + 1.5 O2,\n",
       " YMn12 + 1.5 O2 -> YMnO3 + 11 Mn,\n",
       " YMnO3 + 14 Mn -> YMn12 + 3 MnO,\n",
       " YMn12 + 3 MnO -> YMnO3 + 14 Mn,\n",
       " 7 YMnO3 + 11 Mn -> YMn12 + 3 Y2Mn2O7,\n",
       " YMn12 + 3 Y2Mn2O7 -> 7 YMnO3 + 11 Mn,\n",
       " YMnO3 + 13.25 Mn -> YMn12 + 0.75 Mn3O4,\n",
       " YMn12 + 0.75 Mn3O4 -> YMnO3 + 13.25 Mn,\n",
       " 1.667 YMnO3 + 0.3333 Mn -> YMn2O5 + 0.6667 Y,\n",
       " YMn2O5 + 0.6667 Y -> 1.667 YMnO3 + 0.3333 Mn,\n",
       " 2 YMnO3 + Mn -> Y2O3 + 3 MnO,\n",
       " Y2O3 + 3 MnO -> 2 YMnO3 + Mn,\n",
       " 0.3333 YMnO3 + 0.6667 Mn -> MnO + 0.3333 Y,\n",
       " MnO + 0.3333 Y -> 0.3333 YMnO3 + 0.6667 Mn,\n",
       " 2 YMnO3 + 0.25 Mn -> Y2O3 + 0.75 Mn3O4,\n",
       " Y2O3 + 0.75 Mn3O4 -> 2 YMnO3 + 0.25 Mn,\n",
       " 1.333 YMnO3 + 1.667 Mn -> Mn3O4 + 1.333 Y,\n",
       " Mn3O4 + 1.333 Y -> 1.333 YMnO3 + 1.667 Mn,\n",
       " 15 Mn2O3 + YMn12 -> YMn2O5 + 40 MnO,\n",
       " YMn2O5 + 40 MnO -> 15 Mn2O3 + YMn12,\n",
       " 55 Mn2O3 + YMn12 -> YMn2O5 + 40 Mn3O4,\n",
       " YMn2O5 + 40 Mn3O4 -> 55 Mn2O3 + YMn12,\n",
       " 29 Mn2O3 + 2 YMn12 -> Y2Mn2O7 + 80 MnO,\n",
       " Y2Mn2O7 + 80 MnO -> 29 Mn2O3 + 2 YMn12,\n",
       " 27 Mn2O3 + 2 YMn12 -> Y2O3 + 78 MnO,\n",
       " Y2O3 + 78 MnO -> 27 Mn2O3 + 2 YMn12,\n",
       " 0.3333 Mn2O3 + 0.02778 YMn12 -> MnO + 0.02778 Y,\n",
       " MnO + 0.02778 Y -> 0.3333 Mn2O3 + 0.02778 YMn12,\n",
       " 14 Mn2O3 + YMn12 -> YMnO3 + 39 MnO,\n",
       " YMnO3 + 39 MnO -> 14 Mn2O3 + YMn12,\n",
       " 109 Mn2O3 + 2 YMn12 -> Y2Mn2O7 + 80 Mn3O4,\n",
       " Y2Mn2O7 + 80 Mn3O4 -> 109 Mn2O3 + 2 YMn12,\n",
       " 105 Mn2O3 + 2 YMn12 -> Y2O3 + 78 Mn3O4,\n",
       " Y2O3 + 78 Mn3O4 -> 105 Mn2O3 + 2 YMn12,\n",
       " 1.333 Mn2O3 + 0.02778 YMn12 -> Mn3O4 + 0.02778 Y,\n",
       " Mn3O4 + 0.02778 Y -> 1.333 Mn2O3 + 0.02778 YMn12,\n",
       " 53 Mn2O3 + YMn12 -> YMnO3 + 39 Mn3O4,\n",
       " YMnO3 + 39 Mn3O4 -> 53 Mn2O3 + YMn12,\n",
       " 5 Mn2O3 + YMn2O5 -> YMn12 + 10 O2,\n",
       " YMn12 + 10 O2 -> 5 Mn2O3 + YMn2O5,\n",
       " 5.5 Mn2O3 + 0.5 Y2Mn2O7 -> YMn12 + 10 O2,\n",
       " YMn12 + 10 O2 -> 5.5 Mn2O3 + 0.5 Y2Mn2O7,\n",
       " 1.154 Mn2O3 + 0.5128 Y2O3 -> YMn2O5 + 0.02564 YMn12,\n",
       " YMn2O5 + 0.02564 YMn12 -> 1.154 Mn2O3 + 0.5128 Y2O3,\n",
       " 6 Mn2O3 + 0.5 Y2O3 -> YMn12 + 9.75 O2,\n",
       " YMn12 + 9.75 O2 -> 6 Mn2O3 + 0.5 Y2O3,\n",
       " 25.5 Mn2O3 + 20 Y2O3 -> YMn12 + 19.5 Y2Mn2O7,\n",
       " YMn12 + 19.5 Y2Mn2O7 -> 25.5 Mn2O3 + 20 Y2O3,\n",
       " 1.5 Mn2O3 + 0.5 Y2O3 -> YMn2O5 + MnO,\n",
       " YMn2O5 + MnO -> 1.5 Mn2O3 + 0.5 Y2O3,\n",
       " 2.5 Mn2O3 + 0.5 Y2O3 -> YMn2O5 + Mn3O4,\n",
       " YMn2O5 + Mn3O4 -> 2.5 Mn2O3 + 0.5 Y2O3,\n",
       " Mn2O3 + 0.6667 Y2O3 -> YMn2O5 + 0.3333 Y,\n",
       " YMn2O5 + 0.3333 Y -> Mn2O3 + 0.6667 Y2O3,\n",
       " 2 Mn2O3 + Y2O3 -> Y2Mn2O7 + 2 MnO,\n",
       " Y2Mn2O7 + 2 MnO -> 2 Mn2O3 + Y2O3,\n",
       " 4 Mn2O3 + Y2O3 -> Y2Mn2O7 + 2 Mn3O4,\n",
       " Y2Mn2O7 + 2 Mn3O4 -> 4 Mn2O3 + Y2O3,\n",
       " Mn2O3 + 1.333 Y2O3 -> Y2Mn2O7 + 0.6667 Y,\n",
       " Y2Mn2O7 + 0.6667 Y -> Mn2O3 + 1.333 Y2O3,\n",
       " 1.667 Mn2O3 + 1.111 Y -> YMn2O5 + 0.1111 YMn12,\n",
       " YMn2O5 + 0.1111 YMn12 -> 1.667 Mn2O3 + 1.111 Y,\n",
       " 6 Mn2O3 + Y -> YMn12 + 9 O2,\n",
       " YMn12 + 9 O2 -> 6 Mn2O3 + Y,\n",
       " 10.5 Mn2O3 + 10 Y -> YMn12 + 4.5 Y2Mn2O7,\n",
       " YMn12 + 4.5 Y2Mn2O7 -> 10.5 Mn2O3 + 10 Y,\n",
       " 6 Mn2O3 + 13 Y -> YMn12 + 6 Y2O3,\n",
       " YMn12 + 6 Y2O3 -> 6 Mn2O3 + 13 Y,\n",
       " 12 Mn2O3 + 13 Y -> YMn12 + 12 YMnO3,\n",
       " YMn12 + 12 YMnO3 -> 12 Mn2O3 + 13 Y,\n",
       " 3 Mn2O3 + Y -> YMn2O5 + 4 MnO,\n",
       " YMn2O5 + 4 MnO -> 3 Mn2O3 + Y,\n",
       " 7 Mn2O3 + Y -> YMn2O5 + 4 Mn3O4,\n",
       " YMn2O5 + 4 Mn3O4 -> 7 Mn2O3 + Y,\n",
       " 5 Mn2O3 + 2 Y -> Y2Mn2O7 + 8 MnO,\n",
       " Y2Mn2O7 + 8 MnO -> 5 Mn2O3 + 2 Y,\n",
       " 3 Mn2O3 + 2 Y -> Y2O3 + 6 MnO,\n",
       " Y2O3 + 6 MnO -> 3 Mn2O3 + 2 Y,\n",
       " 2 Mn2O3 + Y -> YMnO3 + 3 MnO,\n",
       " YMnO3 + 3 MnO -> 2 Mn2O3 + Y,\n",
       " 13 Mn2O3 + 2 Y -> Y2Mn2O7 + 8 Mn3O4,\n",
       " Y2Mn2O7 + 8 Mn3O4 -> 13 Mn2O3 + 2 Y,\n",
       " 9 Mn2O3 + 2 Y -> Y2O3 + 6 Mn3O4,\n",
       " Y2O3 + 6 Mn3O4 -> 9 Mn2O3 + 2 Y,\n",
       " 5 Mn2O3 + Y -> YMnO3 + 3 Mn3O4,\n",
       " YMnO3 + 3 Mn3O4 -> 5 Mn2O3 + Y,\n",
       " 0.641 Mn2O3 + 1.026 YMnO3 -> YMn2O5 + 0.02564 YMn12,\n",
       " YMn2O5 + 0.02564 YMn12 -> 0.641 Mn2O3 + 1.026 YMnO3,\n",
       " 5.5 Mn2O3 + YMnO3 -> YMn12 + 9.75 O2,\n",
       " YMn12 + 9.75 O2 -> 5.5 Mn2O3 + YMnO3,\n",
       " 5.5 Mn2O3 + 40 YMnO3 -> YMn12 + 19.5 Y2Mn2O7,\n",
       " YMn12 + 19.5 Y2Mn2O7 -> 5.5 Mn2O3 + 40 YMnO3,\n",
       " Mn2O3 + YMnO3 -> YMn2O5 + MnO,\n",
       " YMn2O5 + MnO -> Mn2O3 + YMnO3,\n",
       " 2 Mn2O3 + YMnO3 -> YMn2O5 + Mn3O4,\n",
       " YMn2O5 + Mn3O4 -> 2 Mn2O3 + YMnO3,\n",
       " 0.3333 Mn2O3 + 1.333 YMnO3 -> YMn2O5 + 0.3333 Y,\n",
       " YMn2O5 + 0.3333 Y -> 0.3333 Mn2O3 + 1.333 YMnO3,\n",
       " Mn2O3 + 2 YMnO3 -> Y2Mn2O7 + 2 MnO,\n",
       " Y2Mn2O7 + 2 MnO -> Mn2O3 + 2 YMnO3,\n",
       " 3 Mn2O3 + 2 YMnO3 -> Y2Mn2O7 + 2 Mn3O4,\n",
       " Y2Mn2O7 + 2 Mn3O4 -> 3 Mn2O3 + 2 YMnO3,\n",
       " 1.933 YMn2O5 + 0.06667 YMn12 -> Y2Mn2O7 + 2.667 MnO,\n",
       " Y2Mn2O7 + 2.667 MnO -> 1.933 YMn2O5 + 0.06667 YMn12,\n",
       " 1.8 YMn2O5 + 0.2 YMn12 -> Y2O3 + 6 MnO,\n",
       " Y2O3 + 6 MnO -> 1.8 YMn2O5 + 0.2 YMn12,\n",
       " 0.2 YMn2O5 + 0.05 YMn12 -> MnO + 0.25 Y,\n",
       " MnO + 0.25 Y -> 0.2 YMn2O5 + 0.05 YMn12,\n",
       " 0.9333 YMn2O5 + 0.06667 YMn12 -> YMnO3 + 1.667 MnO,\n",
       " YMnO3 + 1.667 MnO -> 0.9333 YMn2O5 + 0.06667 YMn12,\n",
       " 1.982 YMn2O5 + 0.01818 YMn12 -> Y2Mn2O7 + 0.7273 Mn3O4,\n",
       " Y2Mn2O7 + 0.7273 Mn3O4 -> 1.982 YMn2O5 + 0.01818 YMn12,\n",
       " 1.909 YMn2O5 + 0.09091 YMn12 -> Y2O3 + 1.636 Mn3O4,\n",
       " Y2O3 + 1.636 Mn3O4 -> 1.909 YMn2O5 + 0.09091 YMn12,\n",
       " 0.8 YMn2O5 + 0.1167 YMn12 -> Mn3O4 + 0.9167 Y,\n",
       " Mn3O4 + 0.9167 Y -> 0.8 YMn2O5 + 0.1167 YMn12,\n",
       " 0.9636 YMn2O5 + 0.03636 YMn12 -> YMnO3 + 0.4545 Mn3O4,\n",
       " YMnO3 + 0.4545 Mn3O4 -> 0.9636 YMn2O5 + 0.03636 YMn12,\n",
       " YMn12 + 7.5 O2 -> YMn2O5 + 10 MnO,\n",
       " YMn2O5 + 10 MnO -> YMn12 + 7.5 O2,\n",
       " YMn12 + 9.167 O2 -> YMn2O5 + 3.333 Mn3O4,\n",
       " YMn2O5 + 3.333 Mn3O4 -> YMn12 + 9.167 O2,\n",
       " 2 YMn12 + 14.5 O2 -> Y2Mn2O7 + 22 MnO,\n",
       " Y2Mn2O7 + 22 MnO -> 2 YMn12 + 14.5 O2,\n",
       " 2 YMn12 + 13.5 O2 -> Y2O3 + 24 MnO,\n",
       " Y2O3 + 24 MnO -> 2 YMn12 + 13.5 O2,\n",
       " 0.08333 YMn12 + 0.5 O2 -> MnO + 0.08333 Y,\n",
       " MnO + 0.08333 Y -> 0.08333 YMn12 + 0.5 O2,\n",
       " YMn12 + 7 O2 -> YMnO3 + 11 MnO,\n",
       " YMnO3 + 11 MnO -> YMn12 + 7 O2,\n",
       " 2 YMn12 + 18.17 O2 -> Y2Mn2O7 + 7.333 Mn3O4,\n",
       " Y2Mn2O7 + 7.333 Mn3O4 -> 2 YMn12 + 18.17 O2,\n",
       " 2 YMn12 + 17.5 O2 -> Y2O3 + 8 Mn3O4,\n",
       " Y2O3 + 8 Mn3O4 -> 2 YMn12 + 17.5 O2,\n",
       " 0.25 YMn12 + 2 O2 -> Mn3O4 + 0.25 Y,\n",
       " Mn3O4 + 0.25 Y -> 0.25 YMn12 + 2 O2,\n",
       " YMn12 + 8.833 O2 -> YMnO3 + 3.667 Mn3O4,\n",
       " YMnO3 + 3.667 Mn3O4 -> YMn12 + 8.833 O2,\n",
       " 0.01961 YMn12 + 0.8824 Y2Mn2O7 -> YMn2O5 + 0.3922 Y2O3,\n",
       " YMn2O5 + 0.3922 Y2O3 -> 0.01961 YMn12 + 0.8824 Y2Mn2O7,\n",
       " 0.04762 YMn12 + 0.7143 Y2Mn2O7 -> YMn2O5 + 0.4762 Y,\n",
       " YMn2O5 + 0.4762 Y -> 0.04762 YMn12 + 0.7143 Y2Mn2O7,\n",
       " 0.09091 YMn12 + 2.273 Y2Mn2O7 -> YMn2O5 + 3.636 YMnO3,\n",
       " YMn2O5 + 3.636 YMnO3 -> 0.09091 YMn12 + 2.273 Y2Mn2O7,\n",
       " 0.1379 YMn12 + 0.931 Y2Mn2O7 -> Y2O3 + 3.517 MnO,\n",
       " Y2O3 + 3.517 MnO -> 0.1379 YMn12 + 0.931 Y2Mn2O7,\n",
       " 0.05952 YMn12 + 0.1429 Y2Mn2O7 -> MnO + 0.3452 Y,\n",
       " MnO + 0.3452 Y -> 0.05952 YMn12 + 0.1429 Y2Mn2O7,\n",
       " 0.03448 YMn12 + 0.4828 Y2Mn2O7 -> YMnO3 + 0.3793 MnO,\n",
       " YMnO3 + 0.3793 MnO -> 0.03448 YMn12 + 0.4828 Y2Mn2O7,\n",
       " 0.07339 YMn12 + 0.9633 Y2Mn2O7 -> Y2O3 + 0.9358 Mn3O4,\n",
       " Y2O3 + 0.9358 Mn3O4 -> 0.07339 YMn12 + 0.9633 Y2Mn2O7,\n",
       " 0.1548 YMn12 + 0.5714 Y2Mn2O7 -> Mn3O4 + 1.298 Y,\n",
       " Mn3O4 + 1.298 Y -> 0.1548 YMn12 + 0.5714 Y2Mn2O7,\n",
       " 0.02752 YMn12 + 0.4862 Y2Mn2O7 -> YMnO3 + 0.1009 Mn3O4,\n",
       " YMnO3 + 0.1009 Mn3O4 -> 0.02752 YMn12 + 0.4862 Y2Mn2O7,\n",
       " 0.1667 YMn12 + 1.667 Y2O3 -> YMn2O5 + 2.5 Y,\n",
       " YMn2O5 + 2.5 Y -> 0.1667 YMn12 + 1.667 Y2O3,\n",
       " 0.08333 YMn12 + 0.3333 Y2O3 -> MnO + 0.75 Y,\n",
       " MnO + 0.75 Y -> 0.08333 YMn12 + 0.3333 Y2O3,\n",
       " 0.1667 YMn12 + 2.333 Y2O3 -> Y2Mn2O7 + 2.833 Y,\n",
       " Y2Mn2O7 + 2.833 Y -> 0.1667 YMn12 + 2.333 Y2O3,\n",
       " 0.25 YMn12 + 1.333 Y2O3 -> Mn3O4 + 2.917 Y,\n",
       " Mn3O4 + 2.917 Y -> 0.25 YMn12 + 1.333 Y2O3,\n",
       " 0.08333 YMn12 + Y2O3 -> YMnO3 + 1.083 Y,\n",
       " YMnO3 + 1.083 Y -> 0.08333 YMn12 + Y2O3,\n",
       " YMn12 + 15 Mn3O4 -> YMn2O5 + 55 MnO,\n",
       " YMn2O5 + 55 MnO -> YMn12 + 15 Mn3O4,\n",
       " 2 YMn12 + 29 Mn3O4 -> Y2Mn2O7 + 109 MnO,\n",
       " Y2Mn2O7 + 109 MnO -> 2 YMn12 + 29 Mn3O4,\n",
       " 2 YMn12 + 27 Mn3O4 -> Y2O3 + 105 MnO,\n",
       " Y2O3 + 105 MnO -> 2 YMn12 + 27 Mn3O4,\n",
       " 0.02083 YMn12 + 0.25 Mn3O4 -> MnO + 0.02083 Y,\n",
       " MnO + 0.02083 Y -> 0.02083 YMn12 + 0.25 Mn3O4,\n",
       " YMn12 + 14 Mn3O4 -> YMnO3 + 53 MnO,\n",
       " YMnO3 + 53 MnO -> YMn12 + 14 Mn3O4,\n",
       " 0.02778 YMn12 + 1.667 YMnO3 -> YMn2O5 + 0.6944 Y,\n",
       " YMn2O5 + 0.6944 Y -> 0.02778 YMn12 + 1.667 YMnO3,\n",
       " 0.07143 YMn12 + 1.929 YMnO3 -> Y2O3 + 2.786 MnO,\n",
       " Y2O3 + 2.786 MnO -> 0.07143 YMn12 + 1.929 YMnO3,\n",
       " 0.05556 YMn12 + 0.3333 YMnO3 -> MnO + 0.3889 Y,\n",
       " MnO + 0.3889 Y -> 0.05556 YMn12 + 0.3333 YMnO3,\n",
       " 0.01887 YMn12 + 1.981 YMnO3 -> Y2O3 + 0.7358 Mn3O4,\n",
       " Y2O3 + 0.7358 Mn3O4 -> 0.01887 YMn12 + 1.981 YMnO3,\n",
       " 0.1389 YMn12 + 1.333 YMnO3 -> Mn3O4 + 1.472 Y,\n",
       " Mn3O4 + 1.472 Y -> 0.1389 YMn12 + 1.333 YMnO3,\n",
       " 2 YMn2O5 + MnO -> Y2Mn2O7 + Mn3O4,\n",
       " Y2Mn2O7 + Mn3O4 -> 2 YMn2O5 + MnO,\n",
       " 2 YMn2O5 + 5 MnO -> Y2O3 + 3 Mn3O4,\n",
       " Y2O3 + 3 Mn3O4 -> 2 YMn2O5 + 5 MnO,\n",
       " 0.3333 YMn2O5 + 2.333 MnO -> Mn3O4 + 0.3333 Y,\n",
       " Mn3O4 + 0.3333 Y -> 0.3333 YMn2O5 + 2.333 MnO,\n",
       " YMn2O5 + 2 MnO -> YMnO3 + Mn3O4,\n",
       " YMnO3 + Mn3O4 -> YMn2O5 + 2 MnO,\n",
       " 0.5 YMn2O5 + 0.25 Y2O3 -> YMnO3 + 0.125 O2,\n",
       " YMnO3 + 0.125 O2 -> 0.5 YMn2O5 + 0.25 Y2O3,\n",
       " 1.333 YMn2O5 + 0.3333 Y2O3 -> Y2Mn2O7 + 0.6667 MnO,\n",
       " Y2Mn2O7 + 0.6667 MnO -> 1.333 YMn2O5 + 0.3333 Y2O3,\n",
       " 1.6 YMn2O5 + 0.2 Y2O3 -> Y2Mn2O7 + 0.4 Mn3O4,\n",
       " Y2Mn2O7 + 0.4 Mn3O4 -> 1.6 YMn2O5 + 0.2 Y2O3,\n",
       " YMn2O5 + 0.6667 Y2O3 -> Y2Mn2O7 + 0.3333 Y,\n",
       " Y2Mn2O7 + 0.3333 Y -> YMn2O5 + 0.6667 Y2O3,\n",
       " YMn2O5 + 0.5 Y2O3 -> YMnO3 + 0.5 Y2Mn2O7,\n",
       " YMnO3 + 0.5 Y2Mn2O7 -> YMn2O5 + 0.5 Y2O3,\n",
       " 1.667 YMn2O5 + 0.3333 Y -> Y2Mn2O7 + 1.333 MnO,\n",
       " Y2Mn2O7 + 1.333 MnO -> 1.667 YMn2O5 + 0.3333 Y,\n",
       " YMn2O5 + Y -> Y2O3 + 2 MnO,\n",
       " Y2O3 + 2 MnO -> YMn2O5 + Y,\n",
       " 0.6667 YMn2O5 + 0.3333 Y -> YMnO3 + 0.3333 MnO,\n",
       " YMnO3 + 0.3333 MnO -> 0.6667 YMn2O5 + 0.3333 Y,\n",
       " 1.857 YMn2O5 + 0.1429 Y -> Y2Mn2O7 + 0.5714 Mn3O4,\n",
       " Y2Mn2O7 + 0.5714 Mn3O4 -> 1.857 YMn2O5 + 0.1429 Y,\n",
       " 1.286 YMn2O5 + 0.7143 Y -> Y2O3 + 0.8571 Mn3O4,\n",
       " Y2O3 + 0.8571 Mn3O4 -> 1.286 YMn2O5 + 0.7143 Y,\n",
       " 0.7143 YMn2O5 + 0.2857 Y -> YMnO3 + 0.1429 Mn3O4,\n",
       " YMnO3 + 0.1429 Mn3O4 -> 0.7143 YMn2O5 + 0.2857 Y,\n",
       " YMn2O5 + YMnO3 -> Y2Mn2O7 + MnO,\n",
       " Y2Mn2O7 + MnO -> YMn2O5 + YMnO3,\n",
       " 1.5 YMn2O5 + 0.5 YMnO3 -> Y2Mn2O7 + 0.5 Mn3O4,\n",
       " Y2Mn2O7 + 0.5 Mn3O4 -> 1.5 YMn2O5 + 0.5 YMnO3,\n",
       " Y2Mn2O7 + 4 MnO -> Y2O3 + 2 Mn3O4,\n",
       " Y2O3 + 2 Mn3O4 -> Y2Mn2O7 + 4 MnO,\n",
       " 0.2 Y2Mn2O7 + 2.6 MnO -> Mn3O4 + 0.4 Y,\n",
       " Mn3O4 + 0.4 Y -> 0.2 Y2Mn2O7 + 2.6 MnO,\n",
       " 0.5 Y2Mn2O7 + 1.5 MnO -> YMnO3 + 0.5 Mn3O4,\n",
       " YMnO3 + 0.5 Mn3O4 -> 0.5 Y2Mn2O7 + 1.5 MnO,\n",
       " 1.667 Y2O3 + 2 MnO -> Y2Mn2O7 + 1.333 Y,\n",
       " Y2Mn2O7 + 1.333 Y -> 1.667 Y2O3 + 2 MnO,\n",
       " 0.3333 Y2O3 + 3 MnO -> Mn3O4 + 0.6667 Y,\n",
       " Mn3O4 + 0.6667 Y -> 0.3333 Y2O3 + 3 MnO,\n",
       " 0.6667 Y2O3 + MnO -> YMnO3 + 0.3333 Y,\n",
       " YMnO3 + 0.3333 Y -> 0.6667 Y2O3 + MnO,\n",
       " 2 YMnO3 + MnO -> Y2O3 + Mn3O4,\n",
       " Y2O3 + Mn3O4 -> 2 YMnO3 + MnO,\n",
       " 0.5 YMnO3 + 2.5 MnO -> Mn3O4 + 0.5 Y,\n",
       " Mn3O4 + 0.5 Y -> 0.5 YMnO3 + 2.5 MnO,\n",
       " 0.6923 Y2Mn2O7 + 0.6154 Y -> Y2O3 + 0.4615 Mn3O4,\n",
       " Y2O3 + 0.4615 Mn3O4 -> 0.6923 Y2Mn2O7 + 0.6154 Y,\n",
       " 3 Y2Mn2O7 + 2 Y -> Y2O3 + 6 YMnO3,\n",
       " Y2O3 + 6 YMnO3 -> 3 Y2Mn2O7 + 2 Y,\n",
       " 0.5556 Y2O3 + 0.3333 Mn3O4 -> YMnO3 + 0.1111 Y,\n",
       " YMnO3 + 0.1111 Y -> 0.5556 Y2O3 + 0.3333 Mn3O4]"
      ]
     },
     "execution_count": 7,
     "metadata": {},
     "output_type": "execute_result"
    }
   ],
   "source": [
    "list(rxns.get_rxns())"
   ]
  },
  {
   "cell_type": "markdown",
   "id": "8194edc6",
   "metadata": {},
   "source": [
    "The cost function is a monotonic function used to assign weights to edges in the network. In this case, we will use the softplus function, assigned a temperature scaling of $T=900$ K, and use the default arguments which automatically determine the softplus weighting based on the energy per atom of the reaction:"
   ]
  },
  {
   "cell_type": "code",
   "execution_count": 8,
   "id": "94c693ae",
   "metadata": {},
   "outputs": [],
   "source": [
    "cf = Softplus(900)"
   ]
  },
  {
   "cell_type": "markdown",
   "id": "1c799d22",
   "metadata": {},
   "source": [
    "Finally, we provide these as arugments to the `ReactionNetwork` initialization:"
   ]
  },
  {
   "cell_type": "code",
   "execution_count": 9,
   "id": "8dc1f67a",
   "metadata": {},
   "outputs": [],
   "source": [
    "rn = ReactionNetwork(rxns, cf)"
   ]
  },
  {
   "cell_type": "markdown",
   "id": "a487a616",
   "metadata": {},
   "source": [
    "This simply initializes a `ReactionNetwork` object but does not build the network graph. To do so, we call the `.build()` function:"
   ]
  },
  {
   "cell_type": "code",
   "execution_count": 9,
   "id": "adc019cd",
   "metadata": {},
   "outputs": [
    {
     "name": "stderr",
     "output_type": "stream",
     "text": [
      "INFO:ReactionNetwork:Building graph from reactions...\n",
      "100%|████████████████████████████████████████████████████████████████████████████████████████████████████████████████████████| 2182/2182 [00:02<00:00, 739.77it/s]\n"
     ]
    }
   ],
   "source": [
    "rn.build()"
   ]
  },
  {
   "cell_type": "markdown",
   "id": "74d6ddfc",
   "metadata": {},
   "source": [
    "This should have completed within a few seconds. You'll notice that two things happened:\n",
    "\n",
    "1. The enumerator(s) were run and a list of reactions was generated\n",
    "2. The weighted graph object was built with these reactions and stored under the `graph` attribute of the reaction network object\n",
    "\n",
    "We can access this graph object, which is a graph-tool object, by using the `graph` attribute:"
   ]
  },
  {
   "cell_type": "code",
   "execution_count": 10,
   "id": "f26d61c6",
   "metadata": {},
   "outputs": [
    {
     "data": {
      "text/plain": [
       "<Graph object, directed, with 984 vertices and 2674 edges, 2 internal vertex properties, 3 internal edge properties, at 0x14c6f0790>"
      ]
     },
     "execution_count": 10,
     "metadata": {},
     "output_type": "execute_result"
    }
   ],
   "source": [
    "rn.graph"
   ]
  },
  {
   "cell_type": "markdown",
   "id": "d62da971",
   "metadata": {},
   "source": [
    "There are a couple provided ways to plot reaction networks. The first is to use the built in drawing features in graph-tool, which have been provided in a wrapper function."
   ]
  },
  {
   "cell_type": "code",
   "execution_count": 11,
   "id": "739a5bb9",
   "metadata": {},
   "outputs": [],
   "source": [
    "#plot_network(rn.graph);"
   ]
  },
  {
   "cell_type": "markdown",
   "id": "8bb8a5dc",
   "metadata": {},
   "source": [
    "You'll notice that at this stage, the reaction network graph is a collection of \"sub\"-networks, i.e. a collection of smaller reaction networks for smaller chemical subsystems. This configuration will change once we set up for pathfinding in the next section."
   ]
  },
  {
   "cell_type": "markdown",
   "id": "a45a67d6",
   "metadata": {},
   "source": [
    "The second way to plot graphs is to use graphistry, which requires setting up an account on Graphistry Hub: https://hub.graphistry.com/"
   ]
  },
  {
   "cell_type": "code",
   "execution_count": 12,
   "id": "dc1d2b7c",
   "metadata": {},
   "outputs": [],
   "source": [
    "#plot_network_on_graphistry(rn.graph)"
   ]
  },
  {
   "cell_type": "markdown",
   "id": "6c9c9d1c",
   "metadata": {},
   "source": [
    "### Solving for reaction pathways\n",
    "\n",
    "To solve for reaction pathways, we must set precursor phases, as well as a target phase. This will automatically build all the required \"zero-cost\" edges which connect the different chemical subsystems. Please see the original manuscript for more detail with regards to how this works. In short, zero-cost edges are drawn between and product node to any reactant node that contains a subset of the set consisting of the {precursors + products} phases. "
   ]
  },
  {
   "cell_type": "code",
   "execution_count": 13,
   "id": "f8d706e6",
   "metadata": {},
   "outputs": [],
   "source": [
    "rn.set_precursors([\"Li2CO3\", \"Mn2O3\", \"YCl3\"])"
   ]
  },
  {
   "cell_type": "code",
   "execution_count": 14,
   "id": "b6fa1322",
   "metadata": {},
   "outputs": [],
   "source": [
    "rn.set_target(\"YMnO3\")"
   ]
  },
  {
   "cell_type": "markdown",
   "id": "edc91d88",
   "metadata": {},
   "source": [
    "We can see how this changes the network by re-drawing it:"
   ]
  },
  {
   "cell_type": "code",
   "execution_count": 23,
   "id": "a0529d29",
   "metadata": {},
   "outputs": [
    {
     "data": {
      "text/plain": [
       "<Graph object, directed, with 986 vertices and 5268 edges, 2 internal vertex properties, 4 internal edge properties, at 0x14c6f0790>"
      ]
     },
     "execution_count": 23,
     "metadata": {},
     "output_type": "execute_result"
    }
   ],
   "source": [
    "rn.graph"
   ]
  },
  {
   "cell_type": "code",
   "execution_count": 16,
   "id": "8156aaf7",
   "metadata": {},
   "outputs": [],
   "source": [
    "# plot_network(rn.graph);"
   ]
  },
  {
   "cell_type": "markdown",
   "id": "a588282d",
   "metadata": {},
   "source": [
    "You should now see that the chemical subsystems have come together -- this is due to the zero-cost edges that were just described. We can now perform pathfinding to extract reaction pathways.\n",
    "\n",
    "To get reaction pathways, we simply call the `find_pathways()` method. This automatically handles finding pathways to multiple targets, by calling the internal shortest paths method. The _k_ parameter specifies the number of shortest paths to find to each target."
   ]
  },
  {
   "cell_type": "code",
   "execution_count": 17,
   "id": "ec70a87e",
   "metadata": {},
   "outputs": [
    {
     "name": "stdout",
     "output_type": "stream",
     "text": [
      "PATHS to YMnO3 \n",
      "\n",
      "--------------------------------------- \n",
      "\n",
      "YCl3 + 4.5 Mn2O3 -> 0.5 Y2Mn2O7 + Mn8Cl3O10 (dG = -0.015 eV/atom) \n",
      "Mn2O3 + Y2Mn2O7 -> 2 YMnO3 + 2 MnO2 (dG = 0.005 eV/atom) \n",
      "Total Cost: 0.528 \n",
      "\n",
      "YCl3 + 4.5 Mn2O3 -> 0.5 Y2Mn2O7 + Mn8Cl3O10 (dG = -0.015 eV/atom) \n",
      "0.5 Y2Mn2O7 -> YMnO3 + 0.25 O2 (dG = 0.038 eV/atom) \n",
      "Total Cost: 0.535 \n",
      "\n",
      "YCl3 + 5 Mn2O3 -> Mn8Cl3O10 + YMn2O5 (dG = -0.025 eV/atom) \n",
      "YMn2O5 -> YMnO3 + MnO2 (dG = 0.048 eV/atom) \n",
      "Total Cost: 0.535 \n",
      "\n",
      "2 Li2CO3 + Mn2O3 -> Li2O + 2 LiMnCO4 (dG = 0.029 eV/atom) \n",
      "Li2O + 0.6667 YCl3 -> 0.3333 Y2O3 + 2 LiCl (dG = -0.297 eV/atom) \n",
      "Mn2O3 + Y2O3 -> 2 YMnO3 (dG = -0.069 eV/atom) \n",
      "Total Cost: 0.724 \n",
      "\n",
      "2 Li2CO3 + Mn2O3 -> Li2O + 2 LiMnCO4 (dG = 0.029 eV/atom) \n",
      "Li2O + YCl3 -> YClO + 2 LiCl (dG = -0.273 eV/atom) \n",
      "3 YClO + Mn2O3 -> YCl3 + 2 YMnO3 (dG = 0.0 eV/atom) \n",
      "Total Cost: 0.744 \n",
      "\n",
      "PATHS to LiCl \n",
      "\n",
      "--------------------------------------- \n",
      "\n",
      "2 Li2CO3 + Mn2O3 -> Li2O + 2 LiMnCO4 (dG = 0.029 eV/atom) \n",
      "Li2O + 0.6667 YCl3 -> 0.3333 Y2O3 + 2 LiCl (dG = -0.297 eV/atom) \n",
      "Total Cost: 0.475 \n",
      "\n",
      "2 Li2CO3 + Mn2O3 -> Li2O + 2 LiMnCO4 (dG = 0.029 eV/atom) \n",
      "Li2O + YCl3 -> YClO + 2 LiCl (dG = -0.273 eV/atom) \n",
      "Total Cost: 0.479 \n",
      "\n",
      "Li2CO3 -> Li2O + CO2 (dG = 0.146 eV/atom) \n",
      "Li2O + 0.6667 YCl3 -> 0.3333 Y2O3 + 2 LiCl (dG = -0.297 eV/atom) \n",
      "Total Cost: 0.504 \n",
      "\n",
      "Li2CO3 -> Li2O + CO2 (dG = 0.146 eV/atom) \n",
      "Li2O + YCl3 -> YClO + 2 LiCl (dG = -0.273 eV/atom) \n",
      "Total Cost: 0.508 \n",
      "\n",
      "Li2CO3 + 0.5 Mn2O3 -> Li2MnCO4 + 0.25 O2 (dG = 0.054 eV/atom) \n",
      "2 Li2MnCO4 + 0.5 O2 -> Li2O + 2 LiMnCO4 (dG = -0.026 eV/atom) \n",
      "Li2O + 0.6667 YCl3 -> 0.3333 Y2O3 + 2 LiCl (dG = -0.297 eV/atom) \n",
      "Total Cost: 0.74 \n",
      "\n",
      "PATHS to CO2 \n",
      "\n",
      "--------------------------------------- \n",
      "\n",
      "0.5 Li2CO3 + 0.5 Mn2O3 -> LiMnO2 + 0.5 CO2 (dG = 0.009 eV/atom) \n",
      "Total Cost: 0.267 \n",
      "\n",
      "2 Li2CO3 -> Li4CO4 + CO2 (dG = 0.055 eV/atom) \n",
      "Total Cost: 0.278 \n",
      "\n",
      "Li2CO3 -> Li2O + CO2 (dG = 0.146 eV/atom) \n",
      "Total Cost: 0.301 \n",
      "\n",
      "Li2CO3 + 0.5 Mn2O3 -> Li2MnCO4 + 0.25 O2 (dG = 0.054 eV/atom) \n",
      "Li2MnCO4 + 0.5 O2 -> Li2MnO3 + CO2 (dG = -0.092 eV/atom) \n",
      "Total Cost: 0.522 \n",
      "\n",
      "Li2CO3 + Mn2O3 -> LiCO2 + LiMn2O4 (dG = 0.046 eV/atom) \n",
      "1.5 LiCO2 + 0.5 LiMn2O4 -> Li2MnCO4 + 0.5 CO2 (dG = -0.069 eV/atom) \n",
      "Total Cost: 0.525 \n",
      "\n"
     ]
    }
   ],
   "source": [
    "paths = rn.find_pathways([\"YMnO3\", \"LiCl\", \"CO2\"], k=5)"
   ]
  },
  {
   "cell_type": "markdown",
   "id": "dd784030",
   "metadata": {},
   "source": [
    "The output of this method is a list of `BasicPathway` objects. Note that these objects contain a list of reactions and associated costs, but the actual pathway is typically not balanced:"
   ]
  },
  {
   "cell_type": "code",
   "execution_count": 18,
   "id": "8fde70a1",
   "metadata": {},
   "outputs": [
    {
     "name": "stdout",
     "output_type": "stream",
     "text": [
      "YCl3 + 4.5 Mn2O3 -> 0.5 Y2Mn2O7 + Mn8Cl3O10 (dG = -0.015 eV/atom) \n",
      "Mn2O3 + Y2Mn2O7 -> 2 YMnO3 + 2 MnO2 (dG = 0.005 eV/atom) \n",
      "Total Cost: 0.528\n"
     ]
    }
   ],
   "source": [
    "example_path = paths[0]\n",
    "print(example_path)"
   ]
  },
  {
   "cell_type": "markdown",
   "id": "17a1a55c",
   "metadata": {},
   "source": [
    "This means that the reactions you see above do not necessarily include all reactants, nor do they include form all desired products. They are simply a series of reactions extracted from the reaction network that maybe encountered as the system attempts to get from starter phases to target phases.\n",
    "\n",
    "To actually get balanced reactions, we can use the `PathwaySolver` class. This class takes a set of entries, a list of `BasicPathway` objects, as well as a cost function, and can be used to solve for balanced pathways given a net reaction. First we initialize the class:"
   ]
  },
  {
   "cell_type": "code",
   "execution_count": 25,
   "id": "6767200b",
   "metadata": {},
   "outputs": [],
   "source": [
    "ps = PathwaySolver(rn.entries, paths, cf) # open_elem=\"O\", chempot=0"
   ]
  },
  {
   "cell_type": "markdown",
   "id": "dc8e2b26",
   "metadata": {},
   "source": [
    "To balance the pathways, we must provide a net reaction representing the total conversion of precursors to final products. This corresponds to the assisted metathesis reaction we defined in the beginning. We can automatically make this reaction by initializing a `ComputedReaction` object from the corresponding entries:"
   ]
  },
  {
   "cell_type": "code",
   "execution_count": 26,
   "id": "a3256224",
   "metadata": {},
   "outputs": [
    {
     "data": {
      "text/plain": [
       "1.5 Li2CO3 + YCl3 + 0.5 Mn2O3 -> YMnO3 + 3 LiCl + 1.5 CO2"
      ]
     },
     "execution_count": 26,
     "metadata": {},
     "output_type": "execute_result"
    }
   ],
   "source": [
    "product_entries = []\n",
    "for i in [\"YMnO3\",\"LiCl\",\"CO2\"]:\n",
    "    product_entries.append(rn.entries.get_min_entry_by_formula(i))\n",
    "    \n",
    "net_rxn = ComputedReaction.balance(rn.precursors,product_entries)\n",
    "net_rxn"
   ]
  },
  {
   "cell_type": "markdown",
   "id": "406e3e3b",
   "metadata": {},
   "source": [
    "Finally, we provide the net reaction to the `PathwaySolver` object. Note that the _intermediate_rxn_energy_cutoff_ helps to limit which intermediate reactions are considered (this can substantially decrease the combinatorial complexity), and the _filter_interdependent_ flag verifies that suggested pathways do not contain interdependent reactions (i.e. where both the reactants of reaction A depend on the products of the reaction B, and the reactants of reaction B depend on the products of reaction A).\n",
    "\n",
    "**Note: Even though this step is compiled/parallelized using Numba, this is often the most time-intensive step in the reaction network analysis. Consider limiting the value of the maximum number of combos, as well as the value of the intermediate reaction energy cutoff.**"
   ]
  },
  {
   "cell_type": "code",
   "execution_count": 27,
   "id": "83e33177",
   "metadata": {
    "scrolled": true
   },
   "outputs": [
    {
     "name": "stderr",
     "output_type": "stream",
     "text": [
      "INFO:PathwaySolver:Net reaction: 1.5 Li2CO3 + YCl3 + 0.5 Mn2O3 -> YMnO3 + 3 LiCl + 1.5 CO2 \n",
      "\n",
      "INFO:PathwaySolver:Identifying reactions between intermediates...\n",
      "BasicEnumerator: 100%|███████████████████████████████████████████████████████████████████████████████████████████████████████████| 31/31 [00:00<00:00, 128.08it/s]\n",
      "MinimizeGibbsEnumerator: 100%|███████████████████████████████████████████████████████████████████████████████████████████████████| 45/45 [00:00<00:00, 165.71it/s]\n",
      "INFO:PathwaySolver:Found 165 intermediate reactions!\n",
      "\u001b[2m\u001b[36m(_get_balanced_paths_ray pid=55065)\u001b[0m OMP: Info #273: omp_set_nested routine deprecated, please use omp_set_max_active_levels instead.\n",
      "\u001b[2m\u001b[36m(_get_balanced_paths_ray pid=55061)\u001b[0m OMP: Info #273: omp_set_nested routine deprecated, please use omp_set_max_active_levels instead.\n",
      "Solving pathways by batch...:   0%|                                                                                                       | 0/170 [00:00<?, ?it/s]\u001b[2m\u001b[36m(_get_balanced_paths_ray pid=55072)\u001b[0m OMP: Info #273: omp_set_nested routine deprecated, please use omp_set_max_active_levels instead.\n",
      "\u001b[2m\u001b[36m(_get_balanced_paths_ray pid=55071)\u001b[0m OMP: Info #273: omp_set_nested routine deprecated, please use omp_set_max_active_levels instead.\n",
      "\u001b[2m\u001b[36m(_get_balanced_paths_ray pid=55066)\u001b[0m OMP: Info #273: omp_set_nested routine deprecated, please use omp_set_max_active_levels instead.\n",
      "\u001b[2m\u001b[36m(_get_balanced_paths_ray pid=55068)\u001b[0m OMP: Info #273: omp_set_nested routine deprecated, please use omp_set_max_active_levels instead.\n",
      "\u001b[2m\u001b[36m(_get_balanced_paths_ray pid=55067)\u001b[0m OMP: Info #273: omp_set_nested routine deprecated, please use omp_set_max_active_levels instead.\n",
      "\u001b[2m\u001b[36m(_get_balanced_paths_ray pid=55062)\u001b[0m OMP: Info #273: omp_set_nested routine deprecated, please use omp_set_max_active_levels instead.\n",
      "\u001b[2m\u001b[36m(_get_balanced_paths_ray pid=55064)\u001b[0m OMP: Info #273: omp_set_nested routine deprecated, please use omp_set_max_active_levels instead.\n",
      "\u001b[2m\u001b[36m(_get_balanced_paths_ray pid=55069)\u001b[0m OMP: Info #273: omp_set_nested routine deprecated, please use omp_set_max_active_levels instead.\n",
      "\u001b[2m\u001b[36m(_get_balanced_paths_ray pid=55063)\u001b[0m OMP: Info #273: omp_set_nested routine deprecated, please use omp_set_max_active_levels instead.\n",
      "\u001b[2m\u001b[36m(_get_balanced_paths_ray pid=55070)\u001b[0m OMP: Info #273: omp_set_nested routine deprecated, please use omp_set_max_active_levels instead.\n",
      "Solving pathways by batch...: 100%|█████████████████████████████████████████████████████████████████████████████████████████████| 170/170 [02:51<00:00,  1.01s/it]\n"
     ]
    }
   ],
   "source": [
    "balanced_paths = ps.solve(net_rxn, max_num_combos=4, \n",
    "                          intermediate_rxn_energy_cutoff=0.0, \n",
    "                          use_minimize_enumerator=True,\n",
    "                          filter_interdependent=True)"
   ]
  },
  {
   "cell_type": "markdown",
   "id": "7499b24b",
   "metadata": {},
   "source": [
    "We can now print the suggested, balanced reaction pathways:"
   ]
  },
  {
   "cell_type": "code",
   "execution_count": 28,
   "id": "66aa3200",
   "metadata": {},
   "outputs": [
    {
     "name": "stdout",
     "output_type": "stream",
     "text": [
      "Path 1 \n",
      "\n",
      "Li2O + 0.6667 YCl3 -> 2 LiCl + 0.3333 Y2O3 (dG = -0.297 eV/atom) \n",
      "Mn2O3 + Y2O3 -> 2 YMnO3 (dG = -0.069 eV/atom) \n",
      "Li2CO3 -> CO2 + Li2O (dG = 0.146 eV/atom) \n",
      "Average Cost: 0.252\n",
      "\n",
      "\n",
      "Path 2 \n",
      "\n",
      "Li2O + YCl3 -> 2 LiCl + YClO (dG = -0.273 eV/atom) \n",
      "Li2CO3 -> CO2 + Li2O (dG = 0.146 eV/atom) \n",
      "Li2CO3 + Mn2O3 -> CO2 + 2 LiMnO2 (dG = 0.009 eV/atom) \n",
      "LiMnO2 + YClO -> LiCl + YMnO3 (dG = -0.081 eV/atom) \n",
      "Average Cost: 0.254\n",
      "\n",
      "\n",
      "Path 3 \n",
      "\n",
      "Li2O + YCl3 -> 2 LiCl + YClO (dG = -0.273 eV/atom) \n",
      "Li2CO3 -> CO2 + Li2O (dG = 0.146 eV/atom) \n",
      "2 Li2CO3 -> CO2 + Li4CO4 (dG = 0.055 eV/atom) \n",
      "LiMnO2 + YClO -> LiCl + YMnO3 (dG = -0.081 eV/atom) \n",
      "Li4CO4 + 2 Mn2O3 -> CO2 + 4 LiMnO2 (dG = -0.025 eV/atom) \n",
      "Average Cost: 0.254\n",
      "\n",
      "\n",
      "Path 4 \n",
      "\n",
      "Li2O + YCl3 -> 2 LiCl + YClO (dG = -0.273 eV/atom) \n",
      "Li2CO3 -> CO2 + Li2O (dG = 0.146 eV/atom) \n",
      "Li2CO3 + Mn2O3 -> LiCO2 + LiMn2O4 (dG = 0.046 eV/atom) \n",
      "LiMnO2 + YClO -> LiCl + YMnO3 (dG = -0.081 eV/atom) \n",
      "LiCO2 + LiMn2O4 -> CO2 + 2 LiMnO2 (dG = -0.038 eV/atom) \n",
      "Average Cost: 0.255\n",
      "\n",
      "\n",
      "Path 5 \n",
      "\n",
      "Li2O + 0.6667 YCl3 -> 2 LiCl + 0.3333 Y2O3 (dG = -0.297 eV/atom) \n",
      "Mn2O3 + Y2O3 -> 2 YMnO3 (dG = -0.069 eV/atom) \n",
      "Li2O + YCl3 -> 2 LiCl + YClO (dG = -0.273 eV/atom) \n",
      "Li2CO3 -> CO2 + Li2O (dG = 0.146 eV/atom) \n",
      "Li2O + 2 YClO -> 2 LiCl + Y2O3 (dG = -0.136 eV/atom) \n",
      "Average Cost: 0.255\n",
      "\n",
      "\n",
      "Path 6 \n",
      "\n",
      "Mn2O3 + Y2O3 -> 2 YMnO3 (dG = -0.069 eV/atom) \n",
      "Li2O + YCl3 -> 2 LiCl + YClO (dG = -0.273 eV/atom) \n",
      "Li2CO3 -> CO2 + Li2O (dG = 0.146 eV/atom) \n",
      "Li2O + 2 YClO -> 2 LiCl + Y2O3 (dG = -0.136 eV/atom) \n",
      "Average Cost: 0.257\n",
      "\n",
      "\n"
     ]
    }
   ],
   "source": [
    "for idx, path in enumerate(balanced_paths):\n",
    "    print(f\"Path {idx+1}\", \"\\n\")\n",
    "    print(path)\n",
    "    print(\"\\n\")"
   ]
  },
  {
   "cell_type": "code",
   "execution_count": 23,
   "id": "e469ee12",
   "metadata": {},
   "outputs": [
    {
     "data": {
      "text/plain": [
       "[Li2O + 0.6667 YCl3 -> 2 LiCl + 0.3333 Y2O3 (dG = -0.297 eV/atom) \n",
       " Mn2O3 + Y2O3 -> 2 YMnO3 (dG = -0.069 eV/atom) \n",
       " Li2CO3 -> CO2 + Li2O (dG = 0.146 eV/atom) \n",
       " Average Cost: 0.252,\n",
       " Li2O + YCl3 -> 2 LiCl + YClO (dG = -0.273 eV/atom) \n",
       " Li2CO3 -> CO2 + Li2O (dG = 0.146 eV/atom) \n",
       " Li2CO3 + Mn2O3 -> CO2 + 2 LiMnO2 (dG = 0.009 eV/atom) \n",
       " LiMnO2 + YClO -> LiCl + YMnO3 (dG = -0.081 eV/atom) \n",
       " Average Cost: 0.254,\n",
       " Li2O + YCl3 -> 2 LiCl + YClO (dG = -0.273 eV/atom) \n",
       " Li2CO3 -> CO2 + Li2O (dG = 0.146 eV/atom) \n",
       " 2 Li2CO3 -> CO2 + Li4CO4 (dG = 0.055 eV/atom) \n",
       " LiMnO2 + YClO -> LiCl + YMnO3 (dG = -0.081 eV/atom) \n",
       " Li4CO4 + 2 Mn2O3 -> CO2 + 4 LiMnO2 (dG = -0.025 eV/atom) \n",
       " Average Cost: 0.254,\n",
       " Li2O + YCl3 -> 2 LiCl + YClO (dG = -0.273 eV/atom) \n",
       " Li2CO3 -> CO2 + Li2O (dG = 0.146 eV/atom) \n",
       " Li2CO3 + Mn2O3 -> LiCO2 + LiMn2O4 (dG = 0.046 eV/atom) \n",
       " LiMnO2 + YClO -> LiCl + YMnO3 (dG = -0.081 eV/atom) \n",
       " LiCO2 + LiMn2O4 -> CO2 + 2 LiMnO2 (dG = -0.038 eV/atom) \n",
       " Average Cost: 0.255,\n",
       " Li2O + 0.6667 YCl3 -> 2 LiCl + 0.3333 Y2O3 (dG = -0.297 eV/atom) \n",
       " Mn2O3 + Y2O3 -> 2 YMnO3 (dG = -0.069 eV/atom) \n",
       " Li2O + YCl3 -> 2 LiCl + YClO (dG = -0.273 eV/atom) \n",
       " Li2CO3 -> CO2 + Li2O (dG = 0.146 eV/atom) \n",
       " Li2O + 2 YClO -> 2 LiCl + Y2O3 (dG = -0.136 eV/atom) \n",
       " Average Cost: 0.255,\n",
       " Mn2O3 + Y2O3 -> 2 YMnO3 (dG = -0.069 eV/atom) \n",
       " Li2O + YCl3 -> 2 LiCl + YClO (dG = -0.273 eV/atom) \n",
       " Li2CO3 -> CO2 + Li2O (dG = 0.146 eV/atom) \n",
       " Li2O + 2 YClO -> 2 LiCl + Y2O3 (dG = -0.136 eV/atom) \n",
       " Average Cost: 0.257]"
      ]
     },
     "execution_count": 23,
     "metadata": {},
     "output_type": "execute_result"
    }
   ],
   "source": [
    "balanced_paths"
   ]
  },
  {
   "cell_type": "code",
   "execution_count": 24,
   "id": "f8853da5",
   "metadata": {},
   "outputs": [],
   "source": [
    "from rxn_network.pathways.pathway_set import PathwaySet"
   ]
  },
  {
   "cell_type": "code",
   "execution_count": 25,
   "id": "5b1ca9cf",
   "metadata": {},
   "outputs": [],
   "source": [
    "path_set = PathwaySet.from_paths(balanced_paths)"
   ]
  },
  {
   "cell_type": "code",
   "execution_count": 26,
   "id": "e93ca092",
   "metadata": {},
   "outputs": [
    {
     "data": {
      "text/plain": [
       "[Li2O + 0.6667 YCl3 -> 2 LiCl + 0.3333 Y2O3 (dG = -0.297 eV/atom) \n",
       " Mn2O3 + Y2O3 -> 2 YMnO3 (dG = -0.069 eV/atom) \n",
       " Li2CO3 -> CO2 + Li2O (dG = 0.146 eV/atom) \n",
       " Average Cost: 0.252,\n",
       " Li2O + YCl3 -> 2 LiCl + YClO (dG = -0.273 eV/atom) \n",
       " Li2CO3 -> CO2 + Li2O (dG = 0.146 eV/atom) \n",
       " Li2CO3 + Mn2O3 -> CO2 + 2 LiMnO2 (dG = 0.009 eV/atom) \n",
       " LiMnO2 + YClO -> LiCl + YMnO3 (dG = -0.081 eV/atom) \n",
       " Average Cost: 0.254,\n",
       " Li2O + YCl3 -> 2 LiCl + YClO (dG = -0.273 eV/atom) \n",
       " Li2CO3 -> CO2 + Li2O (dG = 0.146 eV/atom) \n",
       " 2 Li2CO3 -> CO2 + Li4CO4 (dG = 0.055 eV/atom) \n",
       " LiMnO2 + YClO -> LiCl + YMnO3 (dG = -0.081 eV/atom) \n",
       " Li4CO4 + 2 Mn2O3 -> CO2 + 4 LiMnO2 (dG = -0.025 eV/atom) \n",
       " Average Cost: 0.254,\n",
       " Li2O + YCl3 -> 2 LiCl + YClO (dG = -0.273 eV/atom) \n",
       " Li2CO3 -> CO2 + Li2O (dG = 0.146 eV/atom) \n",
       " Li2CO3 + Mn2O3 -> LiCO2 + LiMn2O4 (dG = 0.046 eV/atom) \n",
       " LiMnO2 + YClO -> LiCl + YMnO3 (dG = -0.081 eV/atom) \n",
       " LiCO2 + LiMn2O4 -> CO2 + 2 LiMnO2 (dG = -0.038 eV/atom) \n",
       " Average Cost: 0.255,\n",
       " Li2O + 0.6667 YCl3 -> 2 LiCl + 0.3333 Y2O3 (dG = -0.297 eV/atom) \n",
       " Mn2O3 + Y2O3 -> 2 YMnO3 (dG = -0.069 eV/atom) \n",
       " Li2O + YCl3 -> 2 LiCl + YClO (dG = -0.273 eV/atom) \n",
       " Li2CO3 -> CO2 + Li2O (dG = 0.146 eV/atom) \n",
       " Li2O + 2 YClO -> 2 LiCl + Y2O3 (dG = -0.136 eV/atom) \n",
       " Average Cost: 0.255,\n",
       " Mn2O3 + Y2O3 -> 2 YMnO3 (dG = -0.069 eV/atom) \n",
       " Li2O + YCl3 -> 2 LiCl + YClO (dG = -0.273 eV/atom) \n",
       " Li2CO3 -> CO2 + Li2O (dG = 0.146 eV/atom) \n",
       " Li2O + 2 YClO -> 2 LiCl + Y2O3 (dG = -0.136 eV/atom) \n",
       " Average Cost: 0.257]"
      ]
     },
     "execution_count": 26,
     "metadata": {},
     "output_type": "execute_result"
    }
   ],
   "source": [
    "path_set.get_paths()"
   ]
  },
  {
   "cell_type": "markdown",
   "id": "1bf41273",
   "metadata": {},
   "source": [
    "We note that **Pathway 12 most closely matches the experimentally observed reaction pathway** (ordering subject to change in the future).\n",
    "\n",
    "However, many of the pathways include hypothetical (never-before-synthesized) materials (e.g., Li3MnO3), so the top-ranked pathway does not necessarily match what is experimentally observed."
   ]
  },
  {
   "cell_type": "markdown",
   "id": "34e6b633",
   "metadata": {},
   "source": [
    "### Running networks with Fireworks\n",
    "\n",
    "The `NetworkFW` class allows you to easily run the reaction network construction and pathfinding analysis via fireworks. Simply create a network firework, add it to the LaunchPad, and launch it on your computing resource. See the documentation for more information about each of the parameters."
   ]
  },
  {
   "cell_type": "code",
   "execution_count": 27,
   "id": "30461bf5",
   "metadata": {},
   "outputs": [
    {
     "ename": "ImportError",
     "evalue": "cannot import name 'initialize_entry' from 'rxn_network.enumerators.utils' (/Users/mcdermott/PycharmProjects/reaction-network/src/rxn_network/enumerators/utils.py)",
     "output_type": "error",
     "traceback": [
      "\u001b[0;31m---------------------------------------------------------------------------\u001b[0m",
      "\u001b[0;31mImportError\u001b[0m                               Traceback (most recent call last)",
      "Input \u001b[0;32mIn [27]\u001b[0m, in \u001b[0;36m<cell line: 2>\u001b[0;34m()\u001b[0m\n\u001b[1;32m      1\u001b[0m \u001b[38;5;28;01mfrom\u001b[39;00m \u001b[38;5;21;01mfireworks\u001b[39;00m \u001b[38;5;28;01mimport\u001b[39;00m LaunchPad, Workflow\n\u001b[0;32m----> 2\u001b[0m \u001b[38;5;28;01mfrom\u001b[39;00m \u001b[38;5;21;01mrxn_network\u001b[39;00m\u001b[38;5;21;01m.\u001b[39;00m\u001b[38;5;21;01mfireworks\u001b[39;00m\u001b[38;5;21;01m.\u001b[39;00m\u001b[38;5;21;01mcore\u001b[39;00m \u001b[38;5;28;01mimport\u001b[39;00m NetworkFW\n",
      "File \u001b[0;32m~/PycharmProjects/reaction-network/src/rxn_network/fireworks/__init__.py:5\u001b[0m, in \u001b[0;36m<module>\u001b[0;34m\u001b[0m\n\u001b[1;32m      1\u001b[0m \u001b[38;5;124;03m\"\"\"\u001b[39;00m\n\u001b[1;32m      2\u001b[0m \u001b[38;5;124;03mFireworks for the reaction-network packag (see fireworks package for more info.)\u001b[39;00m\n\u001b[1;32m      3\u001b[0m \u001b[38;5;124;03m\"\"\"\u001b[39;00m\n\u001b[0;32m----> 5\u001b[0m \u001b[38;5;28;01mfrom\u001b[39;00m \u001b[38;5;21;01mrxn_network\u001b[39;00m\u001b[38;5;21;01m.\u001b[39;00m\u001b[38;5;21;01mfireworks\u001b[39;00m\u001b[38;5;21;01m.\u001b[39;00m\u001b[38;5;21;01mcore\u001b[39;00m \u001b[38;5;28;01mimport\u001b[39;00m EnumeratorFW, NetworkFW\n",
      "File \u001b[0;32m~/PycharmProjects/reaction-network/src/rxn_network/fireworks/core.py:18\u001b[0m, in \u001b[0;36m<module>\u001b[0;34m\u001b[0m\n\u001b[1;32m     13\u001b[0m \u001b[38;5;28;01mfrom\u001b[39;00m \u001b[38;5;21;01mrxn_network\u001b[39;00m\u001b[38;5;21;01m.\u001b[39;00m\u001b[38;5;21;01menumerators\u001b[39;00m\u001b[38;5;21;01m.\u001b[39;00m\u001b[38;5;21;01mbasic\u001b[39;00m \u001b[38;5;28;01mimport\u001b[39;00m BasicEnumerator, BasicOpenEnumerator\n\u001b[1;32m     14\u001b[0m \u001b[38;5;28;01mfrom\u001b[39;00m \u001b[38;5;21;01mrxn_network\u001b[39;00m\u001b[38;5;21;01m.\u001b[39;00m\u001b[38;5;21;01menumerators\u001b[39;00m\u001b[38;5;21;01m.\u001b[39;00m\u001b[38;5;21;01mminimize\u001b[39;00m \u001b[38;5;28;01mimport\u001b[39;00m (\n\u001b[1;32m     15\u001b[0m     MinimizeGibbsEnumerator,\n\u001b[1;32m     16\u001b[0m     MinimizeGrandPotentialEnumerator,\n\u001b[1;32m     17\u001b[0m )\n\u001b[0;32m---> 18\u001b[0m \u001b[38;5;28;01mfrom\u001b[39;00m \u001b[38;5;21;01mrxn_network\u001b[39;00m\u001b[38;5;21;01m.\u001b[39;00m\u001b[38;5;21;01mfiretasks\u001b[39;00m\u001b[38;5;21;01m.\u001b[39;00m\u001b[38;5;21;01mbuild_inputs\u001b[39;00m \u001b[38;5;28;01mimport\u001b[39;00m get_entry_task\n\u001b[1;32m     19\u001b[0m \u001b[38;5;28;01mfrom\u001b[39;00m \u001b[38;5;21;01mrxn_network\u001b[39;00m\u001b[38;5;21;01m.\u001b[39;00m\u001b[38;5;21;01mfiretasks\u001b[39;00m\u001b[38;5;21;01m.\u001b[39;00m\u001b[38;5;21;01mparse_outputs\u001b[39;00m \u001b[38;5;28;01mimport\u001b[39;00m NetworkToDb, ReactionsToDb\n\u001b[1;32m     20\u001b[0m \u001b[38;5;28;01mfrom\u001b[39;00m \u001b[38;5;21;01mrxn_network\u001b[39;00m\u001b[38;5;21;01m.\u001b[39;00m\u001b[38;5;21;01mfiretasks\u001b[39;00m\u001b[38;5;21;01m.\u001b[39;00m\u001b[38;5;21;01mrun_calc\u001b[39;00m \u001b[38;5;28;01mimport\u001b[39;00m (\n\u001b[1;32m     21\u001b[0m     BuildNetwork,\n\u001b[1;32m     22\u001b[0m     CalculateChempotDistance,\n\u001b[0;32m   (...)\u001b[0m\n\u001b[1;32m     25\u001b[0m     RunSolver,\n\u001b[1;32m     26\u001b[0m )\n",
      "File \u001b[0;32m~/PycharmProjects/reaction-network/src/rxn_network/firetasks/build_inputs.py:19\u001b[0m, in \u001b[0;36m<module>\u001b[0;34m\u001b[0m\n\u001b[1;32m     16\u001b[0m \u001b[38;5;28;01mfrom\u001b[39;00m \u001b[38;5;21;01mpymatgen\u001b[39;00m\u001b[38;5;21;01m.\u001b[39;00m\u001b[38;5;21;01msymmetry\u001b[39;00m\u001b[38;5;21;01m.\u001b[39;00m\u001b[38;5;21;01manalyzer\u001b[39;00m \u001b[38;5;28;01mimport\u001b[39;00m SpacegroupAnalyzer\n\u001b[1;32m     18\u001b[0m \u001b[38;5;28;01mfrom\u001b[39;00m \u001b[38;5;21;01mrxn_network\u001b[39;00m\u001b[38;5;21;01m.\u001b[39;00m\u001b[38;5;21;01mentries\u001b[39;00m\u001b[38;5;21;01m.\u001b[39;00m\u001b[38;5;21;01mentry_set\u001b[39;00m \u001b[38;5;28;01mimport\u001b[39;00m GibbsEntrySet\n\u001b[0;32m---> 19\u001b[0m \u001b[38;5;28;01mfrom\u001b[39;00m \u001b[38;5;21;01mrxn_network\u001b[39;00m\u001b[38;5;21;01m.\u001b[39;00m\u001b[38;5;21;01menumerators\u001b[39;00m\u001b[38;5;21;01m.\u001b[39;00m\u001b[38;5;21;01mutils\u001b[39;00m \u001b[38;5;28;01mimport\u001b[39;00m initialize_entry\n\u001b[1;32m     20\u001b[0m \u001b[38;5;28;01mfrom\u001b[39;00m \u001b[38;5;21;01mrxn_network\u001b[39;00m\u001b[38;5;21;01m.\u001b[39;00m\u001b[38;5;21;01mfiretasks\u001b[39;00m\u001b[38;5;21;01m.\u001b[39;00m\u001b[38;5;21;01mutils\u001b[39;00m \u001b[38;5;28;01mimport\u001b[39;00m env_chk\n\u001b[1;32m     21\u001b[0m \u001b[38;5;28;01mfrom\u001b[39;00m \u001b[38;5;21;01mrxn_network\u001b[39;00m\u001b[38;5;21;01m.\u001b[39;00m\u001b[38;5;21;01mutils\u001b[39;00m\u001b[38;5;21;01m.\u001b[39;00m\u001b[38;5;21;01mfuncs\u001b[39;00m \u001b[38;5;28;01mimport\u001b[39;00m get_logger\n",
      "\u001b[0;31mImportError\u001b[0m: cannot import name 'initialize_entry' from 'rxn_network.enumerators.utils' (/Users/mcdermott/PycharmProjects/reaction-network/src/rxn_network/enumerators/utils.py)"
     ]
    }
   ],
   "source": [
    "from fireworks import LaunchPad, Workflow\n",
    "from rxn_network.fireworks.core import NetworkFW"
   ]
  },
  {
   "cell_type": "code",
   "execution_count": null,
   "id": "f8996d79",
   "metadata": {},
   "outputs": [],
   "source": [
    "lpad = LaunchPad.auto_load()"
   ]
  },
  {
   "cell_type": "code",
   "execution_count": null,
   "id": "1d79964a",
   "metadata": {},
   "outputs": [],
   "source": [
    "fw = NetworkFW([BasicEnumerator()], Softplus(900), chemsys=\"Y-Mn-O-Li-Cl-C\", entry_set_params={\"e_above_hull\":0.000}, \n",
    "               pathway_params={\"precursors\":[\"YCl3\",\"Mn2O3\",\"Li2CO3\"], \"targets\":[\"YMnO3\",\"LiCl\",\"CO2\"], \"k\":5},\n",
    "              solver_params={\"max_num_combos\":4, \"intermediate_rxn_energy_cutoff\":0.0, \"use_minimize_enumerator\": True})"
   ]
  },
  {
   "cell_type": "code",
   "execution_count": null,
   "id": "690f7444",
   "metadata": {},
   "outputs": [],
   "source": [
    "lpad.add_wf(Workflow([fw]))"
   ]
  },
  {
   "cell_type": "code",
   "execution_count": null,
   "id": "b6bab5db",
   "metadata": {},
   "outputs": [],
   "source": [
    "!rlaunch singleshot"
   ]
  },
  {
   "cell_type": "markdown",
   "id": "80feacb7",
   "metadata": {},
   "source": [
    "### Thank you!\n",
    "\n",
    "If any errors with the reaction-network code are encountered, please raise an Issue here: https://github.com/GENESIS-EFRC/reaction-network/issues"
   ]
  },
  {
   "cell_type": "code",
   "execution_count": null,
   "id": "ac328ad2",
   "metadata": {},
   "outputs": [],
   "source": [
    "from maggma.stores import MongoStore\n",
    "from rxn_network.pathways.pathway_set import PathwaySet"
   ]
  },
  {
   "cell_type": "code",
   "execution_count": null,
   "id": "32103621",
   "metadata": {},
   "outputs": [],
   "source": [
    "ms = MongoStore.from_db_file(\"/Users/mcdermott/db_rn.json\")\n",
    "ms.connect()"
   ]
  },
  {
   "cell_type": "code",
   "execution_count": null,
   "id": "77090687",
   "metadata": {},
   "outputs": [],
   "source": [
    "d = ms.query_one({\"task_id\":82}, [\"balanced_pathways\"])"
   ]
  },
  {
   "cell_type": "code",
   "execution_count": null,
   "id": "bdb972e1",
   "metadata": {},
   "outputs": [],
   "source": [
    "pset = PathwaySet.from_dict(d[\"balanced_pathways\"])"
   ]
  }
 ],
 "metadata": {
  "kernelspec": {
   "display_name": "Python 3 (ipykernel)",
   "language": "python",
   "name": "python3"
  },
  "language_info": {
   "codemirror_mode": {
    "name": "ipython",
    "version": 3
   },
   "file_extension": ".py",
   "mimetype": "text/x-python",
   "name": "python",
   "nbconvert_exporter": "python",
   "pygments_lexer": "ipython3",
   "version": "3.9.10"
  }
 },
 "nbformat": 4,
 "nbformat_minor": 5
}
