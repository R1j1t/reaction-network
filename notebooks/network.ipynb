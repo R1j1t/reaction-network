{
 "cells": [
  {
   "cell_type": "markdown",
   "id": "61b45e58",
   "metadata": {},
   "source": [
    "# reaction-network (Demo Notebook): Networks\n",
    "\n",
    "## Author: Matthew McDermott\n",
    "## Last Updated: 11/16/21\n",
    "\n",
    "**If you use this code in your work, please consider citing the following paper:**\n",
    "\n",
    "McDermott, M. J., Dwaraknath, S. S., and Persson, K. A. (2021). A graph-based network for predicting chemical reaction pathways in solid-state materials synthesis. \n",
    "Nature Communications, 12(1). https://doi.org/10.1038/s41467-021-23339-x"
   ]
  },
  {
   "cell_type": "code",
   "execution_count": 1,
   "id": "77eb7928",
   "metadata": {},
   "outputs": [],
   "source": [
    "import logging \n",
    "\n",
    "from pymatgen.ext.matproj import MPRester\n",
    "from rxn_network.enumerators.basic import BasicEnumerator, BasicOpenEnumerator\n",
    "from rxn_network.enumerators.minimize import MinimizeGibbsEnumerator, MinimizeGrandPotentialEnumerator\n",
    "from pymatgen.analysis.phase_diagram import PhaseDiagram, PDPlotter\n",
    "from rxn_network.thermo.chempot_diagram import ChemicalPotentialDiagram\n",
    "\n",
    "from rxn_network.costs.softplus import Softplus\n",
    "from pymatgen.core.composition import Composition, Element\n",
    "from rxn_network.entries.entry_set import GibbsEntrySet\n",
    "from rxn_network.network.network import ReactionNetwork\n",
    "from rxn_network.entries.nist import NISTReferenceEntry\n",
    "from rxn_network.reactions.computed import ComputedReaction\n",
    "from rxn_network.reactions.reaction_set import ReactionSet\n",
    "from rxn_network.reactions.open import OpenComputedReaction\n",
    "from rxn_network.network.entry import NetworkEntry, NetworkEntryType\n",
    "from rxn_network.network.visualize import plot_network_on_graphistry, plot_network\n",
    "from rxn_network.pathways.solver import PathwaySolver\n",
    "\n",
    "import graphistry\n",
    "import graph_tool.all as gt\n",
    "\n",
    "%load_ext autoreload\n",
    "%autoreload 2"
   ]
  },
  {
   "cell_type": "code",
   "execution_count": 2,
   "id": "44d6c072",
   "metadata": {},
   "outputs": [
    {
     "data": {
      "application/vnd.jupyter.widget-view+json": {
       "model_id": "2b60d99438ee4278a1ddc29ffd90ac72",
       "version_major": 2,
       "version_minor": 0
      },
      "text/plain": [
       "  0%|          | 0/848 [00:00<?, ?it/s]"
      ]
     },
     "metadata": {},
     "output_type": "display_data"
    }
   ],
   "source": [
    "with MPRester() as mpr:\n",
    "    entries = mpr.get_entries_in_chemsys(\"Y-Mn-O-Li-Cl-C\", inc_structure=\"final\")"
   ]
  },
  {
   "cell_type": "code",
   "execution_count": 3,
   "id": "81dc252c",
   "metadata": {},
   "outputs": [],
   "source": [
    "entry_set = GibbsEntrySet.from_entries(entries, 900, include_barin_data=False).filter_by_stability(0.0)"
   ]
  },
  {
   "cell_type": "code",
   "execution_count": 4,
   "id": "94c693ae",
   "metadata": {},
   "outputs": [],
   "source": [
    "be = BasicEnumerator()\n",
    "cf = Softplus(900)"
   ]
  },
  {
   "cell_type": "code",
   "execution_count": 5,
   "id": "8dc1f67a",
   "metadata": {},
   "outputs": [],
   "source": [
    "rn = ReactionNetwork(entry_set, [BasicEnumerator()], cf)"
   ]
  },
  {
   "cell_type": "code",
   "execution_count": 6,
   "id": "adc019cd",
   "metadata": {},
   "outputs": [
    {
     "data": {
      "application/vnd.jupyter.widget-view+json": {
       "model_id": "c8349c0d49974a6ead5312fe23a8ed8d",
       "version_major": 2,
       "version_minor": 0
      },
      "text/plain": [
       "BasicEnumerator:   0%|          | 0/57 [00:00<?, ?it/s]"
      ]
     },
     "metadata": {},
     "output_type": "display_data"
    }
   ],
   "source": [
    "rn.build()"
   ]
  },
  {
   "cell_type": "code",
   "execution_count": 7,
   "id": "f8d706e6",
   "metadata": {},
   "outputs": [],
   "source": [
    "rn.set_precursors([entry_set.get_min_entry_by_formula(\"Li2CO3\"), \n",
    "                   entry_set.get_min_entry_by_formula(\"Mn2O3\"), \n",
    "                   entry_set.get_min_entry_by_formula(\"YCl3\")])"
   ]
  },
  {
   "cell_type": "code",
   "execution_count": 8,
   "id": "ec70a87e",
   "metadata": {},
   "outputs": [
    {
     "name": "stdout",
     "output_type": "stream",
     "text": [
      "PATHS to YMnO3 \n",
      "\n",
      "--------------------------------------- \n",
      "\n",
      "Li2CO3 -> Li2O + CO2 (dG = 0.277 eV/atom) \n",
      "Li2O + 0.6667 YCl3 -> 0.3333 Y2O3 + 2 LiCl (dG = -0.297 eV/atom) \n",
      "Mn2O3 + Y2O3 -> 2 YMnO3 (dG = -0.048 eV/atom) \n",
      "Total Cost: 0.794 \n",
      "\n",
      "6 Mn2O3 -> O2 + 4 Mn3O4 (dG = 0.043 eV/atom) \n",
      "O2 + 2 YCl3 -> 2 YClO + 2 Cl2 (dG = 0.011 eV/atom) \n",
      "1.5 YClO + 0.5 Mn2O3 -> YMnO3 + 0.5 YCl3 (dG = 0.015 eV/atom) \n",
      "Total Cost: 0.811 \n",
      "\n",
      "6 Mn2O3 -> O2 + 4 Mn3O4 (dG = 0.043 eV/atom) \n",
      "O2 + 1.333 YCl3 -> 2 Cl2 + 0.6667 Y2O3 (dG = 0.078 eV/atom) \n",
      "Mn2O3 + Y2O3 -> 2 YMnO3 (dG = -0.048 eV/atom) \n",
      "Total Cost: 0.813 \n",
      "\n",
      "Li2CO3 -> Li2O + CO2 (dG = 0.277 eV/atom) \n",
      "Li2O + YCl3 -> YClO + 2 LiCl (dG = -0.273 eV/atom) \n",
      "1.5 YClO + 0.5 Mn2O3 -> YMnO3 + 0.5 YCl3 (dG = 0.015 eV/atom) \n",
      "Total Cost: 0.813 \n",
      "\n",
      "Mn2O3 -> MnO2 + MnO (dG = 0.097 eV/atom) \n",
      "0.6667 YCl3 + MnO -> MnCl2 + 0.3333 Y2O3 (dG = 0.051 eV/atom) \n",
      "Mn2O3 + Y2O3 -> 2 YMnO3 (dG = -0.048 eV/atom) \n",
      "Total Cost: 0.819 \n",
      "\n",
      "PATHS to LiCl \n",
      "\n",
      "--------------------------------------- \n",
      "\n",
      "Li2CO3 -> Li2O + CO2 (dG = 0.277 eV/atom) \n",
      "Li2O + 0.6667 YCl3 -> 0.3333 Y2O3 + 2 LiCl (dG = -0.297 eV/atom) \n",
      "Total Cost: 0.54 \n",
      "\n",
      "Li2CO3 -> Li2O + CO2 (dG = 0.277 eV/atom) \n",
      "Li2O + YCl3 -> YClO + 2 LiCl (dG = -0.273 eV/atom) \n",
      "Total Cost: 0.544 \n",
      "\n",
      "Mn2O3 + Li2CO3 -> MnCO3 + Li2MnO3 (dG = 0.053 eV/atom) \n",
      "2 Li2MnO3 + Mn2O3 -> Li2O + 2 LiMn2O4 (dG = 0.053 eV/atom) \n",
      "Li2O + 0.6667 YCl3 -> 0.3333 Y2O3 + 2 LiCl (dG = -0.297 eV/atom) \n",
      "Total Cost: 0.758 \n",
      "\n",
      "Mn2O3 + Li2CO3 -> MnCO3 + Li2MnO3 (dG = 0.053 eV/atom) \n",
      "2 Li2MnO3 + Mn2O3 -> Li2O + 2 LiMn2O4 (dG = 0.053 eV/atom) \n",
      "Li2O + YCl3 -> YClO + 2 LiCl (dG = -0.273 eV/atom) \n",
      "Total Cost: 0.763 \n",
      "\n",
      "Mn2O3 + Li2CO3 -> MnCO3 + Li2MnO3 (dG = 0.053 eV/atom) \n",
      "1.667 Li2MnO3 -> Li2O + 0.3333 Li4Mn5O12 (dG = 0.105 eV/atom) \n",
      "Li2O + 0.6667 YCl3 -> 0.3333 Y2O3 + 2 LiCl (dG = -0.297 eV/atom) \n",
      "Total Cost: 0.771 \n",
      "\n",
      "PATHS to CO2 \n",
      "\n",
      "--------------------------------------- \n",
      "\n",
      "0.5 Mn2O3 + 0.5 Li2CO3 -> LiMnO2 + 0.5 CO2 (dG = 0.08 eV/atom) \n",
      "Total Cost: 0.284 \n",
      "\n",
      "Li2CO3 -> Li2O + CO2 (dG = 0.277 eV/atom) \n",
      "Total Cost: 0.337 \n",
      "\n",
      "2 Mn2O3 -> MnO2 + Mn3O4 (dG = 0.015 eV/atom) \n",
      "2.5 MnO2 + Li2CO3 -> CO2 + 0.5 Li4Mn5O12 (dG = 0.042 eV/atom) \n",
      "Total Cost: 0.543 \n",
      "\n",
      "Mn2O3 + Li2CO3 -> MnCO3 + Li2MnO3 (dG = 0.053 eV/atom) \n",
      "MnCO3 + Mn2O3 -> CO2 + Mn3O4 (dG = 0.016 eV/atom) \n",
      "Total Cost: 0.546 \n",
      "\n",
      "2 Mn2O3 -> MnO2 + Mn3O4 (dG = 0.015 eV/atom) \n",
      "MnO2 + Li2CO3 -> CO2 + Li2MnO3 (dG = 0.066 eV/atom) \n",
      "Total Cost: 0.549 \n",
      "\n"
     ]
    }
   ],
   "source": [
    "paths = rn.find_pathways([\"YMnO3\",\"LiCl\",\"CO2\"], k=5)"
   ]
  },
  {
   "cell_type": "code",
   "execution_count": 9,
   "id": "6767200b",
   "metadata": {},
   "outputs": [],
   "source": [
    "ps = PathwaySolver(rn.entries, paths, Softplus(900)) # open_elem=\"O\", chempot=0"
   ]
  },
  {
   "cell_type": "code",
   "execution_count": 10,
   "id": "a3256224",
   "metadata": {},
   "outputs": [
    {
     "data": {
      "text/plain": [
       "YCl3 + 0.5 Mn2O3 + 1.5 Li2CO3 -> YMnO3 + 3 LiCl + 1.5 CO2"
      ]
     },
     "execution_count": 10,
     "metadata": {},
     "output_type": "execute_result"
    }
   ],
   "source": [
    "product_entries = []\n",
    "for i in [\"YMnO3\",\"LiCl\",\"CO2\"]:\n",
    "    product_entries.append(entry_set.get_min_entry_by_formula(i))\n",
    "    \n",
    "net_rxn = ComputedReaction.balance(rn.precursors,product_entries)\n",
    "net_rxn"
   ]
  },
  {
   "cell_type": "code",
   "execution_count": 15,
   "id": "83e33177",
   "metadata": {},
   "outputs": [
    {
     "data": {
      "application/vnd.jupyter.widget-view+json": {
       "model_id": "271148483fb749cf838f40b85b5401a6",
       "version_major": 2,
       "version_minor": 0
      },
      "text/plain": [
       "BasicEnumerator:   0%|          | 0/36 [00:00<?, ?it/s]"
      ]
     },
     "metadata": {},
     "output_type": "display_data"
    },
    {
     "name": "stdout",
     "output_type": "stream",
     "text": [
      "[(GibbsComputedEntry | mp-1182086 | C4 O8 (CO2)\n",
      "Gibbs Energy (900 K) = -16.5242, 1.0), (GibbsComputedEntry | mp-3054 | Li4 C2 O6 (Li2CO3)\n",
      "Gibbs Energy (900 K) = -21.5423, -0.9999999999999996), (NISTReferenceEntry | Li2O\n",
      "Gibbs Energy (900 K) = -4.9775, 1.0000000000000002)]\n",
      "[(NISTReferenceEntry | Li2O\n",
      "Gibbs Energy (900 K) = -4.9775, -1.0), (NISTReferenceEntry | LiCl\n",
      "Gibbs Energy (900 K) = -3.4727, 1.9999999999999996), (GibbsComputedEntry | mp-2652 | Y16 O24 (Y2O3)\n",
      "Gibbs Energy (900 K) = -139.2136, 0.33333333333333326), (GibbsComputedEntry | mp-27455 | Y2 Cl6 (YCl3)\n",
      "Gibbs Energy (900 K) = -18.2567, -0.666666666666666)]\n",
      "[(GibbsComputedEntry | mp-1172875 | Mn32 O48 (Mn2O3)\n",
      "Gibbs Energy (900 K) = -121.0665, -0.9999999999999998), (GibbsComputedEntry | mp-2652 | Y16 O24 (Y2O3)\n",
      "Gibbs Energy (900 K) = -139.2136, -1.0000000000000002), (GibbsComputedEntry | mp-19227 | Y2 Mn2 O6 (YMnO3)\n",
      "Gibbs Energy (900 K) = -25.4484, 1.9999999999999991)]\n",
      "[(GibbsComputedEntry | mp-1172875 | Mn32 O48 (Mn2O3)\n",
      "Gibbs Energy (900 K) = -121.0665, -6.000000000000005), (GibbsComputedEntry | mp-18759 | Mn6 O8 (Mn3O4)\n",
      "Gibbs Energy (900 K) = -22.0554, 4.000000000000005), (GibbsComputedEntry | mp-12957 | O8 (O2)\n",
      "Gibbs Energy (900 K) = 0.0000, 1.0000000000000002)]\n",
      "[(GibbsComputedEntry | mp-1008394 | Cl4 (Cl2)\n",
      "Gibbs Energy (900 K) = 0.0000, 2.0000000000000018), (GibbsComputedEntry | mp-12957 | O8 (O2)\n",
      "Gibbs Energy (900 K) = 0.0000, -1.0000000000000004), (GibbsComputedEntry | mp-27455 | Y2 Cl6 (YCl3)\n",
      "Gibbs Energy (900 K) = -18.2567, -2.000000000000001), (GibbsComputedEntry | mp-552120 | Y2 Cl2 O2 (YClO)\n",
      "Gibbs Energy (900 K) = -18.1473, 2.000000000000001)]\n",
      "[(GibbsComputedEntry | mp-1172875 | Mn32 O48 (Mn2O3)\n",
      "Gibbs Energy (900 K) = -121.0665, -0.5000000000000001), (GibbsComputedEntry | mp-27455 | Y2 Cl6 (YCl3)\n",
      "Gibbs Energy (900 K) = -18.2567, 0.5000000000000006), (GibbsComputedEntry | mp-552120 | Y2 Cl2 O2 (YClO)\n",
      "Gibbs Energy (900 K) = -18.1473, -1.5000000000000002), (GibbsComputedEntry | mp-19227 | Y2 Mn2 O6 (YMnO3)\n",
      "Gibbs Energy (900 K) = -25.4484, 1.0000000000000002)]\n",
      "[(GibbsComputedEntry | mp-1008394 | Cl4 (Cl2)\n",
      "Gibbs Energy (900 K) = 0.0000, 2.0000000000000013), (GibbsComputedEntry | mp-12957 | O8 (O2)\n",
      "Gibbs Energy (900 K) = 0.0000, -0.9999999999999998), (GibbsComputedEntry | mp-2652 | Y16 O24 (Y2O3)\n",
      "Gibbs Energy (900 K) = -139.2136, 0.6666666666666665), (GibbsComputedEntry | mp-27455 | Y2 Cl6 (YCl3)\n",
      "Gibbs Energy (900 K) = -18.2567, -1.333333333333334)]\n",
      "[(NISTReferenceEntry | Li2O\n",
      "Gibbs Energy (900 K) = -4.9775, -0.9999999999999993), (NISTReferenceEntry | LiCl\n",
      "Gibbs Energy (900 K) = -3.4727, 1.9999999999999987), (GibbsComputedEntry | mp-27455 | Y2 Cl6 (YCl3)\n",
      "Gibbs Energy (900 K) = -18.2567, -0.9999999999999997), (GibbsComputedEntry | mp-552120 | Y2 Cl2 O2 (YClO)\n",
      "Gibbs Energy (900 K) = -18.1473, 0.9999999999999999)]\n",
      "[(GibbsComputedEntry | mp-1172875 | Mn32 O48 (Mn2O3)\n",
      "Gibbs Energy (900 K) = -121.0665, -1.0000000000000009), (GibbsComputedEntry | mp-999539 | Mn4 O4 (MnO)\n",
      "Gibbs Energy (900 K) = -12.5286, 1.000000000000003), (GibbsComputedEntry | mp-1279979 | Mn1 O2 (MnO2)\n",
      "Gibbs Energy (900 K) = -3.9510, 0.9999999999999999)]\n",
      "[(GibbsComputedEntry | mp-28233 | Mn1 Cl2 (MnCl2)\n",
      "Gibbs Energy (900 K) = -3.1773, 1.0000000000000007), (GibbsComputedEntry | mp-999539 | Mn4 O4 (MnO)\n",
      "Gibbs Energy (900 K) = -12.5286, -0.9999999999999997), (GibbsComputedEntry | mp-2652 | Y16 O24 (Y2O3)\n",
      "Gibbs Energy (900 K) = -139.2136, 0.33333333333333326), (GibbsComputedEntry | mp-27455 | Y2 Cl6 (YCl3)\n",
      "Gibbs Energy (900 K) = -18.2567, -0.6666666666666672)]\n",
      "[(GibbsComputedEntry | mp-3054 | Li4 C2 O6 (Li2CO3)\n",
      "Gibbs Energy (900 K) = -21.5423, -0.9999999999999999), (GibbsComputedEntry | mp-18988 | Li8 Mn4 O12 (Li2MnO3)\n",
      "Gibbs Energy (900 K) = -40.0043, 0.9999999999999998), (GibbsComputedEntry | mp-1172875 | Mn32 O48 (Mn2O3)\n",
      "Gibbs Energy (900 K) = -121.0665, -1.0), (GibbsComputedEntry | mp-18814 | Mn2 C2 O6 (MnCO3)\n",
      "Gibbs Energy (900 K) = -15.5041, 0.9999999999999999)]\n",
      "[(GibbsComputedEntry | mp-18988 | Li8 Mn4 O12 (Li2MnO3)\n",
      "Gibbs Energy (900 K) = -40.0043, -1.999999999999998), (NISTReferenceEntry | Li2O\n",
      "Gibbs Energy (900 K) = -4.9775, 1.0000000000000004), (GibbsComputedEntry | mp-1097867 | Li6 Mn12 O24 (LiMn2O4)\n",
      "Gibbs Energy (900 K) = -65.0928, 1.9999999999999973), (GibbsComputedEntry | mp-1172875 | Mn32 O48 (Mn2O3)\n",
      "Gibbs Energy (900 K) = -121.0665, -0.9999999999999981)]\n",
      "[(GibbsComputedEntry | mp-18988 | Li8 Mn4 O12 (Li2MnO3)\n",
      "Gibbs Energy (900 K) = -40.0043, -1.6666666666666679), (NISTReferenceEntry | Li2O\n",
      "Gibbs Energy (900 K) = -4.9775, 1.0), (GibbsComputedEntry | mp-691115 | Li8 Mn10 O24 (Li4Mn5O12)\n",
      "Gibbs Energy (900 K) = -63.8241, 0.33333333333333304)]\n",
      "[(GibbsComputedEntry | mp-1182086 | C4 O8 (CO2)\n",
      "Gibbs Energy (900 K) = -16.5242, 0.5000000000000002), (GibbsComputedEntry | mp-3054 | Li4 C2 O6 (Li2CO3)\n",
      "Gibbs Energy (900 K) = -21.5423, -0.49999999999999983), (GibbsComputedEntry | mp-754656 | Li2 Mn2 O4 (LiMnO2)\n",
      "Gibbs Energy (900 K) = -13.3243, 0.9999999999999998), (GibbsComputedEntry | mp-1172875 | Mn32 O48 (Mn2O3)\n",
      "Gibbs Energy (900 K) = -121.0665, -0.5000000000000001)]\n",
      "[(GibbsComputedEntry | mp-1172875 | Mn32 O48 (Mn2O3)\n",
      "Gibbs Energy (900 K) = -121.0665, -2.000000000000003), (GibbsComputedEntry | mp-18759 | Mn6 O8 (Mn3O4)\n",
      "Gibbs Energy (900 K) = -22.0554, 1.0000000000000024), (GibbsComputedEntry | mp-1279979 | Mn1 O2 (MnO2)\n",
      "Gibbs Energy (900 K) = -3.9510, 1.0000000000000004)]\n",
      "[(GibbsComputedEntry | mp-1182086 | C4 O8 (CO2)\n",
      "Gibbs Energy (900 K) = -16.5242, 1.0), (GibbsComputedEntry | mp-3054 | Li4 C2 O6 (Li2CO3)\n",
      "Gibbs Energy (900 K) = -21.5423, -1.0), (GibbsComputedEntry | mp-691115 | Li8 Mn10 O24 (Li4Mn5O12)\n",
      "Gibbs Energy (900 K) = -63.8241, 0.5000000000000004), (GibbsComputedEntry | mp-1279979 | Mn1 O2 (MnO2)\n",
      "Gibbs Energy (900 K) = -3.9510, -2.5000000000000018)]\n",
      "[(GibbsComputedEntry | mp-1182086 | C4 O8 (CO2)\n",
      "Gibbs Energy (900 K) = -16.5242, 1.0), (GibbsComputedEntry | mp-1172875 | Mn32 O48 (Mn2O3)\n",
      "Gibbs Energy (900 K) = -121.0665, -0.999999999999995), (GibbsComputedEntry | mp-18759 | Mn6 O8 (Mn3O4)\n",
      "Gibbs Energy (900 K) = -22.0554, 0.9999999999999966), (GibbsComputedEntry | mp-18814 | Mn2 C2 O6 (MnCO3)\n",
      "Gibbs Energy (900 K) = -15.5041, -1.0000000000000002)]\n",
      "[(GibbsComputedEntry | mp-1182086 | C4 O8 (CO2)\n",
      "Gibbs Energy (900 K) = -16.5242, 1.0), (GibbsComputedEntry | mp-3054 | Li4 C2 O6 (Li2CO3)\n",
      "Gibbs Energy (900 K) = -21.5423, -1.0000000000000002), (GibbsComputedEntry | mp-18988 | Li8 Mn4 O12 (Li2MnO3)\n",
      "Gibbs Energy (900 K) = -40.0043, 1.0000000000000004), (GibbsComputedEntry | mp-1279979 | Mn1 O2 (MnO2)\n",
      "Gibbs Energy (900 K) = -3.9510, -1.0)]\n",
      "[(GibbsComputedEntry | mp-18759 | Mn6 O8 (Mn3O4)\n",
      "Gibbs Energy (900 K) = -22.0554, -0.4999999999999989), (GibbsComputedEntry | mp-999539 | Mn4 O4 (MnO)\n",
      "Gibbs Energy (900 K) = -12.5286, 0.49999999999999595), (GibbsComputedEntry | mp-2652 | Y16 O24 (Y2O3)\n",
      "Gibbs Energy (900 K) = -139.2136, -0.5000000000000003), (GibbsComputedEntry | mp-19227 | Y2 Mn2 O6 (YMnO3)\n",
      "Gibbs Energy (900 K) = -25.4484, 1.0000000000000002)]\n",
      "[(NISTReferenceEntry | Li2O\n",
      "Gibbs Energy (900 K) = -4.9775, -1.0000000000000004), (NISTReferenceEntry | LiCl\n",
      "Gibbs Energy (900 K) = -3.4727, 2.000000000000001), (GibbsComputedEntry | mp-28233 | Mn1 Cl2 (MnCl2)\n",
      "Gibbs Energy (900 K) = -3.1773, -1.0000000000000002), (GibbsComputedEntry | mp-999539 | Mn4 O4 (MnO)\n",
      "Gibbs Energy (900 K) = -12.5286, 1.0000000000000004)]\n",
      "[(GibbsComputedEntry | mp-3054 | Li4 C2 O6 (Li2CO3)\n",
      "Gibbs Energy (900 K) = -21.5423, -1.0000000000000002), (NISTReferenceEntry | LiCl\n",
      "Gibbs Energy (900 K) = -3.4727, 2.000000000000001), (GibbsComputedEntry | mp-18814 | Mn2 C2 O6 (MnCO3)\n",
      "Gibbs Energy (900 K) = -15.5041, 1.0000000000000002), (GibbsComputedEntry | mp-28233 | Mn1 Cl2 (MnCl2)\n",
      "Gibbs Energy (900 K) = -3.1773, -1.0000000000000007)]\n",
      "[(GibbsComputedEntry | mp-1279979 | Mn1 O2 (MnO2)\n",
      "Gibbs Energy (900 K) = -3.9510, -0.9999999999999998), (GibbsComputedEntry | mp-12957 | O8 (O2)\n",
      "Gibbs Energy (900 K) = 0.0000, 0.25000000000000067), (GibbsComputedEntry | mp-2652 | Y16 O24 (Y2O3)\n",
      "Gibbs Energy (900 K) = -139.2136, -0.5000000000000002), (GibbsComputedEntry | mp-19227 | Y2 Mn2 O6 (YMnO3)\n",
      "Gibbs Energy (900 K) = -25.4484, 1.0)]\n",
      "[(NISTReferenceEntry | Li2O\n",
      "Gibbs Energy (900 K) = -4.9775, -1.0000000000000004), (NISTReferenceEntry | LiCl\n",
      "Gibbs Energy (900 K) = -3.4727, 2.0000000000000004), (GibbsComputedEntry | mp-2652 | Y16 O24 (Y2O3)\n",
      "Gibbs Energy (900 K) = -139.2136, 1.0000000000000004), (GibbsComputedEntry | mp-552120 | Y2 Cl2 O2 (YClO)\n",
      "Gibbs Energy (900 K) = -18.1473, -2.0000000000000013)]\n",
      "[(NISTReferenceEntry | LiCl\n",
      "Gibbs Energy (900 K) = -3.4727, 0.9999999999999996), (GibbsComputedEntry | mp-754656 | Li2 Mn2 O4 (LiMnO2)\n",
      "Gibbs Energy (900 K) = -13.3243, -0.9999999999999999), (GibbsComputedEntry | mp-552120 | Y2 Cl2 O2 (YClO)\n",
      "Gibbs Energy (900 K) = -18.1473, -0.9999999999999999), (GibbsComputedEntry | mp-19227 | Y2 Mn2 O6 (YMnO3)\n",
      "Gibbs Energy (900 K) = -25.4484, 0.9999999999999999)]\n",
      "[(GibbsComputedEntry | mp-1008394 | Cl4 (Cl2)\n",
      "Gibbs Energy (900 K) = 0.0000, -0.5), (NISTReferenceEntry | LiCl\n",
      "Gibbs Energy (900 K) = -3.4727, 1.0), (GibbsComputedEntry | mp-1097867 | Li6 Mn12 O24 (LiMn2O4)\n",
      "Gibbs Energy (900 K) = -65.0928, 1.0000000000000002), (GibbsComputedEntry | mp-754656 | Li2 Mn2 O4 (LiMnO2)\n",
      "Gibbs Energy (900 K) = -13.3243, -1.9999999999999998)]\n",
      "[(NISTReferenceEntry | LiCl\n",
      "Gibbs Energy (900 K) = -3.4727, 1.9999999999999971), (GibbsComputedEntry | mp-754656 | Li2 Mn2 O4 (LiMnO2)\n",
      "Gibbs Energy (900 K) = -13.3243, -1.9999999999999978), (GibbsComputedEntry | mp-18759 | Mn6 O8 (Mn3O4)\n",
      "Gibbs Energy (900 K) = -22.0554, 0.999999999999999), (GibbsComputedEntry | mp-28233 | Mn1 Cl2 (MnCl2)\n",
      "Gibbs Energy (900 K) = -3.1773, -0.9999999999999994)]\n",
      "[(GibbsComputedEntry | mp-1182086 | C4 O8 (CO2)\n",
      "Gibbs Energy (900 K) = -16.5242, 5.999999999999994), (GibbsComputedEntry | mp-18759 | Mn6 O8 (Mn3O4)\n",
      "Gibbs Energy (900 K) = -22.0554, 1.9999999999999956), (GibbsComputedEntry | mp-18814 | Mn2 C2 O6 (MnCO3)\n",
      "Gibbs Energy (900 K) = -15.5041, -5.999999999999992), (GibbsComputedEntry | mp-12957 | O8 (O2)\n",
      "Gibbs Energy (900 K) = 0.0000, -0.9999999999999992)]\n",
      "[(GibbsComputedEntry | mp-1008394 | Cl4 (Cl2)\n",
      "Gibbs Energy (900 K) = 0.0000, -0.25), (NISTReferenceEntry | LiCl\n",
      "Gibbs Energy (900 K) = -3.4727, 0.4999999999999999), (GibbsComputedEntry | mp-1097867 | Li6 Mn12 O24 (LiMn2O4)\n",
      "Gibbs Energy (900 K) = -65.0928, -0.4999999999999995), (GibbsComputedEntry | mp-1279979 | Mn1 O2 (MnO2)\n",
      "Gibbs Energy (900 K) = -3.9510, 0.9999999999999991)]\n",
      "[(GibbsComputedEntry | mp-1008394 | Cl4 (Cl2)\n",
      "Gibbs Energy (900 K) = 0.0000, -2.0), (NISTReferenceEntry | Li2O\n",
      "Gibbs Energy (900 K) = -4.9775, -2.000000000000001), (NISTReferenceEntry | LiCl\n",
      "Gibbs Energy (900 K) = -3.4727, 4.000000000000001), (GibbsComputedEntry | mp-12957 | O8 (O2)\n",
      "Gibbs Energy (900 K) = 0.0000, 1.0000000000000002)]\n",
      "[(GibbsComputedEntry | mp-1182086 | C4 O8 (CO2)\n",
      "Gibbs Energy (900 K) = -16.5242, 4.000000000000003), (GibbsComputedEntry | mp-1172875 | Mn32 O48 (Mn2O3)\n",
      "Gibbs Energy (900 K) = -121.0665, 1.9999999999999993), (GibbsComputedEntry | mp-18814 | Mn2 C2 O6 (MnCO3)\n",
      "Gibbs Energy (900 K) = -15.5041, -4.000000000000002), (GibbsComputedEntry | mp-12957 | O8 (O2)\n",
      "Gibbs Energy (900 K) = 0.0000, -1.0000000000000009)]\n",
      "[(GibbsComputedEntry | mp-1008394 | Cl4 (Cl2)\n",
      "Gibbs Energy (900 K) = 0.0000, -0.4999999999999999), (NISTReferenceEntry | LiCl\n",
      "Gibbs Energy (900 K) = -3.4727, 1.0), (GibbsComputedEntry | mp-754656 | Li2 Mn2 O4 (LiMnO2)\n",
      "Gibbs Energy (900 K) = -13.3243, -1.0), (GibbsComputedEntry | mp-1279979 | Mn1 O2 (MnO2)\n",
      "Gibbs Energy (900 K) = -3.9510, 1.0000000000000004)]\n",
      "[(GibbsComputedEntry | mp-1182086 | C4 O8 (CO2)\n",
      "Gibbs Energy (900 K) = -16.5242, 1.0000000000000002), (GibbsComputedEntry | mp-18814 | Mn2 C2 O6 (MnCO3)\n",
      "Gibbs Energy (900 K) = -15.5041, -1.0000000000000002), (GibbsComputedEntry | mp-1279979 | Mn1 O2 (MnO2)\n",
      "Gibbs Energy (900 K) = -3.9510, 0.9999999999999999), (GibbsComputedEntry | mp-12957 | O8 (O2)\n",
      "Gibbs Energy (900 K) = 0.0000, -0.5)]\n",
      "[(GibbsComputedEntry | mp-18988 | Li8 Mn4 O12 (Li2MnO3)\n",
      "Gibbs Energy (900 K) = -40.0043, -0.9999999999999997), (NISTReferenceEntry | LiCl\n",
      "Gibbs Energy (900 K) = -3.4727, 2.0), (GibbsComputedEntry | mp-1172875 | Mn32 O48 (Mn2O3)\n",
      "Gibbs Energy (900 K) = -121.0665, 0.9999999999999996), (GibbsComputedEntry | mp-28233 | Mn1 Cl2 (MnCl2)\n",
      "Gibbs Energy (900 K) = -3.1773, -1.0000000000000004)]\n"
     ]
    },
    {
     "data": {
      "application/vnd.jupyter.widget-view+json": {
       "model_id": "e42a780ad34f4e5b8906207770966138",
       "version_major": 2,
       "version_minor": 0
      },
      "text/plain": [
       "PathwaySolver:   0%|          | 0/1 [00:00<?, ?it/s]"
      ]
     },
     "metadata": {},
     "output_type": "display_data"
    },
    {
     "data": {
      "application/vnd.jupyter.widget-view+json": {
       "model_id": "2dd4e499b5824b3ea2aec02284d7ca11",
       "version_major": 2,
       "version_minor": 0
      },
      "text/plain": [
       "PathwaySolver:   0%|          | 0/1 [00:00<?, ?it/s]"
      ]
     },
     "metadata": {},
     "output_type": "display_data"
    }
   ],
   "source": [
    "a = ps.solve(net_rxn, max_num_combos=5, intermediate_rxn_energy_cutoff=0.0, filter_interdependent=True)"
   ]
  },
  {
   "cell_type": "code",
   "execution_count": 16,
   "id": "66aa3200",
   "metadata": {},
   "outputs": [
    {
     "name": "stdout",
     "output_type": "stream",
     "text": [
      "Li2CO3 -> CO2 + Li2O (dG = 0.277 eV/atom) \n",
      "Li2O + 0.6667 YCl3 -> 2 LiCl + 0.3333 Y2O3 (dG = -0.297 eV/atom) \n",
      "Mn2O3 + Y2O3 -> 2 YMnO3 (dG = -0.048 eV/atom) \n",
      "Average Cost: 0.268\n",
      "\n",
      "\n",
      "Li2CO3 -> CO2 + Li2O (dG = 0.277 eV/atom) \n",
      "Li2O + YCl3 -> 2 LiCl + YClO (dG = -0.273 eV/atom) \n",
      "0.5 Li2CO3 + 0.5 Mn2O3 -> 0.5 CO2 + LiMnO2 (dG = 0.08 eV/atom) \n",
      "LiMnO2 + YClO -> LiCl + YMnO3 (dG = -0.066 eV/atom) \n",
      "Average Cost: 0.27\n",
      "\n",
      "\n",
      "Li2CO3 -> CO2 + Li2O (dG = 0.277 eV/atom) \n",
      "Li2O + 0.6667 YCl3 -> 2 LiCl + 0.3333 Y2O3 (dG = -0.297 eV/atom) \n",
      "Mn2O3 + Y2O3 -> 2 YMnO3 (dG = -0.048 eV/atom) \n",
      "Li2O + YCl3 -> 2 LiCl + YClO (dG = -0.273 eV/atom) \n",
      "Li2O + 2 YClO -> 2 LiCl + Y2O3 (dG = -0.136 eV/atom) \n",
      "Average Cost: 0.271\n",
      "\n",
      "\n",
      "Li2CO3 -> CO2 + Li2O (dG = 0.277 eV/atom) \n",
      "Mn2O3 + Y2O3 -> 2 YMnO3 (dG = -0.048 eV/atom) \n",
      "Li2O + YCl3 -> 2 LiCl + YClO (dG = -0.273 eV/atom) \n",
      "Li2O + 2 YClO -> 2 LiCl + Y2O3 (dG = -0.136 eV/atom) \n",
      "Average Cost: 0.273\n",
      "\n",
      "\n"
     ]
    }
   ],
   "source": [
    "for path in a:\n",
    "    print(path)\n",
    "    print(\"\\n\")"
   ]
  },
  {
   "cell_type": "code",
   "execution_count": null,
   "id": "84d5cb33",
   "metadata": {},
   "outputs": [],
   "source": []
  }
 ],
 "metadata": {
  "kernelspec": {
   "display_name": "Python 3",
   "language": "python",
   "name": "python3"
  },
  "language_info": {
   "codemirror_mode": {
    "name": "ipython",
    "version": 3
   },
   "file_extension": ".py",
   "mimetype": "text/x-python",
   "name": "python",
   "nbconvert_exporter": "python",
   "pygments_lexer": "ipython3",
   "version": "3.8.8"
  }
 },
 "nbformat": 4,
 "nbformat_minor": 5
}
