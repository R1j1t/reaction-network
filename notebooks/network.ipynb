{
 "cells": [
  {
   "cell_type": "markdown",
   "id": "61b45e58",
   "metadata": {},
   "source": [
    "# reaction-network (Demo Notebook): Networks\n",
    "\n",
    "## Author: Matthew McDermott\n",
    "## Last Updated: 11/16/21\n",
    "\n",
    "**If you use this code in your work, please consider citing the following paper:**\n",
    "\n",
    "McDermott, M. J., Dwaraknath, S. S., and Persson, K. A. (2021). A graph-based network for predicting chemical reaction pathways in solid-state materials synthesis. \n",
    "Nature Communications, 12(1). https://doi.org/10.1038/s41467-021-23339-x"
   ]
  },
  {
   "cell_type": "code",
   "execution_count": 23,
   "id": "77eb7928",
   "metadata": {},
   "outputs": [
    {
     "name": "stdout",
     "output_type": "stream",
     "text": [
      "The autoreload extension is already loaded. To reload it, use:\n",
      "  %reload_ext autoreload\n"
     ]
    }
   ],
   "source": [
    "import logging \n",
    "\n",
    "from pymatgen.ext.matproj import MPRester\n",
    "from rxn_network.enumerators.basic import BasicEnumerator, BasicOpenEnumerator\n",
    "from rxn_network.enumerators.minimize import MinimizeGibbsEnumerator, MinimizeGrandPotentialEnumerator\n",
    "from pymatgen.analysis.phase_diagram import PhaseDiagram, PDPlotter\n",
    "from rxn_network.thermo.chempot_diagram import ChemicalPotentialDiagram\n",
    "\n",
    "from rxn_network.costs.softplus import Softplus\n",
    "from pymatgen.core.composition import Composition, Element\n",
    "from rxn_network.entries.entry_set import GibbsEntrySet\n",
    "from rxn_network.network.network import ReactionNetwork\n",
    "from rxn_network.entries.nist import NISTReferenceEntry\n",
    "from rxn_network.reactions.computed import ComputedReaction\n",
    "from rxn_network.reactions.reaction_set import ReactionSet\n",
    "from rxn_network.reactions.open import OpenComputedReaction\n",
    "from rxn_network.network.entry import NetworkEntry, NetworkEntryType\n",
    "from rxn_network.network.visualize import plot_network_on_graphistry, plot_network\n",
    "from rxn_network.pathways.solver import PathwaySolver\n",
    "\n",
    "import graphistry\n",
    "import graph_tool.all as gt\n",
    "\n",
    "logging.info(\"Logging initialized\")\n",
    "\n",
    "%load_ext autoreload\n",
    "%autoreload 2"
   ]
  },
  {
   "cell_type": "code",
   "execution_count": 2,
   "id": "44d6c072",
   "metadata": {},
   "outputs": [
    {
     "name": "stdout",
     "output_type": "stream",
     "text": [
      "This database version has changed from the database last accessed (2020_09_08).\n",
      "Please see release notes on materialsproject.org for information about what has changed.\n"
     ]
    },
    {
     "data": {
      "application/vnd.jupyter.widget-view+json": {
       "model_id": "d89b17847e144814bc842002f2c4d018",
       "version_major": 2,
       "version_minor": 0
      },
      "text/plain": [
       "  0%|          | 0/898 [00:00<?, ?it/s]"
      ]
     },
     "metadata": {},
     "output_type": "display_data"
    }
   ],
   "source": [
    "with MPRester() as mpr:  # Insert your Materials Project API key here (if needed)\n",
    "    entries = mpr.get_entries_in_chemsys(\"Y-Mn-O-Li-Cl-C\", inc_structure=\"final\")"
   ]
  },
  {
   "cell_type": "code",
   "execution_count": 4,
   "id": "81dc252c",
   "metadata": {},
   "outputs": [],
   "source": [
    "entry_set = GibbsEntrySet.from_entries(entries, 900, include_barin_data=False).filter_by_stability(0.0)"
   ]
  },
  {
   "cell_type": "code",
   "execution_count": 5,
   "id": "94c693ae",
   "metadata": {},
   "outputs": [],
   "source": [
    "be = BasicEnumerator()\n",
    "cf = Softplus(900)"
   ]
  },
  {
   "cell_type": "code",
   "execution_count": 6,
   "id": "8dc1f67a",
   "metadata": {},
   "outputs": [],
   "source": [
    "rn = ReactionNetwork(entry_set, [BasicEnumerator()], cf)"
   ]
  },
  {
   "cell_type": "code",
   "execution_count": 7,
   "id": "adc019cd",
   "metadata": {},
   "outputs": [
    {
     "data": {
      "application/vnd.jupyter.widget-view+json": {
       "model_id": "e221c7e9917e4bca92468d149213fa4d",
       "version_major": 2,
       "version_minor": 0
      },
      "text/plain": [
       "BasicEnumerator:   0%|          | 0/57 [00:00<?, ?it/s]"
      ]
     },
     "metadata": {},
     "output_type": "display_data"
    }
   ],
   "source": [
    "rn.build()"
   ]
  },
  {
   "cell_type": "code",
   "execution_count": 8,
   "id": "f8d706e6",
   "metadata": {},
   "outputs": [],
   "source": [
    "rn.set_precursors([entry_set.get_min_entry_by_formula(\"Li2CO3\"), \n",
    "                   entry_set.get_min_entry_by_formula(\"Mn2O3\"), \n",
    "                   entry_set.get_min_entry_by_formula(\"YCl3\")])"
   ]
  },
  {
   "cell_type": "code",
   "execution_count": 9,
   "id": "5d6af96c",
   "metadata": {},
   "outputs": [],
   "source": [
    "from rxn_network.network.entry import NetworkEntryType"
   ]
  },
  {
   "cell_type": "code",
   "execution_count": 10,
   "id": "2b1f5f96",
   "metadata": {},
   "outputs": [
    {
     "data": {
      "text/plain": [
       "<NetworkEntryType.Target: 4>"
      ]
     },
     "execution_count": 10,
     "metadata": {},
     "output_type": "execute_result"
    }
   ],
   "source": [
    "NetworkEntryType.Target"
   ]
  },
  {
   "cell_type": "code",
   "execution_count": 11,
   "id": "0c745cb6",
   "metadata": {},
   "outputs": [],
   "source": [
    "for i in rn.graph.vertices():\n",
    "    if rn.graph.vp[\"type\"][i] == 4:\n",
    "        print(i)"
   ]
  },
  {
   "cell_type": "code",
   "execution_count": 17,
   "id": "b60e588d",
   "metadata": {},
   "outputs": [],
   "source": [
    "rn.set_target(\"YMnO3\")"
   ]
  },
  {
   "cell_type": "code",
   "execution_count": 18,
   "id": "ec70a87e",
   "metadata": {},
   "outputs": [
    {
     "name": "stdout",
     "output_type": "stream",
     "text": [
      "PATHS to YMnO3 \n",
      "\n",
      "--------------------------------------- \n",
      "\n",
      "Li2CO3 -> CO2 + Li2O (dG = 0.277 eV/atom) \n",
      "YCl3 + 1.5 Li2O -> 0.5 Y2O3 + 3 LiCl (dG = -0.297 eV/atom) \n",
      "Y2O3 + Mn2O3 -> 2 YMnO3 (dG = -0.069 eV/atom) \n",
      "Total Cost: 0.789 \n",
      "\n",
      "6 Mn2O3 -> O2 + 4 Mn3O4 (dG = 0.043 eV/atom) \n",
      "O2 + 2 YCl3 -> 2 YClO + 2 Cl2 (dG = 0.011 eV/atom) \n",
      "YClO + 0.3333 Mn2O3 -> 0.3333 YCl3 + 0.6667 YMnO3 (dG = 0.0 eV/atom) \n",
      "Total Cost: 0.808 \n",
      "\n",
      "6 Mn2O3 -> O2 + 4 Mn3O4 (dG = 0.043 eV/atom) \n",
      "O2 + 1.333 YCl3 -> 2 Cl2 + 0.6667 Y2O3 (dG = 0.078 eV/atom) \n",
      "Y2O3 + Mn2O3 -> 2 YMnO3 (dG = -0.069 eV/atom) \n",
      "Total Cost: 0.808 \n",
      "\n",
      "Li2CO3 -> CO2 + Li2O (dG = 0.277 eV/atom) \n",
      "YCl3 + Li2O -> YClO + 2 LiCl (dG = -0.273 eV/atom) \n",
      "YClO + 0.3333 Mn2O3 -> 0.3333 YCl3 + 0.6667 YMnO3 (dG = 0.0 eV/atom) \n",
      "Total Cost: 0.809 \n",
      "\n",
      "Mn2O3 -> MnO + MnO2 (dG = 0.097 eV/atom) \n",
      "YCl3 + 1.5 MnO -> 0.5 Y2O3 + 1.5 MnCl2 (dG = 0.051 eV/atom) \n",
      "Y2O3 + Mn2O3 -> 2 YMnO3 (dG = -0.069 eV/atom) \n",
      "Total Cost: 0.815 \n",
      "\n",
      "PATHS to LiCl \n",
      "\n",
      "--------------------------------------- \n",
      "\n",
      "Li2CO3 -> CO2 + Li2O (dG = 0.277 eV/atom) \n",
      "YCl3 + 1.5 Li2O -> 0.5 Y2O3 + 3 LiCl (dG = -0.297 eV/atom) \n",
      "Total Cost: 0.54 \n",
      "\n",
      "Li2CO3 -> CO2 + Li2O (dG = 0.277 eV/atom) \n",
      "YCl3 + Li2O -> YClO + 2 LiCl (dG = -0.273 eV/atom) \n",
      "Total Cost: 0.544 \n",
      "\n",
      "Mn2O3 + Li2CO3 -> Li2MnO3 + MnCO3 (dG = 0.053 eV/atom) \n",
      "Li2MnO3 + 0.5 Mn2O3 -> 0.5 Li2O + LiMn2O4 (dG = 0.053 eV/atom) \n",
      "YCl3 + 1.5 Li2O -> 0.5 Y2O3 + 3 LiCl (dG = -0.297 eV/atom) \n",
      "Total Cost: 0.758 \n",
      "\n",
      "Mn2O3 + Li2CO3 -> Li2MnO3 + MnCO3 (dG = 0.053 eV/atom) \n",
      "Li2MnO3 + 0.5 Mn2O3 -> 0.5 Li2O + LiMn2O4 (dG = 0.053 eV/atom) \n",
      "YCl3 + Li2O -> YClO + 2 LiCl (dG = -0.273 eV/atom) \n",
      "Total Cost: 0.763 \n",
      "\n",
      "Mn2O3 + Li2CO3 -> Li2MnO3 + MnCO3 (dG = 0.053 eV/atom) \n",
      "1.714 Li2MnO3 + 0.1429 Mn2O3 -> Li2O + 0.2857 Li5Mn7O16 (dG = 0.083 eV/atom) \n",
      "YCl3 + 1.5 Li2O -> 0.5 Y2O3 + 3 LiCl (dG = -0.297 eV/atom) \n",
      "Total Cost: 0.766 \n",
      "\n",
      "PATHS to CO2 \n",
      "\n",
      "--------------------------------------- \n",
      "\n",
      "Mn2O3 + Li2CO3 -> CO2 + 2 LiMnO2 (dG = 0.08 eV/atom) \n",
      "Total Cost: 0.284 \n",
      "\n",
      "Li2CO3 -> CO2 + Li2O (dG = 0.277 eV/atom) \n",
      "Total Cost: 0.337 \n",
      "\n",
      "Mn2O3 + Li2CO3 -> Li2MnO3 + MnCO3 (dG = 0.053 eV/atom) \n",
      "Mn2O3 + MnCO3 -> CO2 + Mn3O4 (dG = 0.016 eV/atom) \n",
      "Total Cost: 0.546 \n",
      "\n",
      "2 Mn2O3 -> MnO2 + Mn3O4 (dG = 0.015 eV/atom) \n",
      "Li2CO3 + MnO2 -> CO2 + Li2MnO3 (dG = 0.066 eV/atom) \n",
      "Total Cost: 0.549 \n",
      "\n",
      "Mn2O3 + Li2CO3 -> Li2MnO3 + MnCO3 (dG = 0.053 eV/atom) \n",
      "MnCO3 -> CO2 + MnO (dG = 0.098 eV/atom) \n",
      "Total Cost: 0.566 \n",
      "\n"
     ]
    }
   ],
   "source": [
    "paths = rn.find_pathways([\"YMnO3\", \"LiCl\", \"CO2\"], k=5)"
   ]
  },
  {
   "cell_type": "code",
   "execution_count": 19,
   "id": "6767200b",
   "metadata": {},
   "outputs": [],
   "source": [
    "ps = PathwaySolver(rn.entries, paths, Softplus(900)) # open_elem=\"O\", chempot=0"
   ]
  },
  {
   "cell_type": "code",
   "execution_count": 20,
   "id": "a3256224",
   "metadata": {},
   "outputs": [
    {
     "data": {
      "text/plain": [
       "YCl3 + 0.5 Mn2O3 + 1.5 Li2CO3 -> YMnO3 + 3 LiCl + 1.5 CO2"
      ]
     },
     "execution_count": 20,
     "metadata": {},
     "output_type": "execute_result"
    }
   ],
   "source": [
    "product_entries = []\n",
    "for i in [\"YMnO3\",\"LiCl\",\"CO2\"]:\n",
    "    product_entries.append(entry_set.get_min_entry_by_formula(i))\n",
    "    \n",
    "net_rxn = ComputedReaction.balance(rn.precursors,product_entries)\n",
    "net_rxn"
   ]
  },
  {
   "cell_type": "code",
   "execution_count": 21,
   "id": "83e33177",
   "metadata": {},
   "outputs": [
    {
     "data": {
      "application/vnd.jupyter.widget-view+json": {
       "model_id": "f718cbad41c84a23adf9d7a590bfd48f",
       "version_major": 2,
       "version_minor": 0
      },
      "text/plain": [
       "BasicEnumerator:   0%|          | 0/36 [00:00<?, ?it/s]"
      ]
     },
     "metadata": {},
     "output_type": "display_data"
    },
    {
     "data": {
      "application/vnd.jupyter.widget-view+json": {
       "model_id": "53db2ba833b042a3896643ecbeab258c",
       "version_major": 2,
       "version_minor": 0
      },
      "text/plain": [
       "PathwaySolver:   0%|          | 0/1 [00:00<?, ?it/s]"
      ]
     },
     "metadata": {},
     "output_type": "display_data"
    },
    {
     "data": {
      "application/vnd.jupyter.widget-view+json": {
       "model_id": "2460d305bf2640c59e7727bef2aca493",
       "version_major": 2,
       "version_minor": 0
      },
      "text/plain": [
       "PathwaySolver:   0%|          | 0/1 [00:00<?, ?it/s]"
      ]
     },
     "metadata": {},
     "output_type": "display_data"
    }
   ],
   "source": [
    "a = ps.solve(net_rxn, max_num_combos=5, intermediate_rxn_energy_cutoff=0.0, filter_interdependent=True)"
   ]
  },
  {
   "cell_type": "code",
   "execution_count": 22,
   "id": "66aa3200",
   "metadata": {},
   "outputs": [
    {
     "name": "stdout",
     "output_type": "stream",
     "text": [
      "Li2CO3 -> CO2 + Li2O (dG = 0.277 eV/atom) \n",
      "Li2O + YCl3 -> 2 LiCl + YClO (dG = -0.273 eV/atom) \n",
      "Li2CO3 + Mn2O3 -> CO2 + 2 LiMnO2 (dG = 0.08 eV/atom) \n",
      "LiMnO2 + YClO -> LiCl + YMnO3 (dG = -0.081 eV/atom) \n",
      "Average Cost: 0.267\n",
      "\n",
      "\n",
      "Li2CO3 -> CO2 + Li2O (dG = 0.277 eV/atom) \n",
      "Mn2O3 + Y2O3 -> 2 YMnO3 (dG = -0.069 eV/atom) \n",
      "Li2O + YCl3 -> 2 LiCl + YClO (dG = -0.273 eV/atom) \n",
      "0.5 Li2O + YClO -> LiCl + 0.5 Y2O3 (dG = -0.136 eV/atom) \n",
      "Average Cost: 0.268\n",
      "\n",
      "\n",
      "Li2CO3 -> CO2 + Li2O (dG = 0.277 eV/atom) \n",
      "1.5 Li2O + YCl3 -> 3 LiCl + 0.5 Y2O3 (dG = -0.297 eV/atom) \n",
      "Mn2O3 + Y2O3 -> 2 YMnO3 (dG = -0.069 eV/atom) \n",
      "Li2O + YCl3 -> 2 LiCl + YClO (dG = -0.273 eV/atom) \n",
      "0.5 Li2O + YClO -> LiCl + 0.5 Y2O3 (dG = -0.136 eV/atom) \n",
      "Average Cost: 0.274\n",
      "\n",
      "\n",
      "Li2CO3 -> CO2 + Li2O (dG = 0.277 eV/atom) \n",
      "1.5 Li2O + YCl3 -> 3 LiCl + 0.5 Y2O3 (dG = -0.297 eV/atom) \n",
      "Mn2O3 + Y2O3 -> 2 YMnO3 (dG = -0.069 eV/atom) \n",
      "Average Cost: 0.278\n",
      "\n",
      "\n"
     ]
    }
   ],
   "source": [
    "for path in a:\n",
    "    print(path)\n",
    "    print(\"\\n\")"
   ]
  },
  {
   "cell_type": "code",
   "execution_count": null,
   "id": "2cc7b621",
   "metadata": {},
   "outputs": [],
   "source": []
  }
 ],
 "metadata": {
  "kernelspec": {
   "display_name": "Python 3",
   "language": "python",
   "name": "python3"
  },
  "language_info": {
   "codemirror_mode": {
    "name": "ipython",
    "version": 3
   },
   "file_extension": ".py",
   "mimetype": "text/x-python",
   "name": "python",
   "nbconvert_exporter": "python",
   "pygments_lexer": "ipython3",
   "version": "3.8.8"
  }
 },
 "nbformat": 4,
 "nbformat_minor": 5
}
