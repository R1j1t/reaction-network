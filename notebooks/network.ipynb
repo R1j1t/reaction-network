{
 "cells": [
  {
   "cell_type": "markdown",
   "id": "61b45e58",
   "metadata": {},
   "source": [
    "# reaction-network (Demo Notebook): Networks\n",
    "\n",
    "### Author: Matthew McDermott\n",
    "Last Updated: 08/23/22\n",
    "\n",
    "The code provided in this notebook is an updated walkthrough of the first example (YMnO3) in the accompanying manuscript (see citation below). The refactored `reaction-network` package contains similar code to what was released with the manuscript; however, many processes/functions are now separated into their own defined classes/methods. For a look at the previous demo notebook (which also contained some of the raw results that went into the manuscript), please check out the _archived_ folder.\n",
    "\n",
    "**If you use this code or Python package in your work, please consider citing the following paper:**\n",
    "\n",
    "McDermott, M. J., Dwaraknath, S. S., and Persson, K. A. (2021). A graph-based network for predicting chemical reaction pathways in solid-state materials synthesis. \n",
    "Nature Communications, 12(1). https://doi.org/10.1038/s41467-021-23339-x"
   ]
  },
  {
   "cell_type": "markdown",
   "id": "47f5bc5b",
   "metadata": {},
   "source": [
    "### Imports"
   ]
  },
  {
   "cell_type": "code",
   "execution_count": 1,
   "id": "77eb7928",
   "metadata": {},
   "outputs": [
    {
     "name": "stderr",
     "output_type": "stream",
     "text": [
      "/Users/mcdermott/opt/miniconda3/envs/rn_dev2/lib/python3.10/site-packages/pymatgen/analysis/phase_diagram.py:26: TqdmExperimentalWarning: Using `tqdm.autonotebook.tqdm` in notebook mode. Use `tqdm.tqdm` instead to force console mode (e.g. in jupyter console)\n",
      "  from tqdm.autonotebook import tqdm\n"
     ]
    }
   ],
   "source": [
    "import logging \n",
    "\n",
    "from mp_api.client import MPRester\n",
    "from pymatgen.core.composition import Element\n",
    "from pymatgen.analysis.phase_diagram import PhaseDiagram, PDPlotter\n",
    "from monty.serialization import loadfn\n",
    "\n",
    "from rxn_network.costs.softplus import Softplus\n",
    "from rxn_network.thermo.chempot_diagram import ChemicalPotentialDiagram\n",
    "from rxn_network.core.composition import Composition\n",
    "from pymatgen.core.composition import Composition, Element\n",
    "from rxn_network.entries.entry_set import GibbsEntrySet\n",
    "from rxn_network.network.network import ReactionNetwork\n",
    "from rxn_network.entries.nist import NISTReferenceEntry\n",
    "from rxn_network.reactions.computed import ComputedReaction\n",
    "from rxn_network.reactions.reaction_set import ReactionSet\n",
    "from rxn_network.reactions.open import OpenComputedReaction\n",
    "from rxn_network.network.entry import NetworkEntry, NetworkEntryType\n",
    "from rxn_network.network.visualize import plot_network_on_graphistry, plot_network\n",
    "from rxn_network.pathways.solver import PathwaySolver\n",
    "from rxn_network.enumerators.basic import BasicEnumerator, BasicOpenEnumerator\n",
    "from rxn_network.enumerators.minimize import MinimizeGibbsEnumerator, MinimizeGrandPotentialEnumerator\n",
    "\n",
    "#import graphistry\n",
    "\n",
    "%load_ext autoreload\n",
    "%autoreload 2\n",
    "\n",
    "logging.info(\"Logging initialized\")"
   ]
  },
  {
   "cell_type": "markdown",
   "id": "fd15278f",
   "metadata": {},
   "source": [
    "### Case Study: YMnO3 assisted metathesis"
   ]
  },
  {
   "cell_type": "markdown",
   "id": "6b798814",
   "metadata": {},
   "source": [
    "We will be using the assisted metathesis synthesis of YMnO3 as a case study for the reaction network code. This is the first example discussed in the original manuscript. The assisted metathesis reaction reported by Todd & Neilson (JACS, 2019) corresponds to a net reaction equation:\n",
    "\n",
    "$$ Mn_2O_3 + 2 YCl_3 + 3Li_2CO_3 \\to 2YMnO_3 + 6LiCl + 3CO_2 $$\n",
    "\n",
    "In the paper, they report a reaction pathway involving the formation of intermediates LiMnO2 and YOCl. These react to form YMnO3 product and LiCl byproduct. (The CO2 is released when Li2CO3 reacts initially to form LiMnO2)."
   ]
  },
  {
   "cell_type": "markdown",
   "id": "7c2282bf",
   "metadata": {},
   "source": [
    "### Downloading and modifying entries\n",
    "\n",
    "First, we acquire entries for phases in the Y-Mn-O-Li-Cl-C chemical system from the Materials Project (MP), a computed materials database containing calculations for over 130,000 materials."
   ]
  },
  {
   "cell_type": "code",
   "execution_count": 2,
   "id": "44d6c072",
   "metadata": {},
   "outputs": [],
   "source": [
    "# with MPRester() as mpr:  # insert your Materials Project API key here\n",
    "#     entries = mpr.get_entries_in_chemsys(\"Y-Mn-O-C-Cl-Li\")"
   ]
  },
  {
   "cell_type": "code",
   "execution_count": 3,
   "id": "ed212730",
   "metadata": {},
   "outputs": [],
   "source": [
    "# from monty.serialization import dumpfn\n",
    "# dumpfn(entries, \"entries.json.gz\")"
   ]
  },
  {
   "cell_type": "code",
   "execution_count": 4,
   "id": "3aff12aa",
   "metadata": {},
   "outputs": [],
   "source": [
    "entries = loadfn(\"entries.json.gz\")"
   ]
  },
  {
   "cell_type": "markdown",
   "id": "f16c4523",
   "metadata": {},
   "source": [
    "The `GibbsEntrySet` class allows us to automatically converet `ComputedStructureEntry` objects downloaded from the MP database into `GibbsComputedEntry` objects, where DFT-calculated energies have been converted to machine learning (ML)-estimated equivalent values of the Gibbs free energies of formation, $\\Delta G_f$ for all entries at the specified temperature. \n",
    "\n",
    "For more information, check out the citation in the documentation for `GibbsComputedEntry`."
   ]
  },
  {
   "cell_type": "code",
   "execution_count": 5,
   "id": "81dc252c",
   "metadata": {},
   "outputs": [],
   "source": [
    "temp = 900  # units: Kelvin\n",
    "entry_set = GibbsEntrySet.from_entries(entries, temp)"
   ]
  },
  {
   "cell_type": "markdown",
   "id": "560515ce",
   "metadata": {},
   "source": [
    "The `GibbsEntrySet` class has many helpful functions, such as the following `filter_by_stability()` function, which automatically removes entries which are a specified energy per atom above the convex hull of stability:"
   ]
  },
  {
   "cell_type": "code",
   "execution_count": 6,
   "id": "8529fd0a",
   "metadata": {},
   "outputs": [
    {
     "data": {
      "text/plain": [
       "[GibbsComputedEntry | mp-569304 | C4 (C)\n",
       " Gibbs Energy (900 K) = 0.0000,\n",
       " GibbsComputedEntry | mp-1214283 | C40 Cl32 (C5Cl4)\n",
       " Gibbs Energy (900 K) = -2.6421,\n",
       " GibbsComputedEntry | mp-1214294 | C28 Cl32 (C7Cl8)\n",
       " Gibbs Energy (900 K) = -1.8837,\n",
       " NISTReferenceEntry | CO2\n",
       " Gibbs Energy (900 K) = -4.1016,\n",
       " GibbsComputedEntry | mp-1008394 | Cl4 (Cl2)\n",
       " Gibbs Energy (900 K) = 0.0000,\n",
       " GibbsComputedEntry | mp-1018134 | Li3 (Li)\n",
       " Gibbs Energy (900 K) = 0.0000,\n",
       " NISTReferenceEntry | Li2CO3\n",
       " Gibbs Energy (900 K) = -9.9542,\n",
       " GibbsComputedEntry | mp-760097 | Li8 Mn8 C8 O28 (Li2Mn2C2O7)\n",
       " Gibbs Energy (900 K) = -82.6655,\n",
       " GibbsComputedEntry | mp-758215 | Li8 Mn4 C4 O16 (Li2MnCO4)\n",
       " Gibbs Energy (900 K) = -53.0994,\n",
       " GibbsComputedEntry | mp-18988 | Li8 Mn4 O12 (Li2MnO3)\n",
       " Gibbs Energy (900 K) = -40.0030,\n",
       " NISTReferenceEntry | Li2O\n",
       " Gibbs Energy (900 K) = -4.9774,\n",
       " GibbsComputedEntry | mp-1180721 | Li4 C1 O4 (Li4CO4)\n",
       " Gibbs Energy (900 K) = -15.1456,\n",
       " GibbsComputedEntry | mp-530177 | Li10 Mn14 O32 (Li5Mn7O16)\n",
       " Gibbs Energy (900 K) = -86.3207,\n",
       " NISTReferenceEntry | LiC\n",
       " Gibbs Energy (900 K) = -0.2401,\n",
       " GibbsComputedEntry | mp-1021323 | Li1 C12 (LiC12)\n",
       " Gibbs Energy (900 K) = -0.8730,\n",
       " GibbsComputedEntry | mp-1190287 | Li4 C4 O8 (LiCO2)\n",
       " Gibbs Energy (900 K) = -24.6502,\n",
       " NISTReferenceEntry | LiCl\n",
       " Gibbs Energy (900 K) = -3.4730,\n",
       " GibbsComputedEntry | mp-1097867 | Li6 Mn12 O24 (LiMn2O4)\n",
       " Gibbs Energy (900 K) = -65.0890,\n",
       " GibbsComputedEntry | mp-758472 | Li4 Mn4 C4 O16 (LiMnCO4)\n",
       " Gibbs Energy (900 K) = -44.0252,\n",
       " GibbsComputedEntry | mp-754656 | Li2 Mn2 O4 (LiMnO2)\n",
       " Gibbs Energy (900 K) = -13.3236,\n",
       " GibbsComputedEntry | mp-35 | Mn29 (Mn)\n",
       " Gibbs Energy (900 K) = 0.0000,\n",
       " GibbsComputedEntry | mp-1172875 | Mn32 O48 (Mn2O3)\n",
       " Gibbs Energy (900 K) = -121.0591,\n",
       " GibbsComputedEntry | mp-18759 | Mn6 O8 (Mn3O4)\n",
       " Gibbs Energy (900 K) = -22.0535,\n",
       " GibbsComputedEntry | mp-25773 | Mn16 Cl6 O20 (Mn8Cl3O10)\n",
       " Gibbs Energy (900 K) = -61.0694,\n",
       " GibbsComputedEntry | mp-28233 | Mn1 Cl2 (MnCl2)\n",
       " Gibbs Energy (900 K) = -3.1770,\n",
       " GibbsComputedEntry | mp-999539 | Mn4 O4 (MnO)\n",
       " Gibbs Energy (900 K) = -12.5274,\n",
       " GibbsComputedEntry | mp-1272141 | Mn1 O2 (MnO2)\n",
       " Gibbs Energy (900 K) = -3.9507,\n",
       " GibbsComputedEntry | mp-12957 | O8 (O2)\n",
       " Gibbs Energy (900 K) = 0.0000,\n",
       " GibbsComputedEntry | mp-1187739 | Y3 (Y)\n",
       " Gibbs Energy (900 K) = 0.0000,\n",
       " GibbsComputedEntry | mp-1197605 | Y10 Mn13 C18 (Y10Mn13C18)\n",
       " Gibbs Energy (900 K) = -13.1919,\n",
       " GibbsComputedEntry | mp-1207824 | Y12 Mn5 C15 (Y12(MnC3)5)\n",
       " Gibbs Energy (900 K) = -12.2255,\n",
       " GibbsComputedEntry | mp-1334 | Y2 C1 (Y2C)\n",
       " Gibbs Energy (900 K) = -0.8791,\n",
       " GibbsComputedEntry | mp-18831 | Y4 Mn4 O14 (Y2Mn2O7)\n",
       " Gibbs Energy (900 K) = -52.1371,\n",
       " GibbsComputedEntry | mp-1207480 | Y4 Mn2 C8 (Y2MnC4)\n",
       " Gibbs Energy (900 K) = -4.2755,\n",
       " GibbsComputedEntry | mp-2652 | Y16 O24 (Y2O3)\n",
       " Gibbs Energy (900 K) = -139.2071,\n",
       " GibbsComputedEntry | mp-9459 | Y8 C10 (Y4C5)\n",
       " Gibbs Energy (900 K) = -6.4245,\n",
       " GibbsComputedEntry | mp-1200885 | Y16 C28 (Y4C7)\n",
       " Gibbs Energy (900 K) = -14.4728,\n",
       " GibbsComputedEntry | mp-1206889 | Y2 C2 Cl2 (YCCl)\n",
       " Gibbs Energy (900 K) = -7.4832,\n",
       " GibbsComputedEntry | mp-27455 | Y2 Cl6 (YCl3)\n",
       " Gibbs Energy (900 K) = -18.2558,\n",
       " GibbsComputedEntry | mp-552120 | Y2 Cl2 O2 (YClO)\n",
       " Gibbs Energy (900 K) = -18.1465,\n",
       " GibbsComputedEntry | mp-22508 | Y1 Mn12 (YMn12)\n",
       " Gibbs Energy (900 K) = -0.0997,\n",
       " GibbsComputedEntry | mp-510598 | Y4 Mn8 O20 (YMn2O5)\n",
       " Gibbs Energy (900 K) = -68.6480,\n",
       " GibbsComputedEntry | mp-19385 | Y6 Mn6 O18 (YMnO3)\n",
       " Gibbs Energy (900 K) = -76.9563]"
      ]
     },
     "execution_count": 6,
     "metadata": {},
     "output_type": "execute_result"
    }
   ],
   "source": [
    "entry_set = entry_set.filter_by_stability(0.00)\n",
    "entry_set.entries_list"
   ]
  },
  {
   "cell_type": "markdown",
   "id": "b8463b6c",
   "metadata": {},
   "source": [
    "In this case, we remove all entries which are unstable (above an energy cutoff of 10 meV/atom), which greatly reduces the combinatorial complexity of the system."
   ]
  },
  {
   "cell_type": "markdown",
   "id": "c633c24d",
   "metadata": {},
   "source": [
    "## Building the reaction network\n",
    "\n",
    "The reaction network can be initialized by providing 3 arguments to the `ReactionNetwork` class:\n",
    "\n",
    "1. **entries:** iterable of entry-like objects (e.g., `GibbsComputedEntry`)\n",
    "2. **enumerators:** iterable of enumerators which will be called during the build of the network\n",
    "3. **cost_function:** the function used to calculate the cost of each reaction edge \n",
    "\n",
    "We will use a BasicEnumerator (see the **Enumerators Demo Notebook** for more information on the type of enumerators available):"
   ]
  },
  {
   "cell_type": "code",
   "execution_count": 7,
   "id": "0bc4d165",
   "metadata": {},
   "outputs": [],
   "source": [
    "be = BasicEnumerator()"
   ]
  },
  {
   "cell_type": "code",
   "execution_count": 8,
   "id": "fc09e59c",
   "metadata": {
    "scrolled": false
   },
   "outputs": [
    {
     "name": "stderr",
     "output_type": "stream",
     "text": [
      "INFO:enumerator:Ray is not initialized. Checking for existing cluster...\n",
      "INFO:enumerator:Could not identify existing Ray instance. Creating a new one...\n",
      "2022-09-12 15:07:00,669\tINFO worker.py:1509 -- Started a local Ray instance. View the dashboard at \u001b[1m\u001b[32m127.0.0.1:8265 \u001b[39m\u001b[22m\n",
      "INFO:enumerator:HOST: MacBook-Pro-4.dhcp.lbl.gov, {'memory': 12405538816.0, 'node:127.0.0.1': 1.0, 'object_store_memory': 2147483648.0, 'CPU': 12.0}\n",
      "100%|██████████████████████████████████████████████████████████████████████████████████████████████████████████████████████████████████████████████| 54/54 [00:11<00:00,  4.69it/s]\n"
     ]
    }
   ],
   "source": [
    "rxns = be.enumerate(entry_set)"
   ]
  },
  {
   "cell_type": "markdown",
   "id": "8194edc6",
   "metadata": {},
   "source": [
    "The cost function is a monotonic function used to assign weights to edges in the network. In this case, we will use the softplus function, assigned a temperature scaling of $T=900$ K, and use the default arguments which automatically determine the softplus weighting based on the energy per atom of the reaction:"
   ]
  },
  {
   "cell_type": "code",
   "execution_count": 9,
   "id": "94c693ae",
   "metadata": {},
   "outputs": [],
   "source": [
    "cf = Softplus(900)"
   ]
  },
  {
   "cell_type": "markdown",
   "id": "1c799d22",
   "metadata": {},
   "source": [
    "Finally, we provide these as arguments to the `ReactionNetwork` initialization:"
   ]
  },
  {
   "cell_type": "code",
   "execution_count": 10,
   "id": "8dc1f67a",
   "metadata": {},
   "outputs": [],
   "source": [
    "rn = ReactionNetwork(rxns, cf)"
   ]
  },
  {
   "cell_type": "markdown",
   "id": "a487a616",
   "metadata": {},
   "source": [
    "This simply initializes a `ReactionNetwork` object but does not build the network graph. To do so, we call the `.build()` function:"
   ]
  },
  {
   "cell_type": "code",
   "execution_count": 11,
   "id": "adc019cd",
   "metadata": {},
   "outputs": [
    {
     "name": "stderr",
     "output_type": "stream",
     "text": [
      "INFO:ReactionNetwork:Building graph from reactions...\n",
      "100%|████████████████████████████████████████████████████████████████████████████████████████████████████████████████████████████████████████| 2182/2182 [00:01<00:00, 1537.78it/s]\n"
     ]
    }
   ],
   "source": [
    "rn.build()"
   ]
  },
  {
   "cell_type": "markdown",
   "id": "74d6ddfc",
   "metadata": {},
   "source": [
    "This should have completed within a few seconds. You'll notice that two things happened:\n",
    "\n",
    "1. The enumerator(s) were run and a list of reactions was generated\n",
    "2. The weighted graph object was built with these reactions and stored under the `graph` attribute of the reaction network object\n",
    "\n",
    "We can access this graph object, which is a graph-tool object, by using the `graph` attribute:"
   ]
  },
  {
   "cell_type": "code",
   "execution_count": 12,
   "id": "f26d61c6",
   "metadata": {},
   "outputs": [
    {
     "data": {
      "text/plain": [
       "<Graph object, directed, with 984 vertices and 2674 edges, 2 internal vertex properties, 3 internal edge properties, at 0x14ec51550>"
      ]
     },
     "execution_count": 12,
     "metadata": {},
     "output_type": "execute_result"
    }
   ],
   "source": [
    "rn.graph"
   ]
  },
  {
   "cell_type": "code",
   "execution_count": 21,
   "id": "d04fb3e3",
   "metadata": {},
   "outputs": [],
   "source": [
    "from jobflow import SETTINGS\n",
    "from monty.serialization import MontyDecoder\n",
    "\n",
    "store = SETTINGS.JOB_STORE\n",
    "\n",
    "# connect to the job store\n",
    "store.connect()"
   ]
  },
  {
   "cell_type": "code",
   "execution_count": 36,
   "id": "125bb189",
   "metadata": {},
   "outputs": [],
   "source": [
    "store.additional_stores[\"rxns\"].update([{\"blob_uuid\":\"12ce1284-64eb-409d-ba7e-9448f0fe59fd\", \"rxns\":open(\"test.gt.gz\", mode=\"rb\")}])"
   ]
  },
  {
   "cell_type": "code",
   "execution_count": 37,
   "id": "8c47b185",
   "metadata": {},
   "outputs": [
    {
     "data": {
      "text/plain": [
       "\"<_io.BufferedReader name='test.gt.gz'>\""
      ]
     },
     "execution_count": 37,
     "metadata": {},
     "output_type": "execute_result"
    }
   ],
   "source": [
    "store.additional_stores[\"rxns\"].query_one({\"blob_uuid\":\"12ce1284-64eb-409d-ba7e-9448f0fe59fd\"})[\"rxns\"]"
   ]
  },
  {
   "cell_type": "code",
   "execution_count": 30,
   "id": "58768741",
   "metadata": {},
   "outputs": [],
   "source": [
    "import graph_tool.all as gt"
   ]
  },
  {
   "cell_type": "code",
   "execution_count": 33,
   "id": "301fbc31",
   "metadata": {},
   "outputs": [],
   "source": [
    "rn.graph.save(\"test.gt.gz\")"
   ]
  },
  {
   "cell_type": "code",
   "execution_count": 35,
   "id": "f1256f94",
   "metadata": {},
   "outputs": [
    {
     "data": {
      "text/plain": [
       "<_io.BufferedReader name='test.gt.gz'>"
      ]
     },
     "execution_count": 35,
     "metadata": {},
     "output_type": "execute_result"
    }
   ],
   "source": [
    "open(\"test.gt.gz\", mode=\"rb\")"
   ]
  },
  {
   "cell_type": "code",
   "execution_count": 20,
   "id": "957b9405",
   "metadata": {},
   "outputs": [
    {
     "ename": "TypeError",
     "evalue": "Object of type Graph is not JSON serializable",
     "output_type": "error",
     "traceback": [
      "\u001b[0;31m---------------------------------------------------------------------------\u001b[0m",
      "\u001b[0;31mAttributeError\u001b[0m                            Traceback (most recent call last)",
      "File \u001b[0;32m~/opt/miniconda3/envs/rn_dev2/lib/python3.10/site-packages/monty/json.py:321\u001b[0m, in \u001b[0;36mMontyEncoder.default\u001b[0;34m(self, o)\u001b[0m\n\u001b[1;32m    320\u001b[0m \u001b[38;5;28;01melse\u001b[39;00m:\n\u001b[0;32m--> 321\u001b[0m     d \u001b[38;5;241m=\u001b[39m \u001b[43mo\u001b[49m\u001b[38;5;241;43m.\u001b[39;49m\u001b[43mas_dict\u001b[49m()\n\u001b[1;32m    323\u001b[0m \u001b[38;5;28;01mif\u001b[39;00m \u001b[38;5;124m\"\u001b[39m\u001b[38;5;124m@module\u001b[39m\u001b[38;5;124m\"\u001b[39m \u001b[38;5;129;01mnot\u001b[39;00m \u001b[38;5;129;01min\u001b[39;00m d:\n",
      "\u001b[0;31mAttributeError\u001b[0m: 'Graph' object has no attribute 'as_dict'",
      "\nDuring handling of the above exception, another exception occurred:\n",
      "\u001b[0;31mTypeError\u001b[0m                                 Traceback (most recent call last)",
      "Cell \u001b[0;32mIn [20], line 2\u001b[0m\n\u001b[1;32m      1\u001b[0m \u001b[38;5;28;01mfrom\u001b[39;00m \u001b[38;5;21;01mmonty\u001b[39;00m\u001b[38;5;21;01m.\u001b[39;00m\u001b[38;5;21;01mserialization\u001b[39;00m \u001b[38;5;28;01mimport\u001b[39;00m dumpfn\n\u001b[0;32m----> 2\u001b[0m \u001b[43mdumpfn\u001b[49m\u001b[43m(\u001b[49m\u001b[43mrn\u001b[49m\u001b[38;5;241;43m.\u001b[39;49m\u001b[43mgraph\u001b[49m\u001b[43m,\u001b[49m\u001b[43m \u001b[49m\u001b[38;5;124;43m\"\u001b[39;49m\u001b[38;5;124;43mtest.json.gz\u001b[39;49m\u001b[38;5;124;43m\"\u001b[39;49m\u001b[43m)\u001b[49m\n",
      "File \u001b[0;32m~/opt/miniconda3/envs/rn_dev2/lib/python3.10/site-packages/monty/serialization.py:123\u001b[0m, in \u001b[0;36mdumpfn\u001b[0;34m(obj, fn, fmt, *args, **kwargs)\u001b[0m\n\u001b[1;32m    121\u001b[0m     \u001b[38;5;28;01mif\u001b[39;00m \u001b[38;5;124m\"\u001b[39m\u001b[38;5;124mcls\u001b[39m\u001b[38;5;124m\"\u001b[39m \u001b[38;5;129;01mnot\u001b[39;00m \u001b[38;5;129;01min\u001b[39;00m kwargs:\n\u001b[1;32m    122\u001b[0m         kwargs[\u001b[38;5;124m\"\u001b[39m\u001b[38;5;124mcls\u001b[39m\u001b[38;5;124m\"\u001b[39m] \u001b[38;5;241m=\u001b[39m MontyEncoder\n\u001b[0;32m--> 123\u001b[0m     fp\u001b[38;5;241m.\u001b[39mwrite(\u001b[43mjson\u001b[49m\u001b[38;5;241;43m.\u001b[39;49m\u001b[43mdumps\u001b[49m\u001b[43m(\u001b[49m\u001b[43mobj\u001b[49m\u001b[43m,\u001b[49m\u001b[43m \u001b[49m\u001b[38;5;241;43m*\u001b[39;49m\u001b[43margs\u001b[49m\u001b[43m,\u001b[49m\u001b[43m \u001b[49m\u001b[38;5;241;43m*\u001b[39;49m\u001b[38;5;241;43m*\u001b[39;49m\u001b[43mkwargs\u001b[49m\u001b[43m)\u001b[49m)\n\u001b[1;32m    124\u001b[0m \u001b[38;5;28;01melse\u001b[39;00m:\n\u001b[1;32m    125\u001b[0m     \u001b[38;5;28;01mraise\u001b[39;00m \u001b[38;5;167;01mTypeError\u001b[39;00m(\u001b[38;5;124mf\u001b[39m\u001b[38;5;124m\"\u001b[39m\u001b[38;5;124mInvalid format: \u001b[39m\u001b[38;5;132;01m{\u001b[39;00mfmt\u001b[38;5;132;01m}\u001b[39;00m\u001b[38;5;124m\"\u001b[39m)\n",
      "File \u001b[0;32m~/opt/miniconda3/envs/rn_dev2/lib/python3.10/json/__init__.py:238\u001b[0m, in \u001b[0;36mdumps\u001b[0;34m(obj, skipkeys, ensure_ascii, check_circular, allow_nan, cls, indent, separators, default, sort_keys, **kw)\u001b[0m\n\u001b[1;32m    232\u001b[0m \u001b[38;5;28;01mif\u001b[39;00m \u001b[38;5;28mcls\u001b[39m \u001b[38;5;129;01mis\u001b[39;00m \u001b[38;5;28;01mNone\u001b[39;00m:\n\u001b[1;32m    233\u001b[0m     \u001b[38;5;28mcls\u001b[39m \u001b[38;5;241m=\u001b[39m JSONEncoder\n\u001b[1;32m    234\u001b[0m \u001b[38;5;28;01mreturn\u001b[39;00m \u001b[38;5;28;43mcls\u001b[39;49m\u001b[43m(\u001b[49m\n\u001b[1;32m    235\u001b[0m \u001b[43m    \u001b[49m\u001b[43mskipkeys\u001b[49m\u001b[38;5;241;43m=\u001b[39;49m\u001b[43mskipkeys\u001b[49m\u001b[43m,\u001b[49m\u001b[43m \u001b[49m\u001b[43mensure_ascii\u001b[49m\u001b[38;5;241;43m=\u001b[39;49m\u001b[43mensure_ascii\u001b[49m\u001b[43m,\u001b[49m\n\u001b[1;32m    236\u001b[0m \u001b[43m    \u001b[49m\u001b[43mcheck_circular\u001b[49m\u001b[38;5;241;43m=\u001b[39;49m\u001b[43mcheck_circular\u001b[49m\u001b[43m,\u001b[49m\u001b[43m \u001b[49m\u001b[43mallow_nan\u001b[49m\u001b[38;5;241;43m=\u001b[39;49m\u001b[43mallow_nan\u001b[49m\u001b[43m,\u001b[49m\u001b[43m \u001b[49m\u001b[43mindent\u001b[49m\u001b[38;5;241;43m=\u001b[39;49m\u001b[43mindent\u001b[49m\u001b[43m,\u001b[49m\n\u001b[1;32m    237\u001b[0m \u001b[43m    \u001b[49m\u001b[43mseparators\u001b[49m\u001b[38;5;241;43m=\u001b[39;49m\u001b[43mseparators\u001b[49m\u001b[43m,\u001b[49m\u001b[43m \u001b[49m\u001b[43mdefault\u001b[49m\u001b[38;5;241;43m=\u001b[39;49m\u001b[43mdefault\u001b[49m\u001b[43m,\u001b[49m\u001b[43m \u001b[49m\u001b[43msort_keys\u001b[49m\u001b[38;5;241;43m=\u001b[39;49m\u001b[43msort_keys\u001b[49m\u001b[43m,\u001b[49m\n\u001b[0;32m--> 238\u001b[0m \u001b[43m    \u001b[49m\u001b[38;5;241;43m*\u001b[39;49m\u001b[38;5;241;43m*\u001b[39;49m\u001b[43mkw\u001b[49m\u001b[43m)\u001b[49m\u001b[38;5;241;43m.\u001b[39;49m\u001b[43mencode\u001b[49m\u001b[43m(\u001b[49m\u001b[43mobj\u001b[49m\u001b[43m)\u001b[49m\n",
      "File \u001b[0;32m~/opt/miniconda3/envs/rn_dev2/lib/python3.10/json/encoder.py:199\u001b[0m, in \u001b[0;36mJSONEncoder.encode\u001b[0;34m(self, o)\u001b[0m\n\u001b[1;32m    195\u001b[0m         \u001b[38;5;28;01mreturn\u001b[39;00m encode_basestring(o)\n\u001b[1;32m    196\u001b[0m \u001b[38;5;66;03m# This doesn't pass the iterator directly to ''.join() because the\u001b[39;00m\n\u001b[1;32m    197\u001b[0m \u001b[38;5;66;03m# exceptions aren't as detailed.  The list call should be roughly\u001b[39;00m\n\u001b[1;32m    198\u001b[0m \u001b[38;5;66;03m# equivalent to the PySequence_Fast that ''.join() would do.\u001b[39;00m\n\u001b[0;32m--> 199\u001b[0m chunks \u001b[38;5;241m=\u001b[39m \u001b[38;5;28;43mself\u001b[39;49m\u001b[38;5;241;43m.\u001b[39;49m\u001b[43miterencode\u001b[49m\u001b[43m(\u001b[49m\u001b[43mo\u001b[49m\u001b[43m,\u001b[49m\u001b[43m \u001b[49m\u001b[43m_one_shot\u001b[49m\u001b[38;5;241;43m=\u001b[39;49m\u001b[38;5;28;43;01mTrue\u001b[39;49;00m\u001b[43m)\u001b[49m\n\u001b[1;32m    200\u001b[0m \u001b[38;5;28;01mif\u001b[39;00m \u001b[38;5;129;01mnot\u001b[39;00m \u001b[38;5;28misinstance\u001b[39m(chunks, (\u001b[38;5;28mlist\u001b[39m, \u001b[38;5;28mtuple\u001b[39m)):\n\u001b[1;32m    201\u001b[0m     chunks \u001b[38;5;241m=\u001b[39m \u001b[38;5;28mlist\u001b[39m(chunks)\n",
      "File \u001b[0;32m~/opt/miniconda3/envs/rn_dev2/lib/python3.10/json/encoder.py:257\u001b[0m, in \u001b[0;36mJSONEncoder.iterencode\u001b[0;34m(self, o, _one_shot)\u001b[0m\n\u001b[1;32m    252\u001b[0m \u001b[38;5;28;01melse\u001b[39;00m:\n\u001b[1;32m    253\u001b[0m     _iterencode \u001b[38;5;241m=\u001b[39m _make_iterencode(\n\u001b[1;32m    254\u001b[0m         markers, \u001b[38;5;28mself\u001b[39m\u001b[38;5;241m.\u001b[39mdefault, _encoder, \u001b[38;5;28mself\u001b[39m\u001b[38;5;241m.\u001b[39mindent, floatstr,\n\u001b[1;32m    255\u001b[0m         \u001b[38;5;28mself\u001b[39m\u001b[38;5;241m.\u001b[39mkey_separator, \u001b[38;5;28mself\u001b[39m\u001b[38;5;241m.\u001b[39mitem_separator, \u001b[38;5;28mself\u001b[39m\u001b[38;5;241m.\u001b[39msort_keys,\n\u001b[1;32m    256\u001b[0m         \u001b[38;5;28mself\u001b[39m\u001b[38;5;241m.\u001b[39mskipkeys, _one_shot)\n\u001b[0;32m--> 257\u001b[0m \u001b[38;5;28;01mreturn\u001b[39;00m \u001b[43m_iterencode\u001b[49m\u001b[43m(\u001b[49m\u001b[43mo\u001b[49m\u001b[43m,\u001b[49m\u001b[43m \u001b[49m\u001b[38;5;241;43m0\u001b[39;49m\u001b[43m)\u001b[49m\n",
      "File \u001b[0;32m~/opt/miniconda3/envs/rn_dev2/lib/python3.10/site-packages/monty/json.py:336\u001b[0m, in \u001b[0;36mMontyEncoder.default\u001b[0;34m(self, o)\u001b[0m\n\u001b[1;32m    334\u001b[0m     \u001b[38;5;28;01mreturn\u001b[39;00m d\n\u001b[1;32m    335\u001b[0m \u001b[38;5;28;01mexcept\u001b[39;00m \u001b[38;5;167;01mAttributeError\u001b[39;00m:\n\u001b[0;32m--> 336\u001b[0m     \u001b[38;5;28;01mreturn\u001b[39;00m \u001b[43mjson\u001b[49m\u001b[38;5;241;43m.\u001b[39;49m\u001b[43mJSONEncoder\u001b[49m\u001b[38;5;241;43m.\u001b[39;49m\u001b[43mdefault\u001b[49m\u001b[43m(\u001b[49m\u001b[38;5;28;43mself\u001b[39;49m\u001b[43m,\u001b[49m\u001b[43m \u001b[49m\u001b[43mo\u001b[49m\u001b[43m)\u001b[49m\n",
      "File \u001b[0;32m~/opt/miniconda3/envs/rn_dev2/lib/python3.10/json/encoder.py:179\u001b[0m, in \u001b[0;36mJSONEncoder.default\u001b[0;34m(self, o)\u001b[0m\n\u001b[1;32m    160\u001b[0m \u001b[38;5;28;01mdef\u001b[39;00m \u001b[38;5;21mdefault\u001b[39m(\u001b[38;5;28mself\u001b[39m, o):\n\u001b[1;32m    161\u001b[0m     \u001b[38;5;124;03m\"\"\"Implement this method in a subclass such that it returns\u001b[39;00m\n\u001b[1;32m    162\u001b[0m \u001b[38;5;124;03m    a serializable object for ``o``, or calls the base implementation\u001b[39;00m\n\u001b[1;32m    163\u001b[0m \u001b[38;5;124;03m    (to raise a ``TypeError``).\u001b[39;00m\n\u001b[0;32m   (...)\u001b[0m\n\u001b[1;32m    177\u001b[0m \n\u001b[1;32m    178\u001b[0m \u001b[38;5;124;03m    \"\"\"\u001b[39;00m\n\u001b[0;32m--> 179\u001b[0m     \u001b[38;5;28;01mraise\u001b[39;00m \u001b[38;5;167;01mTypeError\u001b[39;00m(\u001b[38;5;124mf\u001b[39m\u001b[38;5;124m'\u001b[39m\u001b[38;5;124mObject of type \u001b[39m\u001b[38;5;132;01m{\u001b[39;00mo\u001b[38;5;241m.\u001b[39m\u001b[38;5;18m__class__\u001b[39m\u001b[38;5;241m.\u001b[39m\u001b[38;5;18m__name__\u001b[39m\u001b[38;5;132;01m}\u001b[39;00m\u001b[38;5;124m \u001b[39m\u001b[38;5;124m'\u001b[39m\n\u001b[1;32m    180\u001b[0m                     \u001b[38;5;124mf\u001b[39m\u001b[38;5;124m'\u001b[39m\u001b[38;5;124mis not JSON serializable\u001b[39m\u001b[38;5;124m'\u001b[39m)\n",
      "\u001b[0;31mTypeError\u001b[0m: Object of type Graph is not JSON serializable"
     ]
    }
   ],
   "source": [
    "from monty.serialization import dumpfn\n",
    "dumpfn(rn.graph, \"test.json.gz\")"
   ]
  },
  {
   "cell_type": "code",
   "execution_count": 17,
   "id": "70a962f4",
   "metadata": {},
   "outputs": [],
   "source": [
    "a = loadfn(\"test.json.gz\")"
   ]
  },
  {
   "cell_type": "code",
   "execution_count": 19,
   "id": "02dd751b",
   "metadata": {},
   "outputs": [],
   "source": [
    "a.graph"
   ]
  },
  {
   "cell_type": "markdown",
   "id": "d62da971",
   "metadata": {},
   "source": [
    "There are a couple provided ways to plot reaction networks. The first is to use the built in drawing features in graph-tool, which have been provided in a wrapper function."
   ]
  },
  {
   "cell_type": "code",
   "execution_count": 13,
   "id": "739a5bb9",
   "metadata": {},
   "outputs": [],
   "source": [
    "#plot_network(rn.graph);"
   ]
  },
  {
   "cell_type": "markdown",
   "id": "8bb8a5dc",
   "metadata": {},
   "source": [
    "You'll notice that at this stage, the reaction network graph is a collection of \"sub\"-networks, i.e. a collection of smaller reaction networks for smaller chemical subsystems. This configuration will change once we set up for pathfinding in the next section."
   ]
  },
  {
   "cell_type": "markdown",
   "id": "a45a67d6",
   "metadata": {},
   "source": [
    "The second way to plot graphs is to use graphistry, which requires setting up an account on Graphistry Hub: https://hub.graphistry.com/"
   ]
  },
  {
   "cell_type": "code",
   "execution_count": 14,
   "id": "dc1d2b7c",
   "metadata": {},
   "outputs": [],
   "source": [
    "#plot_network_on_graphistry(rn.graph)"
   ]
  },
  {
   "cell_type": "markdown",
   "id": "6c9c9d1c",
   "metadata": {},
   "source": [
    "### Solving for reaction pathways\n",
    "\n",
    "To solve for reaction pathways, we must set precursor phases, as well as a target phase. This will automatically build all the required \"zero-cost\" edges which connect the different chemical subsystems. Please see the original manuscript for more detail with regards to how this works. In short, zero-cost edges are drawn between and product node to any reactant node that contains a subset of the set consisting of the {precursors + products} phases. "
   ]
  },
  {
   "cell_type": "code",
   "execution_count": 15,
   "id": "f8d706e6",
   "metadata": {},
   "outputs": [],
   "source": [
    "rn.set_precursors([\"Li2CO3\", \"Mn2O3\", \"YCl3\"])"
   ]
  },
  {
   "cell_type": "code",
   "execution_count": 16,
   "id": "b6fa1322",
   "metadata": {},
   "outputs": [],
   "source": [
    "rn.set_target(\"YMnO3\")"
   ]
  },
  {
   "cell_type": "markdown",
   "id": "edc91d88",
   "metadata": {},
   "source": [
    "We can see how this changes the network by re-drawing it:"
   ]
  },
  {
   "cell_type": "code",
   "execution_count": 17,
   "id": "a0529d29",
   "metadata": {},
   "outputs": [
    {
     "data": {
      "text/plain": [
       "<Graph object, directed, with 986 vertices and 5265 edges, 2 internal vertex properties, 3 internal edge properties, at 0x14ec51550>"
      ]
     },
     "execution_count": 17,
     "metadata": {},
     "output_type": "execute_result"
    }
   ],
   "source": [
    "rn.graph"
   ]
  },
  {
   "cell_type": "code",
   "execution_count": 18,
   "id": "8156aaf7",
   "metadata": {},
   "outputs": [],
   "source": [
    "# plot_network(rn.graph);"
   ]
  },
  {
   "cell_type": "markdown",
   "id": "a588282d",
   "metadata": {},
   "source": [
    "You should now see that the chemical subsystems have come together -- this is due to the zero-cost edges that were just described. We can now perform pathfinding to extract reaction pathways.\n",
    "\n",
    "To get reaction pathways, we simply call the `find_pathways()` method. This automatically handles finding pathways to multiple targets, by calling the internal shortest paths method. The _k_ parameter specifies the number of shortest paths to find to each target."
   ]
  },
  {
   "cell_type": "code",
   "execution_count": 19,
   "id": "ec70a87e",
   "metadata": {},
   "outputs": [
    {
     "name": "stdout",
     "output_type": "stream",
     "text": [
      "PATHS to YMnO3 \n",
      "\n",
      "--------------------------------------- \n",
      "\n",
      "2 YCl3 + 9 Mn2O3 -> Y2Mn2O7 + 2 Mn8Cl3O10 (dG = -0.015 eV/atom) \n",
      "Y2Mn2O7 + Mn2O3 -> 2 YMnO3 + 2 MnO2 (dG = 0.005 eV/atom) \n",
      "Total Cost: 0.528 \n",
      "\n",
      "2 YCl3 + 9 Mn2O3 -> Y2Mn2O7 + 2 Mn8Cl3O10 (dG = -0.015 eV/atom) \n",
      "2 Y2Mn2O7 -> O2 + 4 YMnO3 (dG = 0.038 eV/atom) \n",
      "Total Cost: 0.535 \n",
      "\n",
      "YCl3 + 5 Mn2O3 -> YMn2O5 + Mn8Cl3O10 (dG = -0.025 eV/atom) \n",
      "YMn2O5 -> YMnO3 + MnO2 (dG = 0.048 eV/atom) \n",
      "Total Cost: 0.535 \n",
      "\n",
      "Li2CO3 + 0.5 Mn2O3 -> LiMnCO4 + 0.5 Li2O (dG = 0.029 eV/atom) \n",
      "3 Li2O + 2 YCl3 -> Y2O3 + 6 LiCl (dG = -0.297 eV/atom) \n",
      "Y2O3 + Mn2O3 -> 2 YMnO3 (dG = -0.069 eV/atom) \n",
      "Total Cost: 0.724 \n",
      "\n",
      "Li2CO3 + 0.5 Mn2O3 -> LiMnCO4 + 0.5 Li2O (dG = 0.029 eV/atom) \n",
      "Li2O + YCl3 -> YClO + 2 LiCl (dG = -0.273 eV/atom) \n",
      "Mn2O3 + 3 YClO -> YCl3 + 2 YMnO3 (dG = 0.0 eV/atom) \n",
      "Total Cost: 0.744 \n",
      "\n",
      "PATHS to LiCl \n",
      "\n",
      "--------------------------------------- \n",
      "\n",
      "Li2CO3 + 0.5 Mn2O3 -> LiMnCO4 + 0.5 Li2O (dG = 0.029 eV/atom) \n",
      "3 Li2O + 2 YCl3 -> Y2O3 + 6 LiCl (dG = -0.297 eV/atom) \n",
      "Total Cost: 0.475 \n",
      "\n",
      "Li2CO3 + 0.5 Mn2O3 -> LiMnCO4 + 0.5 Li2O (dG = 0.029 eV/atom) \n",
      "Li2O + YCl3 -> YClO + 2 LiCl (dG = -0.273 eV/atom) \n",
      "Total Cost: 0.479 \n",
      "\n",
      "Li2CO3 -> Li2O + CO2 (dG = 0.146 eV/atom) \n",
      "3 Li2O + 2 YCl3 -> Y2O3 + 6 LiCl (dG = -0.297 eV/atom) \n",
      "Total Cost: 0.504 \n",
      "\n",
      "Li2CO3 -> Li2O + CO2 (dG = 0.146 eV/atom) \n",
      "Li2O + YCl3 -> YClO + 2 LiCl (dG = -0.273 eV/atom) \n",
      "Total Cost: 0.508 \n",
      "\n",
      "Li2CO3 + 0.5 Mn2O3 -> 0.25 O2 + Li2MnCO4 (dG = 0.054 eV/atom) \n",
      "0.5 O2 + 2 Li2MnCO4 -> Li2O + 2 LiMnCO4 (dG = -0.026 eV/atom) \n",
      "3 Li2O + 2 YCl3 -> Y2O3 + 6 LiCl (dG = -0.297 eV/atom) \n",
      "Total Cost: 0.74 \n",
      "\n",
      "PATHS to CO2 \n",
      "\n",
      "--------------------------------------- \n",
      "\n",
      "Li2CO3 + Mn2O3 -> CO2 + 2 LiMnO2 (dG = 0.009 eV/atom) \n",
      "Total Cost: 0.267 \n",
      "\n",
      "2 Li2CO3 -> Li4CO4 + CO2 (dG = 0.055 eV/atom) \n",
      "Total Cost: 0.278 \n",
      "\n",
      "Li2CO3 -> Li2O + CO2 (dG = 0.146 eV/atom) \n",
      "Total Cost: 0.301 \n",
      "\n",
      "Li2CO3 + 0.5 Mn2O3 -> 0.25 O2 + Li2MnCO4 (dG = 0.054 eV/atom) \n",
      "O2 + 2 Li2MnCO4 -> 2 Li2MnO3 + 2 CO2 (dG = -0.092 eV/atom) \n",
      "Total Cost: 0.522 \n",
      "\n",
      "Li2CO3 + Mn2O3 -> LiCO2 + LiMn2O4 (dG = 0.046 eV/atom) \n",
      "LiCO2 + 0.3333 LiMn2O4 -> 0.3333 CO2 + 0.6667 Li2MnCO4 (dG = -0.069 eV/atom) \n",
      "Total Cost: 0.525 \n",
      "\n"
     ]
    }
   ],
   "source": [
    "paths = rn.find_pathways([\"YMnO3\", \"LiCl\", \"CO2\"], k=5)"
   ]
  },
  {
   "cell_type": "markdown",
   "id": "dd784030",
   "metadata": {},
   "source": [
    "The output of this method is a list of `BasicPathway` objects. Note that these objects contain a list of reactions and associated costs, but the actual pathway is typically not balanced:"
   ]
  },
  {
   "cell_type": "code",
   "execution_count": 20,
   "id": "8fde70a1",
   "metadata": {},
   "outputs": [
    {
     "name": "stdout",
     "output_type": "stream",
     "text": [
      "2 YCl3 + 9 Mn2O3 -> Y2Mn2O7 + 2 Mn8Cl3O10 (dG = -0.015 eV/atom) \n",
      "Y2Mn2O7 + Mn2O3 -> 2 YMnO3 + 2 MnO2 (dG = 0.005 eV/atom) \n",
      "Total Cost: 0.528\n"
     ]
    }
   ],
   "source": [
    "example_path = paths[0]\n",
    "print(example_path)"
   ]
  },
  {
   "cell_type": "markdown",
   "id": "17a1a55c",
   "metadata": {},
   "source": [
    "This means that the reactions you see above do not necessarily include all reactants, nor do they include form all desired products. They are simply a series of reactions extracted from the reaction network that maybe encountered as the system attempts to get from starter phases to target phases.\n",
    "\n",
    "To actually get balanced reactions, we can use the `PathwaySolver` class. This class takes a set of entries, a list of `BasicPathway` objects, as well as a cost function, and can be used to solve for balanced pathways given a net reaction. First we initialize the class:"
   ]
  },
  {
   "cell_type": "code",
   "execution_count": 21,
   "id": "6767200b",
   "metadata": {},
   "outputs": [],
   "source": [
    "ps = PathwaySolver(rn.entries, paths, cf) # open_elem=\"O\", chempot=0"
   ]
  },
  {
   "cell_type": "markdown",
   "id": "dc8e2b26",
   "metadata": {},
   "source": [
    "To balance the pathways, we must provide a net reaction representing the total conversion of precursors to final products. This corresponds to the assisted metathesis reaction we defined in the beginning. We can automatically make this reaction by initializing a `ComputedReaction` object from the corresponding entries:"
   ]
  },
  {
   "cell_type": "code",
   "execution_count": 22,
   "id": "a3256224",
   "metadata": {},
   "outputs": [
    {
     "data": {
      "text/plain": [
       "1.5 Li2CO3 + 0.5 Mn2O3 + YCl3 -> YMnO3 + 3 LiCl + 1.5 CO2"
      ]
     },
     "execution_count": 22,
     "metadata": {},
     "output_type": "execute_result"
    }
   ],
   "source": [
    "product_entries = []\n",
    "for i in [\"YMnO3\",\"LiCl\",\"CO2\"]:\n",
    "    product_entries.append(rn.entries.get_min_entry_by_formula(i))\n",
    "    \n",
    "net_rxn = ComputedReaction.balance(rn.precursors,product_entries)\n",
    "net_rxn"
   ]
  },
  {
   "cell_type": "markdown",
   "id": "406e3e3b",
   "metadata": {},
   "source": [
    "Finally, we provide the net reaction to the `PathwaySolver` object. Note that the _intermediate_rxn_energy_cutoff_ helps to limit which intermediate reactions are considered (this can substantially decrease the combinatorial complexity), and the _filter_interdependent_ flag verifies that suggested pathways do not contain interdependent reactions (i.e. where both the reactants of reaction A depend on the products of the reaction B, and the reactants of reaction B depend on the products of reaction A).\n",
    "\n",
    "**Note: Even though this step is compiled/parallelized using Numba, this is often the most time-intensive step in the reaction network analysis. Consider limiting the value of the maximum number of combos, as well as the value of the intermediate reaction energy cutoff.**"
   ]
  },
  {
   "cell_type": "code",
   "execution_count": 28,
   "id": "83e33177",
   "metadata": {
    "scrolled": true
   },
   "outputs": [
    {
     "name": "stderr",
     "output_type": "stream",
     "text": [
      "INFO:PathwaySolver:Net reaction: 1.5 Li2CO3 + 0.5 Mn2O3 + YCl3 -> YMnO3 + 3 LiCl + 1.5 CO2 \n",
      "\n",
      "INFO:PathwaySolver:Identifying reactions between intermediates...\n",
      "BasicEnumerator (Batch 1): 100%|█████████████████████████████████████████████████████████████████████████████████████████████████████████████████████████████████████████████████████████████████████████████████████████████████████████████████████████| 32/32 [00:00<00:00, 118.83it/s]\n",
      "MinimizeGibbsEnumerator (Batch 1): 100%|█████████████████████████████████████████████████████████████████████████████████████████████████████████████████████████████████████████████████████████████████████████████████████████████████████████████████| 45/45 [00:00<00:00, 148.23it/s]\n",
      "INFO:PathwaySolver:Found 165 intermediate reactions! \n",
      "\n",
      "PathwaySolver (Batch 1): 100%|██████████████████████████████████████████████████████████████████████████████████████████████████████████████████████████████████████████████████████████████████████████████████████████████████████████████████████████| 175/175 [02:14<00:00,  1.30it/s]\n"
     ]
    }
   ],
   "source": [
    "balanced_paths = ps.solve(net_rxn, max_num_combos=4, \n",
    "                          intermediate_rxn_energy_cutoff=0.0, \n",
    "                          use_minimize_enumerator=True,\n",
    "                          filter_interdependent=True)"
   ]
  },
  {
   "cell_type": "markdown",
   "id": "7499b24b",
   "metadata": {},
   "source": [
    "We can now print the suggested, balanced reaction pathways:"
   ]
  },
  {
   "cell_type": "code",
   "execution_count": 29,
   "id": "66aa3200",
   "metadata": {},
   "outputs": [
    {
     "name": "stdout",
     "output_type": "stream",
     "text": [
      "Path 1 \n",
      "\n",
      "Mn2O3 + Y2O3 -> 2 YMnO3 (dG = -0.069 eV/atom) \n",
      "2 Li2CO3 -> CO2 + Li4CO4 (dG = 0.055 eV/atom) \n",
      "0.25 Li4CO4 + 0.3333 YCl3 -> 0.25 CO2 + LiCl + 0.1667 Y2O3 (dG = -0.159 eV/atom) \n",
      "Average Cost: 0.241\n",
      "\n",
      "\n",
      "Path 2 \n",
      "\n",
      "Mn2O3 + Y2O3 -> 2 YMnO3 (dG = -0.069 eV/atom) \n",
      "2 Li2CO3 -> CO2 + Li4CO4 (dG = 0.055 eV/atom) \n",
      "0.5 Li2CO3 + 0.3333 YCl3 -> 0.5 CO2 + LiCl + 0.1667 Y2O3 (dG = -0.093 eV/atom) \n",
      "0.25 Li4CO4 + 0.3333 YCl3 -> 0.25 CO2 + LiCl + 0.1667 Y2O3 (dG = -0.159 eV/atom) \n",
      "Average Cost: 0.243\n",
      "\n",
      "\n",
      "Path 3 \n",
      "\n",
      "Li2CO3 + Mn2O3 -> CO2 + 2 LiMnO2 (dG = 0.009 eV/atom) \n",
      "2 Li2CO3 -> CO2 + Li4CO4 (dG = 0.055 eV/atom) \n",
      "LiMnO2 + YClO -> LiCl + YMnO3 (dG = -0.081 eV/atom) \n",
      "0.25 Li4CO4 + 0.5 YCl3 -> 0.25 CO2 + LiCl + 0.5 YClO (dG = -0.161 eV/atom) \n",
      "Average Cost: 0.245\n",
      "\n",
      "\n",
      "Path 4 \n",
      "\n",
      "Mn2O3 + Y2O3 -> 2 YMnO3 (dG = -0.069 eV/atom) \n",
      "0.5 Li2CO3 + 0.3333 YCl3 -> 0.5 CO2 + LiCl + 0.1667 Y2O3 (dG = -0.093 eV/atom) \n",
      "Average Cost: 0.245\n",
      "\n",
      "\n",
      "Path 5 \n",
      "\n",
      "2 Li2CO3 -> CO2 + Li4CO4 (dG = 0.055 eV/atom) \n",
      "LiMnO2 + YClO -> LiCl + YMnO3 (dG = -0.081 eV/atom) \n",
      "Li4CO4 + 2 Mn2O3 -> CO2 + 4 LiMnO2 (dG = -0.025 eV/atom) \n",
      "0.25 Li4CO4 + 0.5 YCl3 -> 0.25 CO2 + LiCl + 0.5 YClO (dG = -0.161 eV/atom) \n",
      "Average Cost: 0.245\n",
      "\n",
      "\n",
      "Path 6 \n",
      "\n",
      "Mn2O3 + Y2O3 -> 2 YMnO3 (dG = -0.069 eV/atom) \n",
      "2 Li2CO3 -> CO2 + Li4CO4 (dG = 0.055 eV/atom) \n",
      "0.25 Li4CO4 + 0.5 YCl3 -> 0.25 CO2 + LiCl + 0.5 YClO (dG = -0.161 eV/atom) \n",
      "0.5 Li2CO3 + YClO -> 0.5 CO2 + LiCl + 0.5 Y2O3 (dG = -0.029 eV/atom) \n",
      "Average Cost: 0.245\n",
      "\n",
      "\n",
      "Path 7 \n",
      "\n",
      "Mn2O3 + Y2O3 -> 2 YMnO3 (dG = -0.069 eV/atom) \n",
      "2 Li2CO3 -> CO2 + Li4CO4 (dG = 0.055 eV/atom) \n",
      "0.25 Li4CO4 + 0.5 YCl3 -> 0.25 CO2 + LiCl + 0.5 YClO (dG = -0.161 eV/atom) \n",
      "0.25 Li4CO4 + YClO -> 0.25 CO2 + LiCl + 0.5 Y2O3 (dG = -0.065 eV/atom) \n",
      "Average Cost: 0.245\n",
      "\n",
      "\n",
      "Path 8 \n",
      "\n",
      "Mn2O3 + Y2O3 -> 2 YMnO3 (dG = -0.069 eV/atom) \n",
      "2 Li2CO3 -> CO2 + Li4CO4 (dG = 0.055 eV/atom) \n",
      "0.25 Li4CO4 + 0.5 YCl3 -> 0.25 CO2 + LiCl + 0.5 YClO (dG = -0.161 eV/atom) \n",
      "Li4CO4 + 2 YClO -> Li2CO3 + 2 LiCl + Y2O3 (dG = -0.067 eV/atom) \n",
      "Average Cost: 0.247\n",
      "\n",
      "\n",
      "Path 9 \n",
      "\n",
      "Li2CO3 + Mn2O3 -> CO2 + 2 LiMnO2 (dG = 0.009 eV/atom) \n",
      "LiMnO2 + YClO -> LiCl + YMnO3 (dG = -0.081 eV/atom) \n",
      "0.5 Li2CO3 + 0.5 YCl3 -> 0.5 CO2 + LiCl + 0.5 YClO (dG = -0.104 eV/atom) \n",
      "Average Cost: 0.247\n",
      "\n",
      "\n",
      "Path 10 \n",
      "\n",
      "2 Li2CO3 -> CO2 + Li4CO4 (dG = 0.055 eV/atom) \n",
      "LiMnO2 + YClO -> LiCl + YMnO3 (dG = -0.081 eV/atom) \n",
      "Li4CO4 + 2 Mn2O3 -> CO2 + 4 LiMnO2 (dG = -0.025 eV/atom) \n",
      "0.5 Li2CO3 + 0.5 YCl3 -> 0.5 CO2 + LiCl + 0.5 YClO (dG = -0.104 eV/atom) \n",
      "Average Cost: 0.247\n",
      "\n",
      "\n",
      "Path 11 \n",
      "\n",
      "Mn2O3 + Y2O3 -> 2 YMnO3 (dG = -0.069 eV/atom) \n",
      "2 Li2CO3 -> CO2 + Li4CO4 (dG = 0.055 eV/atom) \n",
      "0.5 Li2CO3 + 0.5 YCl3 -> 0.5 CO2 + LiCl + 0.5 YClO (dG = -0.104 eV/atom) \n",
      "0.25 Li4CO4 + YClO -> 0.25 CO2 + LiCl + 0.5 Y2O3 (dG = -0.065 eV/atom) \n",
      "Average Cost: 0.247\n",
      "\n",
      "\n",
      "Path 12 \n",
      "\n",
      "Mn2O3 + Y2O3 -> 2 YMnO3 (dG = -0.069 eV/atom) \n",
      "0.5 Li2CO3 + 0.5 YCl3 -> 0.5 CO2 + LiCl + 0.5 YClO (dG = -0.104 eV/atom) \n",
      "0.5 Li2CO3 + YClO -> 0.5 CO2 + LiCl + 0.5 Y2O3 (dG = -0.029 eV/atom) \n",
      "Average Cost: 0.248\n",
      "\n",
      "\n",
      "Path 13 \n",
      "\n",
      "Li2CO3 + Mn2O3 -> LiCO2 + LiMn2O4 (dG = 0.046 eV/atom) \n",
      "LiMnO2 + YClO -> LiCl + YMnO3 (dG = -0.081 eV/atom) \n",
      "LiCO2 + LiMn2O4 -> CO2 + 2 LiMnO2 (dG = -0.038 eV/atom) \n",
      "0.5 Li2CO3 + 0.5 YCl3 -> 0.5 CO2 + LiCl + 0.5 YClO (dG = -0.104 eV/atom) \n",
      "Average Cost: 0.249\n",
      "\n",
      "\n",
      "Path 14 \n",
      "\n",
      "Mn2O3 + Y2O3 -> 2 YMnO3 (dG = -0.069 eV/atom) \n",
      "2 Li2CO3 -> CO2 + Li4CO4 (dG = 0.055 eV/atom) \n",
      "0.5 Li2CO3 + 0.5 YCl3 -> 0.5 CO2 + LiCl + 0.5 YClO (dG = -0.104 eV/atom) \n",
      "Li4CO4 + 2 YClO -> Li2CO3 + 2 LiCl + Y2O3 (dG = -0.067 eV/atom) \n",
      "Average Cost: 0.249\n",
      "\n",
      "\n",
      "Path 15 \n",
      "\n",
      "Li2CO3 + 0.5 Mn2O3 -> 0.5 Li2O + LiMnCO4 (dG = 0.029 eV/atom) \n",
      "Li2O + YCl3 -> 2 LiCl + YClO (dG = -0.273 eV/atom) \n",
      "LiMnCO4 + YClO -> CO2 + LiCl + YMnO3 (dG = -0.032 eV/atom) \n",
      "0.5 Li2CO3 + 0.5 YCl3 -> 0.5 CO2 + LiCl + 0.5 YClO (dG = -0.104 eV/atom) \n",
      "Average Cost: 0.25\n",
      "\n",
      "\n",
      "Path 16 \n",
      "\n",
      "Mn2O3 + Y2O3 -> 2 YMnO3 (dG = -0.069 eV/atom) \n",
      "Li2CO3 -> CO2 + Li2O (dG = 0.146 eV/atom) \n",
      "Li2O + 2 YClO -> 2 LiCl + Y2O3 (dG = -0.136 eV/atom) \n",
      "0.5 Li2CO3 + 0.5 YCl3 -> 0.5 CO2 + LiCl + 0.5 YClO (dG = -0.104 eV/atom) \n",
      "Average Cost: 0.25\n",
      "\n",
      "\n",
      "Path 17 \n",
      "\n",
      "Mn2O3 + Y2O3 -> 2 YMnO3 (dG = -0.069 eV/atom) \n",
      "2 Li2CO3 -> CO2 + Li4CO4 (dG = 0.055 eV/atom) \n",
      "0.25 Li4CO4 + 0.3333 YCl3 -> 0.25 CO2 + LiCl + 0.1667 Y2O3 (dG = -0.159 eV/atom) \n",
      "Li4CO4 + 0.6667 YCl3 -> Li2CO3 + 2 LiCl + 0.3333 Y2O3 (dG = -0.126 eV/atom) \n",
      "Average Cost: 0.251\n",
      "\n",
      "\n",
      "Path 18 \n",
      "\n",
      "Li2CO3 + 0.5 Mn2O3 -> 0.5 Li2O + LiMnCO4 (dG = 0.029 eV/atom) \n",
      "Li2O + 2 YClO -> 2 LiCl + Y2O3 (dG = -0.136 eV/atom) \n",
      "0.5 Li2CO3 + 0.5 YCl3 -> 0.5 CO2 + LiCl + 0.5 YClO (dG = -0.104 eV/atom) \n",
      "LiMnCO4 + 0.5 Y2O3 -> 0.5 CO2 + 0.5 Li2CO3 + YMnO3 (dG = -0.015 eV/atom) \n",
      "Average Cost: 0.252\n",
      "\n",
      "\n",
      "Path 19 \n",
      "\n",
      "Li2CO3 + 0.5 Mn2O3 -> Li2MnCO4 + 0.25 O2 (dG = 0.054 eV/atom) \n",
      "2 LiCO2 + 0.5 O2 -> CO2 + Li2CO3 (dG = -0.192 eV/atom) \n",
      "Li2MnCO4 + YClO -> LiCO2 + LiCl + YMnO3 (dG = -0.01 eV/atom) \n",
      "0.5 Li2CO3 + 0.5 YCl3 -> 0.5 CO2 + LiCl + 0.5 YClO (dG = -0.104 eV/atom) \n",
      "Average Cost: 0.252\n",
      "\n",
      "\n",
      "Path 20 \n",
      "\n",
      "Mn2O3 + Y2O3 -> 2 YMnO3 (dG = -0.069 eV/atom) \n",
      "2 Li2CO3 -> CO2 + Li4CO4 (dG = 0.055 eV/atom) \n",
      "0.5 Li2CO3 + 0.3333 YCl3 -> 0.5 CO2 + LiCl + 0.1667 Y2O3 (dG = -0.093 eV/atom) \n",
      "Li4CO4 + 0.6667 YCl3 -> Li2CO3 + 2 LiCl + 0.3333 Y2O3 (dG = -0.126 eV/atom) \n",
      "Average Cost: 0.252\n",
      "\n",
      "\n",
      "Path 21 \n",
      "\n",
      "Li2CO3 + 0.5 Mn2O3 -> 0.5 Li2O + LiMnCO4 (dG = 0.029 eV/atom) \n",
      "3 Li2O + 2 YCl3 -> 6 LiCl + Y2O3 (dG = -0.297 eV/atom) \n",
      "0.5 Li2CO3 + 0.3333 YCl3 -> 0.5 CO2 + LiCl + 0.1667 Y2O3 (dG = -0.093 eV/atom) \n",
      "LiMnCO4 + 0.5 Y2O3 -> 0.5 CO2 + 0.5 Li2CO3 + YMnO3 (dG = -0.015 eV/atom) \n",
      "Average Cost: 0.253\n",
      "\n",
      "\n",
      "Path 22 \n",
      "\n",
      "Li2CO3 + 0.5 Mn2O3 -> 0.5 Li2O + LiMnCO4 (dG = 0.029 eV/atom) \n",
      "Li2O + YCl3 -> 2 LiCl + YClO (dG = -0.273 eV/atom) \n",
      "Li2CO3 -> CO2 + Li2O (dG = 0.146 eV/atom) \n",
      "LiMnCO4 + YClO -> CO2 + LiCl + YMnO3 (dG = -0.032 eV/atom) \n",
      "Average Cost: 0.253\n",
      "\n",
      "\n",
      "Path 23 \n",
      "\n",
      "Li2O + YCl3 -> 2 LiCl + YClO (dG = -0.273 eV/atom) \n",
      "Li2CO3 -> CO2 + Li2O (dG = 0.146 eV/atom) \n",
      "Li2CO3 + Mn2O3 -> CO2 + 2 LiMnO2 (dG = 0.009 eV/atom) \n",
      "LiMnO2 + YClO -> LiCl + YMnO3 (dG = -0.081 eV/atom) \n",
      "Average Cost: 0.254\n",
      "\n",
      "\n",
      "Path 24 \n",
      "\n",
      "Mn2O3 + Y2O3 -> 2 YMnO3 (dG = -0.069 eV/atom) \n",
      "Li2O + YCl3 -> 2 LiCl + YClO (dG = -0.273 eV/atom) \n",
      "Li2CO3 -> CO2 + Li2O (dG = 0.146 eV/atom) \n",
      "0.5 Li2CO3 + YClO -> 0.5 CO2 + LiCl + 0.5 Y2O3 (dG = -0.029 eV/atom) \n",
      "Average Cost: 0.255\n",
      "\n",
      "\n",
      "Path 25 \n",
      "\n",
      "Mn2O3 + Y2O3 -> 2 YMnO3 (dG = -0.069 eV/atom) \n",
      "2 Li2CO3 -> CO2 + Li4CO4 (dG = 0.055 eV/atom) \n",
      "Li4CO4 + 0.6667 YCl3 -> Li2CO3 + 2 LiCl + 0.3333 Y2O3 (dG = -0.126 eV/atom) \n",
      "Average Cost: 0.256\n",
      "\n",
      "\n",
      "Path 26 \n",
      "\n",
      "Mn2O3 + Y2O3 -> 2 YMnO3 (dG = -0.069 eV/atom) \n",
      "Li2O + YCl3 -> 2 LiCl + YClO (dG = -0.273 eV/atom) \n",
      "Li2CO3 -> CO2 + Li2O (dG = 0.146 eV/atom) \n",
      "Li2O + 2 YClO -> 2 LiCl + Y2O3 (dG = -0.136 eV/atom) \n",
      "Average Cost: 0.257\n",
      "\n",
      "\n",
      "Path 27 \n",
      "\n",
      "3 Li2O + 2 YCl3 -> 6 LiCl + Y2O3 (dG = -0.297 eV/atom) \n",
      "Mn2O3 + Y2O3 -> 2 YMnO3 (dG = -0.069 eV/atom) \n",
      "Li2CO3 -> CO2 + Li2O (dG = 0.146 eV/atom) \n",
      "0.5 Li2CO3 + 0.3333 YCl3 -> 0.5 CO2 + LiCl + 0.1667 Y2O3 (dG = -0.093 eV/atom) \n",
      "Average Cost: 0.264\n",
      "\n",
      "\n",
      "Path 28 \n",
      "\n",
      "Li2CO3 + 0.5 Mn2O3 -> 0.5 Li2O + LiMnCO4 (dG = 0.029 eV/atom) \n",
      "3 Li2O + 2 YCl3 -> 6 LiCl + Y2O3 (dG = -0.297 eV/atom) \n",
      "Li2CO3 -> CO2 + Li2O (dG = 0.146 eV/atom) \n",
      "LiMnCO4 + 0.5 Y2O3 -> 0.5 CO2 + 0.5 Li2CO3 + YMnO3 (dG = -0.015 eV/atom) \n",
      "Average Cost: 0.267\n",
      "\n",
      "\n",
      "Path 29 \n",
      "\n",
      "3 Li2O + 2 YCl3 -> 6 LiCl + Y2O3 (dG = -0.297 eV/atom) \n",
      "Mn2O3 + Y2O3 -> 2 YMnO3 (dG = -0.069 eV/atom) \n",
      "Li2CO3 -> CO2 + Li2O (dG = 0.146 eV/atom) \n",
      "Average Cost: 0.271\n",
      "\n",
      "\n"
     ]
    }
   ],
   "source": [
    "for idx, path in enumerate(balanced_paths):\n",
    "    print(f\"Path {idx+1}\", \"\\n\")\n",
    "    print(path)\n",
    "    print(\"\\n\")"
   ]
  },
  {
   "cell_type": "code",
   "execution_count": 23,
   "id": "e469ee12",
   "metadata": {},
   "outputs": [
    {
     "data": {
      "text/plain": [
       "[Li2O + 0.6667 YCl3 -> 2 LiCl + 0.3333 Y2O3 (dG = -0.297 eV/atom) \n",
       " Mn2O3 + Y2O3 -> 2 YMnO3 (dG = -0.069 eV/atom) \n",
       " Li2CO3 -> CO2 + Li2O (dG = 0.146 eV/atom) \n",
       " Average Cost: 0.252,\n",
       " Li2O + YCl3 -> 2 LiCl + YClO (dG = -0.273 eV/atom) \n",
       " Li2CO3 -> CO2 + Li2O (dG = 0.146 eV/atom) \n",
       " Li2CO3 + Mn2O3 -> CO2 + 2 LiMnO2 (dG = 0.009 eV/atom) \n",
       " LiMnO2 + YClO -> LiCl + YMnO3 (dG = -0.081 eV/atom) \n",
       " Average Cost: 0.254,\n",
       " Li2O + YCl3 -> 2 LiCl + YClO (dG = -0.273 eV/atom) \n",
       " Li2CO3 -> CO2 + Li2O (dG = 0.146 eV/atom) \n",
       " 2 Li2CO3 -> CO2 + Li4CO4 (dG = 0.055 eV/atom) \n",
       " LiMnO2 + YClO -> LiCl + YMnO3 (dG = -0.081 eV/atom) \n",
       " Li4CO4 + 2 Mn2O3 -> CO2 + 4 LiMnO2 (dG = -0.025 eV/atom) \n",
       " Average Cost: 0.254,\n",
       " Li2O + YCl3 -> 2 LiCl + YClO (dG = -0.273 eV/atom) \n",
       " Li2CO3 -> CO2 + Li2O (dG = 0.146 eV/atom) \n",
       " Li2CO3 + Mn2O3 -> LiCO2 + LiMn2O4 (dG = 0.046 eV/atom) \n",
       " LiMnO2 + YClO -> LiCl + YMnO3 (dG = -0.081 eV/atom) \n",
       " LiCO2 + LiMn2O4 -> CO2 + 2 LiMnO2 (dG = -0.038 eV/atom) \n",
       " Average Cost: 0.255,\n",
       " Li2O + 0.6667 YCl3 -> 2 LiCl + 0.3333 Y2O3 (dG = -0.297 eV/atom) \n",
       " Mn2O3 + Y2O3 -> 2 YMnO3 (dG = -0.069 eV/atom) \n",
       " Li2O + YCl3 -> 2 LiCl + YClO (dG = -0.273 eV/atom) \n",
       " Li2CO3 -> CO2 + Li2O (dG = 0.146 eV/atom) \n",
       " Li2O + 2 YClO -> 2 LiCl + Y2O3 (dG = -0.136 eV/atom) \n",
       " Average Cost: 0.255,\n",
       " Mn2O3 + Y2O3 -> 2 YMnO3 (dG = -0.069 eV/atom) \n",
       " Li2O + YCl3 -> 2 LiCl + YClO (dG = -0.273 eV/atom) \n",
       " Li2CO3 -> CO2 + Li2O (dG = 0.146 eV/atom) \n",
       " Li2O + 2 YClO -> 2 LiCl + Y2O3 (dG = -0.136 eV/atom) \n",
       " Average Cost: 0.257]"
      ]
     },
     "execution_count": 23,
     "metadata": {},
     "output_type": "execute_result"
    }
   ],
   "source": [
    "balanced_paths"
   ]
  },
  {
   "cell_type": "code",
   "execution_count": 24,
   "id": "f8853da5",
   "metadata": {},
   "outputs": [],
   "source": [
    "from rxn_network.pathways.pathway_set import PathwaySet"
   ]
  },
  {
   "cell_type": "code",
   "execution_count": 25,
   "id": "5b1ca9cf",
   "metadata": {},
   "outputs": [],
   "source": [
    "path_set = PathwaySet.from_paths(balanced_paths)"
   ]
  },
  {
   "cell_type": "code",
   "execution_count": 26,
   "id": "e93ca092",
   "metadata": {},
   "outputs": [
    {
     "data": {
      "text/plain": [
       "[Li2O + 0.6667 YCl3 -> 2 LiCl + 0.3333 Y2O3 (dG = -0.297 eV/atom) \n",
       " Mn2O3 + Y2O3 -> 2 YMnO3 (dG = -0.069 eV/atom) \n",
       " Li2CO3 -> CO2 + Li2O (dG = 0.146 eV/atom) \n",
       " Average Cost: 0.252,\n",
       " Li2O + YCl3 -> 2 LiCl + YClO (dG = -0.273 eV/atom) \n",
       " Li2CO3 -> CO2 + Li2O (dG = 0.146 eV/atom) \n",
       " Li2CO3 + Mn2O3 -> CO2 + 2 LiMnO2 (dG = 0.009 eV/atom) \n",
       " LiMnO2 + YClO -> LiCl + YMnO3 (dG = -0.081 eV/atom) \n",
       " Average Cost: 0.254,\n",
       " Li2O + YCl3 -> 2 LiCl + YClO (dG = -0.273 eV/atom) \n",
       " Li2CO3 -> CO2 + Li2O (dG = 0.146 eV/atom) \n",
       " 2 Li2CO3 -> CO2 + Li4CO4 (dG = 0.055 eV/atom) \n",
       " LiMnO2 + YClO -> LiCl + YMnO3 (dG = -0.081 eV/atom) \n",
       " Li4CO4 + 2 Mn2O3 -> CO2 + 4 LiMnO2 (dG = -0.025 eV/atom) \n",
       " Average Cost: 0.254,\n",
       " Li2O + YCl3 -> 2 LiCl + YClO (dG = -0.273 eV/atom) \n",
       " Li2CO3 -> CO2 + Li2O (dG = 0.146 eV/atom) \n",
       " Li2CO3 + Mn2O3 -> LiCO2 + LiMn2O4 (dG = 0.046 eV/atom) \n",
       " LiMnO2 + YClO -> LiCl + YMnO3 (dG = -0.081 eV/atom) \n",
       " LiCO2 + LiMn2O4 -> CO2 + 2 LiMnO2 (dG = -0.038 eV/atom) \n",
       " Average Cost: 0.255,\n",
       " Li2O + 0.6667 YCl3 -> 2 LiCl + 0.3333 Y2O3 (dG = -0.297 eV/atom) \n",
       " Mn2O3 + Y2O3 -> 2 YMnO3 (dG = -0.069 eV/atom) \n",
       " Li2O + YCl3 -> 2 LiCl + YClO (dG = -0.273 eV/atom) \n",
       " Li2CO3 -> CO2 + Li2O (dG = 0.146 eV/atom) \n",
       " Li2O + 2 YClO -> 2 LiCl + Y2O3 (dG = -0.136 eV/atom) \n",
       " Average Cost: 0.255,\n",
       " Mn2O3 + Y2O3 -> 2 YMnO3 (dG = -0.069 eV/atom) \n",
       " Li2O + YCl3 -> 2 LiCl + YClO (dG = -0.273 eV/atom) \n",
       " Li2CO3 -> CO2 + Li2O (dG = 0.146 eV/atom) \n",
       " Li2O + 2 YClO -> 2 LiCl + Y2O3 (dG = -0.136 eV/atom) \n",
       " Average Cost: 0.257]"
      ]
     },
     "execution_count": 26,
     "metadata": {},
     "output_type": "execute_result"
    }
   ],
   "source": [
    "path_set.get_paths()"
   ]
  },
  {
   "cell_type": "markdown",
   "id": "1bf41273",
   "metadata": {},
   "source": [
    "We note that **Pathway 12 most closely matches the experimentally observed reaction pathway** (ordering subject to change in the future).\n",
    "\n",
    "However, many of the pathways include hypothetical (never-before-synthesized) materials (e.g., Li3MnO3), so the top-ranked pathway does not necessarily match what is experimentally observed."
   ]
  },
  {
   "cell_type": "markdown",
   "id": "34e6b633",
   "metadata": {},
   "source": [
    "### Running networks with Fireworks\n",
    "\n",
    "The `NetworkFW` class allows you to easily run the reaction network construction and pathfinding analysis via fireworks. Simply create a network firework, add it to the LaunchPad, and launch it on your computing resource. See the documentation for more information about each of the parameters."
   ]
  },
  {
   "cell_type": "code",
   "execution_count": 27,
   "id": "30461bf5",
   "metadata": {},
   "outputs": [
    {
     "ename": "ImportError",
     "evalue": "cannot import name 'initialize_entry' from 'rxn_network.enumerators.utils' (/Users/mcdermott/PycharmProjects/reaction-network/src/rxn_network/enumerators/utils.py)",
     "output_type": "error",
     "traceback": [
      "\u001b[0;31m---------------------------------------------------------------------------\u001b[0m",
      "\u001b[0;31mImportError\u001b[0m                               Traceback (most recent call last)",
      "Input \u001b[0;32mIn [27]\u001b[0m, in \u001b[0;36m<cell line: 2>\u001b[0;34m()\u001b[0m\n\u001b[1;32m      1\u001b[0m \u001b[38;5;28;01mfrom\u001b[39;00m \u001b[38;5;21;01mfireworks\u001b[39;00m \u001b[38;5;28;01mimport\u001b[39;00m LaunchPad, Workflow\n\u001b[0;32m----> 2\u001b[0m \u001b[38;5;28;01mfrom\u001b[39;00m \u001b[38;5;21;01mrxn_network\u001b[39;00m\u001b[38;5;21;01m.\u001b[39;00m\u001b[38;5;21;01mfireworks\u001b[39;00m\u001b[38;5;21;01m.\u001b[39;00m\u001b[38;5;21;01mcore\u001b[39;00m \u001b[38;5;28;01mimport\u001b[39;00m NetworkFW\n",
      "File \u001b[0;32m~/PycharmProjects/reaction-network/src/rxn_network/fireworks/__init__.py:5\u001b[0m, in \u001b[0;36m<module>\u001b[0;34m\u001b[0m\n\u001b[1;32m      1\u001b[0m \u001b[38;5;124;03m\"\"\"\u001b[39;00m\n\u001b[1;32m      2\u001b[0m \u001b[38;5;124;03mFireworks for the reaction-network packag (see fireworks package for more info.)\u001b[39;00m\n\u001b[1;32m      3\u001b[0m \u001b[38;5;124;03m\"\"\"\u001b[39;00m\n\u001b[0;32m----> 5\u001b[0m \u001b[38;5;28;01mfrom\u001b[39;00m \u001b[38;5;21;01mrxn_network\u001b[39;00m\u001b[38;5;21;01m.\u001b[39;00m\u001b[38;5;21;01mfireworks\u001b[39;00m\u001b[38;5;21;01m.\u001b[39;00m\u001b[38;5;21;01mcore\u001b[39;00m \u001b[38;5;28;01mimport\u001b[39;00m EnumeratorFW, NetworkFW\n",
      "File \u001b[0;32m~/PycharmProjects/reaction-network/src/rxn_network/fireworks/core.py:18\u001b[0m, in \u001b[0;36m<module>\u001b[0;34m\u001b[0m\n\u001b[1;32m     13\u001b[0m \u001b[38;5;28;01mfrom\u001b[39;00m \u001b[38;5;21;01mrxn_network\u001b[39;00m\u001b[38;5;21;01m.\u001b[39;00m\u001b[38;5;21;01menumerators\u001b[39;00m\u001b[38;5;21;01m.\u001b[39;00m\u001b[38;5;21;01mbasic\u001b[39;00m \u001b[38;5;28;01mimport\u001b[39;00m BasicEnumerator, BasicOpenEnumerator\n\u001b[1;32m     14\u001b[0m \u001b[38;5;28;01mfrom\u001b[39;00m \u001b[38;5;21;01mrxn_network\u001b[39;00m\u001b[38;5;21;01m.\u001b[39;00m\u001b[38;5;21;01menumerators\u001b[39;00m\u001b[38;5;21;01m.\u001b[39;00m\u001b[38;5;21;01mminimize\u001b[39;00m \u001b[38;5;28;01mimport\u001b[39;00m (\n\u001b[1;32m     15\u001b[0m     MinimizeGibbsEnumerator,\n\u001b[1;32m     16\u001b[0m     MinimizeGrandPotentialEnumerator,\n\u001b[1;32m     17\u001b[0m )\n\u001b[0;32m---> 18\u001b[0m \u001b[38;5;28;01mfrom\u001b[39;00m \u001b[38;5;21;01mrxn_network\u001b[39;00m\u001b[38;5;21;01m.\u001b[39;00m\u001b[38;5;21;01mfiretasks\u001b[39;00m\u001b[38;5;21;01m.\u001b[39;00m\u001b[38;5;21;01mbuild_inputs\u001b[39;00m \u001b[38;5;28;01mimport\u001b[39;00m get_entry_task\n\u001b[1;32m     19\u001b[0m \u001b[38;5;28;01mfrom\u001b[39;00m \u001b[38;5;21;01mrxn_network\u001b[39;00m\u001b[38;5;21;01m.\u001b[39;00m\u001b[38;5;21;01mfiretasks\u001b[39;00m\u001b[38;5;21;01m.\u001b[39;00m\u001b[38;5;21;01mparse_outputs\u001b[39;00m \u001b[38;5;28;01mimport\u001b[39;00m NetworkToDb, ReactionsToDb\n\u001b[1;32m     20\u001b[0m \u001b[38;5;28;01mfrom\u001b[39;00m \u001b[38;5;21;01mrxn_network\u001b[39;00m\u001b[38;5;21;01m.\u001b[39;00m\u001b[38;5;21;01mfiretasks\u001b[39;00m\u001b[38;5;21;01m.\u001b[39;00m\u001b[38;5;21;01mrun_calc\u001b[39;00m \u001b[38;5;28;01mimport\u001b[39;00m (\n\u001b[1;32m     21\u001b[0m     BuildNetwork,\n\u001b[1;32m     22\u001b[0m     CalculateChempotDistance,\n\u001b[0;32m   (...)\u001b[0m\n\u001b[1;32m     25\u001b[0m     RunSolver,\n\u001b[1;32m     26\u001b[0m )\n",
      "File \u001b[0;32m~/PycharmProjects/reaction-network/src/rxn_network/firetasks/build_inputs.py:19\u001b[0m, in \u001b[0;36m<module>\u001b[0;34m\u001b[0m\n\u001b[1;32m     16\u001b[0m \u001b[38;5;28;01mfrom\u001b[39;00m \u001b[38;5;21;01mpymatgen\u001b[39;00m\u001b[38;5;21;01m.\u001b[39;00m\u001b[38;5;21;01msymmetry\u001b[39;00m\u001b[38;5;21;01m.\u001b[39;00m\u001b[38;5;21;01manalyzer\u001b[39;00m \u001b[38;5;28;01mimport\u001b[39;00m SpacegroupAnalyzer\n\u001b[1;32m     18\u001b[0m \u001b[38;5;28;01mfrom\u001b[39;00m \u001b[38;5;21;01mrxn_network\u001b[39;00m\u001b[38;5;21;01m.\u001b[39;00m\u001b[38;5;21;01mentries\u001b[39;00m\u001b[38;5;21;01m.\u001b[39;00m\u001b[38;5;21;01mentry_set\u001b[39;00m \u001b[38;5;28;01mimport\u001b[39;00m GibbsEntrySet\n\u001b[0;32m---> 19\u001b[0m \u001b[38;5;28;01mfrom\u001b[39;00m \u001b[38;5;21;01mrxn_network\u001b[39;00m\u001b[38;5;21;01m.\u001b[39;00m\u001b[38;5;21;01menumerators\u001b[39;00m\u001b[38;5;21;01m.\u001b[39;00m\u001b[38;5;21;01mutils\u001b[39;00m \u001b[38;5;28;01mimport\u001b[39;00m initialize_entry\n\u001b[1;32m     20\u001b[0m \u001b[38;5;28;01mfrom\u001b[39;00m \u001b[38;5;21;01mrxn_network\u001b[39;00m\u001b[38;5;21;01m.\u001b[39;00m\u001b[38;5;21;01mfiretasks\u001b[39;00m\u001b[38;5;21;01m.\u001b[39;00m\u001b[38;5;21;01mutils\u001b[39;00m \u001b[38;5;28;01mimport\u001b[39;00m env_chk\n\u001b[1;32m     21\u001b[0m \u001b[38;5;28;01mfrom\u001b[39;00m \u001b[38;5;21;01mrxn_network\u001b[39;00m\u001b[38;5;21;01m.\u001b[39;00m\u001b[38;5;21;01mutils\u001b[39;00m\u001b[38;5;21;01m.\u001b[39;00m\u001b[38;5;21;01mfuncs\u001b[39;00m \u001b[38;5;28;01mimport\u001b[39;00m get_logger\n",
      "\u001b[0;31mImportError\u001b[0m: cannot import name 'initialize_entry' from 'rxn_network.enumerators.utils' (/Users/mcdermott/PycharmProjects/reaction-network/src/rxn_network/enumerators/utils.py)"
     ]
    }
   ],
   "source": [
    "from fireworks import LaunchPad, Workflow\n",
    "from rxn_network.fireworks.core import NetworkFW"
   ]
  },
  {
   "cell_type": "code",
   "execution_count": null,
   "id": "f8996d79",
   "metadata": {},
   "outputs": [],
   "source": [
    "lpad = LaunchPad.auto_load()"
   ]
  },
  {
   "cell_type": "code",
   "execution_count": null,
   "id": "1d79964a",
   "metadata": {},
   "outputs": [],
   "source": [
    "fw = NetworkFW([BasicEnumerator()], Softplus(900), chemsys=\"Y-Mn-O-Li-Cl-C\", entry_set_params={\"e_above_hull\":0.000}, \n",
    "               pathway_params={\"precursors\":[\"YCl3\",\"Mn2O3\",\"Li2CO3\"], \"targets\":[\"YMnO3\",\"LiCl\",\"CO2\"], \"k\":5},\n",
    "              solver_params={\"max_num_combos\":4, \"intermediate_rxn_energy_cutoff\":0.0, \"use_minimize_enumerator\": True})"
   ]
  },
  {
   "cell_type": "code",
   "execution_count": null,
   "id": "690f7444",
   "metadata": {},
   "outputs": [],
   "source": [
    "lpad.add_wf(Workflow([fw]))"
   ]
  },
  {
   "cell_type": "code",
   "execution_count": null,
   "id": "b6bab5db",
   "metadata": {},
   "outputs": [],
   "source": [
    "!rlaunch singleshot"
   ]
  },
  {
   "cell_type": "markdown",
   "id": "80feacb7",
   "metadata": {},
   "source": [
    "### Thank you!\n",
    "\n",
    "If any errors with the reaction-network code are encountered, please raise an Issue here: https://github.com/GENESIS-EFRC/reaction-network/issues"
   ]
  },
  {
   "cell_type": "code",
   "execution_count": null,
   "id": "ac328ad2",
   "metadata": {},
   "outputs": [],
   "source": [
    "from maggma.stores import MongoStore\n",
    "from rxn_network.pathways.pathway_set import PathwaySet"
   ]
  },
  {
   "cell_type": "code",
   "execution_count": null,
   "id": "32103621",
   "metadata": {},
   "outputs": [],
   "source": [
    "ms = MongoStore.from_db_file(\"/Users/mcdermott/db_rn.json\")\n",
    "ms.connect()"
   ]
  },
  {
   "cell_type": "code",
   "execution_count": null,
   "id": "77090687",
   "metadata": {},
   "outputs": [],
   "source": [
    "d = ms.query_one({\"task_id\":82}, [\"balanced_pathways\"])"
   ]
  },
  {
   "cell_type": "code",
   "execution_count": null,
   "id": "bdb972e1",
   "metadata": {},
   "outputs": [],
   "source": [
    "pset = PathwaySet.from_dict(d[\"balanced_pathways\"])"
   ]
  }
 ],
 "metadata": {
  "kernelspec": {
   "display_name": "Python 3 (ipykernel)",
   "language": "python",
   "name": "python3"
  },
  "language_info": {
   "codemirror_mode": {
    "name": "ipython",
    "version": 3
   },
   "file_extension": ".py",
   "mimetype": "text/x-python",
   "name": "python",
   "nbconvert_exporter": "python",
   "pygments_lexer": "ipython3",
   "version": "3.10.5"
  }
 },
 "nbformat": 4,
 "nbformat_minor": 5
}
